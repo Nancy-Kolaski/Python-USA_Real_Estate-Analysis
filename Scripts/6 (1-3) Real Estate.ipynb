{
 "cells": [
  {
   "cell_type": "markdown",
   "id": "efa7f160",
   "metadata": {},
   "source": [
    "# 6(1-3) Real Estate "
   ]
  },
  {
   "cell_type": "markdown",
   "id": "7869c125",
   "metadata": {},
   "source": [
    "## -Import libraries & data, df_clean2.pkl \n",
    "## -data checks of new data set, investigating NaNs in 'prev_sold_date'\n",
    "## -create subset with these NaNs, called df_nans\n",
    "## -check categories in 'status' column to see if this creates implications for the NaNs (i.e. implying that these line up with new builds since there is no prior sold date)\n",
    "## -replace NaNs with 0 since they do\n",
    "## -export as new pickle file called df_clean3.pkl"
   ]
  },
  {
   "cell_type": "markdown",
   "id": "0ae20da8",
   "metadata": {},
   "source": [
    "## Import libraries and clean data set (pickle file)"
   ]
  },
  {
   "cell_type": "code",
   "execution_count": 1,
   "id": "4fbcbc9a",
   "metadata": {},
   "outputs": [],
   "source": [
    "#import libraries\n",
    "import pandas as pd\n",
    "import numpy as np\n",
    "import os\n"
   ]
  },
  {
   "cell_type": "code",
   "execution_count": 2,
   "id": "609eba45",
   "metadata": {},
   "outputs": [],
   "source": [
    "#import path\n",
    "path = r'/Users/nancykray/Desktop/Real Estate Project'"
   ]
  },
  {
   "cell_type": "code",
   "execution_count": 3,
   "id": "ef5fb290",
   "metadata": {},
   "outputs": [],
   "source": [
    "#import clean data (pickle)\n",
    "df=pd.read_pickle(os.path.join(path, 'Prepared Data', 'df_clean2.pkl'))"
   ]
  },
  {
   "cell_type": "markdown",
   "id": "97894397",
   "metadata": {},
   "source": [
    "#### data checks"
   ]
  },
  {
   "cell_type": "code",
   "execution_count": 6,
   "id": "501118b1",
   "metadata": {},
   "outputs": [
    {
     "data": {
      "text/plain": [
       "(2220449, 13)"
      ]
     },
     "execution_count": 6,
     "metadata": {},
     "output_type": "execute_result"
    }
   ],
   "source": [
    "#check dataset\n",
    "df.shape"
   ]
  },
  {
   "cell_type": "code",
   "execution_count": 7,
   "id": "6595a891",
   "metadata": {},
   "outputs": [
    {
     "data": {
      "text/plain": [
       "Unnamed: 0             0\n",
       "brokered_by            0\n",
       "status                 0\n",
       "price                  0\n",
       "bed                    0\n",
       "bath                   0\n",
       "acre_lot               0\n",
       "street                 0\n",
       "city                   0\n",
       "state                  0\n",
       "zip_code               0\n",
       "house_size             0\n",
       "prev_sold_date    732312\n",
       "dtype: int64"
      ]
     },
     "execution_count": 7,
     "metadata": {},
     "output_type": "execute_result"
    }
   ],
   "source": [
    "df.isnull().sum()"
   ]
  },
  {
   "cell_type": "code",
   "execution_count": 8,
   "id": "d1eb182b",
   "metadata": {},
   "outputs": [],
   "source": [
    "#create subset of only missing values for 'prev_sold_date'\n",
    "df_nans=df[df['prev_sold_date'].isnull()==True]"
   ]
  },
  {
   "cell_type": "code",
   "execution_count": 9,
   "id": "4dd97a97",
   "metadata": {},
   "outputs": [
    {
     "data": {
      "text/html": [
       "<div>\n",
       "<style scoped>\n",
       "    .dataframe tbody tr th:only-of-type {\n",
       "        vertical-align: middle;\n",
       "    }\n",
       "\n",
       "    .dataframe tbody tr th {\n",
       "        vertical-align: top;\n",
       "    }\n",
       "\n",
       "    .dataframe thead th {\n",
       "        text-align: right;\n",
       "    }\n",
       "</style>\n",
       "<table border=\"1\" class=\"dataframe\">\n",
       "  <thead>\n",
       "    <tr style=\"text-align: right;\">\n",
       "      <th></th>\n",
       "      <th>Unnamed: 0</th>\n",
       "      <th>brokered_by</th>\n",
       "      <th>status</th>\n",
       "      <th>price</th>\n",
       "      <th>bed</th>\n",
       "      <th>bath</th>\n",
       "      <th>acre_lot</th>\n",
       "      <th>street</th>\n",
       "      <th>city</th>\n",
       "      <th>state</th>\n",
       "      <th>zip_code</th>\n",
       "      <th>house_size</th>\n",
       "      <th>prev_sold_date</th>\n",
       "    </tr>\n",
       "  </thead>\n",
       "  <tbody>\n",
       "    <tr>\n",
       "      <th>0</th>\n",
       "      <td>0</td>\n",
       "      <td>103378.0</td>\n",
       "      <td>for_sale</td>\n",
       "      <td>105000.0</td>\n",
       "      <td>3.000000</td>\n",
       "      <td>2.000000</td>\n",
       "      <td>0.12</td>\n",
       "      <td>1962661.0</td>\n",
       "      <td>Adjuntas</td>\n",
       "      <td>Puerto Rico</td>\n",
       "      <td>601.0</td>\n",
       "      <td>920.000</td>\n",
       "      <td>NaN</td>\n",
       "    </tr>\n",
       "    <tr>\n",
       "      <th>1</th>\n",
       "      <td>1</td>\n",
       "      <td>52707.0</td>\n",
       "      <td>for_sale</td>\n",
       "      <td>80000.0</td>\n",
       "      <td>4.000000</td>\n",
       "      <td>2.000000</td>\n",
       "      <td>0.08</td>\n",
       "      <td>1902874.0</td>\n",
       "      <td>Adjuntas</td>\n",
       "      <td>Puerto Rico</td>\n",
       "      <td>601.0</td>\n",
       "      <td>1527.000</td>\n",
       "      <td>NaN</td>\n",
       "    </tr>\n",
       "    <tr>\n",
       "      <th>2</th>\n",
       "      <td>2</td>\n",
       "      <td>103379.0</td>\n",
       "      <td>for_sale</td>\n",
       "      <td>67000.0</td>\n",
       "      <td>2.000000</td>\n",
       "      <td>1.000000</td>\n",
       "      <td>0.15</td>\n",
       "      <td>1404990.0</td>\n",
       "      <td>Juana Diaz</td>\n",
       "      <td>Puerto Rico</td>\n",
       "      <td>795.0</td>\n",
       "      <td>748.000</td>\n",
       "      <td>NaN</td>\n",
       "    </tr>\n",
       "    <tr>\n",
       "      <th>3</th>\n",
       "      <td>3</td>\n",
       "      <td>31239.0</td>\n",
       "      <td>for_sale</td>\n",
       "      <td>145000.0</td>\n",
       "      <td>4.000000</td>\n",
       "      <td>2.000000</td>\n",
       "      <td>0.10</td>\n",
       "      <td>1947675.0</td>\n",
       "      <td>Ponce</td>\n",
       "      <td>Puerto Rico</td>\n",
       "      <td>731.0</td>\n",
       "      <td>1800.000</td>\n",
       "      <td>NaN</td>\n",
       "    </tr>\n",
       "    <tr>\n",
       "      <th>4</th>\n",
       "      <td>4</td>\n",
       "      <td>34632.0</td>\n",
       "      <td>for_sale</td>\n",
       "      <td>65000.0</td>\n",
       "      <td>6.000000</td>\n",
       "      <td>2.000000</td>\n",
       "      <td>0.05</td>\n",
       "      <td>331151.0</td>\n",
       "      <td>Mayaguez</td>\n",
       "      <td>Puerto Rico</td>\n",
       "      <td>680.0</td>\n",
       "      <td>2715.133</td>\n",
       "      <td>NaN</td>\n",
       "    </tr>\n",
       "    <tr>\n",
       "      <th>...</th>\n",
       "      <td>...</td>\n",
       "      <td>...</td>\n",
       "      <td>...</td>\n",
       "      <td>...</td>\n",
       "      <td>...</td>\n",
       "      <td>...</td>\n",
       "      <td>...</td>\n",
       "      <td>...</td>\n",
       "      <td>...</td>\n",
       "      <td>...</td>\n",
       "      <td>...</td>\n",
       "      <td>...</td>\n",
       "      <td>...</td>\n",
       "    </tr>\n",
       "    <tr>\n",
       "      <th>1412852</th>\n",
       "      <td>1414368</td>\n",
       "      <td>21688.0</td>\n",
       "      <td>for_sale</td>\n",
       "      <td>299000.0</td>\n",
       "      <td>3.275919</td>\n",
       "      <td>2.496373</td>\n",
       "      <td>0.67</td>\n",
       "      <td>1945525.0</td>\n",
       "      <td>Ketchikan</td>\n",
       "      <td>Alaska</td>\n",
       "      <td>99901.0</td>\n",
       "      <td>2715.133</td>\n",
       "      <td>NaN</td>\n",
       "    </tr>\n",
       "    <tr>\n",
       "      <th>1412853</th>\n",
       "      <td>1414369</td>\n",
       "      <td>21688.0</td>\n",
       "      <td>for_sale</td>\n",
       "      <td>299000.0</td>\n",
       "      <td>3.275919</td>\n",
       "      <td>2.496373</td>\n",
       "      <td>0.67</td>\n",
       "      <td>1909223.0</td>\n",
       "      <td>Ketchikan</td>\n",
       "      <td>Alaska</td>\n",
       "      <td>99901.0</td>\n",
       "      <td>2715.133</td>\n",
       "      <td>NaN</td>\n",
       "    </tr>\n",
       "    <tr>\n",
       "      <th>1412854</th>\n",
       "      <td>1414370</td>\n",
       "      <td>21688.0</td>\n",
       "      <td>for_sale</td>\n",
       "      <td>199000.0</td>\n",
       "      <td>3.275919</td>\n",
       "      <td>2.496373</td>\n",
       "      <td>1.31</td>\n",
       "      <td>1909223.0</td>\n",
       "      <td>Ketchikan</td>\n",
       "      <td>Alaska</td>\n",
       "      <td>99901.0</td>\n",
       "      <td>2715.133</td>\n",
       "      <td>NaN</td>\n",
       "    </tr>\n",
       "    <tr>\n",
       "      <th>1412855</th>\n",
       "      <td>1414371</td>\n",
       "      <td>21688.0</td>\n",
       "      <td>for_sale</td>\n",
       "      <td>1575000.0</td>\n",
       "      <td>3.275919</td>\n",
       "      <td>2.496373</td>\n",
       "      <td>292.58</td>\n",
       "      <td>1909223.0</td>\n",
       "      <td>Ketchikan</td>\n",
       "      <td>Alaska</td>\n",
       "      <td>99901.0</td>\n",
       "      <td>2715.133</td>\n",
       "      <td>NaN</td>\n",
       "    </tr>\n",
       "    <tr>\n",
       "      <th>1412856</th>\n",
       "      <td>1414372</td>\n",
       "      <td>21688.0</td>\n",
       "      <td>for_sale</td>\n",
       "      <td>1575000.0</td>\n",
       "      <td>3.275919</td>\n",
       "      <td>2.496373</td>\n",
       "      <td>292.58</td>\n",
       "      <td>1860290.0</td>\n",
       "      <td>Ketchikan</td>\n",
       "      <td>Alaska</td>\n",
       "      <td>99901.0</td>\n",
       "      <td>2715.133</td>\n",
       "      <td>NaN</td>\n",
       "    </tr>\n",
       "  </tbody>\n",
       "</table>\n",
       "<p>732312 rows × 13 columns</p>\n",
       "</div>"
      ],
      "text/plain": [
       "         Unnamed: 0  brokered_by    status      price       bed      bath  \\\n",
       "0                 0     103378.0  for_sale   105000.0  3.000000  2.000000   \n",
       "1                 1      52707.0  for_sale    80000.0  4.000000  2.000000   \n",
       "2                 2     103379.0  for_sale    67000.0  2.000000  1.000000   \n",
       "3                 3      31239.0  for_sale   145000.0  4.000000  2.000000   \n",
       "4                 4      34632.0  for_sale    65000.0  6.000000  2.000000   \n",
       "...             ...          ...       ...        ...       ...       ...   \n",
       "1412852     1414368      21688.0  for_sale   299000.0  3.275919  2.496373   \n",
       "1412853     1414369      21688.0  for_sale   299000.0  3.275919  2.496373   \n",
       "1412854     1414370      21688.0  for_sale   199000.0  3.275919  2.496373   \n",
       "1412855     1414371      21688.0  for_sale  1575000.0  3.275919  2.496373   \n",
       "1412856     1414372      21688.0  for_sale  1575000.0  3.275919  2.496373   \n",
       "\n",
       "         acre_lot     street        city        state  zip_code  house_size  \\\n",
       "0            0.12  1962661.0    Adjuntas  Puerto Rico     601.0     920.000   \n",
       "1            0.08  1902874.0    Adjuntas  Puerto Rico     601.0    1527.000   \n",
       "2            0.15  1404990.0  Juana Diaz  Puerto Rico     795.0     748.000   \n",
       "3            0.10  1947675.0       Ponce  Puerto Rico     731.0    1800.000   \n",
       "4            0.05   331151.0    Mayaguez  Puerto Rico     680.0    2715.133   \n",
       "...           ...        ...         ...          ...       ...         ...   \n",
       "1412852      0.67  1945525.0   Ketchikan       Alaska   99901.0    2715.133   \n",
       "1412853      0.67  1909223.0   Ketchikan       Alaska   99901.0    2715.133   \n",
       "1412854      1.31  1909223.0   Ketchikan       Alaska   99901.0    2715.133   \n",
       "1412855    292.58  1909223.0   Ketchikan       Alaska   99901.0    2715.133   \n",
       "1412856    292.58  1860290.0   Ketchikan       Alaska   99901.0    2715.133   \n",
       "\n",
       "        prev_sold_date  \n",
       "0                  NaN  \n",
       "1                  NaN  \n",
       "2                  NaN  \n",
       "3                  NaN  \n",
       "4                  NaN  \n",
       "...                ...  \n",
       "1412852            NaN  \n",
       "1412853            NaN  \n",
       "1412854            NaN  \n",
       "1412855            NaN  \n",
       "1412856            NaN  \n",
       "\n",
       "[732312 rows x 13 columns]"
      ]
     },
     "execution_count": 9,
     "metadata": {},
     "output_type": "execute_result"
    }
   ],
   "source": [
    "#check the subset\n",
    "df_nans"
   ]
  },
  {
   "cell_type": "markdown",
   "id": "f5e32113",
   "metadata": {},
   "source": [
    "### let's check 'status' of these to see if the categories ...looking for 'new builds'"
   ]
  },
  {
   "cell_type": "code",
   "execution_count": 10,
   "id": "ca5ee7b8",
   "metadata": {},
   "outputs": [
    {
     "data": {
      "text/plain": [
       "array(['for_sale', 'ready_to_build'], dtype=object)"
      ]
     },
     "execution_count": 10,
     "metadata": {},
     "output_type": "execute_result"
    }
   ],
   "source": [
    "#check all unique items in the 'status' column first using: df.ColumnName.unique()\n",
    "df_nans.status.unique()"
   ]
  },
  {
   "cell_type": "code",
   "execution_count": 11,
   "id": "f4f23983",
   "metadata": {},
   "outputs": [
    {
     "data": {
      "text/plain": [
       "array(['for_sale', 'ready_to_build', 'sold'], dtype=object)"
      ]
     },
     "execution_count": 11,
     "metadata": {},
     "output_type": "execute_result"
    }
   ],
   "source": [
    "#check unique columns in the main dataframe (without NaNs)\n",
    "df.status.unique()"
   ]
  },
  {
   "cell_type": "markdown",
   "id": "2055db43",
   "metadata": {},
   "source": [
    "## here, we can see that the df_nans dataframe (including NaNs) has no 'sold' status - this implies that these are either new builds that are 'for_sale' or that they are lots that are 'ready_to_build'.  \n",
    "## Flagging these NaNs to match their status might be an option.  \n",
    "## or- We can change these NaNs to 0 right now and flag later (might be easier that way) - and more efficient to keep the columns uniform"
   ]
  },
  {
   "cell_type": "markdown",
   "id": "7e39db8b",
   "metadata": {},
   "source": [
    "## Decision moving forward, let's change the prev_sold_date to 0"
   ]
  },
  {
   "cell_type": "code",
   "execution_count": 12,
   "id": "36b24055",
   "metadata": {},
   "outputs": [],
   "source": [
    "#replace NaNs with 0\n",
    "df = df.replace(np.nan, 0)"
   ]
  },
  {
   "cell_type": "code",
   "execution_count": 13,
   "id": "2843774c",
   "metadata": {},
   "outputs": [
    {
     "data": {
      "text/plain": [
       "Unnamed: 0        0\n",
       "brokered_by       0\n",
       "status            0\n",
       "price             0\n",
       "bed               0\n",
       "bath              0\n",
       "acre_lot          0\n",
       "street            0\n",
       "city              0\n",
       "state             0\n",
       "zip_code          0\n",
       "house_size        0\n",
       "prev_sold_date    0\n",
       "dtype: int64"
      ]
     },
     "execution_count": 13,
     "metadata": {},
     "output_type": "execute_result"
    }
   ],
   "source": [
    "#check for NaNs again to see if executed correctly\n",
    "df.isnull().sum()"
   ]
  },
  {
   "cell_type": "markdown",
   "id": "16d6e6ef",
   "metadata": {},
   "source": [
    "### It worked"
   ]
  },
  {
   "cell_type": "code",
   "execution_count": 14,
   "id": "2c6dd170",
   "metadata": {},
   "outputs": [
    {
     "data": {
      "text/plain": [
       "array([0, '2020-02-28', '2019-06-28', ..., '2021-11-07', '2021-12-26',\n",
       "       '2021-12-25'], dtype=object)"
      ]
     },
     "execution_count": 14,
     "metadata": {},
     "output_type": "execute_result"
    }
   ],
   "source": [
    "#take a look at the prev_sold_date items\n",
    "df.prev_sold_date.unique()"
   ]
  },
  {
   "cell_type": "code",
   "execution_count": 15,
   "id": "533e417a",
   "metadata": {},
   "outputs": [
    {
     "data": {
      "text/plain": [
       "(2220449, 13)"
      ]
     },
     "execution_count": 15,
     "metadata": {},
     "output_type": "execute_result"
    }
   ],
   "source": [
    "#check shape of df\n",
    "df.shape"
   ]
  },
  {
   "cell_type": "markdown",
   "id": "8572d45f",
   "metadata": {},
   "source": [
    "### good, the shape is the same and our missing values are all manipulated\n",
    "### Export data to as pickle"
   ]
  },
  {
   "cell_type": "code",
   "execution_count": 17,
   "id": "77edd192",
   "metadata": {},
   "outputs": [],
   "source": [
    "#export dataframe to pickle\n",
    "df.to_pickle(os.path.join(path,'Prepared Data', 'df_clean3.pkl'))"
   ]
  }
 ],
 "metadata": {
  "kernelspec": {
   "display_name": "Python 3 (ipykernel)",
   "language": "python",
   "name": "python3"
  },
  "language_info": {
   "codemirror_mode": {
    "name": "ipython",
    "version": 3
   },
   "file_extension": ".py",
   "mimetype": "text/x-python",
   "name": "python",
   "nbconvert_exporter": "python",
   "pygments_lexer": "ipython3",
   "version": "3.11.7"
  }
 },
 "nbformat": 4,
 "nbformat_minor": 5
}
