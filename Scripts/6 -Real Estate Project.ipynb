{
 "cells": [
  {
   "cell_type": "markdown",
   "id": "1f796d52",
   "metadata": {},
   "source": [
    "# 6.1) U.S.A. REAL ESTATE "
   ]
  },
  {
   "cell_type": "markdown",
   "id": "aefd17e6",
   "metadata": {},
   "source": [
    "## -01 import libraries & data\n",
    "## -02 data checks\n",
    "     df.shape, df.head(), df.tail(), df.info(), df.describe(), df.columns, \n",
    "###      a) check mixed data types (change 3 columns to string)\n",
    "###      b) check missing values \n",
    "     create subsets and impute means/medians as appropriate to their columns\n",
    "###      c) find and address duplicates\n",
    "## -03 export new data, as re_clean.csv     \n",
    "     "
   ]
  },
  {
   "cell_type": "markdown",
   "id": "7959aab5",
   "metadata": {},
   "source": [
    "# 01 import libraries & data"
   ]
  },
  {
   "cell_type": "markdown",
   "id": "a1d73673",
   "metadata": {},
   "source": [
    "#import libraries\n",
    "import pandas as pd\n",
    "import numpy as np\n",
    "import os\n"
   ]
  },
  {
   "cell_type": "code",
   "execution_count": 1,
   "id": "d2c11134",
   "metadata": {},
   "outputs": [],
   "source": [
    "#import libraries\n",
    "import pandas as pd\n",
    "import numpy as np\n",
    "import os"
   ]
  },
  {
   "cell_type": "code",
   "execution_count": 2,
   "id": "0bb9bbbf",
   "metadata": {},
   "outputs": [],
   "source": [
    "#import path\n",
    "path = r'/Users/nancykray/Desktop/Real Estate Project'"
   ]
  },
  {
   "cell_type": "code",
   "execution_count": 3,
   "id": "036b42db",
   "metadata": {},
   "outputs": [
    {
     "data": {
      "text/plain": [
       "'/Users/nancykray/Desktop/Real Estate Project'"
      ]
     },
     "execution_count": 3,
     "metadata": {},
     "output_type": "execute_result"
    }
   ],
   "source": [
    "path"
   ]
  },
  {
   "cell_type": "code",
   "execution_count": 4,
   "id": "ca0cd7bd",
   "metadata": {},
   "outputs": [],
   "source": [
    "#import data (csv)\n",
    "df=pd.read_csv(os.path.join(path,'Original Data','realtor-data.zip.csv'), index_col=False)"
   ]
  },
  {
   "cell_type": "markdown",
   "id": "7e31db6a",
   "metadata": {},
   "source": [
    "# 02 data checks"
   ]
  },
  {
   "cell_type": "code",
   "execution_count": 5,
   "id": "45fe93d5",
   "metadata": {},
   "outputs": [
    {
     "data": {
      "text/plain": [
       "(2226382, 12)"
      ]
     },
     "execution_count": 5,
     "metadata": {},
     "output_type": "execute_result"
    }
   ],
   "source": [
    "df.shape"
   ]
  },
  {
   "cell_type": "code",
   "execution_count": 6,
   "id": "8822c275",
   "metadata": {},
   "outputs": [
    {
     "data": {
      "text/html": [
       "<div>\n",
       "<style scoped>\n",
       "    .dataframe tbody tr th:only-of-type {\n",
       "        vertical-align: middle;\n",
       "    }\n",
       "\n",
       "    .dataframe tbody tr th {\n",
       "        vertical-align: top;\n",
       "    }\n",
       "\n",
       "    .dataframe thead th {\n",
       "        text-align: right;\n",
       "    }\n",
       "</style>\n",
       "<table border=\"1\" class=\"dataframe\">\n",
       "  <thead>\n",
       "    <tr style=\"text-align: right;\">\n",
       "      <th></th>\n",
       "      <th>brokered_by</th>\n",
       "      <th>status</th>\n",
       "      <th>price</th>\n",
       "      <th>bed</th>\n",
       "      <th>bath</th>\n",
       "      <th>acre_lot</th>\n",
       "      <th>street</th>\n",
       "      <th>city</th>\n",
       "      <th>state</th>\n",
       "      <th>zip_code</th>\n",
       "      <th>house_size</th>\n",
       "      <th>prev_sold_date</th>\n",
       "    </tr>\n",
       "  </thead>\n",
       "  <tbody>\n",
       "    <tr>\n",
       "      <th>0</th>\n",
       "      <td>103378.0</td>\n",
       "      <td>for_sale</td>\n",
       "      <td>105000.0</td>\n",
       "      <td>3.0</td>\n",
       "      <td>2.0</td>\n",
       "      <td>0.12</td>\n",
       "      <td>1962661.0</td>\n",
       "      <td>Adjuntas</td>\n",
       "      <td>Puerto Rico</td>\n",
       "      <td>601.0</td>\n",
       "      <td>920.0</td>\n",
       "      <td>NaN</td>\n",
       "    </tr>\n",
       "    <tr>\n",
       "      <th>1</th>\n",
       "      <td>52707.0</td>\n",
       "      <td>for_sale</td>\n",
       "      <td>80000.0</td>\n",
       "      <td>4.0</td>\n",
       "      <td>2.0</td>\n",
       "      <td>0.08</td>\n",
       "      <td>1902874.0</td>\n",
       "      <td>Adjuntas</td>\n",
       "      <td>Puerto Rico</td>\n",
       "      <td>601.0</td>\n",
       "      <td>1527.0</td>\n",
       "      <td>NaN</td>\n",
       "    </tr>\n",
       "    <tr>\n",
       "      <th>2</th>\n",
       "      <td>103379.0</td>\n",
       "      <td>for_sale</td>\n",
       "      <td>67000.0</td>\n",
       "      <td>2.0</td>\n",
       "      <td>1.0</td>\n",
       "      <td>0.15</td>\n",
       "      <td>1404990.0</td>\n",
       "      <td>Juana Diaz</td>\n",
       "      <td>Puerto Rico</td>\n",
       "      <td>795.0</td>\n",
       "      <td>748.0</td>\n",
       "      <td>NaN</td>\n",
       "    </tr>\n",
       "    <tr>\n",
       "      <th>3</th>\n",
       "      <td>31239.0</td>\n",
       "      <td>for_sale</td>\n",
       "      <td>145000.0</td>\n",
       "      <td>4.0</td>\n",
       "      <td>2.0</td>\n",
       "      <td>0.10</td>\n",
       "      <td>1947675.0</td>\n",
       "      <td>Ponce</td>\n",
       "      <td>Puerto Rico</td>\n",
       "      <td>731.0</td>\n",
       "      <td>1800.0</td>\n",
       "      <td>NaN</td>\n",
       "    </tr>\n",
       "    <tr>\n",
       "      <th>4</th>\n",
       "      <td>34632.0</td>\n",
       "      <td>for_sale</td>\n",
       "      <td>65000.0</td>\n",
       "      <td>6.0</td>\n",
       "      <td>2.0</td>\n",
       "      <td>0.05</td>\n",
       "      <td>331151.0</td>\n",
       "      <td>Mayaguez</td>\n",
       "      <td>Puerto Rico</td>\n",
       "      <td>680.0</td>\n",
       "      <td>NaN</td>\n",
       "      <td>NaN</td>\n",
       "    </tr>\n",
       "  </tbody>\n",
       "</table>\n",
       "</div>"
      ],
      "text/plain": [
       "   brokered_by    status     price  bed  bath  acre_lot     street  \\\n",
       "0     103378.0  for_sale  105000.0  3.0   2.0      0.12  1962661.0   \n",
       "1      52707.0  for_sale   80000.0  4.0   2.0      0.08  1902874.0   \n",
       "2     103379.0  for_sale   67000.0  2.0   1.0      0.15  1404990.0   \n",
       "3      31239.0  for_sale  145000.0  4.0   2.0      0.10  1947675.0   \n",
       "4      34632.0  for_sale   65000.0  6.0   2.0      0.05   331151.0   \n",
       "\n",
       "         city        state  zip_code  house_size prev_sold_date  \n",
       "0    Adjuntas  Puerto Rico     601.0       920.0            NaN  \n",
       "1    Adjuntas  Puerto Rico     601.0      1527.0            NaN  \n",
       "2  Juana Diaz  Puerto Rico     795.0       748.0            NaN  \n",
       "3       Ponce  Puerto Rico     731.0      1800.0            NaN  \n",
       "4    Mayaguez  Puerto Rico     680.0         NaN            NaN  "
      ]
     },
     "execution_count": 6,
     "metadata": {},
     "output_type": "execute_result"
    }
   ],
   "source": [
    "df.head()"
   ]
  },
  {
   "cell_type": "code",
   "execution_count": 7,
   "id": "467979d8",
   "metadata": {},
   "outputs": [
    {
     "data": {
      "text/html": [
       "<div>\n",
       "<style scoped>\n",
       "    .dataframe tbody tr th:only-of-type {\n",
       "        vertical-align: middle;\n",
       "    }\n",
       "\n",
       "    .dataframe tbody tr th {\n",
       "        vertical-align: top;\n",
       "    }\n",
       "\n",
       "    .dataframe thead th {\n",
       "        text-align: right;\n",
       "    }\n",
       "</style>\n",
       "<table border=\"1\" class=\"dataframe\">\n",
       "  <thead>\n",
       "    <tr style=\"text-align: right;\">\n",
       "      <th></th>\n",
       "      <th>brokered_by</th>\n",
       "      <th>status</th>\n",
       "      <th>price</th>\n",
       "      <th>bed</th>\n",
       "      <th>bath</th>\n",
       "      <th>acre_lot</th>\n",
       "      <th>street</th>\n",
       "      <th>city</th>\n",
       "      <th>state</th>\n",
       "      <th>zip_code</th>\n",
       "      <th>house_size</th>\n",
       "      <th>prev_sold_date</th>\n",
       "    </tr>\n",
       "  </thead>\n",
       "  <tbody>\n",
       "    <tr>\n",
       "      <th>2226377</th>\n",
       "      <td>23009.0</td>\n",
       "      <td>sold</td>\n",
       "      <td>359900.0</td>\n",
       "      <td>4.0</td>\n",
       "      <td>2.0</td>\n",
       "      <td>0.33</td>\n",
       "      <td>353094.0</td>\n",
       "      <td>Richland</td>\n",
       "      <td>Washington</td>\n",
       "      <td>99354.0</td>\n",
       "      <td>3600.0</td>\n",
       "      <td>2022-03-25</td>\n",
       "    </tr>\n",
       "    <tr>\n",
       "      <th>2226378</th>\n",
       "      <td>18208.0</td>\n",
       "      <td>sold</td>\n",
       "      <td>350000.0</td>\n",
       "      <td>3.0</td>\n",
       "      <td>2.0</td>\n",
       "      <td>0.10</td>\n",
       "      <td>1062149.0</td>\n",
       "      <td>Richland</td>\n",
       "      <td>Washington</td>\n",
       "      <td>99354.0</td>\n",
       "      <td>1616.0</td>\n",
       "      <td>2022-03-25</td>\n",
       "    </tr>\n",
       "    <tr>\n",
       "      <th>2226379</th>\n",
       "      <td>76856.0</td>\n",
       "      <td>sold</td>\n",
       "      <td>440000.0</td>\n",
       "      <td>6.0</td>\n",
       "      <td>3.0</td>\n",
       "      <td>0.50</td>\n",
       "      <td>405677.0</td>\n",
       "      <td>Richland</td>\n",
       "      <td>Washington</td>\n",
       "      <td>99354.0</td>\n",
       "      <td>3200.0</td>\n",
       "      <td>2022-03-24</td>\n",
       "    </tr>\n",
       "    <tr>\n",
       "      <th>2226380</th>\n",
       "      <td>53618.0</td>\n",
       "      <td>sold</td>\n",
       "      <td>179900.0</td>\n",
       "      <td>2.0</td>\n",
       "      <td>1.0</td>\n",
       "      <td>0.09</td>\n",
       "      <td>761379.0</td>\n",
       "      <td>Richland</td>\n",
       "      <td>Washington</td>\n",
       "      <td>99354.0</td>\n",
       "      <td>933.0</td>\n",
       "      <td>2022-03-24</td>\n",
       "    </tr>\n",
       "    <tr>\n",
       "      <th>2226381</th>\n",
       "      <td>108243.0</td>\n",
       "      <td>sold</td>\n",
       "      <td>580000.0</td>\n",
       "      <td>5.0</td>\n",
       "      <td>3.0</td>\n",
       "      <td>0.31</td>\n",
       "      <td>307704.0</td>\n",
       "      <td>Richland</td>\n",
       "      <td>Washington</td>\n",
       "      <td>99354.0</td>\n",
       "      <td>3615.0</td>\n",
       "      <td>2022-03-23</td>\n",
       "    </tr>\n",
       "  </tbody>\n",
       "</table>\n",
       "</div>"
      ],
      "text/plain": [
       "         brokered_by status     price  bed  bath  acre_lot     street  \\\n",
       "2226377      23009.0   sold  359900.0  4.0   2.0      0.33   353094.0   \n",
       "2226378      18208.0   sold  350000.0  3.0   2.0      0.10  1062149.0   \n",
       "2226379      76856.0   sold  440000.0  6.0   3.0      0.50   405677.0   \n",
       "2226380      53618.0   sold  179900.0  2.0   1.0      0.09   761379.0   \n",
       "2226381     108243.0   sold  580000.0  5.0   3.0      0.31   307704.0   \n",
       "\n",
       "             city       state  zip_code  house_size prev_sold_date  \n",
       "2226377  Richland  Washington   99354.0      3600.0     2022-03-25  \n",
       "2226378  Richland  Washington   99354.0      1616.0     2022-03-25  \n",
       "2226379  Richland  Washington   99354.0      3200.0     2022-03-24  \n",
       "2226380  Richland  Washington   99354.0       933.0     2022-03-24  \n",
       "2226381  Richland  Washington   99354.0      3615.0     2022-03-23  "
      ]
     },
     "execution_count": 7,
     "metadata": {},
     "output_type": "execute_result"
    }
   ],
   "source": [
    "#checking on dates to make sure at least in past 3 years since there were NaNs in the first view using head()\n",
    "df.tail()"
   ]
  },
  {
   "cell_type": "code",
   "execution_count": 8,
   "id": "bce31e62",
   "metadata": {},
   "outputs": [
    {
     "name": "stdout",
     "output_type": "stream",
     "text": [
      "<class 'pandas.core.frame.DataFrame'>\n",
      "RangeIndex: 2226382 entries, 0 to 2226381\n",
      "Data columns (total 12 columns):\n",
      " #   Column          Dtype  \n",
      "---  ------          -----  \n",
      " 0   brokered_by     float64\n",
      " 1   status          object \n",
      " 2   price           float64\n",
      " 3   bed             float64\n",
      " 4   bath            float64\n",
      " 5   acre_lot        float64\n",
      " 6   street          float64\n",
      " 7   city            object \n",
      " 8   state           object \n",
      " 9   zip_code        float64\n",
      " 10  house_size      float64\n",
      " 11  prev_sold_date  object \n",
      "dtypes: float64(8), object(4)\n",
      "memory usage: 203.8+ MB\n"
     ]
    }
   ],
   "source": [
    "df.info()"
   ]
  },
  {
   "cell_type": "code",
   "execution_count": 9,
   "id": "4009f684",
   "metadata": {},
   "outputs": [
    {
     "data": {
      "text/html": [
       "<div>\n",
       "<style scoped>\n",
       "    .dataframe tbody tr th:only-of-type {\n",
       "        vertical-align: middle;\n",
       "    }\n",
       "\n",
       "    .dataframe tbody tr th {\n",
       "        vertical-align: top;\n",
       "    }\n",
       "\n",
       "    .dataframe thead th {\n",
       "        text-align: right;\n",
       "    }\n",
       "</style>\n",
       "<table border=\"1\" class=\"dataframe\">\n",
       "  <thead>\n",
       "    <tr style=\"text-align: right;\">\n",
       "      <th></th>\n",
       "      <th>brokered_by</th>\n",
       "      <th>price</th>\n",
       "      <th>bed</th>\n",
       "      <th>bath</th>\n",
       "      <th>acre_lot</th>\n",
       "      <th>street</th>\n",
       "      <th>zip_code</th>\n",
       "      <th>house_size</th>\n",
       "    </tr>\n",
       "  </thead>\n",
       "  <tbody>\n",
       "    <tr>\n",
       "      <th>count</th>\n",
       "      <td>2.221849e+06</td>\n",
       "      <td>2.224841e+06</td>\n",
       "      <td>1.745065e+06</td>\n",
       "      <td>1.714611e+06</td>\n",
       "      <td>1.900793e+06</td>\n",
       "      <td>2.215516e+06</td>\n",
       "      <td>2.226083e+06</td>\n",
       "      <td>1.657898e+06</td>\n",
       "    </tr>\n",
       "    <tr>\n",
       "      <th>mean</th>\n",
       "      <td>5.293989e+04</td>\n",
       "      <td>5.241955e+05</td>\n",
       "      <td>3.275841e+00</td>\n",
       "      <td>2.496440e+00</td>\n",
       "      <td>1.522303e+01</td>\n",
       "      <td>1.012325e+06</td>\n",
       "      <td>5.218668e+04</td>\n",
       "      <td>2.714471e+03</td>\n",
       "    </tr>\n",
       "    <tr>\n",
       "      <th>std</th>\n",
       "      <td>3.064275e+04</td>\n",
       "      <td>2.138893e+06</td>\n",
       "      <td>1.567274e+00</td>\n",
       "      <td>1.652573e+00</td>\n",
       "      <td>7.628238e+02</td>\n",
       "      <td>5.837635e+05</td>\n",
       "      <td>2.895408e+04</td>\n",
       "      <td>8.081635e+05</td>\n",
       "    </tr>\n",
       "    <tr>\n",
       "      <th>min</th>\n",
       "      <td>0.000000e+00</td>\n",
       "      <td>0.000000e+00</td>\n",
       "      <td>1.000000e+00</td>\n",
       "      <td>1.000000e+00</td>\n",
       "      <td>0.000000e+00</td>\n",
       "      <td>0.000000e+00</td>\n",
       "      <td>0.000000e+00</td>\n",
       "      <td>4.000000e+00</td>\n",
       "    </tr>\n",
       "    <tr>\n",
       "      <th>25%</th>\n",
       "      <td>2.386100e+04</td>\n",
       "      <td>1.650000e+05</td>\n",
       "      <td>3.000000e+00</td>\n",
       "      <td>2.000000e+00</td>\n",
       "      <td>1.500000e-01</td>\n",
       "      <td>5.063128e+05</td>\n",
       "      <td>2.961700e+04</td>\n",
       "      <td>1.300000e+03</td>\n",
       "    </tr>\n",
       "    <tr>\n",
       "      <th>50%</th>\n",
       "      <td>5.288400e+04</td>\n",
       "      <td>3.250000e+05</td>\n",
       "      <td>3.000000e+00</td>\n",
       "      <td>2.000000e+00</td>\n",
       "      <td>2.600000e-01</td>\n",
       "      <td>1.012766e+06</td>\n",
       "      <td>4.838200e+04</td>\n",
       "      <td>1.760000e+03</td>\n",
       "    </tr>\n",
       "    <tr>\n",
       "      <th>75%</th>\n",
       "      <td>7.918300e+04</td>\n",
       "      <td>5.500000e+05</td>\n",
       "      <td>4.000000e+00</td>\n",
       "      <td>3.000000e+00</td>\n",
       "      <td>9.800000e-01</td>\n",
       "      <td>1.521173e+06</td>\n",
       "      <td>7.807000e+04</td>\n",
       "      <td>2.413000e+03</td>\n",
       "    </tr>\n",
       "    <tr>\n",
       "      <th>max</th>\n",
       "      <td>1.101420e+05</td>\n",
       "      <td>2.147484e+09</td>\n",
       "      <td>4.730000e+02</td>\n",
       "      <td>8.300000e+02</td>\n",
       "      <td>1.000000e+05</td>\n",
       "      <td>2.001357e+06</td>\n",
       "      <td>9.999900e+04</td>\n",
       "      <td>1.040400e+09</td>\n",
       "    </tr>\n",
       "  </tbody>\n",
       "</table>\n",
       "</div>"
      ],
      "text/plain": [
       "        brokered_by         price           bed          bath      acre_lot  \\\n",
       "count  2.221849e+06  2.224841e+06  1.745065e+06  1.714611e+06  1.900793e+06   \n",
       "mean   5.293989e+04  5.241955e+05  3.275841e+00  2.496440e+00  1.522303e+01   \n",
       "std    3.064275e+04  2.138893e+06  1.567274e+00  1.652573e+00  7.628238e+02   \n",
       "min    0.000000e+00  0.000000e+00  1.000000e+00  1.000000e+00  0.000000e+00   \n",
       "25%    2.386100e+04  1.650000e+05  3.000000e+00  2.000000e+00  1.500000e-01   \n",
       "50%    5.288400e+04  3.250000e+05  3.000000e+00  2.000000e+00  2.600000e-01   \n",
       "75%    7.918300e+04  5.500000e+05  4.000000e+00  3.000000e+00  9.800000e-01   \n",
       "max    1.101420e+05  2.147484e+09  4.730000e+02  8.300000e+02  1.000000e+05   \n",
       "\n",
       "             street      zip_code    house_size  \n",
       "count  2.215516e+06  2.226083e+06  1.657898e+06  \n",
       "mean   1.012325e+06  5.218668e+04  2.714471e+03  \n",
       "std    5.837635e+05  2.895408e+04  8.081635e+05  \n",
       "min    0.000000e+00  0.000000e+00  4.000000e+00  \n",
       "25%    5.063128e+05  2.961700e+04  1.300000e+03  \n",
       "50%    1.012766e+06  4.838200e+04  1.760000e+03  \n",
       "75%    1.521173e+06  7.807000e+04  2.413000e+03  \n",
       "max    2.001357e+06  9.999900e+04  1.040400e+09  "
      ]
     },
     "execution_count": 9,
     "metadata": {},
     "output_type": "execute_result"
    }
   ],
   "source": [
    "#check descriptive statistics\n",
    "df.describe()"
   ]
  },
  {
   "cell_type": "code",
   "execution_count": 10,
   "id": "88f03ede",
   "metadata": {},
   "outputs": [
    {
     "data": {
      "text/plain": [
       "Index(['brokered_by', 'status', 'price', 'bed', 'bath', 'acre_lot', 'street',\n",
       "       'city', 'state', 'zip_code', 'house_size', 'prev_sold_date'],\n",
       "      dtype='object')"
      ]
     },
     "execution_count": 10,
     "metadata": {},
     "output_type": "execute_result"
    }
   ],
   "source": [
    "# Check the 12 columns that the describe() function referred to\n",
    "df.columns"
   ]
  },
  {
   "cell_type": "code",
   "execution_count": 11,
   "id": "97665974",
   "metadata": {},
   "outputs": [
    {
     "data": {
      "text/plain": [
       "brokered_by\n",
       "22611.0    45658\n",
       "16829.0    27732\n",
       "53016.0    21709\n",
       "23592.0     9176\n",
       "30807.0     8464\n",
       "           ...  \n",
       "36774.0        1\n",
       "88410.0        1\n",
       "92528.0        1\n",
       "76894.0        1\n",
       "98730.0        1\n",
       "Name: count, Length: 110144, dtype: int64"
      ]
     },
     "execution_count": 11,
     "metadata": {},
     "output_type": "execute_result"
    }
   ],
   "source": [
    "#using df.value_counts() function to find missing values/Nans within a column\n",
    "df['brokered_by'].value_counts(dropna=False)"
   ]
  },
  {
   "cell_type": "markdown",
   "id": "031b64bd",
   "metadata": {},
   "source": [
    "## 02 a) check mixed data types"
   ]
  },
  {
   "cell_type": "code",
   "execution_count": 12,
   "id": "2a543ccd",
   "metadata": {},
   "outputs": [
    {
     "name": "stderr",
     "output_type": "stream",
     "text": [
      "/var/folders/fb/2jrdrrb52mv7jbhxt0nbx_740000gn/T/ipykernel_20120/2090348899.py:3: FutureWarning: DataFrame.applymap has been deprecated. Use DataFrame.map instead.\n",
      "  weird = (df[[col]].applymap(type)!=df[[col]].iloc[0].apply(type)).any(axis=1)\n",
      "/var/folders/fb/2jrdrrb52mv7jbhxt0nbx_740000gn/T/ipykernel_20120/2090348899.py:3: FutureWarning: DataFrame.applymap has been deprecated. Use DataFrame.map instead.\n",
      "  weird = (df[[col]].applymap(type)!=df[[col]].iloc[0].apply(type)).any(axis=1)\n",
      "/var/folders/fb/2jrdrrb52mv7jbhxt0nbx_740000gn/T/ipykernel_20120/2090348899.py:3: FutureWarning: DataFrame.applymap has been deprecated. Use DataFrame.map instead.\n",
      "  weird = (df[[col]].applymap(type)!=df[[col]].iloc[0].apply(type)).any(axis=1)\n",
      "/var/folders/fb/2jrdrrb52mv7jbhxt0nbx_740000gn/T/ipykernel_20120/2090348899.py:3: FutureWarning: DataFrame.applymap has been deprecated. Use DataFrame.map instead.\n",
      "  weird = (df[[col]].applymap(type)!=df[[col]].iloc[0].apply(type)).any(axis=1)\n",
      "/var/folders/fb/2jrdrrb52mv7jbhxt0nbx_740000gn/T/ipykernel_20120/2090348899.py:3: FutureWarning: DataFrame.applymap has been deprecated. Use DataFrame.map instead.\n",
      "  weird = (df[[col]].applymap(type)!=df[[col]].iloc[0].apply(type)).any(axis=1)\n",
      "/var/folders/fb/2jrdrrb52mv7jbhxt0nbx_740000gn/T/ipykernel_20120/2090348899.py:3: FutureWarning: DataFrame.applymap has been deprecated. Use DataFrame.map instead.\n",
      "  weird = (df[[col]].applymap(type)!=df[[col]].iloc[0].apply(type)).any(axis=1)\n",
      "/var/folders/fb/2jrdrrb52mv7jbhxt0nbx_740000gn/T/ipykernel_20120/2090348899.py:3: FutureWarning: DataFrame.applymap has been deprecated. Use DataFrame.map instead.\n",
      "  weird = (df[[col]].applymap(type)!=df[[col]].iloc[0].apply(type)).any(axis=1)\n",
      "/var/folders/fb/2jrdrrb52mv7jbhxt0nbx_740000gn/T/ipykernel_20120/2090348899.py:3: FutureWarning: DataFrame.applymap has been deprecated. Use DataFrame.map instead.\n",
      "  weird = (df[[col]].applymap(type)!=df[[col]].iloc[0].apply(type)).any(axis=1)\n",
      "/var/folders/fb/2jrdrrb52mv7jbhxt0nbx_740000gn/T/ipykernel_20120/2090348899.py:3: FutureWarning: DataFrame.applymap has been deprecated. Use DataFrame.map instead.\n",
      "  weird = (df[[col]].applymap(type)!=df[[col]].iloc[0].apply(type)).any(axis=1)\n"
     ]
    },
    {
     "name": "stdout",
     "output_type": "stream",
     "text": [
      "city\n",
      "state\n"
     ]
    },
    {
     "name": "stderr",
     "output_type": "stream",
     "text": [
      "/var/folders/fb/2jrdrrb52mv7jbhxt0nbx_740000gn/T/ipykernel_20120/2090348899.py:3: FutureWarning: DataFrame.applymap has been deprecated. Use DataFrame.map instead.\n",
      "  weird = (df[[col]].applymap(type)!=df[[col]].iloc[0].apply(type)).any(axis=1)\n",
      "/var/folders/fb/2jrdrrb52mv7jbhxt0nbx_740000gn/T/ipykernel_20120/2090348899.py:3: FutureWarning: DataFrame.applymap has been deprecated. Use DataFrame.map instead.\n",
      "  weird = (df[[col]].applymap(type)!=df[[col]].iloc[0].apply(type)).any(axis=1)\n",
      "/var/folders/fb/2jrdrrb52mv7jbhxt0nbx_740000gn/T/ipykernel_20120/2090348899.py:3: FutureWarning: DataFrame.applymap has been deprecated. Use DataFrame.map instead.\n",
      "  weird = (df[[col]].applymap(type)!=df[[col]].iloc[0].apply(type)).any(axis=1)\n"
     ]
    },
    {
     "name": "stdout",
     "output_type": "stream",
     "text": [
      "prev_sold_date\n"
     ]
    }
   ],
   "source": [
    "#find mixed values\n",
    "for col in df.columns.tolist():\n",
    "    weird = (df[[col]].applymap(type)!=df[[col]].iloc[0].apply(type)).any(axis=1)\n",
    "    if len (df[weird])>0:\n",
    "        print(col)"
   ]
  },
  {
   "cell_type": "markdown",
   "id": "52893375",
   "metadata": {},
   "source": [
    "### 3 columns identified as mixed data type, now I will change to string"
   ]
  },
  {
   "cell_type": "code",
   "execution_count": 13,
   "id": "f55e2481",
   "metadata": {},
   "outputs": [],
   "source": [
    "#changing the 3 columns (city, state, prev_sold_date) to string\n",
    "df['city'] = df['city'].astype('str')\n",
    "df['state'] = df['state'].astype('str')\n",
    "df['prev_sold_date'] = df['prev_sold_date'].astype('str')"
   ]
  },
  {
   "cell_type": "code",
   "execution_count": 14,
   "id": "e549d8aa",
   "metadata": {},
   "outputs": [
    {
     "data": {
      "text/plain": [
       "brokered_by       float64\n",
       "status             object\n",
       "price             float64\n",
       "bed               float64\n",
       "bath              float64\n",
       "acre_lot          float64\n",
       "street            float64\n",
       "city               object\n",
       "state              object\n",
       "zip_code          float64\n",
       "house_size        float64\n",
       "prev_sold_date     object\n",
       "dtype: object"
      ]
     },
     "execution_count": 14,
     "metadata": {},
     "output_type": "execute_result"
    }
   ],
   "source": [
    "#check dtypes again now that changes are made\n",
    "df.dtypes"
   ]
  },
  {
   "cell_type": "code",
   "execution_count": 15,
   "id": "3e2b5b1d",
   "metadata": {},
   "outputs": [
    {
     "name": "stderr",
     "output_type": "stream",
     "text": [
      "/var/folders/fb/2jrdrrb52mv7jbhxt0nbx_740000gn/T/ipykernel_20120/2931238424.py:3: FutureWarning: DataFrame.applymap has been deprecated. Use DataFrame.map instead.\n",
      "  weird = (df[[col]].applymap(type)!=df[[col]].iloc[0].apply(type)).any(axis=1)\n",
      "/var/folders/fb/2jrdrrb52mv7jbhxt0nbx_740000gn/T/ipykernel_20120/2931238424.py:3: FutureWarning: DataFrame.applymap has been deprecated. Use DataFrame.map instead.\n",
      "  weird = (df[[col]].applymap(type)!=df[[col]].iloc[0].apply(type)).any(axis=1)\n",
      "/var/folders/fb/2jrdrrb52mv7jbhxt0nbx_740000gn/T/ipykernel_20120/2931238424.py:3: FutureWarning: DataFrame.applymap has been deprecated. Use DataFrame.map instead.\n",
      "  weird = (df[[col]].applymap(type)!=df[[col]].iloc[0].apply(type)).any(axis=1)\n",
      "/var/folders/fb/2jrdrrb52mv7jbhxt0nbx_740000gn/T/ipykernel_20120/2931238424.py:3: FutureWarning: DataFrame.applymap has been deprecated. Use DataFrame.map instead.\n",
      "  weird = (df[[col]].applymap(type)!=df[[col]].iloc[0].apply(type)).any(axis=1)\n",
      "/var/folders/fb/2jrdrrb52mv7jbhxt0nbx_740000gn/T/ipykernel_20120/2931238424.py:3: FutureWarning: DataFrame.applymap has been deprecated. Use DataFrame.map instead.\n",
      "  weird = (df[[col]].applymap(type)!=df[[col]].iloc[0].apply(type)).any(axis=1)\n",
      "/var/folders/fb/2jrdrrb52mv7jbhxt0nbx_740000gn/T/ipykernel_20120/2931238424.py:3: FutureWarning: DataFrame.applymap has been deprecated. Use DataFrame.map instead.\n",
      "  weird = (df[[col]].applymap(type)!=df[[col]].iloc[0].apply(type)).any(axis=1)\n",
      "/var/folders/fb/2jrdrrb52mv7jbhxt0nbx_740000gn/T/ipykernel_20120/2931238424.py:3: FutureWarning: DataFrame.applymap has been deprecated. Use DataFrame.map instead.\n",
      "  weird = (df[[col]].applymap(type)!=df[[col]].iloc[0].apply(type)).any(axis=1)\n",
      "/var/folders/fb/2jrdrrb52mv7jbhxt0nbx_740000gn/T/ipykernel_20120/2931238424.py:3: FutureWarning: DataFrame.applymap has been deprecated. Use DataFrame.map instead.\n",
      "  weird = (df[[col]].applymap(type)!=df[[col]].iloc[0].apply(type)).any(axis=1)\n",
      "/var/folders/fb/2jrdrrb52mv7jbhxt0nbx_740000gn/T/ipykernel_20120/2931238424.py:3: FutureWarning: DataFrame.applymap has been deprecated. Use DataFrame.map instead.\n",
      "  weird = (df[[col]].applymap(type)!=df[[col]].iloc[0].apply(type)).any(axis=1)\n",
      "/var/folders/fb/2jrdrrb52mv7jbhxt0nbx_740000gn/T/ipykernel_20120/2931238424.py:3: FutureWarning: DataFrame.applymap has been deprecated. Use DataFrame.map instead.\n",
      "  weird = (df[[col]].applymap(type)!=df[[col]].iloc[0].apply(type)).any(axis=1)\n",
      "/var/folders/fb/2jrdrrb52mv7jbhxt0nbx_740000gn/T/ipykernel_20120/2931238424.py:3: FutureWarning: DataFrame.applymap has been deprecated. Use DataFrame.map instead.\n",
      "  weird = (df[[col]].applymap(type)!=df[[col]].iloc[0].apply(type)).any(axis=1)\n",
      "/var/folders/fb/2jrdrrb52mv7jbhxt0nbx_740000gn/T/ipykernel_20120/2931238424.py:3: FutureWarning: DataFrame.applymap has been deprecated. Use DataFrame.map instead.\n",
      "  weird = (df[[col]].applymap(type)!=df[[col]].iloc[0].apply(type)).any(axis=1)\n"
     ]
    }
   ],
   "source": [
    "#re-check for mixed data types again (after changes)\n",
    "for col in df.columns.tolist():\n",
    "    weird = (df[[col]].applymap(type)!=df[[col]].iloc[0].apply(type)).any(axis=1)\n",
    "    if len (df[weird])>0:\n",
    "        print(col)"
   ]
  },
  {
   "cell_type": "markdown",
   "id": "6ab3d85c",
   "metadata": {},
   "source": [
    "#### ok, looks good now"
   ]
  },
  {
   "cell_type": "markdown",
   "id": "543cea5c",
   "metadata": {},
   "source": [
    "## 02 b) check missing values"
   ]
  },
  {
   "cell_type": "code",
   "execution_count": 16,
   "id": "ff1cce46",
   "metadata": {},
   "outputs": [
    {
     "data": {
      "text/plain": [
       "brokered_by         4533\n",
       "status                 0\n",
       "price               1541\n",
       "bed               481317\n",
       "bath              511771\n",
       "acre_lot          325589\n",
       "street             10866\n",
       "city                   0\n",
       "state                  0\n",
       "zip_code             299\n",
       "house_size        568484\n",
       "prev_sold_date         0\n",
       "dtype: int64"
      ]
     },
     "execution_count": 16,
     "metadata": {},
     "output_type": "execute_result"
    }
   ],
   "source": [
    "#to find the Nans in every column\n",
    "df.isnull().sum()"
   ]
  },
  {
   "cell_type": "markdown",
   "id": "69d806c4",
   "metadata": {},
   "source": [
    "### 8 rows have several missing values\n",
    "#### 'brokered_by' is ID numbers so imputing doesn't make sense - i'll have to remove into subset and put somewhere:  since there are 4533 NaNs, the new dataset will account for these removed: 2221849"
   ]
  },
  {
   "cell_type": "markdown",
   "id": "8798e534",
   "metadata": {},
   "source": [
    "### create subsets of Nans for columns with missing values"
   ]
  },
  {
   "cell_type": "code",
   "execution_count": 17,
   "id": "8a988eac",
   "metadata": {},
   "outputs": [],
   "source": [
    "#create a subset of only the missing values\n",
    "df_nan_brokered_by = df[df['brokered_by'].isnull()==True]"
   ]
  },
  {
   "cell_type": "code",
   "execution_count": 18,
   "id": "94bff109",
   "metadata": {},
   "outputs": [
    {
     "data": {
      "text/html": [
       "<div>\n",
       "<style scoped>\n",
       "    .dataframe tbody tr th:only-of-type {\n",
       "        vertical-align: middle;\n",
       "    }\n",
       "\n",
       "    .dataframe tbody tr th {\n",
       "        vertical-align: top;\n",
       "    }\n",
       "\n",
       "    .dataframe thead th {\n",
       "        text-align: right;\n",
       "    }\n",
       "</style>\n",
       "<table border=\"1\" class=\"dataframe\">\n",
       "  <thead>\n",
       "    <tr style=\"text-align: right;\">\n",
       "      <th></th>\n",
       "      <th>brokered_by</th>\n",
       "      <th>status</th>\n",
       "      <th>price</th>\n",
       "      <th>bed</th>\n",
       "      <th>bath</th>\n",
       "      <th>acre_lot</th>\n",
       "      <th>street</th>\n",
       "      <th>city</th>\n",
       "      <th>state</th>\n",
       "      <th>zip_code</th>\n",
       "      <th>house_size</th>\n",
       "      <th>prev_sold_date</th>\n",
       "    </tr>\n",
       "  </thead>\n",
       "  <tbody>\n",
       "    <tr>\n",
       "      <th>518</th>\n",
       "      <td>NaN</td>\n",
       "      <td>for_sale</td>\n",
       "      <td>55000.0</td>\n",
       "      <td>NaN</td>\n",
       "      <td>NaN</td>\n",
       "      <td>0.85</td>\n",
       "      <td>599860.0</td>\n",
       "      <td>Hormigueros</td>\n",
       "      <td>Puerto Rico</td>\n",
       "      <td>660.0</td>\n",
       "      <td>NaN</td>\n",
       "      <td>nan</td>\n",
       "    </tr>\n",
       "    <tr>\n",
       "      <th>990</th>\n",
       "      <td>NaN</td>\n",
       "      <td>for_sale</td>\n",
       "      <td>255000.0</td>\n",
       "      <td>3.0</td>\n",
       "      <td>2.0</td>\n",
       "      <td>NaN</td>\n",
       "      <td>595720.0</td>\n",
       "      <td>Guaynabo</td>\n",
       "      <td>Puerto Rico</td>\n",
       "      <td>965.0</td>\n",
       "      <td>1500.0</td>\n",
       "      <td>nan</td>\n",
       "    </tr>\n",
       "    <tr>\n",
       "      <th>1476</th>\n",
       "      <td>NaN</td>\n",
       "      <td>for_sale</td>\n",
       "      <td>135000.0</td>\n",
       "      <td>3.0</td>\n",
       "      <td>1.0</td>\n",
       "      <td>0.11</td>\n",
       "      <td>1450443.0</td>\n",
       "      <td>Bayamon</td>\n",
       "      <td>Puerto Rico</td>\n",
       "      <td>957.0</td>\n",
       "      <td>782.0</td>\n",
       "      <td>nan</td>\n",
       "    </tr>\n",
       "    <tr>\n",
       "      <th>10053</th>\n",
       "      <td>NaN</td>\n",
       "      <td>for_sale</td>\n",
       "      <td>679900.0</td>\n",
       "      <td>6.0</td>\n",
       "      <td>4.0</td>\n",
       "      <td>1.82</td>\n",
       "      <td>7650.0</td>\n",
       "      <td>Cromwell</td>\n",
       "      <td>Connecticut</td>\n",
       "      <td>6416.0</td>\n",
       "      <td>3184.0</td>\n",
       "      <td>2011-06-08</td>\n",
       "    </tr>\n",
       "    <tr>\n",
       "      <th>13511</th>\n",
       "      <td>NaN</td>\n",
       "      <td>for_sale</td>\n",
       "      <td>309900.0</td>\n",
       "      <td>2.0</td>\n",
       "      <td>1.0</td>\n",
       "      <td>0.11</td>\n",
       "      <td>843765.0</td>\n",
       "      <td>North Providence</td>\n",
       "      <td>Rhode Island</td>\n",
       "      <td>2904.0</td>\n",
       "      <td>1016.0</td>\n",
       "      <td>1992-11-17</td>\n",
       "    </tr>\n",
       "    <tr>\n",
       "      <th>...</th>\n",
       "      <td>...</td>\n",
       "      <td>...</td>\n",
       "      <td>...</td>\n",
       "      <td>...</td>\n",
       "      <td>...</td>\n",
       "      <td>...</td>\n",
       "      <td>...</td>\n",
       "      <td>...</td>\n",
       "      <td>...</td>\n",
       "      <td>...</td>\n",
       "      <td>...</td>\n",
       "      <td>...</td>\n",
       "    </tr>\n",
       "    <tr>\n",
       "      <th>2220033</th>\n",
       "      <td>NaN</td>\n",
       "      <td>sold</td>\n",
       "      <td>435000.0</td>\n",
       "      <td>3.0</td>\n",
       "      <td>2.0</td>\n",
       "      <td>1.10</td>\n",
       "      <td>817222.0</td>\n",
       "      <td>East Wenatchee</td>\n",
       "      <td>Washington</td>\n",
       "      <td>98802.0</td>\n",
       "      <td>1512.0</td>\n",
       "      <td>2022-01-12</td>\n",
       "    </tr>\n",
       "    <tr>\n",
       "      <th>2221167</th>\n",
       "      <td>NaN</td>\n",
       "      <td>sold</td>\n",
       "      <td>375000.0</td>\n",
       "      <td>3.0</td>\n",
       "      <td>2.0</td>\n",
       "      <td>1.39</td>\n",
       "      <td>1692463.0</td>\n",
       "      <td>Waterville</td>\n",
       "      <td>Washington</td>\n",
       "      <td>98858.0</td>\n",
       "      <td>1512.0</td>\n",
       "      <td>2022-02-15</td>\n",
       "    </tr>\n",
       "    <tr>\n",
       "      <th>2225547</th>\n",
       "      <td>NaN</td>\n",
       "      <td>sold</td>\n",
       "      <td>245000.0</td>\n",
       "      <td>2.0</td>\n",
       "      <td>2.0</td>\n",
       "      <td>0.13</td>\n",
       "      <td>576308.0</td>\n",
       "      <td>Pasco</td>\n",
       "      <td>Washington</td>\n",
       "      <td>99301.0</td>\n",
       "      <td>1500.0</td>\n",
       "      <td>2022-04-12</td>\n",
       "    </tr>\n",
       "    <tr>\n",
       "      <th>2225844</th>\n",
       "      <td>NaN</td>\n",
       "      <td>sold</td>\n",
       "      <td>358000.0</td>\n",
       "      <td>3.0</td>\n",
       "      <td>2.0</td>\n",
       "      <td>0.26</td>\n",
       "      <td>1372469.0</td>\n",
       "      <td>West Richland</td>\n",
       "      <td>Washington</td>\n",
       "      <td>99353.0</td>\n",
       "      <td>1582.0</td>\n",
       "      <td>2022-04-13</td>\n",
       "    </tr>\n",
       "    <tr>\n",
       "      <th>2225864</th>\n",
       "      <td>NaN</td>\n",
       "      <td>sold</td>\n",
       "      <td>409000.0</td>\n",
       "      <td>4.0</td>\n",
       "      <td>2.0</td>\n",
       "      <td>0.19</td>\n",
       "      <td>480205.0</td>\n",
       "      <td>Richland</td>\n",
       "      <td>Washington</td>\n",
       "      <td>99352.0</td>\n",
       "      <td>2121.0</td>\n",
       "      <td>2021-12-03</td>\n",
       "    </tr>\n",
       "  </tbody>\n",
       "</table>\n",
       "<p>4533 rows × 12 columns</p>\n",
       "</div>"
      ],
      "text/plain": [
       "         brokered_by    status     price  bed  bath  acre_lot     street  \\\n",
       "518              NaN  for_sale   55000.0  NaN   NaN      0.85   599860.0   \n",
       "990              NaN  for_sale  255000.0  3.0   2.0       NaN   595720.0   \n",
       "1476             NaN  for_sale  135000.0  3.0   1.0      0.11  1450443.0   \n",
       "10053            NaN  for_sale  679900.0  6.0   4.0      1.82     7650.0   \n",
       "13511            NaN  for_sale  309900.0  2.0   1.0      0.11   843765.0   \n",
       "...              ...       ...       ...  ...   ...       ...        ...   \n",
       "2220033          NaN      sold  435000.0  3.0   2.0      1.10   817222.0   \n",
       "2221167          NaN      sold  375000.0  3.0   2.0      1.39  1692463.0   \n",
       "2225547          NaN      sold  245000.0  2.0   2.0      0.13   576308.0   \n",
       "2225844          NaN      sold  358000.0  3.0   2.0      0.26  1372469.0   \n",
       "2225864          NaN      sold  409000.0  4.0   2.0      0.19   480205.0   \n",
       "\n",
       "                     city         state  zip_code  house_size prev_sold_date  \n",
       "518           Hormigueros   Puerto Rico     660.0         NaN            nan  \n",
       "990              Guaynabo   Puerto Rico     965.0      1500.0            nan  \n",
       "1476              Bayamon   Puerto Rico     957.0       782.0            nan  \n",
       "10053            Cromwell   Connecticut    6416.0      3184.0     2011-06-08  \n",
       "13511    North Providence  Rhode Island    2904.0      1016.0     1992-11-17  \n",
       "...                   ...           ...       ...         ...            ...  \n",
       "2220033    East Wenatchee    Washington   98802.0      1512.0     2022-01-12  \n",
       "2221167        Waterville    Washington   98858.0      1512.0     2022-02-15  \n",
       "2225547             Pasco    Washington   99301.0      1500.0     2022-04-12  \n",
       "2225844     West Richland    Washington   99353.0      1582.0     2022-04-13  \n",
       "2225864          Richland    Washington   99352.0      2121.0     2021-12-03  \n",
       "\n",
       "[4533 rows x 12 columns]"
      ]
     },
     "execution_count": 18,
     "metadata": {},
     "output_type": "execute_result"
    }
   ],
   "source": [
    "df_nan_brokered_by"
   ]
  },
  {
   "cell_type": "code",
   "execution_count": 19,
   "id": "697a7deb",
   "metadata": {},
   "outputs": [],
   "source": [
    "#create a new dataset with these NaNs removed from 'brokered_by' column\n",
    "df_clean = df[df['brokered_by'].isnull() == False]"
   ]
  },
  {
   "cell_type": "code",
   "execution_count": 20,
   "id": "41602e17",
   "metadata": {},
   "outputs": [
    {
     "data": {
      "text/plain": [
       "(2221849, 12)"
      ]
     },
     "execution_count": 20,
     "metadata": {},
     "output_type": "execute_result"
    }
   ],
   "source": [
    "#compare new shape\n",
    "df_clean.shape"
   ]
  },
  {
   "cell_type": "markdown",
   "id": "f81bda3f",
   "metadata": {},
   "source": [
    "### good, this is the expected amount (2226382-4533)"
   ]
  },
  {
   "cell_type": "markdown",
   "id": "95df428b",
   "metadata": {},
   "source": [
    "### decide whether to impute mean or median for missing values"
   ]
  },
  {
   "cell_type": "markdown",
   "id": "cc2b6438",
   "metadata": {},
   "source": [
    "#### checking median for appropriate variables (choose median if outliers pull mean up/down)"
   ]
  },
  {
   "cell_type": "code",
   "execution_count": 21,
   "id": "4e1bf146",
   "metadata": {},
   "outputs": [
    {
     "data": {
      "text/plain": [
       "brokered_by      52884.00\n",
       "price           325000.00\n",
       "bed                  3.00\n",
       "bath                 2.00\n",
       "acre_lot             0.26\n",
       "street         1012986.50\n",
       "zip_code         48433.00\n",
       "house_size        1760.00\n",
       "dtype: float64"
      ]
     },
     "execution_count": 21,
     "metadata": {},
     "output_type": "execute_result"
    }
   ],
   "source": [
    "df_clean[['brokered_by', 'price', 'bed', 'bath', 'acre_lot', 'street','zip_code', 'house_size']].median()"
   ]
  },
  {
   "cell_type": "markdown",
   "id": "1b9d47a8",
   "metadata": {},
   "source": [
    "#### checking mean again to compare"
   ]
  },
  {
   "cell_type": "code",
   "execution_count": 22,
   "id": "2109335b",
   "metadata": {},
   "outputs": [
    {
     "data": {
      "text/html": [
       "<div>\n",
       "<style scoped>\n",
       "    .dataframe tbody tr th:only-of-type {\n",
       "        vertical-align: middle;\n",
       "    }\n",
       "\n",
       "    .dataframe tbody tr th {\n",
       "        vertical-align: top;\n",
       "    }\n",
       "\n",
       "    .dataframe thead th {\n",
       "        text-align: right;\n",
       "    }\n",
       "</style>\n",
       "<table border=\"1\" class=\"dataframe\">\n",
       "  <thead>\n",
       "    <tr style=\"text-align: right;\">\n",
       "      <th></th>\n",
       "      <th>brokered_by</th>\n",
       "      <th>price</th>\n",
       "      <th>bed</th>\n",
       "      <th>bath</th>\n",
       "      <th>acre_lot</th>\n",
       "      <th>street</th>\n",
       "      <th>zip_code</th>\n",
       "      <th>house_size</th>\n",
       "    </tr>\n",
       "  </thead>\n",
       "  <tbody>\n",
       "    <tr>\n",
       "      <th>count</th>\n",
       "      <td>2.221849e+06</td>\n",
       "      <td>2.220308e+06</td>\n",
       "      <td>1.742245e+06</td>\n",
       "      <td>1.711817e+06</td>\n",
       "      <td>1.896744e+06</td>\n",
       "      <td>2.211000e+06</td>\n",
       "      <td>2.221550e+06</td>\n",
       "      <td>1.655219e+06</td>\n",
       "    </tr>\n",
       "    <tr>\n",
       "      <th>mean</th>\n",
       "      <td>5.293989e+04</td>\n",
       "      <td>5.240079e+05</td>\n",
       "      <td>3.275919e+00</td>\n",
       "      <td>2.496373e+00</td>\n",
       "      <td>1.524812e+01</td>\n",
       "      <td>1.012480e+06</td>\n",
       "      <td>5.219751e+04</td>\n",
       "      <td>2.715133e+03</td>\n",
       "    </tr>\n",
       "    <tr>\n",
       "      <th>std</th>\n",
       "      <td>3.064275e+04</td>\n",
       "      <td>2.135990e+06</td>\n",
       "      <td>1.567769e+00</td>\n",
       "      <td>1.653039e+00</td>\n",
       "      <td>7.636356e+02</td>\n",
       "      <td>5.838324e+05</td>\n",
       "      <td>2.895915e+04</td>\n",
       "      <td>8.088170e+05</td>\n",
       "    </tr>\n",
       "    <tr>\n",
       "      <th>min</th>\n",
       "      <td>0.000000e+00</td>\n",
       "      <td>0.000000e+00</td>\n",
       "      <td>1.000000e+00</td>\n",
       "      <td>1.000000e+00</td>\n",
       "      <td>0.000000e+00</td>\n",
       "      <td>0.000000e+00</td>\n",
       "      <td>0.000000e+00</td>\n",
       "      <td>4.000000e+00</td>\n",
       "    </tr>\n",
       "    <tr>\n",
       "      <th>25%</th>\n",
       "      <td>2.386100e+04</td>\n",
       "      <td>1.650000e+05</td>\n",
       "      <td>3.000000e+00</td>\n",
       "      <td>2.000000e+00</td>\n",
       "      <td>1.500000e-01</td>\n",
       "      <td>5.063548e+05</td>\n",
       "      <td>2.961500e+04</td>\n",
       "      <td>1.300000e+03</td>\n",
       "    </tr>\n",
       "    <tr>\n",
       "      <th>50%</th>\n",
       "      <td>5.288400e+04</td>\n",
       "      <td>3.250000e+05</td>\n",
       "      <td>3.000000e+00</td>\n",
       "      <td>2.000000e+00</td>\n",
       "      <td>2.600000e-01</td>\n",
       "      <td>1.012986e+06</td>\n",
       "      <td>4.843300e+04</td>\n",
       "      <td>1.760000e+03</td>\n",
       "    </tr>\n",
       "    <tr>\n",
       "      <th>75%</th>\n",
       "      <td>7.918300e+04</td>\n",
       "      <td>5.500000e+05</td>\n",
       "      <td>4.000000e+00</td>\n",
       "      <td>3.000000e+00</td>\n",
       "      <td>9.900000e-01</td>\n",
       "      <td>1.521461e+06</td>\n",
       "      <td>7.807100e+04</td>\n",
       "      <td>2.413000e+03</td>\n",
       "    </tr>\n",
       "    <tr>\n",
       "      <th>max</th>\n",
       "      <td>1.101420e+05</td>\n",
       "      <td>2.147484e+09</td>\n",
       "      <td>4.730000e+02</td>\n",
       "      <td>8.300000e+02</td>\n",
       "      <td>1.000000e+05</td>\n",
       "      <td>2.001357e+06</td>\n",
       "      <td>9.999900e+04</td>\n",
       "      <td>1.040400e+09</td>\n",
       "    </tr>\n",
       "  </tbody>\n",
       "</table>\n",
       "</div>"
      ],
      "text/plain": [
       "        brokered_by         price           bed          bath      acre_lot  \\\n",
       "count  2.221849e+06  2.220308e+06  1.742245e+06  1.711817e+06  1.896744e+06   \n",
       "mean   5.293989e+04  5.240079e+05  3.275919e+00  2.496373e+00  1.524812e+01   \n",
       "std    3.064275e+04  2.135990e+06  1.567769e+00  1.653039e+00  7.636356e+02   \n",
       "min    0.000000e+00  0.000000e+00  1.000000e+00  1.000000e+00  0.000000e+00   \n",
       "25%    2.386100e+04  1.650000e+05  3.000000e+00  2.000000e+00  1.500000e-01   \n",
       "50%    5.288400e+04  3.250000e+05  3.000000e+00  2.000000e+00  2.600000e-01   \n",
       "75%    7.918300e+04  5.500000e+05  4.000000e+00  3.000000e+00  9.900000e-01   \n",
       "max    1.101420e+05  2.147484e+09  4.730000e+02  8.300000e+02  1.000000e+05   \n",
       "\n",
       "             street      zip_code    house_size  \n",
       "count  2.211000e+06  2.221550e+06  1.655219e+06  \n",
       "mean   1.012480e+06  5.219751e+04  2.715133e+03  \n",
       "std    5.838324e+05  2.895915e+04  8.088170e+05  \n",
       "min    0.000000e+00  0.000000e+00  4.000000e+00  \n",
       "25%    5.063548e+05  2.961500e+04  1.300000e+03  \n",
       "50%    1.012986e+06  4.843300e+04  1.760000e+03  \n",
       "75%    1.521461e+06  7.807100e+04  2.413000e+03  \n",
       "max    2.001357e+06  9.999900e+04  1.040400e+09  "
      ]
     },
     "execution_count": 22,
     "metadata": {},
     "output_type": "execute_result"
    }
   ],
   "source": [
    "df_clean.describe()"
   ]
  },
  {
   "cell_type": "code",
   "execution_count": 44,
   "id": "4a63e822",
   "metadata": {},
   "outputs": [],
   "source": [
    "#index/create subset to check the outliers of the max for price (to figure out to impute median or mean)\n",
    "df_high_price=df_clean[df_clean['price']>2000000000]"
   ]
  },
  {
   "cell_type": "code",
   "execution_count": 45,
   "id": "632eea9f",
   "metadata": {},
   "outputs": [
    {
     "data": {
      "text/html": [
       "<div>\n",
       "<style scoped>\n",
       "    .dataframe tbody tr th:only-of-type {\n",
       "        vertical-align: middle;\n",
       "    }\n",
       "\n",
       "    .dataframe tbody tr th {\n",
       "        vertical-align: top;\n",
       "    }\n",
       "\n",
       "    .dataframe thead th {\n",
       "        text-align: right;\n",
       "    }\n",
       "</style>\n",
       "<table border=\"1\" class=\"dataframe\">\n",
       "  <thead>\n",
       "    <tr style=\"text-align: right;\">\n",
       "      <th></th>\n",
       "      <th>brokered_by</th>\n",
       "      <th>status</th>\n",
       "      <th>price</th>\n",
       "      <th>bed</th>\n",
       "      <th>bath</th>\n",
       "      <th>acre_lot</th>\n",
       "      <th>street</th>\n",
       "      <th>city</th>\n",
       "      <th>state</th>\n",
       "      <th>zip_code</th>\n",
       "      <th>house_size</th>\n",
       "      <th>prev_sold_date</th>\n",
       "    </tr>\n",
       "  </thead>\n",
       "  <tbody>\n",
       "    <tr>\n",
       "      <th>221994</th>\n",
       "      <td>23826.0</td>\n",
       "      <td>for_sale</td>\n",
       "      <td>2.147484e+09</td>\n",
       "      <td>2.0</td>\n",
       "      <td>2.0</td>\n",
       "      <td>0.12</td>\n",
       "      <td>11355.0</td>\n",
       "      <td>International</td>\n",
       "      <td>California</td>\n",
       "      <td>NaN</td>\n",
       "      <td>885.0</td>\n",
       "      <td>nan</td>\n",
       "    </tr>\n",
       "  </tbody>\n",
       "</table>\n",
       "</div>"
      ],
      "text/plain": [
       "        brokered_by    status         price  bed  bath  acre_lot   street  \\\n",
       "221994      23826.0  for_sale  2.147484e+09  2.0   2.0      0.12  11355.0   \n",
       "\n",
       "                 city       state  zip_code  house_size prev_sold_date  \n",
       "221994  International  California       NaN       885.0            nan  "
      ]
     },
     "execution_count": 45,
     "metadata": {},
     "output_type": "execute_result"
    }
   ],
   "source": [
    "df_high_price"
   ]
  },
  {
   "cell_type": "markdown",
   "id": "e2d60425",
   "metadata": {},
   "source": [
    "### there is only one house sold for this extremely high amount.  When I deleted a 0, there was only a handful in those high prices as well.  Therefore, I will impute the median in these NaNs (instead of mean)."
   ]
  },
  {
   "cell_type": "code",
   "execution_count": 57,
   "id": "25e5de41",
   "metadata": {},
   "outputs": [
    {
     "data": {
      "text/html": [
       "<div>\n",
       "<style scoped>\n",
       "    .dataframe tbody tr th:only-of-type {\n",
       "        vertical-align: middle;\n",
       "    }\n",
       "\n",
       "    .dataframe tbody tr th {\n",
       "        vertical-align: top;\n",
       "    }\n",
       "\n",
       "    .dataframe thead th {\n",
       "        text-align: right;\n",
       "    }\n",
       "</style>\n",
       "<table border=\"1\" class=\"dataframe\">\n",
       "  <thead>\n",
       "    <tr style=\"text-align: right;\">\n",
       "      <th></th>\n",
       "      <th>brokered_by</th>\n",
       "      <th>status</th>\n",
       "      <th>price</th>\n",
       "      <th>bed</th>\n",
       "      <th>bath</th>\n",
       "      <th>acre_lot</th>\n",
       "      <th>street</th>\n",
       "      <th>city</th>\n",
       "      <th>state</th>\n",
       "      <th>zip_code</th>\n",
       "      <th>house_size</th>\n",
       "      <th>prev_sold_date</th>\n",
       "    </tr>\n",
       "  </thead>\n",
       "  <tbody>\n",
       "    <tr>\n",
       "      <th>3303</th>\n",
       "      <td>88715.0</td>\n",
       "      <td>for_sale</td>\n",
       "      <td>585000.0</td>\n",
       "      <td>4.0</td>\n",
       "      <td>4.0</td>\n",
       "      <td>100000.00</td>\n",
       "      <td>1930360.0</td>\n",
       "      <td>San Juan</td>\n",
       "      <td>Puerto Rico</td>\n",
       "      <td>926.0</td>\n",
       "      <td>3300.0</td>\n",
       "      <td>nan</td>\n",
       "    </tr>\n",
       "    <tr>\n",
       "      <th>5263</th>\n",
       "      <td>10554.0</td>\n",
       "      <td>for_sale</td>\n",
       "      <td>150000.0</td>\n",
       "      <td>NaN</td>\n",
       "      <td>NaN</td>\n",
       "      <td>99999.00</td>\n",
       "      <td>595393.0</td>\n",
       "      <td>Simsbury</td>\n",
       "      <td>Connecticut</td>\n",
       "      <td>6070.0</td>\n",
       "      <td>NaN</td>\n",
       "      <td>nan</td>\n",
       "    </tr>\n",
       "    <tr>\n",
       "      <th>9189</th>\n",
       "      <td>10560.0</td>\n",
       "      <td>for_sale</td>\n",
       "      <td>5700000.0</td>\n",
       "      <td>NaN</td>\n",
       "      <td>NaN</td>\n",
       "      <td>99999.00</td>\n",
       "      <td>1106245.0</td>\n",
       "      <td>Middletown</td>\n",
       "      <td>Connecticut</td>\n",
       "      <td>6457.0</td>\n",
       "      <td>99999.0</td>\n",
       "      <td>nan</td>\n",
       "    </tr>\n",
       "    <tr>\n",
       "      <th>22315</th>\n",
       "      <td>76006.0</td>\n",
       "      <td>for_sale</td>\n",
       "      <td>250000.0</td>\n",
       "      <td>3.0</td>\n",
       "      <td>3.0</td>\n",
       "      <td>18817.00</td>\n",
       "      <td>1670131.0</td>\n",
       "      <td>Narragansett</td>\n",
       "      <td>Rhode Island</td>\n",
       "      <td>2882.0</td>\n",
       "      <td>1532.0</td>\n",
       "      <td>2020-09-14</td>\n",
       "    </tr>\n",
       "    <tr>\n",
       "      <th>26954</th>\n",
       "      <td>42180.0</td>\n",
       "      <td>for_sale</td>\n",
       "      <td>319000.0</td>\n",
       "      <td>3.0</td>\n",
       "      <td>1.0</td>\n",
       "      <td>13697.00</td>\n",
       "      <td>1407338.0</td>\n",
       "      <td>Portland</td>\n",
       "      <td>Maine</td>\n",
       "      <td>4108.0</td>\n",
       "      <td>992.0</td>\n",
       "      <td>nan</td>\n",
       "    </tr>\n",
       "    <tr>\n",
       "      <th>...</th>\n",
       "      <td>...</td>\n",
       "      <td>...</td>\n",
       "      <td>...</td>\n",
       "      <td>...</td>\n",
       "      <td>...</td>\n",
       "      <td>...</td>\n",
       "      <td>...</td>\n",
       "      <td>...</td>\n",
       "      <td>...</td>\n",
       "      <td>...</td>\n",
       "      <td>...</td>\n",
       "      <td>...</td>\n",
       "    </tr>\n",
       "    <tr>\n",
       "      <th>2121326</th>\n",
       "      <td>99588.0</td>\n",
       "      <td>sold</td>\n",
       "      <td>685000.0</td>\n",
       "      <td>12.0</td>\n",
       "      <td>8.0</td>\n",
       "      <td>10454.00</td>\n",
       "      <td>1035173.0</td>\n",
       "      <td>Bakersfield</td>\n",
       "      <td>California</td>\n",
       "      <td>93313.0</td>\n",
       "      <td>4597.0</td>\n",
       "      <td>2021-11-23</td>\n",
       "    </tr>\n",
       "    <tr>\n",
       "      <th>2123142</th>\n",
       "      <td>53081.0</td>\n",
       "      <td>sold</td>\n",
       "      <td>399000.0</td>\n",
       "      <td>3.0</td>\n",
       "      <td>2.0</td>\n",
       "      <td>39077.00</td>\n",
       "      <td>1250202.0</td>\n",
       "      <td>Quartz Hill</td>\n",
       "      <td>California</td>\n",
       "      <td>93536.0</td>\n",
       "      <td>1239.0</td>\n",
       "      <td>2022-04-12</td>\n",
       "    </tr>\n",
       "    <tr>\n",
       "      <th>2123611</th>\n",
       "      <td>65227.0</td>\n",
       "      <td>sold</td>\n",
       "      <td>589000.0</td>\n",
       "      <td>NaN</td>\n",
       "      <td>NaN</td>\n",
       "      <td>14733.00</td>\n",
       "      <td>669875.0</td>\n",
       "      <td>Tehachapi</td>\n",
       "      <td>California</td>\n",
       "      <td>93561.0</td>\n",
       "      <td>3360.0</td>\n",
       "      <td>2022-04-25</td>\n",
       "    </tr>\n",
       "    <tr>\n",
       "      <th>2175102</th>\n",
       "      <td>65337.0</td>\n",
       "      <td>sold</td>\n",
       "      <td>138000.0</td>\n",
       "      <td>NaN</td>\n",
       "      <td>NaN</td>\n",
       "      <td>43996.00</td>\n",
       "      <td>547688.0</td>\n",
       "      <td>Grass Valley</td>\n",
       "      <td>California</td>\n",
       "      <td>95949.0</td>\n",
       "      <td>NaN</td>\n",
       "      <td>2022-04-01</td>\n",
       "    </tr>\n",
       "    <tr>\n",
       "      <th>2190442</th>\n",
       "      <td>18836.0</td>\n",
       "      <td>sold</td>\n",
       "      <td>15550000.0</td>\n",
       "      <td>2.0</td>\n",
       "      <td>1.0</td>\n",
       "      <td>28274.29</td>\n",
       "      <td>1227775.0</td>\n",
       "      <td>Ashwood</td>\n",
       "      <td>Oregon</td>\n",
       "      <td>97711.0</td>\n",
       "      <td>2330.0</td>\n",
       "      <td>2021-12-22</td>\n",
       "    </tr>\n",
       "  </tbody>\n",
       "</table>\n",
       "<p>361 rows × 12 columns</p>\n",
       "</div>"
      ],
      "text/plain": [
       "         brokered_by    status       price   bed  bath   acre_lot     street  \\\n",
       "3303         88715.0  for_sale    585000.0   4.0   4.0  100000.00  1930360.0   \n",
       "5263         10554.0  for_sale    150000.0   NaN   NaN   99999.00   595393.0   \n",
       "9189         10560.0  for_sale   5700000.0   NaN   NaN   99999.00  1106245.0   \n",
       "22315        76006.0  for_sale    250000.0   3.0   3.0   18817.00  1670131.0   \n",
       "26954        42180.0  for_sale    319000.0   3.0   1.0   13697.00  1407338.0   \n",
       "...              ...       ...         ...   ...   ...        ...        ...   \n",
       "2121326      99588.0      sold    685000.0  12.0   8.0   10454.00  1035173.0   \n",
       "2123142      53081.0      sold    399000.0   3.0   2.0   39077.00  1250202.0   \n",
       "2123611      65227.0      sold    589000.0   NaN   NaN   14733.00   669875.0   \n",
       "2175102      65337.0      sold    138000.0   NaN   NaN   43996.00   547688.0   \n",
       "2190442      18836.0      sold  15550000.0   2.0   1.0   28274.29  1227775.0   \n",
       "\n",
       "                 city         state  zip_code  house_size prev_sold_date  \n",
       "3303         San Juan   Puerto Rico     926.0      3300.0            nan  \n",
       "5263         Simsbury   Connecticut    6070.0         NaN            nan  \n",
       "9189       Middletown   Connecticut    6457.0     99999.0            nan  \n",
       "22315    Narragansett  Rhode Island    2882.0      1532.0     2020-09-14  \n",
       "26954        Portland         Maine    4108.0       992.0            nan  \n",
       "...               ...           ...       ...         ...            ...  \n",
       "2121326   Bakersfield    California   93313.0      4597.0     2021-11-23  \n",
       "2123142   Quartz Hill    California   93536.0      1239.0     2022-04-12  \n",
       "2123611     Tehachapi    California   93561.0      3360.0     2022-04-25  \n",
       "2175102  Grass Valley    California   95949.0         NaN     2022-04-01  \n",
       "2190442       Ashwood        Oregon   97711.0      2330.0     2021-12-22  \n",
       "\n",
       "[361 rows x 12 columns]"
      ]
     },
     "execution_count": 57,
     "metadata": {},
     "output_type": "execute_result"
    }
   ],
   "source": [
    "df_big_acre"
   ]
  },
  {
   "cell_type": "markdown",
   "id": "c145750e",
   "metadata": {},
   "source": [
    "### only small amount (361) with such big acre_lot, I will use median to impute as well (instead of mean)"
   ]
  },
  {
   "cell_type": "markdown",
   "id": "6ce9c612",
   "metadata": {},
   "source": [
    "## impute  median for 'price', 'zip', 'acre_lot', & 'street'.  For all others impute mean?  "
   ]
  },
  {
   "cell_type": "code",
   "execution_count": 60,
   "id": "aeb370d8",
   "metadata": {},
   "outputs": [
    {
     "data": {
      "text/plain": [
       "325000.0"
      ]
     },
     "execution_count": 60,
     "metadata": {},
     "output_type": "execute_result"
    }
   ],
   "source": [
    "#find median first\n",
    "df_clean['price'].median()"
   ]
  },
  {
   "cell_type": "code",
   "execution_count": 62,
   "id": "ae239a5f",
   "metadata": {},
   "outputs": [
    {
     "name": "stderr",
     "output_type": "stream",
     "text": [
      "/var/folders/fb/2jrdrrb52mv7jbhxt0nbx_740000gn/T/ipykernel_20120/1482927526.py:1: SettingWithCopyWarning: \n",
      "A value is trying to be set on a copy of a slice from a DataFrame\n",
      "\n",
      "See the caveats in the documentation: https://pandas.pydata.org/pandas-docs/stable/user_guide/indexing.html#returning-a-view-versus-a-copy\n",
      "  df_clean['price'].fillna(325000.0, inplace=True)\n"
     ]
    }
   ],
   "source": [
    "#impute mean price in all NaN values \n",
    "df_clean['price'].fillna(325000.0, inplace=True)"
   ]
  },
  {
   "cell_type": "code",
   "execution_count": 65,
   "id": "19dccda7",
   "metadata": {},
   "outputs": [
    {
     "data": {
      "text/plain": [
       "48433.0"
      ]
     },
     "execution_count": 65,
     "metadata": {},
     "output_type": "execute_result"
    }
   ],
   "source": [
    "#find median of zip\n",
    "df_clean['zip_code'].median()"
   ]
  },
  {
   "cell_type": "code",
   "execution_count": 67,
   "id": "67e3403c",
   "metadata": {},
   "outputs": [
    {
     "name": "stderr",
     "output_type": "stream",
     "text": [
      "/var/folders/fb/2jrdrrb52mv7jbhxt0nbx_740000gn/T/ipykernel_20120/303787387.py:2: SettingWithCopyWarning: \n",
      "A value is trying to be set on a copy of a slice from a DataFrame\n",
      "\n",
      "See the caveats in the documentation: https://pandas.pydata.org/pandas-docs/stable/user_guide/indexing.html#returning-a-view-versus-a-copy\n",
      "  df_clean['zip_code'].fillna(48433.0, inplace=True)\n"
     ]
    }
   ],
   "source": [
    "#impute median zip_code in all NaN values\n",
    "df_clean['zip_code'].fillna(48433.0, inplace=True)"
   ]
  },
  {
   "cell_type": "code",
   "execution_count": 69,
   "id": "5206ff80",
   "metadata": {},
   "outputs": [
    {
     "data": {
      "text/plain": [
       "0.26"
      ]
     },
     "execution_count": 69,
     "metadata": {},
     "output_type": "execute_result"
    }
   ],
   "source": [
    "#find median for acre_lot\n",
    "df_clean['acre_lot'].median()"
   ]
  },
  {
   "cell_type": "code",
   "execution_count": 70,
   "id": "630cdf70",
   "metadata": {},
   "outputs": [
    {
     "name": "stderr",
     "output_type": "stream",
     "text": [
      "/var/folders/fb/2jrdrrb52mv7jbhxt0nbx_740000gn/T/ipykernel_20120/1778491911.py:2: SettingWithCopyWarning: \n",
      "A value is trying to be set on a copy of a slice from a DataFrame\n",
      "\n",
      "See the caveats in the documentation: https://pandas.pydata.org/pandas-docs/stable/user_guide/indexing.html#returning-a-view-versus-a-copy\n",
      "  df_clean['acre_lot'].fillna(.26, inplace=True)\n"
     ]
    }
   ],
   "source": [
    "#impute median of acre_lot in all NaN values\n",
    "df_clean['acre_lot'].fillna(.26, inplace=True)"
   ]
  },
  {
   "cell_type": "code",
   "execution_count": 74,
   "id": "8c2e8698",
   "metadata": {},
   "outputs": [
    {
     "data": {
      "text/plain": [
       "1012986.5"
      ]
     },
     "execution_count": 74,
     "metadata": {},
     "output_type": "execute_result"
    }
   ],
   "source": [
    "#find median of street\n",
    "df_clean['street'].median()"
   ]
  },
  {
   "cell_type": "code",
   "execution_count": 75,
   "id": "989ec1d1",
   "metadata": {},
   "outputs": [
    {
     "name": "stderr",
     "output_type": "stream",
     "text": [
      "/var/folders/fb/2jrdrrb52mv7jbhxt0nbx_740000gn/T/ipykernel_20120/31305090.py:2: SettingWithCopyWarning: \n",
      "A value is trying to be set on a copy of a slice from a DataFrame\n",
      "\n",
      "See the caveats in the documentation: https://pandas.pydata.org/pandas-docs/stable/user_guide/indexing.html#returning-a-view-versus-a-copy\n",
      "  df_clean['street'].fillna(1012986.5, inplace=True)\n"
     ]
    }
   ],
   "source": [
    "#impute median of street in all NaN values\n",
    "df_clean['street'].fillna(1012986.5, inplace=True)"
   ]
  },
  {
   "cell_type": "markdown",
   "id": "f75a62b5",
   "metadata": {},
   "source": [
    "## impute mean now for all Nans in 'bed', 'bath', & 'house_size'"
   ]
  },
  {
   "cell_type": "code",
   "execution_count": 71,
   "id": "3ed54165",
   "metadata": {},
   "outputs": [
    {
     "name": "stderr",
     "output_type": "stream",
     "text": [
      "/var/folders/fb/2jrdrrb52mv7jbhxt0nbx_740000gn/T/ipykernel_20120/1568750744.py:2: SettingWithCopyWarning: \n",
      "A value is trying to be set on a copy of a slice from a DataFrame\n",
      "\n",
      "See the caveats in the documentation: https://pandas.pydata.org/pandas-docs/stable/user_guide/indexing.html#returning-a-view-versus-a-copy\n",
      "  df_clean['bed'].fillna(3.275919, inplace=True)\n"
     ]
    }
   ],
   "source": [
    "#impute mean for bed\n",
    "df_clean['bed'].fillna(3.275919, inplace=True)"
   ]
  },
  {
   "cell_type": "code",
   "execution_count": 72,
   "id": "cb1245ca",
   "metadata": {},
   "outputs": [
    {
     "name": "stderr",
     "output_type": "stream",
     "text": [
      "/var/folders/fb/2jrdrrb52mv7jbhxt0nbx_740000gn/T/ipykernel_20120/3446227760.py:2: SettingWithCopyWarning: \n",
      "A value is trying to be set on a copy of a slice from a DataFrame\n",
      "\n",
      "See the caveats in the documentation: https://pandas.pydata.org/pandas-docs/stable/user_guide/indexing.html#returning-a-view-versus-a-copy\n",
      "  df_clean['bath'].fillna(2.496373, inplace=True)\n"
     ]
    }
   ],
   "source": [
    "#impute mean for bath\n",
    "df_clean['bath'].fillna(2.496373, inplace=True)"
   ]
  },
  {
   "cell_type": "code",
   "execution_count": 73,
   "id": "84b65b8b",
   "metadata": {},
   "outputs": [
    {
     "name": "stderr",
     "output_type": "stream",
     "text": [
      "/var/folders/fb/2jrdrrb52mv7jbhxt0nbx_740000gn/T/ipykernel_20120/1133291821.py:2: SettingWithCopyWarning: \n",
      "A value is trying to be set on a copy of a slice from a DataFrame\n",
      "\n",
      "See the caveats in the documentation: https://pandas.pydata.org/pandas-docs/stable/user_guide/indexing.html#returning-a-view-versus-a-copy\n",
      "  df_clean['house_size'].fillna(2.715133e+03 , inplace=True)\n"
     ]
    }
   ],
   "source": [
    "#impute mean for house_size\n",
    "df_clean['house_size'].fillna(2.715133e+03 , inplace=True)"
   ]
  },
  {
   "cell_type": "markdown",
   "id": "39723fce",
   "metadata": {},
   "source": [
    "## Re-check NaNs in df_clean dataset to make sure imputed correctly "
   ]
  },
  {
   "cell_type": "code",
   "execution_count": 76,
   "id": "98e6d284",
   "metadata": {},
   "outputs": [
    {
     "data": {
      "text/plain": [
       "brokered_by       0\n",
       "status            0\n",
       "price             0\n",
       "bed               0\n",
       "bath              0\n",
       "acre_lot          0\n",
       "street            0\n",
       "city              0\n",
       "state             0\n",
       "zip_code          0\n",
       "house_size        0\n",
       "prev_sold_date    0\n",
       "dtype: int64"
      ]
     },
     "execution_count": 76,
     "metadata": {},
     "output_type": "execute_result"
    }
   ],
   "source": [
    "df_clean.isnull().sum()"
   ]
  },
  {
   "cell_type": "markdown",
   "id": "8050a5ad",
   "metadata": {},
   "source": [
    "## looks good since only 0s have been returned - meaning no missing values found"
   ]
  },
  {
   "cell_type": "markdown",
   "id": "a51ae68d",
   "metadata": {},
   "source": [
    "## 02 c) Find and Address Duplicates"
   ]
  },
  {
   "cell_type": "code",
   "execution_count": 77,
   "id": "87c709e8",
   "metadata": {},
   "outputs": [],
   "source": [
    "#find full duplicates in dataframe (repeated across entire row)\n",
    "df_dups = df_clean[df_clean.duplicated()]"
   ]
  },
  {
   "cell_type": "code",
   "execution_count": 78,
   "id": "7d9d9c72",
   "metadata": {},
   "outputs": [
    {
     "data": {
      "text/html": [
       "<div>\n",
       "<style scoped>\n",
       "    .dataframe tbody tr th:only-of-type {\n",
       "        vertical-align: middle;\n",
       "    }\n",
       "\n",
       "    .dataframe tbody tr th {\n",
       "        vertical-align: top;\n",
       "    }\n",
       "\n",
       "    .dataframe thead th {\n",
       "        text-align: right;\n",
       "    }\n",
       "</style>\n",
       "<table border=\"1\" class=\"dataframe\">\n",
       "  <thead>\n",
       "    <tr style=\"text-align: right;\">\n",
       "      <th></th>\n",
       "      <th>brokered_by</th>\n",
       "      <th>status</th>\n",
       "      <th>price</th>\n",
       "      <th>bed</th>\n",
       "      <th>bath</th>\n",
       "      <th>acre_lot</th>\n",
       "      <th>street</th>\n",
       "      <th>city</th>\n",
       "      <th>state</th>\n",
       "      <th>zip_code</th>\n",
       "      <th>house_size</th>\n",
       "      <th>prev_sold_date</th>\n",
       "    </tr>\n",
       "  </thead>\n",
       "  <tbody>\n",
       "    <tr>\n",
       "      <th>978216</th>\n",
       "      <td>96698.0</td>\n",
       "      <td>for_sale</td>\n",
       "      <td>61900.0</td>\n",
       "      <td>3.275919</td>\n",
       "      <td>2.496373</td>\n",
       "      <td>0.26</td>\n",
       "      <td>1840867.0</td>\n",
       "      <td>Hot Springs</td>\n",
       "      <td>Arkansas</td>\n",
       "      <td>71901.0</td>\n",
       "      <td>2715.133</td>\n",
       "      <td>nan</td>\n",
       "    </tr>\n",
       "    <tr>\n",
       "      <th>978245</th>\n",
       "      <td>96698.0</td>\n",
       "      <td>for_sale</td>\n",
       "      <td>144900.0</td>\n",
       "      <td>3.275919</td>\n",
       "      <td>2.496373</td>\n",
       "      <td>0.26</td>\n",
       "      <td>1840866.0</td>\n",
       "      <td>Hot Springs</td>\n",
       "      <td>Arkansas</td>\n",
       "      <td>71901.0</td>\n",
       "      <td>2715.133</td>\n",
       "      <td>nan</td>\n",
       "    </tr>\n",
       "    <tr>\n",
       "      <th>981925</th>\n",
       "      <td>54857.0</td>\n",
       "      <td>for_sale</td>\n",
       "      <td>26500.0</td>\n",
       "      <td>3.275919</td>\n",
       "      <td>2.496373</td>\n",
       "      <td>0.26</td>\n",
       "      <td>1012986.5</td>\n",
       "      <td>Lonoke</td>\n",
       "      <td>Arkansas</td>\n",
       "      <td>72086.0</td>\n",
       "      <td>2715.133</td>\n",
       "      <td>nan</td>\n",
       "    </tr>\n",
       "  </tbody>\n",
       "</table>\n",
       "</div>"
      ],
      "text/plain": [
       "        brokered_by    status     price       bed      bath  acre_lot  \\\n",
       "978216      96698.0  for_sale   61900.0  3.275919  2.496373      0.26   \n",
       "978245      96698.0  for_sale  144900.0  3.275919  2.496373      0.26   \n",
       "981925      54857.0  for_sale   26500.0  3.275919  2.496373      0.26   \n",
       "\n",
       "           street         city     state  zip_code  house_size prev_sold_date  \n",
       "978216  1840867.0  Hot Springs  Arkansas   71901.0    2715.133            nan  \n",
       "978245  1840866.0  Hot Springs  Arkansas   71901.0    2715.133            nan  \n",
       "981925  1012986.5       Lonoke  Arkansas   72086.0    2715.133            nan  "
      ]
     },
     "execution_count": 78,
     "metadata": {},
     "output_type": "execute_result"
    }
   ],
   "source": [
    "df_dups"
   ]
  },
  {
   "cell_type": "code",
   "execution_count": 79,
   "id": "627cdc93",
   "metadata": {},
   "outputs": [
    {
     "data": {
      "text/plain": [
       "(2221849, 12)"
      ]
     },
     "execution_count": 79,
     "metadata": {},
     "output_type": "execute_result"
    }
   ],
   "source": [
    "#check the shape prior to removing duplicates\n",
    "df_clean.shape"
   ]
  },
  {
   "cell_type": "code",
   "execution_count": 80,
   "id": "6fbda7f2",
   "metadata": {},
   "outputs": [],
   "source": [
    "#create a dataframe first that doesn't include duplicates\n",
    "df_clean_no_dups = df_clean.drop_duplicates()"
   ]
  },
  {
   "cell_type": "code",
   "execution_count": 82,
   "id": "9cc46995",
   "metadata": {},
   "outputs": [
    {
     "data": {
      "text/plain": [
       "(2221846, 12)"
      ]
     },
     "execution_count": 82,
     "metadata": {},
     "output_type": "execute_result"
    }
   ],
   "source": [
    "#check shape of this new dataframe to compare above (should have 3 less to account for 3 duplicates removed)\n",
    "df_clean_no_dups.shape"
   ]
  },
  {
   "cell_type": "markdown",
   "id": "f8e4889f",
   "metadata": {},
   "source": [
    "# 03 Export cleaned dataset"
   ]
  },
  {
   "cell_type": "code",
   "execution_count": 84,
   "id": "784daadb",
   "metadata": {},
   "outputs": [],
   "source": [
    "df_clean_no_dups.to_csv(os.path.join(path,'Prepared Data', 're_clean.csv'))"
   ]
  },
  {
   "cell_type": "code",
   "execution_count": null,
   "id": "692a8e29",
   "metadata": {},
   "outputs": [],
   "source": []
  }
 ],
 "metadata": {
  "kernelspec": {
   "display_name": "Python 3 (ipykernel)",
   "language": "python",
   "name": "python3"
  },
  "language_info": {
   "codemirror_mode": {
    "name": "ipython",
    "version": 3
   },
   "file_extension": ".py",
   "mimetype": "text/x-python",
   "name": "python",
   "nbconvert_exporter": "python",
   "pygments_lexer": "ipython3",
   "version": "3.11.7"
  }
 },
 "nbformat": 4,
 "nbformat_minor": 5
}
