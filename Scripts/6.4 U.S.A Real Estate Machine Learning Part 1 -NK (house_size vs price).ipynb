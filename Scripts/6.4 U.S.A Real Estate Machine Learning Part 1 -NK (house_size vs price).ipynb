{
 "cells": [
  {
   "cell_type": "markdown",
   "id": "24424815",
   "metadata": {},
   "source": [
    "# 6.4 U.S.A Real Estate Machine Learning Part 1 -NK (house_size vs price)"
   ]
  },
  {
   "cell_type": "markdown",
   "id": "4882583d",
   "metadata": {},
   "source": [
    "This script contains the following:\n",
    "1. Importing libraries and data\n",
    "2. Data cleaning\n",
    "3. Data prep for regression analysis\n",
    "4. Regression analysis"
   ]
  },
  {
   "cell_type": "markdown",
   "id": "d209f303",
   "metadata": {},
   "source": [
    "## 1. Importing libraries and data"
   ]
  },
  {
   "cell_type": "code",
   "execution_count": 1,
   "id": "4cbbb0cc",
   "metadata": {},
   "outputs": [],
   "source": [
    "import pandas as pd\n",
    "import numpy as np\n",
    "import seaborn as sns\n",
    "import matplotlib\n",
    "import matplotlib.pyplot as plt\n",
    "import os\n",
    "import sklearn\n",
    "from sklearn.model_selection import train_test_split \n",
    "from sklearn.linear_model import LinearRegression\n",
    "from sklearn.metrics import mean_squared_error, r2_score"
   ]
  },
  {
   "cell_type": "code",
   "execution_count": 2,
   "id": "dcade265",
   "metadata": {},
   "outputs": [],
   "source": [
    "# This option ensures that the graphs you create are displayed within the notebook without the need to \"call\" them specifically.\n",
    "\n",
    "%matplotlib inline"
   ]
  },
  {
   "cell_type": "code",
   "execution_count": 3,
   "id": "0de16fde",
   "metadata": {},
   "outputs": [],
   "source": [
    "path = r'/Users/nancykray/Desktop/Real Estate Project'"
   ]
  },
  {
   "cell_type": "code",
   "execution_count": 4,
   "id": "1a7d8cf0",
   "metadata": {},
   "outputs": [],
   "source": [
    "df = pd.read_pickle(os.path.join(path, 'Prepared Data', 'df_clean6.pkl'))"
   ]
  },
  {
   "cell_type": "code",
   "execution_count": 5,
   "id": "380d3756",
   "metadata": {},
   "outputs": [
    {
     "data": {
      "text/plain": [
       "Index(['brokered_by', 'status', 'price', 'bed', 'bath', 'acre_lot', 'street',\n",
       "       'city', 'state', 'zip_code', 'house_size', 'prev_sold_date',\n",
       "       'Price category'],\n",
       "      dtype='object')"
      ]
     },
     "execution_count": 5,
     "metadata": {},
     "output_type": "execute_result"
    }
   ],
   "source": [
    "df.columns"
   ]
  },
  {
   "cell_type": "code",
   "execution_count": 6,
   "id": "46974eae",
   "metadata": {},
   "outputs": [
    {
     "data": {
      "text/html": [
       "<div>\n",
       "<style scoped>\n",
       "    .dataframe tbody tr th:only-of-type {\n",
       "        vertical-align: middle;\n",
       "    }\n",
       "\n",
       "    .dataframe tbody tr th {\n",
       "        vertical-align: top;\n",
       "    }\n",
       "\n",
       "    .dataframe thead th {\n",
       "        text-align: right;\n",
       "    }\n",
       "</style>\n",
       "<table border=\"1\" class=\"dataframe\">\n",
       "  <thead>\n",
       "    <tr style=\"text-align: right;\">\n",
       "      <th></th>\n",
       "      <th>brokered_by</th>\n",
       "      <th>status</th>\n",
       "      <th>price</th>\n",
       "      <th>bed</th>\n",
       "      <th>bath</th>\n",
       "      <th>acre_lot</th>\n",
       "      <th>street</th>\n",
       "      <th>city</th>\n",
       "      <th>state</th>\n",
       "      <th>zip_code</th>\n",
       "      <th>house_size</th>\n",
       "      <th>prev_sold_date</th>\n",
       "      <th>Price category</th>\n",
       "    </tr>\n",
       "  </thead>\n",
       "  <tbody>\n",
       "    <tr>\n",
       "      <th>0</th>\n",
       "      <td>103378.0</td>\n",
       "      <td>for_sale</td>\n",
       "      <td>105000.0</td>\n",
       "      <td>3.0</td>\n",
       "      <td>2.0</td>\n",
       "      <td>0.12</td>\n",
       "      <td>1962661.0</td>\n",
       "      <td>Adjuntas</td>\n",
       "      <td>Puerto Rico</td>\n",
       "      <td>601.0</td>\n",
       "      <td>920.000</td>\n",
       "      <td>0</td>\n",
       "      <td>Middle price</td>\n",
       "    </tr>\n",
       "    <tr>\n",
       "      <th>1</th>\n",
       "      <td>52707.0</td>\n",
       "      <td>for_sale</td>\n",
       "      <td>80000.0</td>\n",
       "      <td>4.0</td>\n",
       "      <td>2.0</td>\n",
       "      <td>0.08</td>\n",
       "      <td>1902874.0</td>\n",
       "      <td>Adjuntas</td>\n",
       "      <td>Puerto Rico</td>\n",
       "      <td>601.0</td>\n",
       "      <td>1527.000</td>\n",
       "      <td>0</td>\n",
       "      <td>Low price</td>\n",
       "    </tr>\n",
       "    <tr>\n",
       "      <th>2</th>\n",
       "      <td>103379.0</td>\n",
       "      <td>for_sale</td>\n",
       "      <td>67000.0</td>\n",
       "      <td>2.0</td>\n",
       "      <td>1.0</td>\n",
       "      <td>0.15</td>\n",
       "      <td>1404990.0</td>\n",
       "      <td>Juana Diaz</td>\n",
       "      <td>Puerto Rico</td>\n",
       "      <td>795.0</td>\n",
       "      <td>748.000</td>\n",
       "      <td>0</td>\n",
       "      <td>Low price</td>\n",
       "    </tr>\n",
       "    <tr>\n",
       "      <th>3</th>\n",
       "      <td>31239.0</td>\n",
       "      <td>for_sale</td>\n",
       "      <td>145000.0</td>\n",
       "      <td>4.0</td>\n",
       "      <td>2.0</td>\n",
       "      <td>0.10</td>\n",
       "      <td>1947675.0</td>\n",
       "      <td>Ponce</td>\n",
       "      <td>Puerto Rico</td>\n",
       "      <td>731.0</td>\n",
       "      <td>1800.000</td>\n",
       "      <td>0</td>\n",
       "      <td>Middle price</td>\n",
       "    </tr>\n",
       "    <tr>\n",
       "      <th>4</th>\n",
       "      <td>34632.0</td>\n",
       "      <td>for_sale</td>\n",
       "      <td>65000.0</td>\n",
       "      <td>6.0</td>\n",
       "      <td>2.0</td>\n",
       "      <td>0.05</td>\n",
       "      <td>331151.0</td>\n",
       "      <td>Mayaguez</td>\n",
       "      <td>Puerto Rico</td>\n",
       "      <td>680.0</td>\n",
       "      <td>2715.133</td>\n",
       "      <td>0</td>\n",
       "      <td>Low price</td>\n",
       "    </tr>\n",
       "  </tbody>\n",
       "</table>\n",
       "</div>"
      ],
      "text/plain": [
       "   brokered_by    status     price  bed  bath  acre_lot     street  \\\n",
       "0     103378.0  for_sale  105000.0  3.0   2.0      0.12  1962661.0   \n",
       "1      52707.0  for_sale   80000.0  4.0   2.0      0.08  1902874.0   \n",
       "2     103379.0  for_sale   67000.0  2.0   1.0      0.15  1404990.0   \n",
       "3      31239.0  for_sale  145000.0  4.0   2.0      0.10  1947675.0   \n",
       "4      34632.0  for_sale   65000.0  6.0   2.0      0.05   331151.0   \n",
       "\n",
       "         city        state  zip_code  house_size prev_sold_date Price category  \n",
       "0    Adjuntas  Puerto Rico     601.0     920.000              0   Middle price  \n",
       "1    Adjuntas  Puerto Rico     601.0    1527.000              0      Low price  \n",
       "2  Juana Diaz  Puerto Rico     795.0     748.000              0      Low price  \n",
       "3       Ponce  Puerto Rico     731.0    1800.000              0   Middle price  \n",
       "4    Mayaguez  Puerto Rico     680.0    2715.133              0      Low price  "
      ]
     },
     "execution_count": 6,
     "metadata": {},
     "output_type": "execute_result"
    }
   ],
   "source": [
    "df.head()"
   ]
  },
  {
   "cell_type": "code",
   "execution_count": 7,
   "id": "0abb0f25",
   "metadata": {},
   "outputs": [
    {
     "data": {
      "text/plain": [
       "(2217918, 13)"
      ]
     },
     "execution_count": 7,
     "metadata": {},
     "output_type": "execute_result"
    }
   ],
   "source": [
    "df.shape"
   ]
  },
  {
   "cell_type": "markdown",
   "id": "7d4ca421",
   "metadata": {},
   "source": [
    "#### Missing Values Check\n"
   ]
  },
  {
   "cell_type": "code",
   "execution_count": 8,
   "id": "c8b60336",
   "metadata": {},
   "outputs": [
    {
     "data": {
      "text/plain": [
       "brokered_by       0\n",
       "status            0\n",
       "price             0\n",
       "bed               0\n",
       "bath              0\n",
       "acre_lot          0\n",
       "street            0\n",
       "city              0\n",
       "state             0\n",
       "zip_code          0\n",
       "house_size        0\n",
       "prev_sold_date    0\n",
       "Price category    0\n",
       "dtype: int64"
      ]
     },
     "execution_count": 8,
     "metadata": {},
     "output_type": "execute_result"
    }
   ],
   "source": [
    "# Check for missing values\n",
    "\n",
    "df.isnull().sum()\n",
    "\n",
    "# No missing values to handle"
   ]
  },
  {
   "cell_type": "markdown",
   "id": "9b6d45bf",
   "metadata": {},
   "source": [
    "#### Dulicates check"
   ]
  },
  {
   "cell_type": "code",
   "execution_count": 9,
   "id": "4df61b69",
   "metadata": {},
   "outputs": [],
   "source": [
    "dups = df.duplicated()"
   ]
  },
  {
   "cell_type": "code",
   "execution_count": 10,
   "id": "4e24b3d8",
   "metadata": {},
   "outputs": [
    {
     "data": {
      "text/plain": [
       "(2217918,)"
      ]
     },
     "execution_count": 10,
     "metadata": {},
     "output_type": "execute_result"
    }
   ],
   "source": [
    "dups.shape # No dups"
   ]
  },
  {
   "cell_type": "markdown",
   "id": "82b77722",
   "metadata": {},
   "source": [
    "#### Extreme Values Check"
   ]
  },
  {
   "cell_type": "code",
   "execution_count": 11,
   "id": "a9e91f79",
   "metadata": {},
   "outputs": [
    {
     "name": "stderr",
     "output_type": "stream",
     "text": [
      "/var/folders/fb/2jrdrrb52mv7jbhxt0nbx_740000gn/T/ipykernel_28113/4193563185.py:1: UserWarning: \n",
      "\n",
      "`distplot` is a deprecated function and will be removed in seaborn v0.14.0.\n",
      "\n",
      "Please adapt your code to use either `displot` (a figure-level function with\n",
      "similar flexibility) or `histplot` (an axes-level function for histograms).\n",
      "\n",
      "For a guide to updating your code to use the new functions, please see\n",
      "https://gist.github.com/mwaskom/de44147ed2974457ad6372750bbe5751\n",
      "\n",
      "  sns.distplot(df['price'], bins=15) # Shows extreme values\n",
      "/opt/anaconda3/lib/python3.11/site-packages/seaborn/_oldcore.py:1119: FutureWarning: use_inf_as_na option is deprecated and will be removed in a future version. Convert inf values to NaN before operating instead.\n",
      "  with pd.option_context('mode.use_inf_as_na', True):\n"
     ]
    },
    {
     "data": {
      "text/plain": [
       "(0.0, 9950000.0)"
      ]
     },
     "execution_count": 11,
     "metadata": {},
     "output_type": "execute_result"
    },
    {
     "data": {
      "image/png": "[encoded data removed]",
      "text/plain": [
       "<Figure size 640x480 with 1 Axes>"
      ]
     },
     "metadata": {},
     "output_type": "display_data"
    }
   ],
   "source": [
    "sns.distplot(df['price'], bins=15) # Shows extreme values\n",
    "plt.xlim([0, 9950000 ]) # set x axis liimits (I added this but doesn't seem to make a difference)\n",
    "\n",
    "# Some of the outliers in the high values may need to be removed, but let's try without doing so first."
   ]
  },
  {
   "cell_type": "code",
   "execution_count": 12,
   "id": "be2d6fad",
   "metadata": {},
   "outputs": [
    {
     "data": {
      "text/plain": [
       "520393.44181488676"
      ]
     },
     "execution_count": 12,
     "metadata": {},
     "output_type": "execute_result"
    }
   ],
   "source": [
    "df['price'].mean() # Check the mean"
   ]
  },
  {
   "cell_type": "code",
   "execution_count": 13,
   "id": "c3c50a08",
   "metadata": {},
   "outputs": [
    {
     "data": {
      "text/plain": [
       "325000.0"
      ]
     },
     "execution_count": 13,
     "metadata": {},
     "output_type": "execute_result"
    }
   ],
   "source": [
    "df['price'].median() # Check the median"
   ]
  },
  {
   "cell_type": "code",
   "execution_count": 14,
   "id": "366e0f78",
   "metadata": {},
   "outputs": [
    {
     "data": {
      "text/plain": [
       "99500000.0"
      ]
     },
     "execution_count": 14,
     "metadata": {},
     "output_type": "execute_result"
    }
   ],
   "source": [
    "df['price'].max() # Check the max"
   ]
  },
  {
   "cell_type": "code",
   "execution_count": 15,
   "id": "93c25e4c",
   "metadata": {},
   "outputs": [
    {
     "data": {
      "text/plain": [
       "1.0"
      ]
     },
     "execution_count": 15,
     "metadata": {},
     "output_type": "execute_result"
    }
   ],
   "source": [
    "df['price'].min()"
   ]
  },
  {
   "cell_type": "markdown",
   "id": "fcc0ca2a",
   "metadata": {},
   "source": [
    "### 3. Data prep for regression analysis "
   ]
  },
  {
   "cell_type": "markdown",
   "id": "7752ef35",
   "metadata": {},
   "source": [
    "### Hypothesis: Properties with bigger house sizes will have higher prices"
   ]
  },
  {
   "cell_type": "code",
   "execution_count": 16,
   "id": "9570836a",
   "metadata": {},
   "outputs": [
    {
     "data": {
      "image/png": "[encoded data removed]",
      "text/plain": [
       "<Figure size 640x480 with 1 Axes>"
      ]
     },
     "metadata": {},
     "output_type": "display_data"
    }
   ],
   "source": [
    "# Create a scatterplot using matplotlib for another look at how the chosen variables plot against each other.\n",
    "\n",
    "df.plot(x = 'house_size', y='price',style='o') # The style option creates a scatterplot; without it, we only have lines.\n",
    "plt.title('house_size vs price')  \n",
    "plt.xlabel('house_size')  \n",
    "plt.ylabel('price')  \n",
    "plt.savefig('firstplot_bed_price.png')\n",
    "plt.show()"
   ]
  },
  {
   "cell_type": "markdown",
   "id": "a9fcab27",
   "metadata": {},
   "source": [
    "THere is an outlier showing large house size.  I will remove this to see a better picture of the data trend.  THis is likely skewing the numbers."
   ]
  },
  {
   "cell_type": "code",
   "execution_count": 17,
   "id": "786412ec",
   "metadata": {},
   "outputs": [
    {
     "data": {
      "text/plain": [
       "count    2.217918e+06\n",
       "mean     2.716077e+03\n",
       "std      6.987233e+05\n",
       "min      4.000000e+00\n",
       "25%      1.456000e+03\n",
       "50%      2.160000e+03\n",
       "75%      2.715133e+03\n",
       "max      1.040400e+09\n",
       "Name: house_size, dtype: float64"
      ]
     },
     "execution_count": 17,
     "metadata": {},
     "output_type": "execute_result"
    }
   ],
   "source": [
    "# first I will look at the stats, specifically the max for house_size\n",
    "df['house_size'].describe()"
   ]
  },
  {
   "cell_type": "code",
   "execution_count": 18,
   "id": "8f4bb751",
   "metadata": {},
   "outputs": [
    {
     "data": {
      "text/html": [
       "<div>\n",
       "<style scoped>\n",
       "    .dataframe tbody tr th:only-of-type {\n",
       "        vertical-align: middle;\n",
       "    }\n",
       "\n",
       "    .dataframe tbody tr th {\n",
       "        vertical-align: top;\n",
       "    }\n",
       "\n",
       "    .dataframe thead th {\n",
       "        text-align: right;\n",
       "    }\n",
       "</style>\n",
       "<table border=\"1\" class=\"dataframe\">\n",
       "  <thead>\n",
       "    <tr style=\"text-align: right;\">\n",
       "      <th></th>\n",
       "      <th>brokered_by</th>\n",
       "      <th>status</th>\n",
       "      <th>price</th>\n",
       "      <th>bed</th>\n",
       "      <th>bath</th>\n",
       "      <th>acre_lot</th>\n",
       "      <th>street</th>\n",
       "      <th>city</th>\n",
       "      <th>state</th>\n",
       "      <th>zip_code</th>\n",
       "      <th>house_size</th>\n",
       "      <th>prev_sold_date</th>\n",
       "      <th>Price category</th>\n",
       "    </tr>\n",
       "  </thead>\n",
       "  <tbody>\n",
       "    <tr>\n",
       "      <th>42</th>\n",
       "      <td>52707.0</td>\n",
       "      <td>for_sale</td>\n",
       "      <td>400000.0</td>\n",
       "      <td>3.275919</td>\n",
       "      <td>2.496373</td>\n",
       "      <td>0.99</td>\n",
       "      <td>1857015.0</td>\n",
       "      <td>Moca</td>\n",
       "      <td>Puerto Rico</td>\n",
       "      <td>676.0</td>\n",
       "      <td>43082.0</td>\n",
       "      <td>0</td>\n",
       "      <td>Middle price</td>\n",
       "    </tr>\n",
       "    <tr>\n",
       "      <th>303</th>\n",
       "      <td>52707.0</td>\n",
       "      <td>for_sale</td>\n",
       "      <td>2500000.0</td>\n",
       "      <td>6.000000</td>\n",
       "      <td>8.000000</td>\n",
       "      <td>9.65</td>\n",
       "      <td>1856949.0</td>\n",
       "      <td>Cabo Rojo</td>\n",
       "      <td>Puerto Rico</td>\n",
       "      <td>623.0</td>\n",
       "      <td>10244.0</td>\n",
       "      <td>0</td>\n",
       "      <td>High price</td>\n",
       "    </tr>\n",
       "    <tr>\n",
       "      <th>346</th>\n",
       "      <td>108122.0</td>\n",
       "      <td>for_sale</td>\n",
       "      <td>435000.0</td>\n",
       "      <td>3.000000</td>\n",
       "      <td>3.000000</td>\n",
       "      <td>0.36</td>\n",
       "      <td>2396.0</td>\n",
       "      <td>Sabana Grande</td>\n",
       "      <td>Puerto Rico</td>\n",
       "      <td>637.0</td>\n",
       "      <td>20132.0</td>\n",
       "      <td>0</td>\n",
       "      <td>Middle price</td>\n",
       "    </tr>\n",
       "    <tr>\n",
       "      <th>372</th>\n",
       "      <td>62210.0</td>\n",
       "      <td>for_sale</td>\n",
       "      <td>108000.0</td>\n",
       "      <td>4.000000</td>\n",
       "      <td>1.000000</td>\n",
       "      <td>0.94</td>\n",
       "      <td>1670695.0</td>\n",
       "      <td>Utuado</td>\n",
       "      <td>Puerto Rico</td>\n",
       "      <td>641.0</td>\n",
       "      <td>13818.0</td>\n",
       "      <td>0</td>\n",
       "      <td>Middle price</td>\n",
       "    </tr>\n",
       "    <tr>\n",
       "      <th>705</th>\n",
       "      <td>61834.0</td>\n",
       "      <td>for_sale</td>\n",
       "      <td>400000.0</td>\n",
       "      <td>7.000000</td>\n",
       "      <td>4.000000</td>\n",
       "      <td>0.39</td>\n",
       "      <td>82996.0</td>\n",
       "      <td>Mayaguez</td>\n",
       "      <td>Puerto Rico</td>\n",
       "      <td>682.0</td>\n",
       "      <td>17198.0</td>\n",
       "      <td>0</td>\n",
       "      <td>Middle price</td>\n",
       "    </tr>\n",
       "    <tr>\n",
       "      <th>...</th>\n",
       "      <td>...</td>\n",
       "      <td>...</td>\n",
       "      <td>...</td>\n",
       "      <td>...</td>\n",
       "      <td>...</td>\n",
       "      <td>...</td>\n",
       "      <td>...</td>\n",
       "      <td>...</td>\n",
       "      <td>...</td>\n",
       "      <td>...</td>\n",
       "      <td>...</td>\n",
       "      <td>...</td>\n",
       "      <td>...</td>\n",
       "    </tr>\n",
       "    <tr>\n",
       "      <th>2209923</th>\n",
       "      <td>78942.0</td>\n",
       "      <td>sold</td>\n",
       "      <td>6150000.0</td>\n",
       "      <td>3.275919</td>\n",
       "      <td>2.496373</td>\n",
       "      <td>5.60</td>\n",
       "      <td>1334464.0</td>\n",
       "      <td>Olympia</td>\n",
       "      <td>Washington</td>\n",
       "      <td>98513.0</td>\n",
       "      <td>32950.0</td>\n",
       "      <td>2022-03-14</td>\n",
       "      <td>High price</td>\n",
       "    </tr>\n",
       "    <tr>\n",
       "      <th>2214145</th>\n",
       "      <td>98644.0</td>\n",
       "      <td>sold</td>\n",
       "      <td>1625000.0</td>\n",
       "      <td>3.000000</td>\n",
       "      <td>4.000000</td>\n",
       "      <td>1.21</td>\n",
       "      <td>1752402.0</td>\n",
       "      <td>Castle Rock</td>\n",
       "      <td>Washington</td>\n",
       "      <td>98611.0</td>\n",
       "      <td>16749.0</td>\n",
       "      <td>2021-12-08</td>\n",
       "      <td>High price</td>\n",
       "    </tr>\n",
       "    <tr>\n",
       "      <th>2216555</th>\n",
       "      <td>108337.0</td>\n",
       "      <td>sold</td>\n",
       "      <td>3950000.0</td>\n",
       "      <td>8.000000</td>\n",
       "      <td>8.000000</td>\n",
       "      <td>201.40</td>\n",
       "      <td>1016017.0</td>\n",
       "      <td>Cle Elum</td>\n",
       "      <td>Washington</td>\n",
       "      <td>98922.0</td>\n",
       "      <td>10094.0</td>\n",
       "      <td>2022-04-04</td>\n",
       "      <td>High price</td>\n",
       "    </tr>\n",
       "    <tr>\n",
       "      <th>2221460</th>\n",
       "      <td>85499.0</td>\n",
       "      <td>sold</td>\n",
       "      <td>3750000.0</td>\n",
       "      <td>7.000000</td>\n",
       "      <td>13.000000</td>\n",
       "      <td>5.99</td>\n",
       "      <td>32348.0</td>\n",
       "      <td>Kennewick</td>\n",
       "      <td>Washington</td>\n",
       "      <td>99338.0</td>\n",
       "      <td>21200.0</td>\n",
       "      <td>2022-01-31</td>\n",
       "      <td>High price</td>\n",
       "    </tr>\n",
       "    <tr>\n",
       "      <th>2221581</th>\n",
       "      <td>109603.0</td>\n",
       "      <td>sold</td>\n",
       "      <td>1950000.0</td>\n",
       "      <td>4.000000</td>\n",
       "      <td>2.000000</td>\n",
       "      <td>1.15</td>\n",
       "      <td>489736.0</td>\n",
       "      <td>Kennewick</td>\n",
       "      <td>Washington</td>\n",
       "      <td>99336.0</td>\n",
       "      <td>21402.0</td>\n",
       "      <td>2022-02-28</td>\n",
       "      <td>High price</td>\n",
       "    </tr>\n",
       "  </tbody>\n",
       "</table>\n",
       "<p>4189 rows × 13 columns</p>\n",
       "</div>"
      ],
      "text/plain": [
       "         brokered_by    status      price       bed       bath  acre_lot  \\\n",
       "42           52707.0  for_sale   400000.0  3.275919   2.496373      0.99   \n",
       "303          52707.0  for_sale  2500000.0  6.000000   8.000000      9.65   \n",
       "346         108122.0  for_sale   435000.0  3.000000   3.000000      0.36   \n",
       "372          62210.0  for_sale   108000.0  4.000000   1.000000      0.94   \n",
       "705          61834.0  for_sale   400000.0  7.000000   4.000000      0.39   \n",
       "...              ...       ...        ...       ...        ...       ...   \n",
       "2209923      78942.0      sold  6150000.0  3.275919   2.496373      5.60   \n",
       "2214145      98644.0      sold  1625000.0  3.000000   4.000000      1.21   \n",
       "2216555     108337.0      sold  3950000.0  8.000000   8.000000    201.40   \n",
       "2221460      85499.0      sold  3750000.0  7.000000  13.000000      5.99   \n",
       "2221581     109603.0      sold  1950000.0  4.000000   2.000000      1.15   \n",
       "\n",
       "            street           city        state  zip_code  house_size  \\\n",
       "42       1857015.0           Moca  Puerto Rico     676.0     43082.0   \n",
       "303      1856949.0      Cabo Rojo  Puerto Rico     623.0     10244.0   \n",
       "346         2396.0  Sabana Grande  Puerto Rico     637.0     20132.0   \n",
       "372      1670695.0         Utuado  Puerto Rico     641.0     13818.0   \n",
       "705        82996.0       Mayaguez  Puerto Rico     682.0     17198.0   \n",
       "...            ...            ...          ...       ...         ...   \n",
       "2209923  1334464.0        Olympia   Washington   98513.0     32950.0   \n",
       "2214145  1752402.0    Castle Rock   Washington   98611.0     16749.0   \n",
       "2216555  1016017.0       Cle Elum   Washington   98922.0     10094.0   \n",
       "2221460    32348.0      Kennewick   Washington   99338.0     21200.0   \n",
       "2221581   489736.0      Kennewick   Washington   99336.0     21402.0   \n",
       "\n",
       "        prev_sold_date Price category  \n",
       "42                   0   Middle price  \n",
       "303                  0     High price  \n",
       "346                  0   Middle price  \n",
       "372                  0   Middle price  \n",
       "705                  0   Middle price  \n",
       "...                ...            ...  \n",
       "2209923     2022-03-14     High price  \n",
       "2214145     2021-12-08     High price  \n",
       "2216555     2022-04-04     High price  \n",
       "2221460     2022-01-31     High price  \n",
       "2221581     2022-02-28     High price  \n",
       "\n",
       "[4189 rows x 13 columns]"
      ]
     },
     "execution_count": 18,
     "metadata": {},
     "output_type": "execute_result"
    }
   ],
   "source": [
    "# check how many extreme outliers there are  \n",
    "# this amount chosen assuming 2500 is a standard size,\n",
    "\n",
    "df[df['house_size'] > 10000]"
   ]
  },
  {
   "cell_type": "code",
   "execution_count": 19,
   "id": "581ec9d3",
   "metadata": {},
   "outputs": [],
   "source": [
    "# create a subset with only homes below 10000 to remove these outliers\n",
    "\n",
    "df_2 = df[df['house_size'] <= 10000]"
   ]
  },
  {
   "cell_type": "code",
   "execution_count": 20,
   "id": "b31eb33d",
   "metadata": {},
   "outputs": [
    {
     "data": {
      "text/plain": [
       "(2213729, 13)"
      ]
     },
     "execution_count": 20,
     "metadata": {},
     "output_type": "execute_result"
    }
   ],
   "source": [
    "df_2.shape # original data shape minus this one equals 4189, showing it was done correctly"
   ]
  },
  {
   "cell_type": "markdown",
   "id": "3bed6862",
   "metadata": {},
   "source": [
    "## Let's try it again now with outliers removed"
   ]
  },
  {
   "cell_type": "code",
   "execution_count": 21,
   "id": "e424c410",
   "metadata": {},
   "outputs": [
    {
     "data": {
      "image/png": "[encoded data removed]",
      "text/plain": [
       "<Figure size 640x480 with 1 Axes>"
      ]
     },
     "metadata": {},
     "output_type": "display_data"
    }
   ],
   "source": [
    "# Create a scatterplot using matplotlib for another look at how the chosen variables plot against each other.\n",
    "\n",
    "df_2.plot(x = 'house_size', y='price',style='o') # The style option creates a scatterplot; without it, we only have lines.\n",
    "plt.title('house_size vs price')  \n",
    "plt.xlabel('house_size')  \n",
    "plt.ylabel('price')  \n",
    "plt.savefig('scatter_bed_price.png')\n",
    "plt.show()"
   ]
  },
  {
   "cell_type": "markdown",
   "id": "50888bcd",
   "metadata": {},
   "source": [
    "This is a much more accurate picture of what is to be expected.  Interesting that I see a trend in house_size that lookds to be around the 2500 square foot mark.  This makes sense as this is a standard to large size for a house.  Location is probably affecting the price in these standard size homes (versus the size of the home itelf)."
   ]
  },
  {
   "cell_type": "code",
   "execution_count": 22,
   "id": "6bc67661",
   "metadata": {},
   "outputs": [],
   "source": [
    "# Reshape the variables into NumPy arrays and put them into separate objects.\n",
    "\n",
    "X = df_2['house_size'].values.reshape(-1,1)\n",
    "y = df_2['price'].values.reshape(-1,1)"
   ]
  },
  {
   "cell_type": "code",
   "execution_count": 23,
   "id": "4e9de421",
   "metadata": {},
   "outputs": [
    {
     "data": {
      "text/plain": [
       "array([[ 920.],\n",
       "       [1527.],\n",
       "       [ 748.],\n",
       "       ...,\n",
       "       [3200.],\n",
       "       [ 933.],\n",
       "       [3615.]])"
      ]
     },
     "execution_count": 23,
     "metadata": {},
     "output_type": "execute_result"
    }
   ],
   "source": [
    "X"
   ]
  },
  {
   "cell_type": "code",
   "execution_count": 24,
   "id": "afff564b",
   "metadata": {},
   "outputs": [
    {
     "data": {
      "text/plain": [
       "array([[105000.],\n",
       "       [ 80000.],\n",
       "       [ 67000.],\n",
       "       ...,\n",
       "       [440000.],\n",
       "       [179900.],\n",
       "       [580000.]])"
      ]
     },
     "execution_count": 24,
     "metadata": {},
     "output_type": "execute_result"
    }
   ],
   "source": [
    "y"
   ]
  },
  {
   "cell_type": "code",
   "execution_count": 25,
   "id": "2d0ac237",
   "metadata": {},
   "outputs": [],
   "source": [
    "# Split data into a training set and a test set.\n",
    "\n",
    "X_train, X_test, y_train, y_test = train_test_split(X, y, test_size=0.3, random_state=0)"
   ]
  },
  {
   "cell_type": "markdown",
   "id": "348996d7",
   "metadata": {},
   "source": [
    "### 4. Regression analysis"
   ]
  },
  {
   "cell_type": "code",
   "execution_count": 26,
   "id": "8a44a314",
   "metadata": {},
   "outputs": [],
   "source": [
    "# Create a regression object.\n",
    "\n",
    "regression = LinearRegression()  # This is the regression object, which will be fit onto the training set."
   ]
  },
  {
   "cell_type": "code",
   "execution_count": 27,
   "id": "f643749d",
   "metadata": {},
   "outputs": [
    {
     "data": {
      "text/html": [
       "<style>#sk-container-id-1 {color: black;background-color: white;}#sk-container-id-1 pre{padding: 0;}#sk-container-id-1 div.sk-toggleable {background-color: white;}#sk-container-id-1 label.sk-toggleable__label {cursor: pointer;display: block;width: 100%;margin-bottom: 0;padding: 0.3em;box-sizing: border-box;text-align: center;}#sk-container-id-1 label.sk-toggleable__label-arrow:before {content: \"▸\";float: left;margin-right: 0.25em;color: #696969;}#sk-container-id-1 label.sk-toggleable__label-arrow:hover:before {color: black;}#sk-container-id-1 div.sk-estimator:hover label.sk-toggleable__label-arrow:before {color: black;}#sk-container-id-1 div.sk-toggleable__content {max-height: 0;max-width: 0;overflow: hidden;text-align: left;background-color: #f0f8ff;}#sk-container-id-1 div.sk-toggleable__content pre {margin: 0.2em;color: black;border-radius: 0.25em;background-color: #f0f8ff;}#sk-container-id-1 input.sk-toggleable__control:checked~div.sk-toggleable__content {max-height: 200px;max-width: 100%;overflow: auto;}#sk-container-id-1 input.sk-toggleable__control:checked~label.sk-toggleable__label-arrow:before {content: \"▾\";}#sk-container-id-1 div.sk-estimator input.sk-toggleable__control:checked~label.sk-toggleable__label {background-color: #d4ebff;}#sk-container-id-1 div.sk-label input.sk-toggleable__control:checked~label.sk-toggleable__label {background-color: #d4ebff;}#sk-container-id-1 input.sk-hidden--visually {border: 0;clip: rect(1px 1px 1px 1px);clip: rect(1px, 1px, 1px, 1px);height: 1px;margin: -1px;overflow: hidden;padding: 0;position: absolute;width: 1px;}#sk-container-id-1 div.sk-estimator {font-family: monospace;background-color: #f0f8ff;border: 1px dotted black;border-radius: 0.25em;box-sizing: border-box;margin-bottom: 0.5em;}#sk-container-id-1 div.sk-estimator:hover {background-color: #d4ebff;}#sk-container-id-1 div.sk-parallel-item::after {content: \"\";width: 100%;border-bottom: 1px solid gray;flex-grow: 1;}#sk-container-id-1 div.sk-label:hover label.sk-toggleable__label {background-color: #d4ebff;}#sk-container-id-1 div.sk-serial::before {content: \"\";position: absolute;border-left: 1px solid gray;box-sizing: border-box;top: 0;bottom: 0;left: 50%;z-index: 0;}#sk-container-id-1 div.sk-serial {display: flex;flex-direction: column;align-items: center;background-color: white;padding-right: 0.2em;padding-left: 0.2em;position: relative;}#sk-container-id-1 div.sk-item {position: relative;z-index: 1;}#sk-container-id-1 div.sk-parallel {display: flex;align-items: stretch;justify-content: center;background-color: white;position: relative;}#sk-container-id-1 div.sk-item::before, #sk-container-id-1 div.sk-parallel-item::before {content: \"\";position: absolute;border-left: 1px solid gray;box-sizing: border-box;top: 0;bottom: 0;left: 50%;z-index: -1;}#sk-container-id-1 div.sk-parallel-item {display: flex;flex-direction: column;z-index: 1;position: relative;background-color: white;}#sk-container-id-1 div.sk-parallel-item:first-child::after {align-self: flex-end;width: 50%;}#sk-container-id-1 div.sk-parallel-item:last-child::after {align-self: flex-start;width: 50%;}#sk-container-id-1 div.sk-parallel-item:only-child::after {width: 0;}#sk-container-id-1 div.sk-dashed-wrapped {border: 1px dashed gray;margin: 0 0.4em 0.5em 0.4em;box-sizing: border-box;padding-bottom: 0.4em;background-color: white;}#sk-container-id-1 div.sk-label label {font-family: monospace;font-weight: bold;display: inline-block;line-height: 1.2em;}#sk-container-id-1 div.sk-label-container {text-align: center;}#sk-container-id-1 div.sk-container {/* jupyter's `normalize.less` sets `[hidden] { display: none; }` but bootstrap.min.css set `[hidden] { display: none !important; }` so we also need the `!important` here to be able to override the default hidden behavior on the sphinx rendered scikit-learn.org. See: https://github.com/scikit-learn/scikit-learn/issues/21755 */display: inline-block !important;position: relative;}#sk-container-id-1 div.sk-text-repr-fallback {display: none;}</style><div id=\"sk-container-id-1\" class=\"sk-top-container\"><div class=\"sk-text-repr-fallback\"><pre>LinearRegression()</pre><b>In a Jupyter environment, please rerun this cell to show the HTML representation or trust the notebook. <br />On GitHub, the HTML representation is unable to render, please try loading this page with nbviewer.org.</b></div><div class=\"sk-container\" hidden><div class=\"sk-item\"><div class=\"sk-estimator sk-toggleable\"><input class=\"sk-toggleable__control sk-hidden--visually\" id=\"sk-estimator-id-1\" type=\"checkbox\" checked><label for=\"sk-estimator-id-1\" class=\"sk-toggleable__label sk-toggleable__label-arrow\">LinearRegression</label><div class=\"sk-toggleable__content\"><pre>LinearRegression()</pre></div></div></div></div></div>"
      ],
      "text/plain": [
       "LinearRegression()"
      ]
     },
     "execution_count": 27,
     "metadata": {},
     "output_type": "execute_result"
    }
   ],
   "source": [
    "# Fit the regression object onto the training set.\n",
    "\n",
    "regression.fit(X_train, y_train)"
   ]
  },
  {
   "cell_type": "code",
   "execution_count": 28,
   "id": "37d1a7ff",
   "metadata": {},
   "outputs": [],
   "source": [
    "# Predict the values of y using X.\n",
    "\n",
    "y_predicted = regression.predict(X_test)"
   ]
  },
  {
   "cell_type": "code",
   "execution_count": 29,
   "id": "648e30b1",
   "metadata": {},
   "outputs": [
    {
     "data": {
      "image/png": "[encoded data removed]",
      "text/plain": [
       "<Figure size 640x480 with 1 Axes>"
      ]
     },
     "metadata": {},
     "output_type": "display_data"
    }
   ],
   "source": [
    "# Create a plot that shows the regression line from the model on the test set.\n",
    "\n",
    "plot_test = plt\n",
    "plot_test.scatter(X_test, y_test, color='gray', s = 15)\n",
    "plot_test.plot(X_test, y_predicted, color='red', linewidth =3)\n",
    "plot_test.title('house_size vs price (Test set)')\n",
    "plot_test.xlabel('house_size')\n",
    "plot_test.ylabel('price')\n",
    "plot_test.savefig('test_plot_house_price.png')\n",
    "plot_test.show()"
   ]
  },
  {
   "cell_type": "markdown",
   "id": "08e08667",
   "metadata": {},
   "source": [
    "This line shows the expected trajectory of larger house size, correlating wtih higher price, but it is a low incline due to all of the noise"
   ]
  },
  {
   "cell_type": "code",
   "execution_count": 30,
   "id": "a713c8fd",
   "metadata": {},
   "outputs": [
    {
     "data": {
      "text/plain": [
       "<Figure size 640x480 with 0 Axes>"
      ]
     },
     "metadata": {},
     "output_type": "display_data"
    }
   ],
   "source": [
    "# Save the figure\n",
    "plt.savefig(\"scatter_plot_house_size.png\")"
   ]
  },
  {
   "cell_type": "code",
   "execution_count": 31,
   "id": "3859ba16",
   "metadata": {},
   "outputs": [],
   "source": [
    "# Create objects that contain the model summary statistics.\n",
    "\n",
    "rmse = mean_squared_error(y_test, y_predicted) # This is the mean squared error\n",
    "r2 = r2_score(y_test, y_predicted) # This is the R2 score. "
   ]
  },
  {
   "cell_type": "code",
   "execution_count": 32,
   "id": "35893346",
   "metadata": {},
   "outputs": [
    {
     "name": "stdout",
     "output_type": "stream",
     "text": [
      "Slope: [[309.95246322]]\n",
      "Mean squared error:  969748523249.7866\n",
      "R2 score:  0.08651396755316376\n"
     ]
    }
   ],
   "source": [
    "# Print the model summary statistics. This is where you evaluate the performance of the model.\n",
    "\n",
    "print('Slope:' ,regression.coef_)\n",
    "print('Mean squared error: ', rmse)\n",
    "print('R2 score: ', r2)"
   ]
  },
  {
   "cell_type": "markdown",
   "id": "5aa90101",
   "metadata": {},
   "source": [
    "#### - Positive slope is slight  (as x rises, y rises, meaning as number of bed increases, so does the price)\n",
    "#### - Mean squared error (MSE) doesn't make sense (too large), implicating that this does not have good accuracy\n",
    "#### - R2 score is closer to1han 0, making a good fit"
   ]
  },
  {
   "cell_type": "code",
   "execution_count": 33,
   "id": "c69db248",
   "metadata": {},
   "outputs": [
    {
     "data": {
      "text/plain": [
       "array([[672989.8377918 ],\n",
       "       [399880.49401991],\n",
       "       [714792.19664851],\n",
       "       ...,\n",
       "       [367025.53291889],\n",
       "       [672989.8377918 ],\n",
       "       [672989.8377918 ]])"
      ]
     },
     "execution_count": 33,
     "metadata": {},
     "output_type": "execute_result"
    }
   ],
   "source": [
    "y_predicted"
   ]
  },
  {
   "cell_type": "code",
   "execution_count": 34,
   "id": "c9487900",
   "metadata": {},
   "outputs": [
    {
     "data": {
      "text/html": [
       "<div>\n",
       "<style scoped>\n",
       "    .dataframe tbody tr th:only-of-type {\n",
       "        vertical-align: middle;\n",
       "    }\n",
       "\n",
       "    .dataframe tbody tr th {\n",
       "        vertical-align: top;\n",
       "    }\n",
       "\n",
       "    .dataframe thead th {\n",
       "        text-align: right;\n",
       "    }\n",
       "</style>\n",
       "<table border=\"1\" class=\"dataframe\">\n",
       "  <thead>\n",
       "    <tr style=\"text-align: right;\">\n",
       "      <th></th>\n",
       "      <th>Actual</th>\n",
       "      <th>Predicted</th>\n",
       "    </tr>\n",
       "  </thead>\n",
       "  <tbody>\n",
       "    <tr>\n",
       "      <th>0</th>\n",
       "      <td>185000.0</td>\n",
       "      <td>6.729898e+05</td>\n",
       "    </tr>\n",
       "    <tr>\n",
       "      <th>1</th>\n",
       "      <td>279000.0</td>\n",
       "      <td>3.998805e+05</td>\n",
       "    </tr>\n",
       "    <tr>\n",
       "      <th>2</th>\n",
       "      <td>425000.0</td>\n",
       "      <td>7.147922e+05</td>\n",
       "    </tr>\n",
       "    <tr>\n",
       "      <th>3</th>\n",
       "      <td>1599000.0</td>\n",
       "      <td>6.280055e+05</td>\n",
       "    </tr>\n",
       "    <tr>\n",
       "      <th>4</th>\n",
       "      <td>549000.0</td>\n",
       "      <td>1.045202e+06</td>\n",
       "    </tr>\n",
       "    <tr>\n",
       "      <th>5</th>\n",
       "      <td>490000.0</td>\n",
       "      <td>6.729898e+05</td>\n",
       "    </tr>\n",
       "    <tr>\n",
       "      <th>6</th>\n",
       "      <td>89900.0</td>\n",
       "      <td>1.736152e+05</td>\n",
       "    </tr>\n",
       "    <tr>\n",
       "      <th>7</th>\n",
       "      <td>650000.0</td>\n",
       "      <td>4.835677e+05</td>\n",
       "    </tr>\n",
       "    <tr>\n",
       "      <th>8</th>\n",
       "      <td>525000.0</td>\n",
       "      <td>7.045638e+05</td>\n",
       "    </tr>\n",
       "    <tr>\n",
       "      <th>9</th>\n",
       "      <td>200000.0</td>\n",
       "      <td>6.729898e+05</td>\n",
       "    </tr>\n",
       "    <tr>\n",
       "      <th>10</th>\n",
       "      <td>152900.0</td>\n",
       "      <td>6.729898e+05</td>\n",
       "    </tr>\n",
       "    <tr>\n",
       "      <th>11</th>\n",
       "      <td>109900.0</td>\n",
       "      <td>4.175478e+05</td>\n",
       "    </tr>\n",
       "    <tr>\n",
       "      <th>12</th>\n",
       "      <td>33000.0</td>\n",
       "      <td>6.729898e+05</td>\n",
       "    </tr>\n",
       "    <tr>\n",
       "      <th>13</th>\n",
       "      <td>750000.0</td>\n",
       "      <td>3.639260e+05</td>\n",
       "    </tr>\n",
       "    <tr>\n",
       "      <th>14</th>\n",
       "      <td>208100.0</td>\n",
       "      <td>4.562918e+05</td>\n",
       "    </tr>\n",
       "    <tr>\n",
       "      <th>15</th>\n",
       "      <td>6000.0</td>\n",
       "      <td>6.729898e+05</td>\n",
       "    </tr>\n",
       "    <tr>\n",
       "      <th>16</th>\n",
       "      <td>125000.0</td>\n",
       "      <td>2.480038e+05</td>\n",
       "    </tr>\n",
       "    <tr>\n",
       "      <th>17</th>\n",
       "      <td>395000.0</td>\n",
       "      <td>4.048397e+05</td>\n",
       "    </tr>\n",
       "    <tr>\n",
       "      <th>18</th>\n",
       "      <td>259000.0</td>\n",
       "      <td>4.702397e+05</td>\n",
       "    </tr>\n",
       "    <tr>\n",
       "      <th>19</th>\n",
       "      <td>275000.0</td>\n",
       "      <td>6.729898e+05</td>\n",
       "    </tr>\n",
       "    <tr>\n",
       "      <th>20</th>\n",
       "      <td>89900.0</td>\n",
       "      <td>2.979725e+04</td>\n",
       "    </tr>\n",
       "    <tr>\n",
       "      <th>21</th>\n",
       "      <td>385000.0</td>\n",
       "      <td>1.723754e+05</td>\n",
       "    </tr>\n",
       "    <tr>\n",
       "      <th>22</th>\n",
       "      <td>549900.0</td>\n",
       "      <td>9.196708e+05</td>\n",
       "    </tr>\n",
       "    <tr>\n",
       "      <th>23</th>\n",
       "      <td>650000.0</td>\n",
       "      <td>1.788844e+05</td>\n",
       "    </tr>\n",
       "    <tr>\n",
       "      <th>24</th>\n",
       "      <td>609000.0</td>\n",
       "      <td>6.729898e+05</td>\n",
       "    </tr>\n",
       "    <tr>\n",
       "      <th>25</th>\n",
       "      <td>229900.0</td>\n",
       "      <td>6.699155e+04</td>\n",
       "    </tr>\n",
       "    <tr>\n",
       "      <th>26</th>\n",
       "      <td>325900.0</td>\n",
       "      <td>8.037486e+05</td>\n",
       "    </tr>\n",
       "    <tr>\n",
       "      <th>27</th>\n",
       "      <td>24900.0</td>\n",
       "      <td>6.729898e+05</td>\n",
       "    </tr>\n",
       "    <tr>\n",
       "      <th>28</th>\n",
       "      <td>1200000.0</td>\n",
       "      <td>5.979401e+05</td>\n",
       "    </tr>\n",
       "    <tr>\n",
       "      <th>29</th>\n",
       "      <td>2610000.0</td>\n",
       "      <td>5.027847e+05</td>\n",
       "    </tr>\n",
       "  </tbody>\n",
       "</table>\n",
       "</div>"
      ],
      "text/plain": [
       "       Actual     Predicted\n",
       "0    185000.0  6.729898e+05\n",
       "1    279000.0  3.998805e+05\n",
       "2    425000.0  7.147922e+05\n",
       "3   1599000.0  6.280055e+05\n",
       "4    549000.0  1.045202e+06\n",
       "5    490000.0  6.729898e+05\n",
       "6     89900.0  1.736152e+05\n",
       "7    650000.0  4.835677e+05\n",
       "8    525000.0  7.045638e+05\n",
       "9    200000.0  6.729898e+05\n",
       "10   152900.0  6.729898e+05\n",
       "11   109900.0  4.175478e+05\n",
       "12    33000.0  6.729898e+05\n",
       "13   750000.0  3.639260e+05\n",
       "14   208100.0  4.562918e+05\n",
       "15     6000.0  6.729898e+05\n",
       "16   125000.0  2.480038e+05\n",
       "17   395000.0  4.048397e+05\n",
       "18   259000.0  4.702397e+05\n",
       "19   275000.0  6.729898e+05\n",
       "20    89900.0  2.979725e+04\n",
       "21   385000.0  1.723754e+05\n",
       "22   549900.0  9.196708e+05\n",
       "23   650000.0  1.788844e+05\n",
       "24   609000.0  6.729898e+05\n",
       "25   229900.0  6.699155e+04\n",
       "26   325900.0  8.037486e+05\n",
       "27    24900.0  6.729898e+05\n",
       "28  1200000.0  5.979401e+05\n",
       "29  2610000.0  5.027847e+05"
      ]
     },
     "execution_count": 34,
     "metadata": {},
     "output_type": "execute_result"
    }
   ],
   "source": [
    "# Create a dataframe comparing the actual and predicted values of y.\n",
    "\n",
    "data = pd.DataFrame({'Actual': y_test.flatten(), 'Predicted': y_predicted.flatten()})\n",
    "data.head(30)"
   ]
  },
  {
   "cell_type": "markdown",
   "id": "06b1bb1e",
   "metadata": {},
   "source": [
    "##### Compare how the regression fits the training set"
   ]
  },
  {
   "cell_type": "code",
   "execution_count": 35,
   "id": "9c324bc7",
   "metadata": {},
   "outputs": [],
   "source": [
    "# Predict.\n",
    "\n",
    "y_predicted_train = regression.predict(X_train) # This is predicting X_train!"
   ]
  },
  {
   "cell_type": "code",
   "execution_count": 36,
   "id": "ff93ca69",
   "metadata": {},
   "outputs": [],
   "source": [
    "rmse = mean_squared_error(y_train, y_predicted_train)\n",
    "r2 = r2_score(y_train, y_predicted_train)"
   ]
  },
  {
   "cell_type": "code",
   "execution_count": 37,
   "id": "53fe19f3",
   "metadata": {},
   "outputs": [
    {
     "name": "stdout",
     "output_type": "stream",
     "text": [
      "Slope: [[309.95246322]]\n",
      "Mean squared error:  924959586699.5526\n",
      "R2 score:  0.08896332862815393\n"
     ]
    }
   ],
   "source": [
    "print('Slope:' ,regression.coef_)\n",
    "print('Mean squared error: ', rmse)\n",
    "print('R2 score: ', r2)"
   ]
  },
  {
   "cell_type": "markdown",
   "id": "958aaeb4",
   "metadata": {},
   "source": [
    "##### Compare the predicted y values with the actual y values in a dataframe.\n",
    "##### Slope: 309.95 \n",
    "##### Mean squared error:  924959586699.5526\n",
    "##### R2 score:  .088 IS ONLY SLIGHTLY LARGER THEN PRIOR at .0865\n",
    "##### THey are very similar to prior values"
   ]
  },
  {
   "cell_type": "code",
   "execution_count": 38,
   "id": "a24f767f",
   "metadata": {},
   "outputs": [
    {
     "data": {
      "image/png": "[encoded data removed]",
      "text/plain": [
       "<Figure size 640x480 with 1 Axes>"
      ]
     },
     "metadata": {},
     "output_type": "display_data"
    }
   ],
   "source": [
    "# Visualizing the training set results.\n",
    "\n",
    "plot_test = plt\n",
    "plot_test.scatter(X_train, y_train, color='green', s = 15)\n",
    "plot_test.plot(X_train, y_predicted_train, color='red', linewidth =3)\n",
    "plot_test.title('house_size vs price (Train set)')\n",
    "plot_test.xlabel('house_size')\n",
    "plot_test.ylabel('price')\n",
    "plot_test.savefig('train_plot_bed_price.png')\n",
    "plot_test.show()"
   ]
  },
  {
   "cell_type": "markdown",
   "id": "7ce53ed1",
   "metadata": {},
   "source": [
    "##### Based off the visulization of these data points, I can speculate that removing outliers will not change the relationship between price of house and number of bedrooms as far as positive correlation, however it m ay be stronger with outliers removed."
   ]
  },
  {
   "cell_type": "code",
   "execution_count": 39,
   "id": "f036fc67",
   "metadata": {},
   "outputs": [
    {
     "data": {
      "text/plain": [
       "count    2.213729e+06\n",
       "mean     5.082119e+05\n",
       "std      1.014483e+06\n",
       "min      1.000000e+00\n",
       "25%      1.650000e+05\n",
       "50%      3.250000e+05\n",
       "75%      5.499990e+05\n",
       "max      9.950000e+07\n",
       "Name: price, dtype: float64"
      ]
     },
     "execution_count": 39,
     "metadata": {},
     "output_type": "execute_result"
    }
   ],
   "source": [
    "df_2['price'].describe()"
   ]
  },
  {
   "cell_type": "code",
   "execution_count": 40,
   "id": "271a95f3",
   "metadata": {},
   "outputs": [],
   "source": [
    "df_fixed = df_2[df_2['price']< 99500000]"
   ]
  },
  {
   "cell_type": "code",
   "execution_count": 41,
   "id": "d4cd7c4d",
   "metadata": {},
   "outputs": [
    {
     "data": {
      "text/plain": [
       "count    2.213728e+06\n",
       "mean     5.081672e+05\n",
       "std      1.012299e+06\n",
       "min      1.000000e+00\n",
       "25%      1.650000e+05\n",
       "50%      3.250000e+05\n",
       "75%      5.499990e+05\n",
       "max      9.500000e+07\n",
       "Name: price, dtype: float64"
      ]
     },
     "execution_count": 41,
     "metadata": {},
     "output_type": "execute_result"
    }
   ],
   "source": [
    "df_fixed['price'].describe()"
   ]
  },
  {
   "cell_type": "code",
   "execution_count": 42,
   "id": "79c5c624",
   "metadata": {},
   "outputs": [
    {
     "data": {
      "image/png": "[encoded data removed]",
      "text/plain": [
       "<Figure size 640x480 with 1 Axes>"
      ]
     },
     "metadata": {},
     "output_type": "display_data"
    }
   ],
   "source": [
    "# Create a scatterplot (adjusted price) using matplotlib for another look.\n",
    " # The style option creates a scatterplot; without it, we only have lines.\n",
    "    \n",
    "df_fixed.plot(x = 'house_size', y='price',style='o')\n",
    "plt.title('house_size vs price')  \n",
    "plt.xlabel('house_size')  \n",
    "plt.ylabel('price')  \n",
    "plt.savefig('scatter_adjusted_bed_price.png')\n",
    "plt.show()"
   ]
  },
  {
   "cell_type": "markdown",
   "id": "a01e3dbe",
   "metadata": {},
   "source": [
    "It's very similar as expected"
   ]
  },
  {
   "cell_type": "markdown",
   "id": "f6d4612b",
   "metadata": {},
   "source": [
    "## Export data, df_2 with adjusted price and house_size"
   ]
  },
  {
   "cell_type": "code",
   "execution_count": 84,
   "id": "ff80a168",
   "metadata": {},
   "outputs": [],
   "source": [
    "# export as df_clean7\n",
    "\n",
    "df_2.to_pickle(os.path.join(path,'Prepared Data', 'df_clean7.pkl'))"
   ]
  },
  {
   "cell_type": "code",
   "execution_count": null,
   "id": "434bedb6",
   "metadata": {},
   "outputs": [],
   "source": []
  }
 ],
 "metadata": {
  "kernelspec": {
   "display_name": "Python 3 (ipykernel)",
   "language": "python",
   "name": "python3"
  },
  "language_info": {
   "codemirror_mode": {
    "name": "ipython",
    "version": 3
   },
   "file_extension": ".py",
   "mimetype": "text/x-python",
   "name": "python",
   "nbconvert_exporter": "python",
   "pygments_lexer": "ipython3",
   "version": "3.11.7"
  }
 },
 "nbformat": 4,
 "nbformat_minor": 5
}
