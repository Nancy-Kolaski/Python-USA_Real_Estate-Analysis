{
 "cells": [
  {
   "cell_type": "markdown",
   "id": "dd0f6b3f",
   "metadata": {},
   "source": [
    "## 6.4 U.S.A Real Estate Machine Learning Part 1 -NK (comparing acre_lot vs price)"
   ]
  },
  {
   "cell_type": "markdown",
   "id": "4b551d0e",
   "metadata": {},
   "source": [
    "### This script contains the following:\n",
    "\n",
    "#### 1. Importing libraries and data\n",
    "#### 2. Data prep for regression analysis\n",
    "#### 3.  Regression analysis\n",
    "#### Bonus: performance improvement after removing outliers"
   ]
  },
  {
   "cell_type": "markdown",
   "id": "885810a9",
   "metadata": {},
   "source": [
    "### 1. Importing libraries and data"
   ]
  },
  {
   "cell_type": "code",
   "execution_count": 1,
   "id": "8cd56d2d",
   "metadata": {},
   "outputs": [],
   "source": [
    "import pandas as pd\n",
    "import numpy as np\n",
    "import seaborn as sns\n",
    "import matplotlib\n",
    "import matplotlib.pyplot as plt\n",
    "import os\n",
    "import sklearn\n",
    "from sklearn.model_selection import train_test_split \n",
    "from sklearn.linear_model import LinearRegression\n",
    "from sklearn.metrics import mean_squared_error, r2_score"
   ]
  },
  {
   "cell_type": "code",
   "execution_count": 2,
   "id": "f369606e",
   "metadata": {},
   "outputs": [],
   "source": [
    "# This option ensures that the graphs you create are displayed within the notebook without the need to \"call\" them specifically.\n",
    "\n",
    "%matplotlib inline"
   ]
  },
  {
   "cell_type": "code",
   "execution_count": 3,
   "id": "7905c15a",
   "metadata": {},
   "outputs": [],
   "source": [
    "path = r'/Users/nancykray/Desktop/Real Estate Project'"
   ]
  },
  {
   "cell_type": "code",
   "execution_count": 4,
   "id": "df35792a",
   "metadata": {},
   "outputs": [],
   "source": [
    "df = pd.read_pickle(os.path.join(path, 'Prepared Data', 'df_clean6.pkl'))"
   ]
  },
  {
   "cell_type": "code",
   "execution_count": 5,
   "id": "4afc6280",
   "metadata": {},
   "outputs": [
    {
     "data": {
      "text/plain": [
       "Index(['brokered_by', 'status', 'price', 'bed', 'bath', 'acre_lot', 'street',\n",
       "       'city', 'state', 'zip_code', 'house_size', 'prev_sold_date',\n",
       "       'Price category'],\n",
       "      dtype='object')"
      ]
     },
     "execution_count": 5,
     "metadata": {},
     "output_type": "execute_result"
    }
   ],
   "source": [
    "df.columns"
   ]
  },
  {
   "cell_type": "code",
   "execution_count": 6,
   "id": "28d48f7f",
   "metadata": {},
   "outputs": [
    {
     "data": {
      "text/html": [
       "<div>\n",
       "<style scoped>\n",
       "    .dataframe tbody tr th:only-of-type {\n",
       "        vertical-align: middle;\n",
       "    }\n",
       "\n",
       "    .dataframe tbody tr th {\n",
       "        vertical-align: top;\n",
       "    }\n",
       "\n",
       "    .dataframe thead th {\n",
       "        text-align: right;\n",
       "    }\n",
       "</style>\n",
       "<table border=\"1\" class=\"dataframe\">\n",
       "  <thead>\n",
       "    <tr style=\"text-align: right;\">\n",
       "      <th></th>\n",
       "      <th>brokered_by</th>\n",
       "      <th>status</th>\n",
       "      <th>price</th>\n",
       "      <th>bed</th>\n",
       "      <th>bath</th>\n",
       "      <th>acre_lot</th>\n",
       "      <th>street</th>\n",
       "      <th>city</th>\n",
       "      <th>state</th>\n",
       "      <th>zip_code</th>\n",
       "      <th>house_size</th>\n",
       "      <th>prev_sold_date</th>\n",
       "      <th>Price category</th>\n",
       "    </tr>\n",
       "  </thead>\n",
       "  <tbody>\n",
       "    <tr>\n",
       "      <th>0</th>\n",
       "      <td>103378.0</td>\n",
       "      <td>for_sale</td>\n",
       "      <td>105000.0</td>\n",
       "      <td>3.0</td>\n",
       "      <td>2.0</td>\n",
       "      <td>0.12</td>\n",
       "      <td>1962661.0</td>\n",
       "      <td>Adjuntas</td>\n",
       "      <td>Puerto Rico</td>\n",
       "      <td>601.0</td>\n",
       "      <td>920.000</td>\n",
       "      <td>0</td>\n",
       "      <td>Middle price</td>\n",
       "    </tr>\n",
       "    <tr>\n",
       "      <th>1</th>\n",
       "      <td>52707.0</td>\n",
       "      <td>for_sale</td>\n",
       "      <td>80000.0</td>\n",
       "      <td>4.0</td>\n",
       "      <td>2.0</td>\n",
       "      <td>0.08</td>\n",
       "      <td>1902874.0</td>\n",
       "      <td>Adjuntas</td>\n",
       "      <td>Puerto Rico</td>\n",
       "      <td>601.0</td>\n",
       "      <td>1527.000</td>\n",
       "      <td>0</td>\n",
       "      <td>Low price</td>\n",
       "    </tr>\n",
       "    <tr>\n",
       "      <th>2</th>\n",
       "      <td>103379.0</td>\n",
       "      <td>for_sale</td>\n",
       "      <td>67000.0</td>\n",
       "      <td>2.0</td>\n",
       "      <td>1.0</td>\n",
       "      <td>0.15</td>\n",
       "      <td>1404990.0</td>\n",
       "      <td>Juana Diaz</td>\n",
       "      <td>Puerto Rico</td>\n",
       "      <td>795.0</td>\n",
       "      <td>748.000</td>\n",
       "      <td>0</td>\n",
       "      <td>Low price</td>\n",
       "    </tr>\n",
       "    <tr>\n",
       "      <th>3</th>\n",
       "      <td>31239.0</td>\n",
       "      <td>for_sale</td>\n",
       "      <td>145000.0</td>\n",
       "      <td>4.0</td>\n",
       "      <td>2.0</td>\n",
       "      <td>0.10</td>\n",
       "      <td>1947675.0</td>\n",
       "      <td>Ponce</td>\n",
       "      <td>Puerto Rico</td>\n",
       "      <td>731.0</td>\n",
       "      <td>1800.000</td>\n",
       "      <td>0</td>\n",
       "      <td>Middle price</td>\n",
       "    </tr>\n",
       "    <tr>\n",
       "      <th>4</th>\n",
       "      <td>34632.0</td>\n",
       "      <td>for_sale</td>\n",
       "      <td>65000.0</td>\n",
       "      <td>6.0</td>\n",
       "      <td>2.0</td>\n",
       "      <td>0.05</td>\n",
       "      <td>331151.0</td>\n",
       "      <td>Mayaguez</td>\n",
       "      <td>Puerto Rico</td>\n",
       "      <td>680.0</td>\n",
       "      <td>2715.133</td>\n",
       "      <td>0</td>\n",
       "      <td>Low price</td>\n",
       "    </tr>\n",
       "    <tr>\n",
       "      <th>5</th>\n",
       "      <td>103378.0</td>\n",
       "      <td>for_sale</td>\n",
       "      <td>179000.0</td>\n",
       "      <td>4.0</td>\n",
       "      <td>3.0</td>\n",
       "      <td>0.46</td>\n",
       "      <td>1850806.0</td>\n",
       "      <td>San Sebastian</td>\n",
       "      <td>Puerto Rico</td>\n",
       "      <td>612.0</td>\n",
       "      <td>2520.000</td>\n",
       "      <td>0</td>\n",
       "      <td>Middle price</td>\n",
       "    </tr>\n",
       "    <tr>\n",
       "      <th>6</th>\n",
       "      <td>1205.0</td>\n",
       "      <td>for_sale</td>\n",
       "      <td>50000.0</td>\n",
       "      <td>3.0</td>\n",
       "      <td>1.0</td>\n",
       "      <td>0.20</td>\n",
       "      <td>1298094.0</td>\n",
       "      <td>Ciales</td>\n",
       "      <td>Puerto Rico</td>\n",
       "      <td>639.0</td>\n",
       "      <td>2040.000</td>\n",
       "      <td>0</td>\n",
       "      <td>Low price</td>\n",
       "    </tr>\n",
       "    <tr>\n",
       "      <th>7</th>\n",
       "      <td>50739.0</td>\n",
       "      <td>for_sale</td>\n",
       "      <td>71600.0</td>\n",
       "      <td>3.0</td>\n",
       "      <td>2.0</td>\n",
       "      <td>0.08</td>\n",
       "      <td>1048466.0</td>\n",
       "      <td>Ponce</td>\n",
       "      <td>Puerto Rico</td>\n",
       "      <td>731.0</td>\n",
       "      <td>1050.000</td>\n",
       "      <td>0</td>\n",
       "      <td>Low price</td>\n",
       "    </tr>\n",
       "    <tr>\n",
       "      <th>8</th>\n",
       "      <td>81909.0</td>\n",
       "      <td>for_sale</td>\n",
       "      <td>100000.0</td>\n",
       "      <td>2.0</td>\n",
       "      <td>1.0</td>\n",
       "      <td>0.09</td>\n",
       "      <td>734904.0</td>\n",
       "      <td>Ponce</td>\n",
       "      <td>Puerto Rico</td>\n",
       "      <td>730.0</td>\n",
       "      <td>1092.000</td>\n",
       "      <td>0</td>\n",
       "      <td>Middle price</td>\n",
       "    </tr>\n",
       "    <tr>\n",
       "      <th>9</th>\n",
       "      <td>65672.0</td>\n",
       "      <td>for_sale</td>\n",
       "      <td>300000.0</td>\n",
       "      <td>5.0</td>\n",
       "      <td>3.0</td>\n",
       "      <td>7.46</td>\n",
       "      <td>1946226.0</td>\n",
       "      <td>Las Marias</td>\n",
       "      <td>Puerto Rico</td>\n",
       "      <td>670.0</td>\n",
       "      <td>5403.000</td>\n",
       "      <td>0</td>\n",
       "      <td>Middle price</td>\n",
       "    </tr>\n",
       "    <tr>\n",
       "      <th>10</th>\n",
       "      <td>52707.0</td>\n",
       "      <td>for_sale</td>\n",
       "      <td>89000.0</td>\n",
       "      <td>3.0</td>\n",
       "      <td>2.0</td>\n",
       "      <td>13.39</td>\n",
       "      <td>1902814.0</td>\n",
       "      <td>Isabela</td>\n",
       "      <td>Puerto Rico</td>\n",
       "      <td>662.0</td>\n",
       "      <td>1106.000</td>\n",
       "      <td>0</td>\n",
       "      <td>Low price</td>\n",
       "    </tr>\n",
       "    <tr>\n",
       "      <th>11</th>\n",
       "      <td>52707.0</td>\n",
       "      <td>for_sale</td>\n",
       "      <td>150000.0</td>\n",
       "      <td>3.0</td>\n",
       "      <td>2.0</td>\n",
       "      <td>0.08</td>\n",
       "      <td>1773902.0</td>\n",
       "      <td>Juana Diaz</td>\n",
       "      <td>Puerto Rico</td>\n",
       "      <td>795.0</td>\n",
       "      <td>1045.000</td>\n",
       "      <td>0</td>\n",
       "      <td>Middle price</td>\n",
       "    </tr>\n",
       "    <tr>\n",
       "      <th>12</th>\n",
       "      <td>46019.0</td>\n",
       "      <td>for_sale</td>\n",
       "      <td>155000.0</td>\n",
       "      <td>3.0</td>\n",
       "      <td>2.0</td>\n",
       "      <td>0.10</td>\n",
       "      <td>1946165.0</td>\n",
       "      <td>Lares</td>\n",
       "      <td>Puerto Rico</td>\n",
       "      <td>669.0</td>\n",
       "      <td>4161.000</td>\n",
       "      <td>0</td>\n",
       "      <td>Middle price</td>\n",
       "    </tr>\n",
       "    <tr>\n",
       "      <th>13</th>\n",
       "      <td>52707.0</td>\n",
       "      <td>for_sale</td>\n",
       "      <td>79000.0</td>\n",
       "      <td>5.0</td>\n",
       "      <td>2.0</td>\n",
       "      <td>0.12</td>\n",
       "      <td>1761024.0</td>\n",
       "      <td>Utuado</td>\n",
       "      <td>Puerto Rico</td>\n",
       "      <td>641.0</td>\n",
       "      <td>1620.000</td>\n",
       "      <td>0</td>\n",
       "      <td>Low price</td>\n",
       "    </tr>\n",
       "    <tr>\n",
       "      <th>14</th>\n",
       "      <td>88441.0</td>\n",
       "      <td>for_sale</td>\n",
       "      <td>649000.0</td>\n",
       "      <td>5.0</td>\n",
       "      <td>5.0</td>\n",
       "      <td>0.74</td>\n",
       "      <td>1879215.0</td>\n",
       "      <td>Ponce</td>\n",
       "      <td>Puerto Rico</td>\n",
       "      <td>731.0</td>\n",
       "      <td>2677.000</td>\n",
       "      <td>0</td>\n",
       "      <td>High price</td>\n",
       "    </tr>\n",
       "    <tr>\n",
       "      <th>15</th>\n",
       "      <td>50739.0</td>\n",
       "      <td>for_sale</td>\n",
       "      <td>120000.0</td>\n",
       "      <td>3.0</td>\n",
       "      <td>2.0</td>\n",
       "      <td>0.08</td>\n",
       "      <td>17854.0</td>\n",
       "      <td>Yauco</td>\n",
       "      <td>Puerto Rico</td>\n",
       "      <td>698.0</td>\n",
       "      <td>1100.000</td>\n",
       "      <td>0</td>\n",
       "      <td>Middle price</td>\n",
       "    </tr>\n",
       "    <tr>\n",
       "      <th>16</th>\n",
       "      <td>51202.0</td>\n",
       "      <td>for_sale</td>\n",
       "      <td>235000.0</td>\n",
       "      <td>4.0</td>\n",
       "      <td>4.0</td>\n",
       "      <td>0.22</td>\n",
       "      <td>13687.0</td>\n",
       "      <td>Mayaguez</td>\n",
       "      <td>Puerto Rico</td>\n",
       "      <td>680.0</td>\n",
       "      <td>3450.000</td>\n",
       "      <td>0</td>\n",
       "      <td>Middle price</td>\n",
       "    </tr>\n",
       "    <tr>\n",
       "      <th>17</th>\n",
       "      <td>12876.0</td>\n",
       "      <td>for_sale</td>\n",
       "      <td>105000.0</td>\n",
       "      <td>3.0</td>\n",
       "      <td>2.0</td>\n",
       "      <td>0.08</td>\n",
       "      <td>1868721.0</td>\n",
       "      <td>Ponce</td>\n",
       "      <td>Puerto Rico</td>\n",
       "      <td>728.0</td>\n",
       "      <td>1500.000</td>\n",
       "      <td>0</td>\n",
       "      <td>Middle price</td>\n",
       "    </tr>\n",
       "    <tr>\n",
       "      <th>18</th>\n",
       "      <td>109906.0</td>\n",
       "      <td>for_sale</td>\n",
       "      <td>575000.0</td>\n",
       "      <td>3.0</td>\n",
       "      <td>2.0</td>\n",
       "      <td>3.88</td>\n",
       "      <td>1312671.0</td>\n",
       "      <td>San Sebastian</td>\n",
       "      <td>Puerto Rico</td>\n",
       "      <td>685.0</td>\n",
       "      <td>4000.000</td>\n",
       "      <td>0</td>\n",
       "      <td>High price</td>\n",
       "    </tr>\n",
       "    <tr>\n",
       "      <th>19</th>\n",
       "      <td>46019.0</td>\n",
       "      <td>for_sale</td>\n",
       "      <td>140000.0</td>\n",
       "      <td>6.0</td>\n",
       "      <td>3.0</td>\n",
       "      <td>0.25</td>\n",
       "      <td>6710.0</td>\n",
       "      <td>Anasco</td>\n",
       "      <td>Puerto Rico</td>\n",
       "      <td>610.0</td>\n",
       "      <td>1230.000</td>\n",
       "      <td>0</td>\n",
       "      <td>Middle price</td>\n",
       "    </tr>\n",
       "  </tbody>\n",
       "</table>\n",
       "</div>"
      ],
      "text/plain": [
       "    brokered_by    status     price  bed  bath  acre_lot     street  \\\n",
       "0      103378.0  for_sale  105000.0  3.0   2.0      0.12  1962661.0   \n",
       "1       52707.0  for_sale   80000.0  4.0   2.0      0.08  1902874.0   \n",
       "2      103379.0  for_sale   67000.0  2.0   1.0      0.15  1404990.0   \n",
       "3       31239.0  for_sale  145000.0  4.0   2.0      0.10  1947675.0   \n",
       "4       34632.0  for_sale   65000.0  6.0   2.0      0.05   331151.0   \n",
       "5      103378.0  for_sale  179000.0  4.0   3.0      0.46  1850806.0   \n",
       "6        1205.0  for_sale   50000.0  3.0   1.0      0.20  1298094.0   \n",
       "7       50739.0  for_sale   71600.0  3.0   2.0      0.08  1048466.0   \n",
       "8       81909.0  for_sale  100000.0  2.0   1.0      0.09   734904.0   \n",
       "9       65672.0  for_sale  300000.0  5.0   3.0      7.46  1946226.0   \n",
       "10      52707.0  for_sale   89000.0  3.0   2.0     13.39  1902814.0   \n",
       "11      52707.0  for_sale  150000.0  3.0   2.0      0.08  1773902.0   \n",
       "12      46019.0  for_sale  155000.0  3.0   2.0      0.10  1946165.0   \n",
       "13      52707.0  for_sale   79000.0  5.0   2.0      0.12  1761024.0   \n",
       "14      88441.0  for_sale  649000.0  5.0   5.0      0.74  1879215.0   \n",
       "15      50739.0  for_sale  120000.0  3.0   2.0      0.08    17854.0   \n",
       "16      51202.0  for_sale  235000.0  4.0   4.0      0.22    13687.0   \n",
       "17      12876.0  for_sale  105000.0  3.0   2.0      0.08  1868721.0   \n",
       "18     109906.0  for_sale  575000.0  3.0   2.0      3.88  1312671.0   \n",
       "19      46019.0  for_sale  140000.0  6.0   3.0      0.25     6710.0   \n",
       "\n",
       "             city        state  zip_code  house_size prev_sold_date  \\\n",
       "0        Adjuntas  Puerto Rico     601.0     920.000              0   \n",
       "1        Adjuntas  Puerto Rico     601.0    1527.000              0   \n",
       "2      Juana Diaz  Puerto Rico     795.0     748.000              0   \n",
       "3           Ponce  Puerto Rico     731.0    1800.000              0   \n",
       "4        Mayaguez  Puerto Rico     680.0    2715.133              0   \n",
       "5   San Sebastian  Puerto Rico     612.0    2520.000              0   \n",
       "6          Ciales  Puerto Rico     639.0    2040.000              0   \n",
       "7           Ponce  Puerto Rico     731.0    1050.000              0   \n",
       "8           Ponce  Puerto Rico     730.0    1092.000              0   \n",
       "9      Las Marias  Puerto Rico     670.0    5403.000              0   \n",
       "10        Isabela  Puerto Rico     662.0    1106.000              0   \n",
       "11     Juana Diaz  Puerto Rico     795.0    1045.000              0   \n",
       "12          Lares  Puerto Rico     669.0    4161.000              0   \n",
       "13         Utuado  Puerto Rico     641.0    1620.000              0   \n",
       "14          Ponce  Puerto Rico     731.0    2677.000              0   \n",
       "15          Yauco  Puerto Rico     698.0    1100.000              0   \n",
       "16       Mayaguez  Puerto Rico     680.0    3450.000              0   \n",
       "17          Ponce  Puerto Rico     728.0    1500.000              0   \n",
       "18  San Sebastian  Puerto Rico     685.0    4000.000              0   \n",
       "19         Anasco  Puerto Rico     610.0    1230.000              0   \n",
       "\n",
       "   Price category  \n",
       "0    Middle price  \n",
       "1       Low price  \n",
       "2       Low price  \n",
       "3    Middle price  \n",
       "4       Low price  \n",
       "5    Middle price  \n",
       "6       Low price  \n",
       "7       Low price  \n",
       "8    Middle price  \n",
       "9    Middle price  \n",
       "10      Low price  \n",
       "11   Middle price  \n",
       "12   Middle price  \n",
       "13      Low price  \n",
       "14     High price  \n",
       "15   Middle price  \n",
       "16   Middle price  \n",
       "17   Middle price  \n",
       "18     High price  \n",
       "19   Middle price  "
      ]
     },
     "execution_count": 6,
     "metadata": {},
     "output_type": "execute_result"
    }
   ],
   "source": [
    "df.head(20)"
   ]
  },
  {
   "cell_type": "code",
   "execution_count": 7,
   "id": "61d7468a",
   "metadata": {},
   "outputs": [
    {
     "data": {
      "text/plain": [
       "(2217918, 13)"
      ]
     },
     "execution_count": 7,
     "metadata": {},
     "output_type": "execute_result"
    }
   ],
   "source": [
    "df.shape"
   ]
  },
  {
   "cell_type": "markdown",
   "id": "c9252f1a",
   "metadata": {},
   "source": [
    "#### Extreme Values Check"
   ]
  },
  {
   "cell_type": "code",
   "execution_count": 8,
   "id": "607a3183",
   "metadata": {},
   "outputs": [
    {
     "name": "stderr",
     "output_type": "stream",
     "text": [
      "/var/folders/fb/2jrdrrb52mv7jbhxt0nbx_740000gn/T/ipykernel_28751/3919958516.py:1: UserWarning: \n",
      "\n",
      "`distplot` is a deprecated function and will be removed in seaborn v0.14.0.\n",
      "\n",
      "Please adapt your code to use either `displot` (a figure-level function with\n",
      "similar flexibility) or `histplot` (an axes-level function for histograms).\n",
      "\n",
      "For a guide to updating your code to use the new functions, please see\n",
      "https://gist.github.com/mwaskom/de44147ed2974457ad6372750bbe5751\n",
      "\n",
      "  sns.distplot(df['price'], bins=15) # Shows extreme values\n",
      "/opt/anaconda3/lib/python3.11/site-packages/seaborn/_oldcore.py:1119: FutureWarning: use_inf_as_na option is deprecated and will be removed in a future version. Convert inf values to NaN before operating instead.\n",
      "  with pd.option_context('mode.use_inf_as_na', True):\n"
     ]
    },
    {
     "data": {
      "text/plain": [
       "(0.0, 9950000.0)"
      ]
     },
     "execution_count": 8,
     "metadata": {},
     "output_type": "execute_result"
    },
    {
     "data": {
      "image/png": "[encoded data removed]",
      "text/plain": [
       "<Figure size 640x480 with 1 Axes>"
      ]
     },
     "metadata": {},
     "output_type": "display_data"
    }
   ],
   "source": [
    "sns.distplot(df['price'], bins=15) # Shows extreme values\n",
    "plt.xlim([0, 9950000 ]) # set x axis limits (I added this but doesn't seem to make a difference)\n",
    "\n",
    "# Some of the outliers in the high values may need to be removed, but let's try without doing so first."
   ]
  },
  {
   "cell_type": "markdown",
   "id": "1fd1849a",
   "metadata": {},
   "source": [
    "### 3. Data prep for regression analysis "
   ]
  },
  {
   "cell_type": "markdown",
   "id": "2afe7af5",
   "metadata": {},
   "source": [
    "### Hypothesis: Properties with bigger acre_lots will have higher prices"
   ]
  },
  {
   "cell_type": "code",
   "execution_count": 9,
   "id": "c82137ba",
   "metadata": {},
   "outputs": [
    {
     "data": {
      "image/png": "[encoded data removed]",
      "text/plain": [
       "<Figure size 640x480 with 1 Axes>"
      ]
     },
     "metadata": {},
     "output_type": "display_data"
    }
   ],
   "source": [
    "# Create a scatterplot using matplotlib for another look at how the chosen variables plot against each other.\n",
    "\n",
    "df.plot(x = 'acre_lot', y='price',style='o') # The style option creates a scatterplot; without it, we only have lines.\n",
    "plt.title('acre_lot vs price')  \n",
    "plt.xlabel('acre_lot')  \n",
    "plt.ylabel('price')  \n",
    "plt.savefig('scatter_acre_lot_price.png')\n",
    "plt.show()"
   ]
  },
  {
   "cell_type": "code",
   "execution_count": 10,
   "id": "aabf1ce1",
   "metadata": {},
   "outputs": [],
   "source": [
    "# Reshape the variables into NumPy arrays and put them into separate objects.\n",
    "\n",
    "X = df['acre_lot'].values.reshape(-1,1)\n",
    "y = df['price'].values.reshape(-1,1)"
   ]
  },
  {
   "cell_type": "code",
   "execution_count": 11,
   "id": "d866b44a",
   "metadata": {},
   "outputs": [
    {
     "data": {
      "text/plain": [
       "array([[0.12],\n",
       "       [0.08],\n",
       "       [0.15],\n",
       "       ...,\n",
       "       [0.5 ],\n",
       "       [0.09],\n",
       "       [0.31]])"
      ]
     },
     "execution_count": 11,
     "metadata": {},
     "output_type": "execute_result"
    }
   ],
   "source": [
    "X"
   ]
  },
  {
   "cell_type": "code",
   "execution_count": 12,
   "id": "cbda49a9",
   "metadata": {},
   "outputs": [
    {
     "data": {
      "text/plain": [
       "array([[105000.],\n",
       "       [ 80000.],\n",
       "       [ 67000.],\n",
       "       ...,\n",
       "       [440000.],\n",
       "       [179900.],\n",
       "       [580000.]])"
      ]
     },
     "execution_count": 12,
     "metadata": {},
     "output_type": "execute_result"
    }
   ],
   "source": [
    "y"
   ]
  },
  {
   "cell_type": "code",
   "execution_count": 13,
   "id": "581e5826",
   "metadata": {},
   "outputs": [],
   "source": [
    "# Split data into a training set and a test set.\n",
    "\n",
    "X_train, X_test, y_train, y_test = train_test_split(X, y, test_size=0.3, random_state=0)"
   ]
  },
  {
   "cell_type": "markdown",
   "id": "33bc24e9",
   "metadata": {},
   "source": [
    "### 4. Regression analysis"
   ]
  },
  {
   "cell_type": "code",
   "execution_count": 14,
   "id": "89092b59",
   "metadata": {},
   "outputs": [],
   "source": [
    "# Create a regression object.\n",
    "\n",
    "regression = LinearRegression()  # This is the regression object, which will be fit onto the training set."
   ]
  },
  {
   "cell_type": "code",
   "execution_count": 15,
   "id": "2f39e210",
   "metadata": {},
   "outputs": [
    {
     "data": {
      "text/html": [
       "<style>#sk-container-id-1 {color: black;background-color: white;}#sk-container-id-1 pre{padding: 0;}#sk-container-id-1 div.sk-toggleable {background-color: white;}#sk-container-id-1 label.sk-toggleable__label {cursor: pointer;display: block;width: 100%;margin-bottom: 0;padding: 0.3em;box-sizing: border-box;text-align: center;}#sk-container-id-1 label.sk-toggleable__label-arrow:before {content: \"▸\";float: left;margin-right: 0.25em;color: #696969;}#sk-container-id-1 label.sk-toggleable__label-arrow:hover:before {color: black;}#sk-container-id-1 div.sk-estimator:hover label.sk-toggleable__label-arrow:before {color: black;}#sk-container-id-1 div.sk-toggleable__content {max-height: 0;max-width: 0;overflow: hidden;text-align: left;background-color: #f0f8ff;}#sk-container-id-1 div.sk-toggleable__content pre {margin: 0.2em;color: black;border-radius: 0.25em;background-color: #f0f8ff;}#sk-container-id-1 input.sk-toggleable__control:checked~div.sk-toggleable__content {max-height: 200px;max-width: 100%;overflow: auto;}#sk-container-id-1 input.sk-toggleable__control:checked~label.sk-toggleable__label-arrow:before {content: \"▾\";}#sk-container-id-1 div.sk-estimator input.sk-toggleable__control:checked~label.sk-toggleable__label {background-color: #d4ebff;}#sk-container-id-1 div.sk-label input.sk-toggleable__control:checked~label.sk-toggleable__label {background-color: #d4ebff;}#sk-container-id-1 input.sk-hidden--visually {border: 0;clip: rect(1px 1px 1px 1px);clip: rect(1px, 1px, 1px, 1px);height: 1px;margin: -1px;overflow: hidden;padding: 0;position: absolute;width: 1px;}#sk-container-id-1 div.sk-estimator {font-family: monospace;background-color: #f0f8ff;border: 1px dotted black;border-radius: 0.25em;box-sizing: border-box;margin-bottom: 0.5em;}#sk-container-id-1 div.sk-estimator:hover {background-color: #d4ebff;}#sk-container-id-1 div.sk-parallel-item::after {content: \"\";width: 100%;border-bottom: 1px solid gray;flex-grow: 1;}#sk-container-id-1 div.sk-label:hover label.sk-toggleable__label {background-color: #d4ebff;}#sk-container-id-1 div.sk-serial::before {content: \"\";position: absolute;border-left: 1px solid gray;box-sizing: border-box;top: 0;bottom: 0;left: 50%;z-index: 0;}#sk-container-id-1 div.sk-serial {display: flex;flex-direction: column;align-items: center;background-color: white;padding-right: 0.2em;padding-left: 0.2em;position: relative;}#sk-container-id-1 div.sk-item {position: relative;z-index: 1;}#sk-container-id-1 div.sk-parallel {display: flex;align-items: stretch;justify-content: center;background-color: white;position: relative;}#sk-container-id-1 div.sk-item::before, #sk-container-id-1 div.sk-parallel-item::before {content: \"\";position: absolute;border-left: 1px solid gray;box-sizing: border-box;top: 0;bottom: 0;left: 50%;z-index: -1;}#sk-container-id-1 div.sk-parallel-item {display: flex;flex-direction: column;z-index: 1;position: relative;background-color: white;}#sk-container-id-1 div.sk-parallel-item:first-child::after {align-self: flex-end;width: 50%;}#sk-container-id-1 div.sk-parallel-item:last-child::after {align-self: flex-start;width: 50%;}#sk-container-id-1 div.sk-parallel-item:only-child::after {width: 0;}#sk-container-id-1 div.sk-dashed-wrapped {border: 1px dashed gray;margin: 0 0.4em 0.5em 0.4em;box-sizing: border-box;padding-bottom: 0.4em;background-color: white;}#sk-container-id-1 div.sk-label label {font-family: monospace;font-weight: bold;display: inline-block;line-height: 1.2em;}#sk-container-id-1 div.sk-label-container {text-align: center;}#sk-container-id-1 div.sk-container {/* jupyter's `normalize.less` sets `[hidden] { display: none; }` but bootstrap.min.css set `[hidden] { display: none !important; }` so we also need the `!important` here to be able to override the default hidden behavior on the sphinx rendered scikit-learn.org. See: https://github.com/scikit-learn/scikit-learn/issues/21755 */display: inline-block !important;position: relative;}#sk-container-id-1 div.sk-text-repr-fallback {display: none;}</style><div id=\"sk-container-id-1\" class=\"sk-top-container\"><div class=\"sk-text-repr-fallback\"><pre>LinearRegression()</pre><b>In a Jupyter environment, please rerun this cell to show the HTML representation or trust the notebook. <br />On GitHub, the HTML representation is unable to render, please try loading this page with nbviewer.org.</b></div><div class=\"sk-container\" hidden><div class=\"sk-item\"><div class=\"sk-estimator sk-toggleable\"><input class=\"sk-toggleable__control sk-hidden--visually\" id=\"sk-estimator-id-1\" type=\"checkbox\" checked><label for=\"sk-estimator-id-1\" class=\"sk-toggleable__label sk-toggleable__label-arrow\">LinearRegression</label><div class=\"sk-toggleable__content\"><pre>LinearRegression()</pre></div></div></div></div></div>"
      ],
      "text/plain": [
       "LinearRegression()"
      ]
     },
     "execution_count": 15,
     "metadata": {},
     "output_type": "execute_result"
    }
   ],
   "source": [
    "# Fit the regression object onto the training set.\n",
    "\n",
    "regression.fit(X_train, y_train)"
   ]
  },
  {
   "cell_type": "code",
   "execution_count": 16,
   "id": "1acf2bb9",
   "metadata": {},
   "outputs": [],
   "source": [
    "# Predict the values of y using X.\n",
    "\n",
    "y_predicted = regression.predict(X_test)"
   ]
  },
  {
   "cell_type": "code",
   "execution_count": 17,
   "id": "4011871b",
   "metadata": {},
   "outputs": [
    {
     "data": {
      "image/png": "[encoded data removed]",
      "text/plain": [
       "<Figure size 640x480 with 1 Axes>"
      ]
     },
     "metadata": {},
     "output_type": "display_data"
    }
   ],
   "source": [
    "# Create a plot that shows the regression line from the model on the test set.\n",
    "\n",
    "plot_test = plt\n",
    "plot_test.scatter(X_test, y_test, color='gray', s = 15)\n",
    "plot_test.plot(X_test, y_predicted, color='red', linewidth =3)\n",
    "plot_test.title('acre_lot vs price (Test set)')\n",
    "plot_test.xlabel('acre_lot')\n",
    "plot_test.ylabel('price')\n",
    "plot_test.savefig('test_plot_acre_lot_price.png')\n",
    "plot_test.show()"
   ]
  },
  {
   "cell_type": "markdown",
   "id": "0b386d4b",
   "metadata": {},
   "source": [
    "This line shows the expected trajectory of bigger acre lot correlating wtih higher price"
   ]
  },
  {
   "cell_type": "code",
   "execution_count": 18,
   "id": "ecb861e8",
   "metadata": {},
   "outputs": [],
   "source": [
    "# Create objects that contain the model summary statistics.\n",
    "\n",
    "rmse = mean_squared_error(y_test, y_predicted) # This is the mean squared error\n",
    "r2 = r2_score(y_test, y_predicted) # This is the R2 score. "
   ]
  },
  {
   "cell_type": "code",
   "execution_count": 19,
   "id": "6f45059a",
   "metadata": {},
   "outputs": [
    {
     "name": "stdout",
     "output_type": "stream",
     "text": [
      "Slope: [[44.83229133]]\n",
      "Mean squared error:  1302013164047.8013\n",
      "R2 score:  0.00020831045108560264\n"
     ]
    }
   ],
   "source": [
    "# Print the model summary statistics. This is where you evaluate the performance of the model.\n",
    "\n",
    "print('Slope:' ,regression.coef_)\n",
    "print('Mean squared error: ', rmse)\n",
    "print('R2 score: ', r2)"
   ]
  },
  {
   "cell_type": "markdown",
   "id": "d8ace107",
   "metadata": {},
   "source": [
    "#### - Positive slope is slight (as x rises, y rises, meaning as number of acre_lot increases, so does the price)\n",
    "#### - Mean squared error (MSE) doesn't make sense (too large), implicating that this does not have good accuracy\n",
    "#### - R2 score is closer to 0 than 1, making it not a good fit"
   ]
  },
  {
   "cell_type": "code",
   "execution_count": 20,
   "id": "f4e2d64a",
   "metadata": {},
   "outputs": [
    {
     "data": {
      "text/plain": [
       "array([[520191.75624438],\n",
       "       [520190.85959855],\n",
       "       [520224.93213996],\n",
       "       ...,\n",
       "       [520193.10121312],\n",
       "       [520886.20843711],\n",
       "       [520185.47972359]])"
      ]
     },
     "execution_count": 20,
     "metadata": {},
     "output_type": "execute_result"
    }
   ],
   "source": [
    "y_predicted"
   ]
  },
  {
   "cell_type": "code",
   "execution_count": 21,
   "id": "b9793c4f",
   "metadata": {},
   "outputs": [
    {
     "data": {
      "text/html": [
       "<div>\n",
       "<style scoped>\n",
       "    .dataframe tbody tr th:only-of-type {\n",
       "        vertical-align: middle;\n",
       "    }\n",
       "\n",
       "    .dataframe tbody tr th {\n",
       "        vertical-align: top;\n",
       "    }\n",
       "\n",
       "    .dataframe thead th {\n",
       "        text-align: right;\n",
       "    }\n",
       "</style>\n",
       "<table border=\"1\" class=\"dataframe\">\n",
       "  <thead>\n",
       "    <tr style=\"text-align: right;\">\n",
       "      <th></th>\n",
       "      <th>Actual</th>\n",
       "      <th>Predicted</th>\n",
       "    </tr>\n",
       "  </thead>\n",
       "  <tbody>\n",
       "    <tr>\n",
       "      <th>0</th>\n",
       "      <td>59900.0</td>\n",
       "      <td>520191.756244</td>\n",
       "    </tr>\n",
       "    <tr>\n",
       "      <th>1</th>\n",
       "      <td>70000.0</td>\n",
       "      <td>520190.859599</td>\n",
       "    </tr>\n",
       "    <tr>\n",
       "      <th>2</th>\n",
       "      <td>175000.0</td>\n",
       "      <td>520224.932140</td>\n",
       "    </tr>\n",
       "    <tr>\n",
       "      <th>3</th>\n",
       "      <td>900000.0</td>\n",
       "      <td>520191.756244</td>\n",
       "    </tr>\n",
       "    <tr>\n",
       "      <th>4</th>\n",
       "      <td>63600.0</td>\n",
       "      <td>520185.479724</td>\n",
       "    </tr>\n",
       "    <tr>\n",
       "      <th>5</th>\n",
       "      <td>358900.0</td>\n",
       "      <td>520189.066307</td>\n",
       "    </tr>\n",
       "    <tr>\n",
       "      <th>6</th>\n",
       "      <td>44000.0</td>\n",
       "      <td>520194.446182</td>\n",
       "    </tr>\n",
       "    <tr>\n",
       "      <th>7</th>\n",
       "      <td>669900.0</td>\n",
       "      <td>520182.341463</td>\n",
       "    </tr>\n",
       "    <tr>\n",
       "      <th>8</th>\n",
       "      <td>175000.0</td>\n",
       "      <td>520224.932140</td>\n",
       "    </tr>\n",
       "    <tr>\n",
       "      <th>9</th>\n",
       "      <td>399000.0</td>\n",
       "      <td>520185.031401</td>\n",
       "    </tr>\n",
       "    <tr>\n",
       "      <th>10</th>\n",
       "      <td>709900.0</td>\n",
       "      <td>520181.893140</td>\n",
       "    </tr>\n",
       "    <tr>\n",
       "      <th>11</th>\n",
       "      <td>450000.0</td>\n",
       "      <td>520286.352379</td>\n",
       "    </tr>\n",
       "    <tr>\n",
       "      <th>12</th>\n",
       "      <td>335900.0</td>\n",
       "      <td>520188.169661</td>\n",
       "    </tr>\n",
       "    <tr>\n",
       "      <th>13</th>\n",
       "      <td>229900.0</td>\n",
       "      <td>520184.134755</td>\n",
       "    </tr>\n",
       "    <tr>\n",
       "      <th>14</th>\n",
       "      <td>280000.0</td>\n",
       "      <td>520192.204567</td>\n",
       "    </tr>\n",
       "    <tr>\n",
       "      <th>15</th>\n",
       "      <td>234900.0</td>\n",
       "      <td>520191.756244</td>\n",
       "    </tr>\n",
       "    <tr>\n",
       "      <th>16</th>\n",
       "      <td>590000.0</td>\n",
       "      <td>520191.756244</td>\n",
       "    </tr>\n",
       "    <tr>\n",
       "      <th>17</th>\n",
       "      <td>949000.0</td>\n",
       "      <td>520187.273015</td>\n",
       "    </tr>\n",
       "    <tr>\n",
       "      <th>18</th>\n",
       "      <td>15800.0</td>\n",
       "      <td>520247.348286</td>\n",
       "    </tr>\n",
       "    <tr>\n",
       "      <th>19</th>\n",
       "      <td>1150000.0</td>\n",
       "      <td>520195.791151</td>\n",
       "    </tr>\n",
       "    <tr>\n",
       "      <th>20</th>\n",
       "      <td>215000.0</td>\n",
       "      <td>520187.273015</td>\n",
       "    </tr>\n",
       "    <tr>\n",
       "      <th>21</th>\n",
       "      <td>159900.0</td>\n",
       "      <td>520191.756244</td>\n",
       "    </tr>\n",
       "    <tr>\n",
       "      <th>22</th>\n",
       "      <td>3599000.0</td>\n",
       "      <td>520185.031401</td>\n",
       "    </tr>\n",
       "    <tr>\n",
       "      <th>23</th>\n",
       "      <td>1299000.0</td>\n",
       "      <td>520191.756244</td>\n",
       "    </tr>\n",
       "    <tr>\n",
       "      <th>24</th>\n",
       "      <td>200000.0</td>\n",
       "      <td>520351.807524</td>\n",
       "    </tr>\n",
       "    <tr>\n",
       "      <th>25</th>\n",
       "      <td>385200.0</td>\n",
       "      <td>521619.216400</td>\n",
       "    </tr>\n",
       "    <tr>\n",
       "      <th>26</th>\n",
       "      <td>749700.0</td>\n",
       "      <td>520188.617984</td>\n",
       "    </tr>\n",
       "    <tr>\n",
       "      <th>27</th>\n",
       "      <td>270000.0</td>\n",
       "      <td>520188.617984</td>\n",
       "    </tr>\n",
       "    <tr>\n",
       "      <th>28</th>\n",
       "      <td>40500.0</td>\n",
       "      <td>520220.000588</td>\n",
       "    </tr>\n",
       "    <tr>\n",
       "      <th>29</th>\n",
       "      <td>419900.0</td>\n",
       "      <td>520182.341463</td>\n",
       "    </tr>\n",
       "  </tbody>\n",
       "</table>\n",
       "</div>"
      ],
      "text/plain": [
       "       Actual      Predicted\n",
       "0     59900.0  520191.756244\n",
       "1     70000.0  520190.859599\n",
       "2    175000.0  520224.932140\n",
       "3    900000.0  520191.756244\n",
       "4     63600.0  520185.479724\n",
       "5    358900.0  520189.066307\n",
       "6     44000.0  520194.446182\n",
       "7    669900.0  520182.341463\n",
       "8    175000.0  520224.932140\n",
       "9    399000.0  520185.031401\n",
       "10   709900.0  520181.893140\n",
       "11   450000.0  520286.352379\n",
       "12   335900.0  520188.169661\n",
       "13   229900.0  520184.134755\n",
       "14   280000.0  520192.204567\n",
       "15   234900.0  520191.756244\n",
       "16   590000.0  520191.756244\n",
       "17   949000.0  520187.273015\n",
       "18    15800.0  520247.348286\n",
       "19  1150000.0  520195.791151\n",
       "20   215000.0  520187.273015\n",
       "21   159900.0  520191.756244\n",
       "22  3599000.0  520185.031401\n",
       "23  1299000.0  520191.756244\n",
       "24   200000.0  520351.807524\n",
       "25   385200.0  521619.216400\n",
       "26   749700.0  520188.617984\n",
       "27   270000.0  520188.617984\n",
       "28    40500.0  520220.000588\n",
       "29   419900.0  520182.341463"
      ]
     },
     "execution_count": 21,
     "metadata": {},
     "output_type": "execute_result"
    }
   ],
   "source": [
    "# Create a dataframe comparing the actual and predicted values of y.\n",
    "\n",
    "data = pd.DataFrame({'Actual': y_test.flatten(), 'Predicted': y_predicted.flatten()})\n",
    "data.head(30)"
   ]
  },
  {
   "cell_type": "markdown",
   "id": "0e7b2357",
   "metadata": {},
   "source": [
    "##### Compare how the regression fits the training set"
   ]
  },
  {
   "cell_type": "code",
   "execution_count": 22,
   "id": "050931d2",
   "metadata": {},
   "outputs": [],
   "source": [
    "# Predict.\n",
    "\n",
    "y_predicted_train = regression.predict(X_train) # This is predicting X_train!"
   ]
  },
  {
   "cell_type": "code",
   "execution_count": 23,
   "id": "34a5bdf1",
   "metadata": {},
   "outputs": [],
   "source": [
    "rmse = mean_squared_error(y_train, y_predicted_train)\n",
    "r2 = r2_score(y_train, y_predicted_train)"
   ]
  },
  {
   "cell_type": "code",
   "execution_count": 24,
   "id": "5a503f5f",
   "metadata": {},
   "outputs": [
    {
     "name": "stdout",
     "output_type": "stream",
     "text": [
      "Slope: [[44.83229133]]\n",
      "Mean squared error:  1292042243427.1018\n",
      "R2 score:  0.000776271568361131\n"
     ]
    }
   ],
   "source": [
    "print('Slope:' ,regression.coef_)\n",
    "print('Mean squared error: ', rmse)\n",
    "print('R2 score: ', r2)"
   ]
  },
  {
   "cell_type": "markdown",
   "id": "4e1c841e",
   "metadata": {},
   "source": [
    "##### Compare to prior scores indicated below:\n",
    "##### Slope: [[44.83229133]]  (slope is the same)\n",
    "##### Mean squared error:  1302013164047.8013 (mean squared is higher but similar)\n",
    "##### R2 score:  0.00020831045108560264 (R2 score is close to 0, meaning not a good fit)"
   ]
  },
  {
   "cell_type": "code",
   "execution_count": 25,
   "id": "1e6a518d",
   "metadata": {},
   "outputs": [
    {
     "data": {
      "image/png": "[encoded data removed]",
      "text/plain": [
       "<Figure size 640x480 with 1 Axes>"
      ]
     },
     "metadata": {},
     "output_type": "display_data"
    }
   ],
   "source": [
    "# Visualizing the training set results.\n",
    "\n",
    "plot_test = plt\n",
    "plot_test.scatter(X_train, y_train, color='green', s = 15)\n",
    "plot_test.plot(X_train, y_predicted_train, color='red', linewidth =3)\n",
    "plot_test.title('acre lot vs price (Train set)')\n",
    "plot_test.xlabel('acre_lot')\n",
    "plot_test.ylabel('price')\n",
    "plot_test.savefig('train_plot_acre_lot_price.png')\n",
    "plot_test.show()"
   ]
  },
  {
   "cell_type": "code",
   "execution_count": 26,
   "id": "607cfa07",
   "metadata": {},
   "outputs": [
    {
     "data": {
      "text/plain": [
       "12.981918592121072"
      ]
     },
     "execution_count": 26,
     "metadata": {},
     "output_type": "execute_result"
    }
   ],
   "source": [
    "#check mean\n",
    "df['acre_lot'].mean()"
   ]
  },
  {
   "cell_type": "code",
   "execution_count": 27,
   "id": "3b2f3c82",
   "metadata": {},
   "outputs": [
    {
     "data": {
      "text/plain": [
       "0.26"
      ]
     },
     "execution_count": 27,
     "metadata": {},
     "output_type": "execute_result"
    }
   ],
   "source": [
    "#check median\n",
    "df['acre_lot'].median()"
   ]
  },
  {
   "cell_type": "code",
   "execution_count": 28,
   "id": "fbdb3ddd",
   "metadata": {},
   "outputs": [
    {
     "data": {
      "text/plain": [
       "100000.0"
      ]
     },
     "execution_count": 28,
     "metadata": {},
     "output_type": "execute_result"
    }
   ],
   "source": [
    "#check max\n",
    "df['acre_lot'].max()"
   ]
  },
  {
   "cell_type": "code",
   "execution_count": 29,
   "id": "386b9970",
   "metadata": {},
   "outputs": [
    {
     "data": {
      "text/plain": [
       "0.01"
      ]
     },
     "execution_count": 29,
     "metadata": {},
     "output_type": "execute_result"
    }
   ],
   "source": [
    "#check min\n",
    "df['acre_lot'].min()"
   ]
  },
  {
   "cell_type": "markdown",
   "id": "17679caf",
   "metadata": {},
   "source": [
    "### Bonus: performance improvement after removing outliers"
   ]
  },
  {
   "cell_type": "code",
   "execution_count": 30,
   "id": "5343c430",
   "metadata": {},
   "outputs": [],
   "source": [
    "# Clean the extreme values from the \"Price per Unit\" variable observed during the consistency checks.\n",
    "\n",
    "df_test = df[df['price'] <=100] "
   ]
  },
  {
   "cell_type": "code",
   "execution_count": 33,
   "id": "47b00104",
   "metadata": {},
   "outputs": [
    {
     "data": {
      "image/png": "[encoded data removed]",
      "text/plain": [
       "<Figure size 640x480 with 1 Axes>"
      ]
     },
     "metadata": {},
     "output_type": "display_data"
    }
   ],
   "source": [
    "# See how the scatterplot looks without outliers.\n",
    "\n",
    "df_test.plot(x = 'acre_lot', y='price', style='o')  \n",
    "plt.title('acre_lot vs price')  \n",
    "plt.xlabel('acre_lot')  \n",
    "plt.ylabel('Price')  \n",
    "plt.savefig('scatterplot2_acre_lot_price.png')\n",
    "plt.show()"
   ]
  },
  {
   "cell_type": "code",
   "execution_count": 34,
   "id": "121b5735",
   "metadata": {},
   "outputs": [],
   "source": [
    "# Reshape again.\n",
    "\n",
    "X_2 = df_test['acre_lot'].values.reshape(-1,1)\n",
    "y_2 = df_test['price'].values.reshape(-1,1)"
   ]
  },
  {
   "cell_type": "code",
   "execution_count": 35,
   "id": "bcfbe6fd",
   "metadata": {},
   "outputs": [],
   "source": [
    "X_train_2, X_test_2, y_train_2, y_test_2 = train_test_split(X_2, y_2, test_size=0.3, random_state=0)"
   ]
  },
  {
   "cell_type": "code",
   "execution_count": 36,
   "id": "eec04821",
   "metadata": {},
   "outputs": [
    {
     "data": {
      "text/html": [
       "<style>#sk-container-id-2 {color: black;background-color: white;}#sk-container-id-2 pre{padding: 0;}#sk-container-id-2 div.sk-toggleable {background-color: white;}#sk-container-id-2 label.sk-toggleable__label {cursor: pointer;display: block;width: 100%;margin-bottom: 0;padding: 0.3em;box-sizing: border-box;text-align: center;}#sk-container-id-2 label.sk-toggleable__label-arrow:before {content: \"▸\";float: left;margin-right: 0.25em;color: #696969;}#sk-container-id-2 label.sk-toggleable__label-arrow:hover:before {color: black;}#sk-container-id-2 div.sk-estimator:hover label.sk-toggleable__label-arrow:before {color: black;}#sk-container-id-2 div.sk-toggleable__content {max-height: 0;max-width: 0;overflow: hidden;text-align: left;background-color: #f0f8ff;}#sk-container-id-2 div.sk-toggleable__content pre {margin: 0.2em;color: black;border-radius: 0.25em;background-color: #f0f8ff;}#sk-container-id-2 input.sk-toggleable__control:checked~div.sk-toggleable__content {max-height: 200px;max-width: 100%;overflow: auto;}#sk-container-id-2 input.sk-toggleable__control:checked~label.sk-toggleable__label-arrow:before {content: \"▾\";}#sk-container-id-2 div.sk-estimator input.sk-toggleable__control:checked~label.sk-toggleable__label {background-color: #d4ebff;}#sk-container-id-2 div.sk-label input.sk-toggleable__control:checked~label.sk-toggleable__label {background-color: #d4ebff;}#sk-container-id-2 input.sk-hidden--visually {border: 0;clip: rect(1px 1px 1px 1px);clip: rect(1px, 1px, 1px, 1px);height: 1px;margin: -1px;overflow: hidden;padding: 0;position: absolute;width: 1px;}#sk-container-id-2 div.sk-estimator {font-family: monospace;background-color: #f0f8ff;border: 1px dotted black;border-radius: 0.25em;box-sizing: border-box;margin-bottom: 0.5em;}#sk-container-id-2 div.sk-estimator:hover {background-color: #d4ebff;}#sk-container-id-2 div.sk-parallel-item::after {content: \"\";width: 100%;border-bottom: 1px solid gray;flex-grow: 1;}#sk-container-id-2 div.sk-label:hover label.sk-toggleable__label {background-color: #d4ebff;}#sk-container-id-2 div.sk-serial::before {content: \"\";position: absolute;border-left: 1px solid gray;box-sizing: border-box;top: 0;bottom: 0;left: 50%;z-index: 0;}#sk-container-id-2 div.sk-serial {display: flex;flex-direction: column;align-items: center;background-color: white;padding-right: 0.2em;padding-left: 0.2em;position: relative;}#sk-container-id-2 div.sk-item {position: relative;z-index: 1;}#sk-container-id-2 div.sk-parallel {display: flex;align-items: stretch;justify-content: center;background-color: white;position: relative;}#sk-container-id-2 div.sk-item::before, #sk-container-id-2 div.sk-parallel-item::before {content: \"\";position: absolute;border-left: 1px solid gray;box-sizing: border-box;top: 0;bottom: 0;left: 50%;z-index: -1;}#sk-container-id-2 div.sk-parallel-item {display: flex;flex-direction: column;z-index: 1;position: relative;background-color: white;}#sk-container-id-2 div.sk-parallel-item:first-child::after {align-self: flex-end;width: 50%;}#sk-container-id-2 div.sk-parallel-item:last-child::after {align-self: flex-start;width: 50%;}#sk-container-id-2 div.sk-parallel-item:only-child::after {width: 0;}#sk-container-id-2 div.sk-dashed-wrapped {border: 1px dashed gray;margin: 0 0.4em 0.5em 0.4em;box-sizing: border-box;padding-bottom: 0.4em;background-color: white;}#sk-container-id-2 div.sk-label label {font-family: monospace;font-weight: bold;display: inline-block;line-height: 1.2em;}#sk-container-id-2 div.sk-label-container {text-align: center;}#sk-container-id-2 div.sk-container {/* jupyter's `normalize.less` sets `[hidden] { display: none; }` but bootstrap.min.css set `[hidden] { display: none !important; }` so we also need the `!important` here to be able to override the default hidden behavior on the sphinx rendered scikit-learn.org. See: https://github.com/scikit-learn/scikit-learn/issues/21755 */display: inline-block !important;position: relative;}#sk-container-id-2 div.sk-text-repr-fallback {display: none;}</style><div id=\"sk-container-id-2\" class=\"sk-top-container\"><div class=\"sk-text-repr-fallback\"><pre>LinearRegression()</pre><b>In a Jupyter environment, please rerun this cell to show the HTML representation or trust the notebook. <br />On GitHub, the HTML representation is unable to render, please try loading this page with nbviewer.org.</b></div><div class=\"sk-container\" hidden><div class=\"sk-item\"><div class=\"sk-estimator sk-toggleable\"><input class=\"sk-toggleable__control sk-hidden--visually\" id=\"sk-estimator-id-2\" type=\"checkbox\" checked><label for=\"sk-estimator-id-2\" class=\"sk-toggleable__label sk-toggleable__label-arrow\">LinearRegression</label><div class=\"sk-toggleable__content\"><pre>LinearRegression()</pre></div></div></div></div></div>"
      ],
      "text/plain": [
       "LinearRegression()"
      ]
     },
     "execution_count": 36,
     "metadata": {},
     "output_type": "execute_result"
    }
   ],
   "source": [
    "# Run and fit the regression.\n",
    "\n",
    "regression = LinearRegression()  \n",
    "regression.fit(X_train_2, y_train_2)"
   ]
  },
  {
   "cell_type": "code",
   "execution_count": 37,
   "id": "57eeb3d0",
   "metadata": {},
   "outputs": [],
   "source": [
    "# Predict.\n",
    "\n",
    "y_predicted_2 = regression.predict(X_test_2)"
   ]
  },
  {
   "cell_type": "code",
   "execution_count": 38,
   "id": "562d82ed",
   "metadata": {},
   "outputs": [],
   "source": [
    "rmse = mean_squared_error(y_test_2, y_predicted_2)\n",
    "r2 = r2_score(y_test_2, y_predicted_2)"
   ]
  },
  {
   "cell_type": "code",
   "execution_count": 39,
   "id": "6ed45e78",
   "metadata": {},
   "outputs": [
    {
     "name": "stdout",
     "output_type": "stream",
     "text": [
      "Slope: [[-0.02377436]]\n",
      "Mean squared error:  661.7706533579096\n",
      "R2 score:  0.023671108047749634\n"
     ]
    }
   ],
   "source": [
    "print('Slope:' ,regression.coef_)\n",
    "print('Mean squared error: ', rmse)\n",
    "print('R2 score: ', r2)"
   ]
  },
  {
   "cell_type": "markdown",
   "id": "e1ae1569",
   "metadata": {},
   "source": [
    "##### negative slope is indicated ( as x rises, y drops, meaning as acre_lot rises, price drops)\n",
    "##### MSE is very large indicating not a good fit (data varies too much)\n",
    "##### R2 score is closer to 0, indicating a poor fit."
   ]
  },
  {
   "cell_type": "code",
   "execution_count": 40,
   "id": "9fbc4b91",
   "metadata": {},
   "outputs": [
    {
     "data": {
      "text/html": [
       "<div>\n",
       "<style scoped>\n",
       "    .dataframe tbody tr th:only-of-type {\n",
       "        vertical-align: middle;\n",
       "    }\n",
       "\n",
       "    .dataframe tbody tr th {\n",
       "        vertical-align: top;\n",
       "    }\n",
       "\n",
       "    .dataframe thead th {\n",
       "        text-align: right;\n",
       "    }\n",
       "</style>\n",
       "<table border=\"1\" class=\"dataframe\">\n",
       "  <thead>\n",
       "    <tr style=\"text-align: right;\">\n",
       "      <th></th>\n",
       "      <th>Actual</th>\n",
       "      <th>Predicted</th>\n",
       "    </tr>\n",
       "  </thead>\n",
       "  <tbody>\n",
       "    <tr>\n",
       "      <th>0</th>\n",
       "      <td>1.0</td>\n",
       "      <td>9.267540</td>\n",
       "    </tr>\n",
       "    <tr>\n",
       "      <th>1</th>\n",
       "      <td>1.0</td>\n",
       "      <td>13.037677</td>\n",
       "    </tr>\n",
       "    <tr>\n",
       "      <th>2</th>\n",
       "      <td>1.0</td>\n",
       "      <td>11.603846</td>\n",
       "    </tr>\n",
       "    <tr>\n",
       "      <th>3</th>\n",
       "      <td>1.0</td>\n",
       "      <td>7.722206</td>\n",
       "    </tr>\n",
       "    <tr>\n",
       "      <th>4</th>\n",
       "      <td>50.0</td>\n",
       "      <td>13.065256</td>\n",
       "    </tr>\n",
       "    <tr>\n",
       "      <th>5</th>\n",
       "      <td>50.0</td>\n",
       "      <td>13.065256</td>\n",
       "    </tr>\n",
       "    <tr>\n",
       "      <th>6</th>\n",
       "      <td>50.0</td>\n",
       "      <td>13.065256</td>\n",
       "    </tr>\n",
       "    <tr>\n",
       "      <th>7</th>\n",
       "      <td>100.0</td>\n",
       "      <td>13.057886</td>\n",
       "    </tr>\n",
       "    <tr>\n",
       "      <th>8</th>\n",
       "      <td>1.0</td>\n",
       "      <td>13.065256</td>\n",
       "    </tr>\n",
       "    <tr>\n",
       "      <th>9</th>\n",
       "      <td>1.0</td>\n",
       "      <td>10.848534</td>\n",
       "    </tr>\n",
       "    <tr>\n",
       "      <th>10</th>\n",
       "      <td>1.0</td>\n",
       "      <td>11.169488</td>\n",
       "    </tr>\n",
       "    <tr>\n",
       "      <th>11</th>\n",
       "      <td>1.0</td>\n",
       "      <td>8.705276</td>\n",
       "    </tr>\n",
       "    <tr>\n",
       "      <th>12</th>\n",
       "      <td>50.0</td>\n",
       "      <td>13.065256</td>\n",
       "    </tr>\n",
       "    <tr>\n",
       "      <th>13</th>\n",
       "      <td>50.0</td>\n",
       "      <td>13.065256</td>\n",
       "    </tr>\n",
       "    <tr>\n",
       "      <th>14</th>\n",
       "      <td>1.0</td>\n",
       "      <td>13.066207</td>\n",
       "    </tr>\n",
       "    <tr>\n",
       "      <th>15</th>\n",
       "      <td>10.0</td>\n",
       "      <td>13.065256</td>\n",
       "    </tr>\n",
       "    <tr>\n",
       "      <th>16</th>\n",
       "      <td>1.0</td>\n",
       "      <td>11.169488</td>\n",
       "    </tr>\n",
       "    <tr>\n",
       "      <th>17</th>\n",
       "      <td>1.0</td>\n",
       "      <td>11.226785</td>\n",
       "    </tr>\n",
       "    <tr>\n",
       "      <th>18</th>\n",
       "      <td>1.0</td>\n",
       "      <td>5.511191</td>\n",
       "    </tr>\n",
       "    <tr>\n",
       "      <th>19</th>\n",
       "      <td>1.0</td>\n",
       "      <td>13.069773</td>\n",
       "    </tr>\n",
       "    <tr>\n",
       "      <th>20</th>\n",
       "      <td>1.0</td>\n",
       "      <td>13.021986</td>\n",
       "    </tr>\n",
       "    <tr>\n",
       "      <th>21</th>\n",
       "      <td>1.0</td>\n",
       "      <td>8.459211</td>\n",
       "    </tr>\n",
       "    <tr>\n",
       "      <th>22</th>\n",
       "      <td>1.0</td>\n",
       "      <td>13.067871</td>\n",
       "    </tr>\n",
       "    <tr>\n",
       "      <th>23</th>\n",
       "      <td>50.0</td>\n",
       "      <td>13.065256</td>\n",
       "    </tr>\n",
       "    <tr>\n",
       "      <th>24</th>\n",
       "      <td>1.0</td>\n",
       "      <td>9.807218</td>\n",
       "    </tr>\n",
       "    <tr>\n",
       "      <th>25</th>\n",
       "      <td>50.0</td>\n",
       "      <td>13.065256</td>\n",
       "    </tr>\n",
       "    <tr>\n",
       "      <th>26</th>\n",
       "      <td>1.0</td>\n",
       "      <td>12.884571</td>\n",
       "    </tr>\n",
       "    <tr>\n",
       "      <th>27</th>\n",
       "      <td>100.0</td>\n",
       "      <td>13.063354</td>\n",
       "    </tr>\n",
       "    <tr>\n",
       "      <th>28</th>\n",
       "      <td>1.0</td>\n",
       "      <td>13.044810</td>\n",
       "    </tr>\n",
       "    <tr>\n",
       "      <th>29</th>\n",
       "      <td>1.0</td>\n",
       "      <td>13.060739</td>\n",
       "    </tr>\n",
       "  </tbody>\n",
       "</table>\n",
       "</div>"
      ],
      "text/plain": [
       "    Actual  Predicted\n",
       "0      1.0   9.267540\n",
       "1      1.0  13.037677\n",
       "2      1.0  11.603846\n",
       "3      1.0   7.722206\n",
       "4     50.0  13.065256\n",
       "5     50.0  13.065256\n",
       "6     50.0  13.065256\n",
       "7    100.0  13.057886\n",
       "8      1.0  13.065256\n",
       "9      1.0  10.848534\n",
       "10     1.0  11.169488\n",
       "11     1.0   8.705276\n",
       "12    50.0  13.065256\n",
       "13    50.0  13.065256\n",
       "14     1.0  13.066207\n",
       "15    10.0  13.065256\n",
       "16     1.0  11.169488\n",
       "17     1.0  11.226785\n",
       "18     1.0   5.511191\n",
       "19     1.0  13.069773\n",
       "20     1.0  13.021986\n",
       "21     1.0   8.459211\n",
       "22     1.0  13.067871\n",
       "23    50.0  13.065256\n",
       "24     1.0   9.807218\n",
       "25    50.0  13.065256\n",
       "26     1.0  12.884571\n",
       "27   100.0  13.063354\n",
       "28     1.0  13.044810\n",
       "29     1.0  13.060739"
      ]
     },
     "execution_count": 40,
     "metadata": {},
     "output_type": "execute_result"
    }
   ],
   "source": [
    "data = pd.DataFrame({'Actual': y_test_2.flatten(), 'Predicted': y_predicted_2.flatten()})\n",
    "data.head(30)"
   ]
  },
  {
   "cell_type": "markdown",
   "id": "df96d246",
   "metadata": {},
   "source": [
    "#### this data is a bit difficult to interpret, but the main take home factor is that this is showing that my hypothesis is false and that the bigger the acre lot, the lower the price of the home. \n",
    "##### I still have to get to the bottom of the pricing here.  Why do both my predicted variables of (number of bedrooms and size of acre lot) suggest that very high prices upon lower numbers.  I need to further investigate why this trend is happening consistently.  This information could be causing bias on the outcome of the total data points being measured, impacting any trend or correlation that could potentially be observed."
   ]
  },
  {
   "cell_type": "code",
   "execution_count": null,
   "id": "769cb99e",
   "metadata": {},
   "outputs": [],
   "source": []
  }
 ],
 "metadata": {
  "kernelspec": {
   "display_name": "Python 3 (ipykernel)",
   "language": "python",
   "name": "python3"
  },
  "language_info": {
   "codemirror_mode": {
    "name": "ipython",
    "version": 3
   },
   "file_extension": ".py",
   "mimetype": "text/x-python",
   "name": "python",
   "nbconvert_exporter": "python",
   "pygments_lexer": "ipython3",
   "version": "3.11.7"
  }
 },
 "nbformat": 4,
 "nbformat_minor": 5
}
