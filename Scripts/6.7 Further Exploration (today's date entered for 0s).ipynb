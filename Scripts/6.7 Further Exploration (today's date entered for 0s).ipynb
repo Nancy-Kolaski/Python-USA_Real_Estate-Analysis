{
 "cells": [
  {
   "cell_type": "markdown",
   "id": "f7e1c7bc",
   "metadata": {},
   "source": [
    "# 6.7 Further Exploration"
   ]
  },
  {
   "cell_type": "markdown",
   "id": "8116b290",
   "metadata": {},
   "source": [
    "## This script contains the following:\n",
    "\n",
    "#### Importing your libraries and data\n",
    "#### Subsetting, wrangling, and cleaning time-series data\n",
    "#### Scatterplot: Price and Prev_sold_date\n",
    "#### Create new column 'lot_classification' based on acre_lot size\n",
    "#### Adjust 0s in prev_sold_date column to today's date for ease of analyzing data\n",
    "#### Export new data\n"
   ]
  },
  {
   "cell_type": "code",
   "execution_count": 1,
   "id": "83ed01c3",
   "metadata": {},
   "outputs": [],
   "source": [
    "import pandas as pd\n",
    "import numpy as np\n",
    "import seaborn as sns\n",
    "import matplotlib\n",
    "import matplotlib.pyplot as plt\n",
    "import os\n",
    "import sklearn\n",
    "from sklearn.cluster import KMeans # Here is where you import the k-means algorithm from scikit-learn.\n",
    "import pylab as pl # PyLab is a convenience module that bulk imports matplotlib.\n"
   ]
  },
  {
   "cell_type": "code",
   "execution_count": 2,
   "id": "70d74436",
   "metadata": {},
   "outputs": [],
   "source": [
    "# This option ensures the graphs you create are displayed in your notebook without the need to \"call\" them specifically.\n",
    "\n",
    "%matplotlib inline"
   ]
  },
  {
   "cell_type": "code",
   "execution_count": 3,
   "id": "003ef807",
   "metadata": {},
   "outputs": [],
   "source": [
    "path = r'/Users/nancykray/Desktop/Real Estate Project'"
   ]
  },
  {
   "cell_type": "code",
   "execution_count": 4,
   "id": "5e86cd88",
   "metadata": {},
   "outputs": [],
   "source": [
    "df = pd.read_pickle(os.path.join(path,'Prepared Data', 're_clean9.pkl'))"
   ]
  },
  {
   "cell_type": "code",
   "execution_count": 5,
   "id": "5319fb9a",
   "metadata": {},
   "outputs": [
    {
     "data": {
      "text/html": [
       "<div>\n",
       "<style scoped>\n",
       "    .dataframe tbody tr th:only-of-type {\n",
       "        vertical-align: middle;\n",
       "    }\n",
       "\n",
       "    .dataframe tbody tr th {\n",
       "        vertical-align: top;\n",
       "    }\n",
       "\n",
       "    .dataframe thead th {\n",
       "        text-align: right;\n",
       "    }\n",
       "</style>\n",
       "<table border=\"1\" class=\"dataframe\">\n",
       "  <thead>\n",
       "    <tr style=\"text-align: right;\">\n",
       "      <th></th>\n",
       "      <th>brokered_by</th>\n",
       "      <th>status</th>\n",
       "      <th>price</th>\n",
       "      <th>bed</th>\n",
       "      <th>bath</th>\n",
       "      <th>acre_lot</th>\n",
       "      <th>street</th>\n",
       "      <th>city</th>\n",
       "      <th>state</th>\n",
       "      <th>zip_code</th>\n",
       "      <th>house_size</th>\n",
       "      <th>prev_sold_date</th>\n",
       "      <th>Price category</th>\n",
       "      <th>status_id</th>\n",
       "      <th>new_build</th>\n",
       "    </tr>\n",
       "  </thead>\n",
       "  <tbody>\n",
       "    <tr>\n",
       "      <th>0</th>\n",
       "      <td>103378.0</td>\n",
       "      <td>for_sale</td>\n",
       "      <td>105000.0</td>\n",
       "      <td>3.0</td>\n",
       "      <td>2.0</td>\n",
       "      <td>0.12</td>\n",
       "      <td>1962661.0</td>\n",
       "      <td>Adjuntas</td>\n",
       "      <td>Puerto Rico</td>\n",
       "      <td>601.0</td>\n",
       "      <td>920.000</td>\n",
       "      <td>0</td>\n",
       "      <td>Low price</td>\n",
       "      <td>1</td>\n",
       "      <td>new_build</td>\n",
       "    </tr>\n",
       "    <tr>\n",
       "      <th>1</th>\n",
       "      <td>52707.0</td>\n",
       "      <td>for_sale</td>\n",
       "      <td>80000.0</td>\n",
       "      <td>4.0</td>\n",
       "      <td>2.0</td>\n",
       "      <td>0.08</td>\n",
       "      <td>1902874.0</td>\n",
       "      <td>Adjuntas</td>\n",
       "      <td>Puerto Rico</td>\n",
       "      <td>601.0</td>\n",
       "      <td>1527.000</td>\n",
       "      <td>0</td>\n",
       "      <td>Low price</td>\n",
       "      <td>1</td>\n",
       "      <td>new_build</td>\n",
       "    </tr>\n",
       "    <tr>\n",
       "      <th>2</th>\n",
       "      <td>103379.0</td>\n",
       "      <td>for_sale</td>\n",
       "      <td>67000.0</td>\n",
       "      <td>2.0</td>\n",
       "      <td>1.0</td>\n",
       "      <td>0.15</td>\n",
       "      <td>1404990.0</td>\n",
       "      <td>Juana Diaz</td>\n",
       "      <td>Puerto Rico</td>\n",
       "      <td>795.0</td>\n",
       "      <td>748.000</td>\n",
       "      <td>0</td>\n",
       "      <td>Low price</td>\n",
       "      <td>1</td>\n",
       "      <td>new_build</td>\n",
       "    </tr>\n",
       "    <tr>\n",
       "      <th>3</th>\n",
       "      <td>31239.0</td>\n",
       "      <td>for_sale</td>\n",
       "      <td>145000.0</td>\n",
       "      <td>4.0</td>\n",
       "      <td>2.0</td>\n",
       "      <td>0.10</td>\n",
       "      <td>1947675.0</td>\n",
       "      <td>Ponce</td>\n",
       "      <td>Puerto Rico</td>\n",
       "      <td>731.0</td>\n",
       "      <td>1800.000</td>\n",
       "      <td>0</td>\n",
       "      <td>Low price</td>\n",
       "      <td>1</td>\n",
       "      <td>new_build</td>\n",
       "    </tr>\n",
       "    <tr>\n",
       "      <th>4</th>\n",
       "      <td>34632.0</td>\n",
       "      <td>for_sale</td>\n",
       "      <td>65000.0</td>\n",
       "      <td>6.0</td>\n",
       "      <td>2.0</td>\n",
       "      <td>0.05</td>\n",
       "      <td>331151.0</td>\n",
       "      <td>Mayaguez</td>\n",
       "      <td>Puerto Rico</td>\n",
       "      <td>680.0</td>\n",
       "      <td>2715.133</td>\n",
       "      <td>0</td>\n",
       "      <td>Low price</td>\n",
       "      <td>1</td>\n",
       "      <td>new_build</td>\n",
       "    </tr>\n",
       "  </tbody>\n",
       "</table>\n",
       "</div>"
      ],
      "text/plain": [
       "   brokered_by    status     price  bed  bath  acre_lot     street  \\\n",
       "0     103378.0  for_sale  105000.0  3.0   2.0      0.12  1962661.0   \n",
       "1      52707.0  for_sale   80000.0  4.0   2.0      0.08  1902874.0   \n",
       "2     103379.0  for_sale   67000.0  2.0   1.0      0.15  1404990.0   \n",
       "3      31239.0  for_sale  145000.0  4.0   2.0      0.10  1947675.0   \n",
       "4      34632.0  for_sale   65000.0  6.0   2.0      0.05   331151.0   \n",
       "\n",
       "         city        state  zip_code  house_size prev_sold_date  \\\n",
       "0    Adjuntas  Puerto Rico     601.0     920.000              0   \n",
       "1    Adjuntas  Puerto Rico     601.0    1527.000              0   \n",
       "2  Juana Diaz  Puerto Rico     795.0     748.000              0   \n",
       "3       Ponce  Puerto Rico     731.0    1800.000              0   \n",
       "4    Mayaguez  Puerto Rico     680.0    2715.133              0   \n",
       "\n",
       "  Price category  status_id  new_build  \n",
       "0      Low price          1  new_build  \n",
       "1      Low price          1  new_build  \n",
       "2      Low price          1  new_build  \n",
       "3      Low price          1  new_build  \n",
       "4      Low price          1  new_build  "
      ]
     },
     "execution_count": 5,
     "metadata": {},
     "output_type": "execute_result"
    }
   ],
   "source": [
    "df.head()"
   ]
  },
  {
   "cell_type": "code",
   "execution_count": 6,
   "id": "59fe38d3",
   "metadata": {},
   "outputs": [],
   "source": [
    "# Reordering the columns\n",
    "new_column_order = ['brokered_by', 'status', 'status_id', 'price', 'bed', 'bath','acre_lot', 'street', 'city', 'state', 'city', 'state', 'zip_code', 'house_size', 'prev_sold_date', 'Price category', 'new_build']\n",
    "df = df[new_column_order]"
   ]
  },
  {
   "cell_type": "code",
   "execution_count": 7,
   "id": "4ad87379",
   "metadata": {},
   "outputs": [
    {
     "data": {
      "text/html": [
       "<div>\n",
       "<style scoped>\n",
       "    .dataframe tbody tr th:only-of-type {\n",
       "        vertical-align: middle;\n",
       "    }\n",
       "\n",
       "    .dataframe tbody tr th {\n",
       "        vertical-align: top;\n",
       "    }\n",
       "\n",
       "    .dataframe thead th {\n",
       "        text-align: right;\n",
       "    }\n",
       "</style>\n",
       "<table border=\"1\" class=\"dataframe\">\n",
       "  <thead>\n",
       "    <tr style=\"text-align: right;\">\n",
       "      <th></th>\n",
       "      <th>brokered_by</th>\n",
       "      <th>status</th>\n",
       "      <th>status_id</th>\n",
       "      <th>price</th>\n",
       "      <th>bed</th>\n",
       "      <th>bath</th>\n",
       "      <th>acre_lot</th>\n",
       "      <th>street</th>\n",
       "      <th>city</th>\n",
       "      <th>state</th>\n",
       "      <th>city</th>\n",
       "      <th>state</th>\n",
       "      <th>zip_code</th>\n",
       "      <th>house_size</th>\n",
       "      <th>prev_sold_date</th>\n",
       "      <th>Price category</th>\n",
       "      <th>new_build</th>\n",
       "    </tr>\n",
       "  </thead>\n",
       "  <tbody>\n",
       "    <tr>\n",
       "      <th>0</th>\n",
       "      <td>103378.0</td>\n",
       "      <td>for_sale</td>\n",
       "      <td>1</td>\n",
       "      <td>105000.0</td>\n",
       "      <td>3.0</td>\n",
       "      <td>2.0</td>\n",
       "      <td>0.12</td>\n",
       "      <td>1962661.0</td>\n",
       "      <td>Adjuntas</td>\n",
       "      <td>Puerto Rico</td>\n",
       "      <td>Adjuntas</td>\n",
       "      <td>Puerto Rico</td>\n",
       "      <td>601.0</td>\n",
       "      <td>920.000</td>\n",
       "      <td>0</td>\n",
       "      <td>Low price</td>\n",
       "      <td>new_build</td>\n",
       "    </tr>\n",
       "    <tr>\n",
       "      <th>1</th>\n",
       "      <td>52707.0</td>\n",
       "      <td>for_sale</td>\n",
       "      <td>1</td>\n",
       "      <td>80000.0</td>\n",
       "      <td>4.0</td>\n",
       "      <td>2.0</td>\n",
       "      <td>0.08</td>\n",
       "      <td>1902874.0</td>\n",
       "      <td>Adjuntas</td>\n",
       "      <td>Puerto Rico</td>\n",
       "      <td>Adjuntas</td>\n",
       "      <td>Puerto Rico</td>\n",
       "      <td>601.0</td>\n",
       "      <td>1527.000</td>\n",
       "      <td>0</td>\n",
       "      <td>Low price</td>\n",
       "      <td>new_build</td>\n",
       "    </tr>\n",
       "    <tr>\n",
       "      <th>2</th>\n",
       "      <td>103379.0</td>\n",
       "      <td>for_sale</td>\n",
       "      <td>1</td>\n",
       "      <td>67000.0</td>\n",
       "      <td>2.0</td>\n",
       "      <td>1.0</td>\n",
       "      <td>0.15</td>\n",
       "      <td>1404990.0</td>\n",
       "      <td>Juana Diaz</td>\n",
       "      <td>Puerto Rico</td>\n",
       "      <td>Juana Diaz</td>\n",
       "      <td>Puerto Rico</td>\n",
       "      <td>795.0</td>\n",
       "      <td>748.000</td>\n",
       "      <td>0</td>\n",
       "      <td>Low price</td>\n",
       "      <td>new_build</td>\n",
       "    </tr>\n",
       "    <tr>\n",
       "      <th>3</th>\n",
       "      <td>31239.0</td>\n",
       "      <td>for_sale</td>\n",
       "      <td>1</td>\n",
       "      <td>145000.0</td>\n",
       "      <td>4.0</td>\n",
       "      <td>2.0</td>\n",
       "      <td>0.10</td>\n",
       "      <td>1947675.0</td>\n",
       "      <td>Ponce</td>\n",
       "      <td>Puerto Rico</td>\n",
       "      <td>Ponce</td>\n",
       "      <td>Puerto Rico</td>\n",
       "      <td>731.0</td>\n",
       "      <td>1800.000</td>\n",
       "      <td>0</td>\n",
       "      <td>Low price</td>\n",
       "      <td>new_build</td>\n",
       "    </tr>\n",
       "    <tr>\n",
       "      <th>4</th>\n",
       "      <td>34632.0</td>\n",
       "      <td>for_sale</td>\n",
       "      <td>1</td>\n",
       "      <td>65000.0</td>\n",
       "      <td>6.0</td>\n",
       "      <td>2.0</td>\n",
       "      <td>0.05</td>\n",
       "      <td>331151.0</td>\n",
       "      <td>Mayaguez</td>\n",
       "      <td>Puerto Rico</td>\n",
       "      <td>Mayaguez</td>\n",
       "      <td>Puerto Rico</td>\n",
       "      <td>680.0</td>\n",
       "      <td>2715.133</td>\n",
       "      <td>0</td>\n",
       "      <td>Low price</td>\n",
       "      <td>new_build</td>\n",
       "    </tr>\n",
       "  </tbody>\n",
       "</table>\n",
       "</div>"
      ],
      "text/plain": [
       "   brokered_by    status  status_id     price  bed  bath  acre_lot     street  \\\n",
       "0     103378.0  for_sale          1  105000.0  3.0   2.0      0.12  1962661.0   \n",
       "1      52707.0  for_sale          1   80000.0  4.0   2.0      0.08  1902874.0   \n",
       "2     103379.0  for_sale          1   67000.0  2.0   1.0      0.15  1404990.0   \n",
       "3      31239.0  for_sale          1  145000.0  4.0   2.0      0.10  1947675.0   \n",
       "4      34632.0  for_sale          1   65000.0  6.0   2.0      0.05   331151.0   \n",
       "\n",
       "         city        state        city        state  zip_code  house_size  \\\n",
       "0    Adjuntas  Puerto Rico    Adjuntas  Puerto Rico     601.0     920.000   \n",
       "1    Adjuntas  Puerto Rico    Adjuntas  Puerto Rico     601.0    1527.000   \n",
       "2  Juana Diaz  Puerto Rico  Juana Diaz  Puerto Rico     795.0     748.000   \n",
       "3       Ponce  Puerto Rico       Ponce  Puerto Rico     731.0    1800.000   \n",
       "4    Mayaguez  Puerto Rico    Mayaguez  Puerto Rico     680.0    2715.133   \n",
       "\n",
       "  prev_sold_date Price category  new_build  \n",
       "0              0      Low price  new_build  \n",
       "1              0      Low price  new_build  \n",
       "2              0      Low price  new_build  \n",
       "3              0      Low price  new_build  \n",
       "4              0      Low price  new_build  "
      ]
     },
     "execution_count": 7,
     "metadata": {},
     "output_type": "execute_result"
    }
   ],
   "source": [
    "df.head()"
   ]
  },
  {
   "cell_type": "code",
   "execution_count": 8,
   "id": "32aa00d7",
   "metadata": {},
   "outputs": [],
   "source": [
    "\n",
    "# Renaming a column\n",
    "df.rename(columns={'new_build': 'build_status'}, inplace=True)"
   ]
  },
  {
   "cell_type": "code",
   "execution_count": 9,
   "id": "d2d36052",
   "metadata": {},
   "outputs": [
    {
     "data": {
      "text/html": [
       "<div>\n",
       "<style scoped>\n",
       "    .dataframe tbody tr th:only-of-type {\n",
       "        vertical-align: middle;\n",
       "    }\n",
       "\n",
       "    .dataframe tbody tr th {\n",
       "        vertical-align: top;\n",
       "    }\n",
       "\n",
       "    .dataframe thead th {\n",
       "        text-align: right;\n",
       "    }\n",
       "</style>\n",
       "<table border=\"1\" class=\"dataframe\">\n",
       "  <thead>\n",
       "    <tr style=\"text-align: right;\">\n",
       "      <th></th>\n",
       "      <th>brokered_by</th>\n",
       "      <th>status</th>\n",
       "      <th>status_id</th>\n",
       "      <th>price</th>\n",
       "      <th>bed</th>\n",
       "      <th>bath</th>\n",
       "      <th>acre_lot</th>\n",
       "      <th>street</th>\n",
       "      <th>city</th>\n",
       "      <th>state</th>\n",
       "      <th>city</th>\n",
       "      <th>state</th>\n",
       "      <th>zip_code</th>\n",
       "      <th>house_size</th>\n",
       "      <th>prev_sold_date</th>\n",
       "      <th>Price category</th>\n",
       "      <th>build_status</th>\n",
       "    </tr>\n",
       "  </thead>\n",
       "  <tbody>\n",
       "    <tr>\n",
       "      <th>0</th>\n",
       "      <td>103378.0</td>\n",
       "      <td>for_sale</td>\n",
       "      <td>1</td>\n",
       "      <td>105000.0</td>\n",
       "      <td>3.0</td>\n",
       "      <td>2.0</td>\n",
       "      <td>0.12</td>\n",
       "      <td>1962661.0</td>\n",
       "      <td>Adjuntas</td>\n",
       "      <td>Puerto Rico</td>\n",
       "      <td>Adjuntas</td>\n",
       "      <td>Puerto Rico</td>\n",
       "      <td>601.0</td>\n",
       "      <td>920.000</td>\n",
       "      <td>0</td>\n",
       "      <td>Low price</td>\n",
       "      <td>new_build</td>\n",
       "    </tr>\n",
       "    <tr>\n",
       "      <th>1</th>\n",
       "      <td>52707.0</td>\n",
       "      <td>for_sale</td>\n",
       "      <td>1</td>\n",
       "      <td>80000.0</td>\n",
       "      <td>4.0</td>\n",
       "      <td>2.0</td>\n",
       "      <td>0.08</td>\n",
       "      <td>1902874.0</td>\n",
       "      <td>Adjuntas</td>\n",
       "      <td>Puerto Rico</td>\n",
       "      <td>Adjuntas</td>\n",
       "      <td>Puerto Rico</td>\n",
       "      <td>601.0</td>\n",
       "      <td>1527.000</td>\n",
       "      <td>0</td>\n",
       "      <td>Low price</td>\n",
       "      <td>new_build</td>\n",
       "    </tr>\n",
       "    <tr>\n",
       "      <th>2</th>\n",
       "      <td>103379.0</td>\n",
       "      <td>for_sale</td>\n",
       "      <td>1</td>\n",
       "      <td>67000.0</td>\n",
       "      <td>2.0</td>\n",
       "      <td>1.0</td>\n",
       "      <td>0.15</td>\n",
       "      <td>1404990.0</td>\n",
       "      <td>Juana Diaz</td>\n",
       "      <td>Puerto Rico</td>\n",
       "      <td>Juana Diaz</td>\n",
       "      <td>Puerto Rico</td>\n",
       "      <td>795.0</td>\n",
       "      <td>748.000</td>\n",
       "      <td>0</td>\n",
       "      <td>Low price</td>\n",
       "      <td>new_build</td>\n",
       "    </tr>\n",
       "    <tr>\n",
       "      <th>3</th>\n",
       "      <td>31239.0</td>\n",
       "      <td>for_sale</td>\n",
       "      <td>1</td>\n",
       "      <td>145000.0</td>\n",
       "      <td>4.0</td>\n",
       "      <td>2.0</td>\n",
       "      <td>0.10</td>\n",
       "      <td>1947675.0</td>\n",
       "      <td>Ponce</td>\n",
       "      <td>Puerto Rico</td>\n",
       "      <td>Ponce</td>\n",
       "      <td>Puerto Rico</td>\n",
       "      <td>731.0</td>\n",
       "      <td>1800.000</td>\n",
       "      <td>0</td>\n",
       "      <td>Low price</td>\n",
       "      <td>new_build</td>\n",
       "    </tr>\n",
       "    <tr>\n",
       "      <th>4</th>\n",
       "      <td>34632.0</td>\n",
       "      <td>for_sale</td>\n",
       "      <td>1</td>\n",
       "      <td>65000.0</td>\n",
       "      <td>6.0</td>\n",
       "      <td>2.0</td>\n",
       "      <td>0.05</td>\n",
       "      <td>331151.0</td>\n",
       "      <td>Mayaguez</td>\n",
       "      <td>Puerto Rico</td>\n",
       "      <td>Mayaguez</td>\n",
       "      <td>Puerto Rico</td>\n",
       "      <td>680.0</td>\n",
       "      <td>2715.133</td>\n",
       "      <td>0</td>\n",
       "      <td>Low price</td>\n",
       "      <td>new_build</td>\n",
       "    </tr>\n",
       "  </tbody>\n",
       "</table>\n",
       "</div>"
      ],
      "text/plain": [
       "   brokered_by    status  status_id     price  bed  bath  acre_lot     street  \\\n",
       "0     103378.0  for_sale          1  105000.0  3.0   2.0      0.12  1962661.0   \n",
       "1      52707.0  for_sale          1   80000.0  4.0   2.0      0.08  1902874.0   \n",
       "2     103379.0  for_sale          1   67000.0  2.0   1.0      0.15  1404990.0   \n",
       "3      31239.0  for_sale          1  145000.0  4.0   2.0      0.10  1947675.0   \n",
       "4      34632.0  for_sale          1   65000.0  6.0   2.0      0.05   331151.0   \n",
       "\n",
       "         city        state        city        state  zip_code  house_size  \\\n",
       "0    Adjuntas  Puerto Rico    Adjuntas  Puerto Rico     601.0     920.000   \n",
       "1    Adjuntas  Puerto Rico    Adjuntas  Puerto Rico     601.0    1527.000   \n",
       "2  Juana Diaz  Puerto Rico  Juana Diaz  Puerto Rico     795.0     748.000   \n",
       "3       Ponce  Puerto Rico       Ponce  Puerto Rico     731.0    1800.000   \n",
       "4    Mayaguez  Puerto Rico    Mayaguez  Puerto Rico     680.0    2715.133   \n",
       "\n",
       "  prev_sold_date Price category build_status  \n",
       "0              0      Low price    new_build  \n",
       "1              0      Low price    new_build  \n",
       "2              0      Low price    new_build  \n",
       "3              0      Low price    new_build  \n",
       "4              0      Low price    new_build  "
      ]
     },
     "execution_count": 9,
     "metadata": {},
     "output_type": "execute_result"
    }
   ],
   "source": [
    "df.head()"
   ]
  },
  {
   "cell_type": "code",
   "execution_count": 10,
   "id": "8148c2f3",
   "metadata": {},
   "outputs": [
    {
     "data": {
      "text/plain": [
       "array(['new_build', 'established'], dtype=object)"
      ]
     },
     "execution_count": 10,
     "metadata": {},
     "output_type": "execute_result"
    }
   ],
   "source": [
    "df['build_status'].unique()"
   ]
  },
  {
   "cell_type": "code",
   "execution_count": 11,
   "id": "108851e6",
   "metadata": {},
   "outputs": [
    {
     "data": {
      "text/plain": [
       "array(['for_sale', 'ready_to_build', 'sold'], dtype=object)"
      ]
     },
     "execution_count": 11,
     "metadata": {},
     "output_type": "execute_result"
    }
   ],
   "source": [
    "df['status'].unique()"
   ]
  },
  {
   "cell_type": "code",
   "execution_count": 12,
   "id": "4f2f9413",
   "metadata": {},
   "outputs": [
    {
     "data": {
      "text/plain": [
       "array([1, 2, 3])"
      ]
     },
     "execution_count": 12,
     "metadata": {},
     "output_type": "execute_result"
    }
   ],
   "source": [
    "df['status_id'].unique() #1=for sale, 2=ready to build 3= sold"
   ]
  },
  {
   "cell_type": "code",
   "execution_count": 13,
   "id": "e34420e0",
   "metadata": {},
   "outputs": [],
   "source": [
    "#subset for all homes that are 'for_sale'\n",
    "df_for_sale = df[df['status']== 'for_sale']"
   ]
  },
  {
   "cell_type": "code",
   "execution_count": 14,
   "id": "c49363a2",
   "metadata": {},
   "outputs": [
    {
     "data": {
      "text/plain": [
       "(1381789, 17)"
      ]
     },
     "execution_count": 14,
     "metadata": {},
     "output_type": "execute_result"
    }
   ],
   "source": [
    "# see how many are for sale\n",
    "df_for_sale.shape"
   ]
  },
  {
   "cell_type": "code",
   "execution_count": 15,
   "id": "769ac2f7",
   "metadata": {},
   "outputs": [],
   "source": [
    "# subset of all established homes\n",
    "df_estab = df[df['build_status'] == 'established']"
   ]
  },
  {
   "cell_type": "code",
   "execution_count": 16,
   "id": "c2eb13a2",
   "metadata": {},
   "outputs": [
    {
     "data": {
      "text/plain": [
       "(1483878, 17)"
      ]
     },
     "execution_count": 16,
     "metadata": {},
     "output_type": "execute_result"
    }
   ],
   "source": [
    "# see how many are establihsed\n",
    "df_estab.shape"
   ]
  },
  {
   "cell_type": "code",
   "execution_count": 17,
   "id": "ed9398c4",
   "metadata": {},
   "outputs": [],
   "source": [
    "#subset for all sold homes \n",
    "df_sold = df[df['status'] == 'sold']"
   ]
  },
  {
   "cell_type": "code",
   "execution_count": 18,
   "id": "bf8351f2",
   "metadata": {},
   "outputs": [
    {
     "data": {
      "text/plain": [
       "(807166, 17)"
      ]
     },
     "execution_count": 18,
     "metadata": {},
     "output_type": "execute_result"
    }
   ],
   "source": [
    "# see how many are sold\n",
    "df_sold.shape"
   ]
  },
  {
   "cell_type": "code",
   "execution_count": 19,
   "id": "71e15d10",
   "metadata": {},
   "outputs": [],
   "source": [
    "#subset for ready_to_build\n",
    "df_ready_to_build = df[df['status'] == 'ready_to_build']"
   ]
  },
  {
   "cell_type": "code",
   "execution_count": 20,
   "id": "cd67b07f",
   "metadata": {},
   "outputs": [
    {
     "data": {
      "text/plain": [
       "(24774, 17)"
      ]
     },
     "execution_count": 20,
     "metadata": {},
     "output_type": "execute_result"
    }
   ],
   "source": [
    "df_ready_to_build.shape"
   ]
  },
  {
   "cell_type": "markdown",
   "id": "ccfb4c7d",
   "metadata": {},
   "source": [
    "### 1381789 for sale (1)\n",
    "### 1483878 are established \n",
    "### 807166  sold (3)\n",
    "### 24774 ready to build (2)"
   ]
  },
  {
   "cell_type": "code",
   "execution_count": 21,
   "id": "b18146e4",
   "metadata": {},
   "outputs": [
    {
     "data": {
      "text/html": [
       "<div>\n",
       "<style scoped>\n",
       "    .dataframe tbody tr th:only-of-type {\n",
       "        vertical-align: middle;\n",
       "    }\n",
       "\n",
       "    .dataframe tbody tr th {\n",
       "        vertical-align: top;\n",
       "    }\n",
       "\n",
       "    .dataframe thead th {\n",
       "        text-align: right;\n",
       "    }\n",
       "</style>\n",
       "<table border=\"1\" class=\"dataframe\">\n",
       "  <thead>\n",
       "    <tr style=\"text-align: right;\">\n",
       "      <th></th>\n",
       "      <th>brokered_by</th>\n",
       "      <th>status</th>\n",
       "      <th>status_id</th>\n",
       "      <th>price</th>\n",
       "      <th>bed</th>\n",
       "      <th>bath</th>\n",
       "      <th>acre_lot</th>\n",
       "      <th>street</th>\n",
       "      <th>city</th>\n",
       "      <th>state</th>\n",
       "      <th>city</th>\n",
       "      <th>state</th>\n",
       "      <th>zip_code</th>\n",
       "      <th>house_size</th>\n",
       "      <th>prev_sold_date</th>\n",
       "      <th>Price category</th>\n",
       "      <th>build_status</th>\n",
       "    </tr>\n",
       "  </thead>\n",
       "  <tbody>\n",
       "    <tr>\n",
       "      <th>1412857</th>\n",
       "      <td>62066.0</td>\n",
       "      <td>sold</td>\n",
       "      <td>3</td>\n",
       "      <td>77500.0</td>\n",
       "      <td>3.000000</td>\n",
       "      <td>1.000000</td>\n",
       "      <td>0.26</td>\n",
       "      <td>1072625.0</td>\n",
       "      <td>Ponce</td>\n",
       "      <td>Puerto Rico</td>\n",
       "      <td>Ponce</td>\n",
       "      <td>Puerto Rico</td>\n",
       "      <td>717.0</td>\n",
       "      <td>957.0</td>\n",
       "      <td>2021-11-29</td>\n",
       "      <td>Low price</td>\n",
       "      <td>established</td>\n",
       "    </tr>\n",
       "    <tr>\n",
       "      <th>1412858</th>\n",
       "      <td>72457.0</td>\n",
       "      <td>sold</td>\n",
       "      <td>3</td>\n",
       "      <td>524900.0</td>\n",
       "      <td>3.000000</td>\n",
       "      <td>2.000000</td>\n",
       "      <td>0.09</td>\n",
       "      <td>1850809.0</td>\n",
       "      <td>Aguada</td>\n",
       "      <td>Puerto Rico</td>\n",
       "      <td>Aguada</td>\n",
       "      <td>Puerto Rico</td>\n",
       "      <td>602.0</td>\n",
       "      <td>2200.0</td>\n",
       "      <td>2021-12-13</td>\n",
       "      <td>Middle price</td>\n",
       "      <td>established</td>\n",
       "    </tr>\n",
       "    <tr>\n",
       "      <th>1412859</th>\n",
       "      <td>48586.0</td>\n",
       "      <td>sold</td>\n",
       "      <td>3</td>\n",
       "      <td>175000.0</td>\n",
       "      <td>3.275919</td>\n",
       "      <td>2.496373</td>\n",
       "      <td>0.14</td>\n",
       "      <td>1139965.0</td>\n",
       "      <td>Aguadilla</td>\n",
       "      <td>Puerto Rico</td>\n",
       "      <td>Aguadilla</td>\n",
       "      <td>Puerto Rico</td>\n",
       "      <td>603.0</td>\n",
       "      <td>3200.0</td>\n",
       "      <td>2021-11-29</td>\n",
       "      <td>Low price</td>\n",
       "      <td>established</td>\n",
       "    </tr>\n",
       "    <tr>\n",
       "      <th>1412860</th>\n",
       "      <td>61711.0</td>\n",
       "      <td>sold</td>\n",
       "      <td>3</td>\n",
       "      <td>90000.0</td>\n",
       "      <td>3.000000</td>\n",
       "      <td>2.000000</td>\n",
       "      <td>0.08</td>\n",
       "      <td>141421.0</td>\n",
       "      <td>Aguadilla</td>\n",
       "      <td>Puerto Rico</td>\n",
       "      <td>Aguadilla</td>\n",
       "      <td>Puerto Rico</td>\n",
       "      <td>603.0</td>\n",
       "      <td>1421.0</td>\n",
       "      <td>2021-10-19</td>\n",
       "      <td>Low price</td>\n",
       "      <td>established</td>\n",
       "    </tr>\n",
       "    <tr>\n",
       "      <th>1412861</th>\n",
       "      <td>49592.0</td>\n",
       "      <td>sold</td>\n",
       "      <td>3</td>\n",
       "      <td>22500.0</td>\n",
       "      <td>2.000000</td>\n",
       "      <td>1.000000</td>\n",
       "      <td>0.32</td>\n",
       "      <td>1889894.0</td>\n",
       "      <td>Anasco</td>\n",
       "      <td>Puerto Rico</td>\n",
       "      <td>Anasco</td>\n",
       "      <td>Puerto Rico</td>\n",
       "      <td>610.0</td>\n",
       "      <td>850.0</td>\n",
       "      <td>2021-12-30</td>\n",
       "      <td>Low price</td>\n",
       "      <td>established</td>\n",
       "    </tr>\n",
       "  </tbody>\n",
       "</table>\n",
       "</div>"
      ],
      "text/plain": [
       "         brokered_by status  status_id     price       bed      bath  \\\n",
       "1412857      62066.0   sold          3   77500.0  3.000000  1.000000   \n",
       "1412858      72457.0   sold          3  524900.0  3.000000  2.000000   \n",
       "1412859      48586.0   sold          3  175000.0  3.275919  2.496373   \n",
       "1412860      61711.0   sold          3   90000.0  3.000000  2.000000   \n",
       "1412861      49592.0   sold          3   22500.0  2.000000  1.000000   \n",
       "\n",
       "         acre_lot     street       city        state       city        state  \\\n",
       "1412857      0.26  1072625.0      Ponce  Puerto Rico      Ponce  Puerto Rico   \n",
       "1412858      0.09  1850809.0     Aguada  Puerto Rico     Aguada  Puerto Rico   \n",
       "1412859      0.14  1139965.0  Aguadilla  Puerto Rico  Aguadilla  Puerto Rico   \n",
       "1412860      0.08   141421.0  Aguadilla  Puerto Rico  Aguadilla  Puerto Rico   \n",
       "1412861      0.32  1889894.0     Anasco  Puerto Rico     Anasco  Puerto Rico   \n",
       "\n",
       "         zip_code  house_size prev_sold_date Price category build_status  \n",
       "1412857     717.0       957.0     2021-11-29      Low price  established  \n",
       "1412858     602.0      2200.0     2021-12-13   Middle price  established  \n",
       "1412859     603.0      3200.0     2021-11-29      Low price  established  \n",
       "1412860     603.0      1421.0     2021-10-19      Low price  established  \n",
       "1412861     610.0       850.0     2021-12-30      Low price  established  "
      ]
     },
     "execution_count": 21,
     "metadata": {},
     "output_type": "execute_result"
    }
   ],
   "source": [
    "# let's look at the sold homes to check their dates (to see if they all have dates)\n",
    "df_sold.head()"
   ]
  },
  {
   "cell_type": "code",
   "execution_count": 22,
   "id": "d959746e",
   "metadata": {},
   "outputs": [
    {
     "data": {
      "text/plain": [
       "'2021-10-18'"
      ]
     },
     "execution_count": 22,
     "metadata": {},
     "output_type": "execute_result"
    }
   ],
   "source": [
    "df_sold['prev_sold_date'].min() #good! this means that there are no 0s listed under dates.  \n",
    "\n",
    "#we can therefore further analyze trend for date"
   ]
  },
  {
   "cell_type": "markdown",
   "id": "46768148",
   "metadata": {},
   "source": [
    "### Scatterplot price and prev_sold_date"
   ]
  },
  {
   "cell_type": "code",
   "execution_count": 24,
   "id": "448829cd",
   "metadata": {},
   "outputs": [
    {
     "data": {
      "image/png": "[encoded data removed]",
      "text/plain": [
       "<Figure size 640x480 with 1 Axes>"
      ]
     },
     "metadata": {},
     "output_type": "display_data"
    }
   ],
   "source": [
    "sns.scatterplot(x = 'prev_sold_date', y = 'price', data = df_sold)\n",
    "plt.savefig('scatter_prev_sold_price.png')\n"
   ]
  },
  {
   "cell_type": "code",
   "execution_count": 25,
   "id": "966169ae",
   "metadata": {},
   "outputs": [
    {
     "data": {
      "text/plain": [
       "count    8.071660e+05\n",
       "mean     4.793072e+05\n",
       "std      6.534464e+05\n",
       "min      1.000000e+00\n",
       "25%      2.049000e+05\n",
       "50%      3.449000e+05\n",
       "75%      5.500000e+05\n",
       "max      9.500000e+07\n",
       "Name: price, dtype: float64"
      ]
     },
     "execution_count": 25,
     "metadata": {},
     "output_type": "execute_result"
    }
   ],
   "source": [
    "# adjust price to view trend better\n",
    "# look at stats for price\n",
    "df_sold['price'].describe()"
   ]
  },
  {
   "cell_type": "code",
   "execution_count": 26,
   "id": "f7467cb2",
   "metadata": {},
   "outputs": [
    {
     "data": {
      "text/plain": [
       "95000000.0"
      ]
     },
     "execution_count": 26,
     "metadata": {},
     "output_type": "execute_result"
    }
   ],
   "source": [
    "df_sold['price'].max()"
   ]
  },
  {
   "cell_type": "code",
   "execution_count": 27,
   "id": "98f7d537",
   "metadata": {},
   "outputs": [
    {
     "data": {
      "text/plain": [
       "1.0"
      ]
     },
     "execution_count": 27,
     "metadata": {},
     "output_type": "execute_result"
    }
   ],
   "source": [
    "df_sold['price'].min()"
   ]
  },
  {
   "cell_type": "code",
   "execution_count": 28,
   "id": "c3b21231",
   "metadata": {},
   "outputs": [
    {
     "data": {
      "text/plain": [
       "'3019-04-02'"
      ]
     },
     "execution_count": 28,
     "metadata": {},
     "output_type": "execute_result"
    }
   ],
   "source": [
    "# figure out dates (since can't read any on x axis)\n",
    "df_sold['prev_sold_date'].max()"
   ]
  },
  {
   "cell_type": "code",
   "execution_count": 29,
   "id": "0606fed0",
   "metadata": {},
   "outputs": [
    {
     "data": {
      "text/plain": [
       "'2021-10-18'"
      ]
     },
     "execution_count": 29,
     "metadata": {},
     "output_type": "execute_result"
    }
   ],
   "source": [
    "df_sold['prev_sold_date'].min()"
   ]
  },
  {
   "cell_type": "code",
   "execution_count": 30,
   "id": "36bb6cbf",
   "metadata": {},
   "outputs": [
    {
     "ename": "SyntaxError",
     "evalue": "incomplete input (2353841289.py, line 2)",
     "output_type": "error",
     "traceback": [
      "\u001b[0;36m  Cell \u001b[0;32mIn[30], line 2\u001b[0;36m\u001b[0m\n\u001b[0;31m    hist = df_sold['price].plot'\u001b[0m\n\u001b[0m                                ^\u001b[0m\n\u001b[0;31mSyntaxError\u001b[0m\u001b[0;31m:\u001b[0m incomplete input\n"
     ]
    }
   ],
   "source": [
    "#lets try a histogram\n",
    "hist = df_sold['price].plot'"
   ]
  },
  {
   "cell_type": "markdown",
   "id": "28851adf",
   "metadata": {},
   "source": [
    "### Create new column 'lot_classification' based on acre_lot size"
   ]
  },
  {
   "cell_type": "code",
   "execution_count": 31,
   "id": "b3f548f0",
   "metadata": {},
   "outputs": [],
   "source": [
    "# Create new column 'lot_classification' based on 'acre_lot' size\n",
    "df['lot_classification'] = df['acre_lot'].apply(lambda x: 'big lots' if x > 10000 else 'average lots')\n"
   ]
  },
  {
   "cell_type": "code",
   "execution_count": 32,
   "id": "11b77c3d",
   "metadata": {},
   "outputs": [
    {
     "data": {
      "text/html": [
       "<div>\n",
       "<style scoped>\n",
       "    .dataframe tbody tr th:only-of-type {\n",
       "        vertical-align: middle;\n",
       "    }\n",
       "\n",
       "    .dataframe tbody tr th {\n",
       "        vertical-align: top;\n",
       "    }\n",
       "\n",
       "    .dataframe thead th {\n",
       "        text-align: right;\n",
       "    }\n",
       "</style>\n",
       "<table border=\"1\" class=\"dataframe\">\n",
       "  <thead>\n",
       "    <tr style=\"text-align: right;\">\n",
       "      <th></th>\n",
       "      <th>brokered_by</th>\n",
       "      <th>status</th>\n",
       "      <th>status_id</th>\n",
       "      <th>price</th>\n",
       "      <th>bed</th>\n",
       "      <th>bath</th>\n",
       "      <th>acre_lot</th>\n",
       "      <th>street</th>\n",
       "      <th>city</th>\n",
       "      <th>state</th>\n",
       "      <th>city</th>\n",
       "      <th>state</th>\n",
       "      <th>zip_code</th>\n",
       "      <th>house_size</th>\n",
       "      <th>prev_sold_date</th>\n",
       "      <th>Price category</th>\n",
       "      <th>build_status</th>\n",
       "      <th>lot_classification</th>\n",
       "    </tr>\n",
       "  </thead>\n",
       "  <tbody>\n",
       "    <tr>\n",
       "      <th>0</th>\n",
       "      <td>103378.0</td>\n",
       "      <td>for_sale</td>\n",
       "      <td>1</td>\n",
       "      <td>105000.0</td>\n",
       "      <td>3.0</td>\n",
       "      <td>2.0</td>\n",
       "      <td>0.12</td>\n",
       "      <td>1962661.0</td>\n",
       "      <td>Adjuntas</td>\n",
       "      <td>Puerto Rico</td>\n",
       "      <td>Adjuntas</td>\n",
       "      <td>Puerto Rico</td>\n",
       "      <td>601.0</td>\n",
       "      <td>920.000</td>\n",
       "      <td>0</td>\n",
       "      <td>Low price</td>\n",
       "      <td>new_build</td>\n",
       "      <td>average lots</td>\n",
       "    </tr>\n",
       "    <tr>\n",
       "      <th>1</th>\n",
       "      <td>52707.0</td>\n",
       "      <td>for_sale</td>\n",
       "      <td>1</td>\n",
       "      <td>80000.0</td>\n",
       "      <td>4.0</td>\n",
       "      <td>2.0</td>\n",
       "      <td>0.08</td>\n",
       "      <td>1902874.0</td>\n",
       "      <td>Adjuntas</td>\n",
       "      <td>Puerto Rico</td>\n",
       "      <td>Adjuntas</td>\n",
       "      <td>Puerto Rico</td>\n",
       "      <td>601.0</td>\n",
       "      <td>1527.000</td>\n",
       "      <td>0</td>\n",
       "      <td>Low price</td>\n",
       "      <td>new_build</td>\n",
       "      <td>average lots</td>\n",
       "    </tr>\n",
       "    <tr>\n",
       "      <th>2</th>\n",
       "      <td>103379.0</td>\n",
       "      <td>for_sale</td>\n",
       "      <td>1</td>\n",
       "      <td>67000.0</td>\n",
       "      <td>2.0</td>\n",
       "      <td>1.0</td>\n",
       "      <td>0.15</td>\n",
       "      <td>1404990.0</td>\n",
       "      <td>Juana Diaz</td>\n",
       "      <td>Puerto Rico</td>\n",
       "      <td>Juana Diaz</td>\n",
       "      <td>Puerto Rico</td>\n",
       "      <td>795.0</td>\n",
       "      <td>748.000</td>\n",
       "      <td>0</td>\n",
       "      <td>Low price</td>\n",
       "      <td>new_build</td>\n",
       "      <td>average lots</td>\n",
       "    </tr>\n",
       "    <tr>\n",
       "      <th>3</th>\n",
       "      <td>31239.0</td>\n",
       "      <td>for_sale</td>\n",
       "      <td>1</td>\n",
       "      <td>145000.0</td>\n",
       "      <td>4.0</td>\n",
       "      <td>2.0</td>\n",
       "      <td>0.10</td>\n",
       "      <td>1947675.0</td>\n",
       "      <td>Ponce</td>\n",
       "      <td>Puerto Rico</td>\n",
       "      <td>Ponce</td>\n",
       "      <td>Puerto Rico</td>\n",
       "      <td>731.0</td>\n",
       "      <td>1800.000</td>\n",
       "      <td>0</td>\n",
       "      <td>Low price</td>\n",
       "      <td>new_build</td>\n",
       "      <td>average lots</td>\n",
       "    </tr>\n",
       "    <tr>\n",
       "      <th>4</th>\n",
       "      <td>34632.0</td>\n",
       "      <td>for_sale</td>\n",
       "      <td>1</td>\n",
       "      <td>65000.0</td>\n",
       "      <td>6.0</td>\n",
       "      <td>2.0</td>\n",
       "      <td>0.05</td>\n",
       "      <td>331151.0</td>\n",
       "      <td>Mayaguez</td>\n",
       "      <td>Puerto Rico</td>\n",
       "      <td>Mayaguez</td>\n",
       "      <td>Puerto Rico</td>\n",
       "      <td>680.0</td>\n",
       "      <td>2715.133</td>\n",
       "      <td>0</td>\n",
       "      <td>Low price</td>\n",
       "      <td>new_build</td>\n",
       "      <td>average lots</td>\n",
       "    </tr>\n",
       "  </tbody>\n",
       "</table>\n",
       "</div>"
      ],
      "text/plain": [
       "   brokered_by    status  status_id     price  bed  bath  acre_lot     street  \\\n",
       "0     103378.0  for_sale          1  105000.0  3.0   2.0      0.12  1962661.0   \n",
       "1      52707.0  for_sale          1   80000.0  4.0   2.0      0.08  1902874.0   \n",
       "2     103379.0  for_sale          1   67000.0  2.0   1.0      0.15  1404990.0   \n",
       "3      31239.0  for_sale          1  145000.0  4.0   2.0      0.10  1947675.0   \n",
       "4      34632.0  for_sale          1   65000.0  6.0   2.0      0.05   331151.0   \n",
       "\n",
       "         city        state        city        state  zip_code  house_size  \\\n",
       "0    Adjuntas  Puerto Rico    Adjuntas  Puerto Rico     601.0     920.000   \n",
       "1    Adjuntas  Puerto Rico    Adjuntas  Puerto Rico     601.0    1527.000   \n",
       "2  Juana Diaz  Puerto Rico  Juana Diaz  Puerto Rico     795.0     748.000   \n",
       "3       Ponce  Puerto Rico       Ponce  Puerto Rico     731.0    1800.000   \n",
       "4    Mayaguez  Puerto Rico    Mayaguez  Puerto Rico     680.0    2715.133   \n",
       "\n",
       "  prev_sold_date Price category build_status lot_classification  \n",
       "0              0      Low price    new_build       average lots  \n",
       "1              0      Low price    new_build       average lots  \n",
       "2              0      Low price    new_build       average lots  \n",
       "3              0      Low price    new_build       average lots  \n",
       "4              0      Low price    new_build       average lots  "
      ]
     },
     "execution_count": 32,
     "metadata": {},
     "output_type": "execute_result"
    }
   ],
   "source": [
    "df.head()"
   ]
  },
  {
   "cell_type": "code",
   "execution_count": 33,
   "id": "a7796f1b",
   "metadata": {},
   "outputs": [
    {
     "name": "stdout",
     "output_type": "stream",
     "text": [
      "Number of 'big_lots': 354\n",
      "Number of 'average_lots': 2213375\n"
     ]
    }
   ],
   "source": [
    "# Counting the classifications\n",
    "big_lots_count = df['lot_classification'].value_counts().get('big lots', 0)\n",
    "average_lots_count = df['lot_classification'].value_counts().get('average lots', 0)\n",
    "\n",
    "print(f\"Number of 'big_lots': {big_lots_count}\")\n",
    "print(f\"Number of 'average_lots': {average_lots_count}\")\n"
   ]
  },
  {
   "cell_type": "code",
   "execution_count": 34,
   "id": "85a75687",
   "metadata": {},
   "outputs": [
    {
     "data": {
      "text/plain": [
       "(2213729, 18)"
      ]
     },
     "execution_count": 34,
     "metadata": {},
     "output_type": "execute_result"
    }
   ],
   "source": [
    "df.shape"
   ]
  },
  {
   "cell_type": "code",
   "execution_count": 35,
   "id": "b2b19e59",
   "metadata": {},
   "outputs": [
    {
     "data": {
      "text/html": [
       "<div>\n",
       "<style scoped>\n",
       "    .dataframe tbody tr th:only-of-type {\n",
       "        vertical-align: middle;\n",
       "    }\n",
       "\n",
       "    .dataframe tbody tr th {\n",
       "        vertical-align: top;\n",
       "    }\n",
       "\n",
       "    .dataframe thead th {\n",
       "        text-align: right;\n",
       "    }\n",
       "</style>\n",
       "<table border=\"1\" class=\"dataframe\">\n",
       "  <thead>\n",
       "    <tr style=\"text-align: right;\">\n",
       "      <th></th>\n",
       "      <th>brokered_by</th>\n",
       "      <th>status</th>\n",
       "      <th>status_id</th>\n",
       "      <th>price</th>\n",
       "      <th>bed</th>\n",
       "      <th>bath</th>\n",
       "      <th>acre_lot</th>\n",
       "      <th>street</th>\n",
       "      <th>city</th>\n",
       "      <th>state</th>\n",
       "      <th>city</th>\n",
       "      <th>state</th>\n",
       "      <th>zip_code</th>\n",
       "      <th>house_size</th>\n",
       "      <th>prev_sold_date</th>\n",
       "      <th>Price category</th>\n",
       "      <th>build_status</th>\n",
       "      <th>lot_classification</th>\n",
       "    </tr>\n",
       "  </thead>\n",
       "  <tbody>\n",
       "    <tr>\n",
       "      <th>0</th>\n",
       "      <td>103378.0</td>\n",
       "      <td>for_sale</td>\n",
       "      <td>1</td>\n",
       "      <td>105000.0</td>\n",
       "      <td>3.0</td>\n",
       "      <td>2.0</td>\n",
       "      <td>0.12</td>\n",
       "      <td>1962661.0</td>\n",
       "      <td>Adjuntas</td>\n",
       "      <td>Puerto Rico</td>\n",
       "      <td>Adjuntas</td>\n",
       "      <td>Puerto Rico</td>\n",
       "      <td>601.0</td>\n",
       "      <td>920.000</td>\n",
       "      <td>0</td>\n",
       "      <td>Low price</td>\n",
       "      <td>new_build</td>\n",
       "      <td>average lots</td>\n",
       "    </tr>\n",
       "    <tr>\n",
       "      <th>1</th>\n",
       "      <td>52707.0</td>\n",
       "      <td>for_sale</td>\n",
       "      <td>1</td>\n",
       "      <td>80000.0</td>\n",
       "      <td>4.0</td>\n",
       "      <td>2.0</td>\n",
       "      <td>0.08</td>\n",
       "      <td>1902874.0</td>\n",
       "      <td>Adjuntas</td>\n",
       "      <td>Puerto Rico</td>\n",
       "      <td>Adjuntas</td>\n",
       "      <td>Puerto Rico</td>\n",
       "      <td>601.0</td>\n",
       "      <td>1527.000</td>\n",
       "      <td>0</td>\n",
       "      <td>Low price</td>\n",
       "      <td>new_build</td>\n",
       "      <td>average lots</td>\n",
       "    </tr>\n",
       "    <tr>\n",
       "      <th>2</th>\n",
       "      <td>103379.0</td>\n",
       "      <td>for_sale</td>\n",
       "      <td>1</td>\n",
       "      <td>67000.0</td>\n",
       "      <td>2.0</td>\n",
       "      <td>1.0</td>\n",
       "      <td>0.15</td>\n",
       "      <td>1404990.0</td>\n",
       "      <td>Juana Diaz</td>\n",
       "      <td>Puerto Rico</td>\n",
       "      <td>Juana Diaz</td>\n",
       "      <td>Puerto Rico</td>\n",
       "      <td>795.0</td>\n",
       "      <td>748.000</td>\n",
       "      <td>0</td>\n",
       "      <td>Low price</td>\n",
       "      <td>new_build</td>\n",
       "      <td>average lots</td>\n",
       "    </tr>\n",
       "    <tr>\n",
       "      <th>3</th>\n",
       "      <td>31239.0</td>\n",
       "      <td>for_sale</td>\n",
       "      <td>1</td>\n",
       "      <td>145000.0</td>\n",
       "      <td>4.0</td>\n",
       "      <td>2.0</td>\n",
       "      <td>0.10</td>\n",
       "      <td>1947675.0</td>\n",
       "      <td>Ponce</td>\n",
       "      <td>Puerto Rico</td>\n",
       "      <td>Ponce</td>\n",
       "      <td>Puerto Rico</td>\n",
       "      <td>731.0</td>\n",
       "      <td>1800.000</td>\n",
       "      <td>0</td>\n",
       "      <td>Low price</td>\n",
       "      <td>new_build</td>\n",
       "      <td>average lots</td>\n",
       "    </tr>\n",
       "    <tr>\n",
       "      <th>4</th>\n",
       "      <td>34632.0</td>\n",
       "      <td>for_sale</td>\n",
       "      <td>1</td>\n",
       "      <td>65000.0</td>\n",
       "      <td>6.0</td>\n",
       "      <td>2.0</td>\n",
       "      <td>0.05</td>\n",
       "      <td>331151.0</td>\n",
       "      <td>Mayaguez</td>\n",
       "      <td>Puerto Rico</td>\n",
       "      <td>Mayaguez</td>\n",
       "      <td>Puerto Rico</td>\n",
       "      <td>680.0</td>\n",
       "      <td>2715.133</td>\n",
       "      <td>0</td>\n",
       "      <td>Low price</td>\n",
       "      <td>new_build</td>\n",
       "      <td>average lots</td>\n",
       "    </tr>\n",
       "  </tbody>\n",
       "</table>\n",
       "</div>"
      ],
      "text/plain": [
       "   brokered_by    status  status_id     price  bed  bath  acre_lot     street  \\\n",
       "0     103378.0  for_sale          1  105000.0  3.0   2.0      0.12  1962661.0   \n",
       "1      52707.0  for_sale          1   80000.0  4.0   2.0      0.08  1902874.0   \n",
       "2     103379.0  for_sale          1   67000.0  2.0   1.0      0.15  1404990.0   \n",
       "3      31239.0  for_sale          1  145000.0  4.0   2.0      0.10  1947675.0   \n",
       "4      34632.0  for_sale          1   65000.0  6.0   2.0      0.05   331151.0   \n",
       "\n",
       "         city        state        city        state  zip_code  house_size  \\\n",
       "0    Adjuntas  Puerto Rico    Adjuntas  Puerto Rico     601.0     920.000   \n",
       "1    Adjuntas  Puerto Rico    Adjuntas  Puerto Rico     601.0    1527.000   \n",
       "2  Juana Diaz  Puerto Rico  Juana Diaz  Puerto Rico     795.0     748.000   \n",
       "3       Ponce  Puerto Rico       Ponce  Puerto Rico     731.0    1800.000   \n",
       "4    Mayaguez  Puerto Rico    Mayaguez  Puerto Rico     680.0    2715.133   \n",
       "\n",
       "  prev_sold_date Price category build_status lot_classification  \n",
       "0              0      Low price    new_build       average lots  \n",
       "1              0      Low price    new_build       average lots  \n",
       "2              0      Low price    new_build       average lots  \n",
       "3              0      Low price    new_build       average lots  \n",
       "4              0      Low price    new_build       average lots  "
      ]
     },
     "execution_count": 35,
     "metadata": {},
     "output_type": "execute_result"
    }
   ],
   "source": [
    "df.head()"
   ]
  },
  {
   "cell_type": "markdown",
   "id": "ff52123f",
   "metadata": {},
   "source": [
    "### adjust all dates marked 0 in 'prev_sold_date' column to TODAY'S DATE (since the 0s were making it difficult to analyze the data)"
   ]
  },
  {
   "cell_type": "code",
   "execution_count": 36,
   "id": "1ae193f7",
   "metadata": {},
   "outputs": [],
   "source": [
    "\n",
    "from datetime import datetime\n",
    "\n",
    "# Getting today's date\n",
    "today_date = datetime.today().strftime('%Y-%m-%d')\n",
    "\n",
    "# Replacing '0' with today's date\n",
    "df['prev_sold_date'] = df['prev_sold_date'].replace('0', today_date)\n"
   ]
  },
  {
   "cell_type": "code",
   "execution_count": 37,
   "id": "552e9f41",
   "metadata": {},
   "outputs": [],
   "source": [
    "# if that does not work:\n",
    "# The date you want to use for replacement\n",
    "#replacement_date = '2024-08-01'\n",
    "\n",
    "# Replacing '0' with the specified date\n",
    "#df['prev_sold_date'] = df['prev_sold_date'].replace('0', replacement_date)"
   ]
  },
  {
   "cell_type": "code",
   "execution_count": 38,
   "id": "3f929b6a",
   "metadata": {},
   "outputs": [
    {
     "data": {
      "text/html": [
       "<div>\n",
       "<style scoped>\n",
       "    .dataframe tbody tr th:only-of-type {\n",
       "        vertical-align: middle;\n",
       "    }\n",
       "\n",
       "    .dataframe tbody tr th {\n",
       "        vertical-align: top;\n",
       "    }\n",
       "\n",
       "    .dataframe thead th {\n",
       "        text-align: right;\n",
       "    }\n",
       "</style>\n",
       "<table border=\"1\" class=\"dataframe\">\n",
       "  <thead>\n",
       "    <tr style=\"text-align: right;\">\n",
       "      <th></th>\n",
       "      <th>brokered_by</th>\n",
       "      <th>status</th>\n",
       "      <th>status_id</th>\n",
       "      <th>price</th>\n",
       "      <th>bed</th>\n",
       "      <th>bath</th>\n",
       "      <th>acre_lot</th>\n",
       "      <th>street</th>\n",
       "      <th>city</th>\n",
       "      <th>state</th>\n",
       "      <th>city</th>\n",
       "      <th>state</th>\n",
       "      <th>zip_code</th>\n",
       "      <th>house_size</th>\n",
       "      <th>prev_sold_date</th>\n",
       "      <th>Price category</th>\n",
       "      <th>build_status</th>\n",
       "      <th>lot_classification</th>\n",
       "    </tr>\n",
       "  </thead>\n",
       "  <tbody>\n",
       "    <tr>\n",
       "      <th>0</th>\n",
       "      <td>103378.0</td>\n",
       "      <td>for_sale</td>\n",
       "      <td>1</td>\n",
       "      <td>105000.0</td>\n",
       "      <td>3.0</td>\n",
       "      <td>2.0</td>\n",
       "      <td>0.12</td>\n",
       "      <td>1962661.0</td>\n",
       "      <td>Adjuntas</td>\n",
       "      <td>Puerto Rico</td>\n",
       "      <td>Adjuntas</td>\n",
       "      <td>Puerto Rico</td>\n",
       "      <td>601.0</td>\n",
       "      <td>920.000</td>\n",
       "      <td>2024-08-11</td>\n",
       "      <td>Low price</td>\n",
       "      <td>new_build</td>\n",
       "      <td>average lots</td>\n",
       "    </tr>\n",
       "    <tr>\n",
       "      <th>1</th>\n",
       "      <td>52707.0</td>\n",
       "      <td>for_sale</td>\n",
       "      <td>1</td>\n",
       "      <td>80000.0</td>\n",
       "      <td>4.0</td>\n",
       "      <td>2.0</td>\n",
       "      <td>0.08</td>\n",
       "      <td>1902874.0</td>\n",
       "      <td>Adjuntas</td>\n",
       "      <td>Puerto Rico</td>\n",
       "      <td>Adjuntas</td>\n",
       "      <td>Puerto Rico</td>\n",
       "      <td>601.0</td>\n",
       "      <td>1527.000</td>\n",
       "      <td>2024-08-11</td>\n",
       "      <td>Low price</td>\n",
       "      <td>new_build</td>\n",
       "      <td>average lots</td>\n",
       "    </tr>\n",
       "    <tr>\n",
       "      <th>2</th>\n",
       "      <td>103379.0</td>\n",
       "      <td>for_sale</td>\n",
       "      <td>1</td>\n",
       "      <td>67000.0</td>\n",
       "      <td>2.0</td>\n",
       "      <td>1.0</td>\n",
       "      <td>0.15</td>\n",
       "      <td>1404990.0</td>\n",
       "      <td>Juana Diaz</td>\n",
       "      <td>Puerto Rico</td>\n",
       "      <td>Juana Diaz</td>\n",
       "      <td>Puerto Rico</td>\n",
       "      <td>795.0</td>\n",
       "      <td>748.000</td>\n",
       "      <td>2024-08-11</td>\n",
       "      <td>Low price</td>\n",
       "      <td>new_build</td>\n",
       "      <td>average lots</td>\n",
       "    </tr>\n",
       "    <tr>\n",
       "      <th>3</th>\n",
       "      <td>31239.0</td>\n",
       "      <td>for_sale</td>\n",
       "      <td>1</td>\n",
       "      <td>145000.0</td>\n",
       "      <td>4.0</td>\n",
       "      <td>2.0</td>\n",
       "      <td>0.10</td>\n",
       "      <td>1947675.0</td>\n",
       "      <td>Ponce</td>\n",
       "      <td>Puerto Rico</td>\n",
       "      <td>Ponce</td>\n",
       "      <td>Puerto Rico</td>\n",
       "      <td>731.0</td>\n",
       "      <td>1800.000</td>\n",
       "      <td>2024-08-11</td>\n",
       "      <td>Low price</td>\n",
       "      <td>new_build</td>\n",
       "      <td>average lots</td>\n",
       "    </tr>\n",
       "    <tr>\n",
       "      <th>4</th>\n",
       "      <td>34632.0</td>\n",
       "      <td>for_sale</td>\n",
       "      <td>1</td>\n",
       "      <td>65000.0</td>\n",
       "      <td>6.0</td>\n",
       "      <td>2.0</td>\n",
       "      <td>0.05</td>\n",
       "      <td>331151.0</td>\n",
       "      <td>Mayaguez</td>\n",
       "      <td>Puerto Rico</td>\n",
       "      <td>Mayaguez</td>\n",
       "      <td>Puerto Rico</td>\n",
       "      <td>680.0</td>\n",
       "      <td>2715.133</td>\n",
       "      <td>2024-08-11</td>\n",
       "      <td>Low price</td>\n",
       "      <td>new_build</td>\n",
       "      <td>average lots</td>\n",
       "    </tr>\n",
       "  </tbody>\n",
       "</table>\n",
       "</div>"
      ],
      "text/plain": [
       "   brokered_by    status  status_id     price  bed  bath  acre_lot     street  \\\n",
       "0     103378.0  for_sale          1  105000.0  3.0   2.0      0.12  1962661.0   \n",
       "1      52707.0  for_sale          1   80000.0  4.0   2.0      0.08  1902874.0   \n",
       "2     103379.0  for_sale          1   67000.0  2.0   1.0      0.15  1404990.0   \n",
       "3      31239.0  for_sale          1  145000.0  4.0   2.0      0.10  1947675.0   \n",
       "4      34632.0  for_sale          1   65000.0  6.0   2.0      0.05   331151.0   \n",
       "\n",
       "         city        state        city        state  zip_code  house_size  \\\n",
       "0    Adjuntas  Puerto Rico    Adjuntas  Puerto Rico     601.0     920.000   \n",
       "1    Adjuntas  Puerto Rico    Adjuntas  Puerto Rico     601.0    1527.000   \n",
       "2  Juana Diaz  Puerto Rico  Juana Diaz  Puerto Rico     795.0     748.000   \n",
       "3       Ponce  Puerto Rico       Ponce  Puerto Rico     731.0    1800.000   \n",
       "4    Mayaguez  Puerto Rico    Mayaguez  Puerto Rico     680.0    2715.133   \n",
       "\n",
       "  prev_sold_date Price category build_status lot_classification  \n",
       "0     2024-08-11      Low price    new_build       average lots  \n",
       "1     2024-08-11      Low price    new_build       average lots  \n",
       "2     2024-08-11      Low price    new_build       average lots  \n",
       "3     2024-08-11      Low price    new_build       average lots  \n",
       "4     2024-08-11      Low price    new_build       average lots  "
      ]
     },
     "execution_count": 38,
     "metadata": {},
     "output_type": "execute_result"
    }
   ],
   "source": [
    "df.head()"
   ]
  },
  {
   "cell_type": "code",
   "execution_count": 39,
   "id": "15dcc62c",
   "metadata": {},
   "outputs": [
    {
     "name": "stdout",
     "output_type": "stream",
     "text": [
      "Number of occurrences of today's date (2024-08-11) in 'prev_sold_date': 729851\n"
     ]
    }
   ],
   "source": [
    "# Counting occurrences of today's date in the 'prev_sold_date' column\n",
    "today_date_count = df['prev_sold_date'].tolist().count(today_date)\n",
    "\n",
    "print(f\"Number of occurrences of today's date ({today_date}) in 'prev_sold_date': {today_date_count}\")"
   ]
  },
  {
   "cell_type": "code",
   "execution_count": 40,
   "id": "5eea07d3",
   "metadata": {},
   "outputs": [
    {
     "data": {
      "text/plain": [
       "(2213729, 18)"
      ]
     },
     "execution_count": 40,
     "metadata": {},
     "output_type": "execute_result"
    }
   ],
   "source": [
    "df.shape"
   ]
  },
  {
   "cell_type": "markdown",
   "id": "82498bd7",
   "metadata": {},
   "source": [
    "## Export data as csv"
   ]
  },
  {
   "cell_type": "code",
   "execution_count": 199,
   "id": "01dbc7d5",
   "metadata": {},
   "outputs": [],
   "source": [
    "df.to_csv(os.path.join(path, 'Prepared Data', 're_clean10.csv'))"
   ]
  },
  {
   "cell_type": "code",
   "execution_count": null,
   "id": "19fac074",
   "metadata": {},
   "outputs": [],
   "source": []
  }
 ],
 "metadata": {
  "kernelspec": {
   "display_name": "Python 3 (ipykernel)",
   "language": "python",
   "name": "python3"
  },
  "language_info": {
   "codemirror_mode": {
    "name": "ipython",
    "version": 3
   },
   "file_extension": ".py",
   "mimetype": "text/x-python",
   "name": "python",
   "nbconvert_exporter": "python",
   "pygments_lexer": "ipython3",
   "version": "3.11.7"
  }
 },
 "nbformat": 4,
 "nbformat_minor": 5
}
