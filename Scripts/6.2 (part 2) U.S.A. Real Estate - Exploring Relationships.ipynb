{
 "cells": [
  {
   "cell_type": "markdown",
   "id": "ca2fd315",
   "metadata": {},
   "source": [
    "# 6.2 (part 2) U.S.A. Real Estate - Exploring Relationships"
   ]
  },
  {
   "cell_type": "markdown",
   "id": "c99b87b7",
   "metadata": {},
   "source": [
    "This script is fine-tuning the last one using the data set with the strong outliers (high price) removed with some extra cleaning here to get rid of the 0s as these were strongly impacting the visualizations\n",
    "### 1. Import Visualization Libraries and Data\n",
    "### 2. Data Cleaning\n",
    "### 3. Exploring Relationships\n",
    "Correlations, Scatterplots, Pair Plots, Categorical Plots"
   ]
  },
  {
   "cell_type": "markdown",
   "id": "cd5cd01f",
   "metadata": {},
   "source": [
    "## 1. Import visualization libraries and data"
   ]
  },
  {
   "cell_type": "code",
   "execution_count": 1,
   "id": "583652f5",
   "metadata": {},
   "outputs": [],
   "source": [
    "# import libraries\n",
    "# import libraries\n",
    "import pandas as pd\n",
    "import numpy as np\n",
    "import seaborn as sns\n",
    "import matplotlib.pyplot as plt\n",
    "import matplotlib\n",
    "import os"
   ]
  },
  {
   "cell_type": "code",
   "execution_count": 2,
   "id": "94d8ef1e",
   "metadata": {},
   "outputs": [],
   "source": [
    "# This option ensures the charts you create are displayed in the notebook without the need to \"call\" them specifically.\n",
    "\n",
    "%matplotlib inline"
   ]
  },
  {
   "cell_type": "code",
   "execution_count": 3,
   "id": "d5934bf2",
   "metadata": {},
   "outputs": [],
   "source": [
    "# define path\n",
    "path = r'/Users/nancykray/Desktop/Real Estate Project'\n"
   ]
  },
  {
   "cell_type": "code",
   "execution_count": null,
   "id": "8e817c99",
   "metadata": {},
   "outputs": [],
   "source": [
    "# import data\n",
    "df = pd.read_pickle(os.path.join(path,'Prepared Data', 'df_clean4.pkl'))"
   ]
  },
  {
   "cell_type": "markdown",
   "id": "548df450",
   "metadata": {},
   "source": [
    "## 2. Data Cleaning"
   ]
  },
  {
   "cell_type": "code",
   "execution_count": 133,
   "id": "04e53e15",
   "metadata": {},
   "outputs": [
    {
     "data": {
      "text/plain": [
       "(2220421, 13)"
      ]
     },
     "execution_count": 133,
     "metadata": {},
     "output_type": "execute_result"
    }
   ],
   "source": [
    "df.shape"
   ]
  },
  {
   "cell_type": "code",
   "execution_count": 134,
   "id": "cf7618cd",
   "metadata": {},
   "outputs": [
    {
     "data": {
      "text/html": [
       "<div>\n",
       "<style scoped>\n",
       "    .dataframe tbody tr th:only-of-type {\n",
       "        vertical-align: middle;\n",
       "    }\n",
       "\n",
       "    .dataframe tbody tr th {\n",
       "        vertical-align: top;\n",
       "    }\n",
       "\n",
       "    .dataframe thead th {\n",
       "        text-align: right;\n",
       "    }\n",
       "</style>\n",
       "<table border=\"1\" class=\"dataframe\">\n",
       "  <thead>\n",
       "    <tr style=\"text-align: right;\">\n",
       "      <th></th>\n",
       "      <th>brokered_by</th>\n",
       "      <th>price</th>\n",
       "      <th>bed</th>\n",
       "      <th>bath</th>\n",
       "      <th>acre_lot</th>\n",
       "      <th>street</th>\n",
       "      <th>zip_code</th>\n",
       "      <th>house_size</th>\n",
       "    </tr>\n",
       "  </thead>\n",
       "  <tbody>\n",
       "    <tr>\n",
       "      <th>count</th>\n",
       "      <td>2.220421e+06</td>\n",
       "      <td>2.220421e+06</td>\n",
       "      <td>2.220421e+06</td>\n",
       "      <td>2.220421e+06</td>\n",
       "      <td>2.220421e+06</td>\n",
       "      <td>2.220421e+06</td>\n",
       "      <td>2.220421e+06</td>\n",
       "      <td>2.220421e+06</td>\n",
       "    </tr>\n",
       "    <tr>\n",
       "      <th>mean</th>\n",
       "      <td>5.293869e+04</td>\n",
       "      <td>5.202052e+05</td>\n",
       "      <td>3.275801e+00</td>\n",
       "      <td>2.496206e+00</td>\n",
       "      <td>1.296737e+01</td>\n",
       "      <td>1.012378e+06</td>\n",
       "      <td>5.219362e+04</td>\n",
       "      <td>2.715136e+03</td>\n",
       "    </tr>\n",
       "    <tr>\n",
       "      <th>std</th>\n",
       "      <td>3.064363e+04</td>\n",
       "      <td>1.138120e+06</td>\n",
       "      <td>1.386129e+00</td>\n",
       "      <td>1.448251e+00</td>\n",
       "      <td>7.047305e+02</td>\n",
       "      <td>5.823312e+05</td>\n",
       "      <td>2.896017e+04</td>\n",
       "      <td>6.983294e+05</td>\n",
       "    </tr>\n",
       "    <tr>\n",
       "      <th>min</th>\n",
       "      <td>0.000000e+00</td>\n",
       "      <td>0.000000e+00</td>\n",
       "      <td>1.000000e+00</td>\n",
       "      <td>1.000000e+00</td>\n",
       "      <td>0.000000e+00</td>\n",
       "      <td>0.000000e+00</td>\n",
       "      <td>0.000000e+00</td>\n",
       "      <td>4.000000e+00</td>\n",
       "    </tr>\n",
       "    <tr>\n",
       "      <th>25%</th>\n",
       "      <td>2.385900e+04</td>\n",
       "      <td>1.650000e+05</td>\n",
       "      <td>3.000000e+00</td>\n",
       "      <td>2.000000e+00</td>\n",
       "      <td>1.700000e-01</td>\n",
       "      <td>5.088420e+05</td>\n",
       "      <td>2.961100e+04</td>\n",
       "      <td>1.456000e+03</td>\n",
       "    </tr>\n",
       "    <tr>\n",
       "      <th>50%</th>\n",
       "      <td>5.288400e+04</td>\n",
       "      <td>3.250000e+05</td>\n",
       "      <td>3.000000e+00</td>\n",
       "      <td>2.496373e+00</td>\n",
       "      <td>2.600000e-01</td>\n",
       "      <td>1.012986e+06</td>\n",
       "      <td>4.843300e+04</td>\n",
       "      <td>2.160000e+03</td>\n",
       "    </tr>\n",
       "    <tr>\n",
       "      <th>75%</th>\n",
       "      <td>7.918300e+04</td>\n",
       "      <td>5.500000e+05</td>\n",
       "      <td>4.000000e+00</td>\n",
       "      <td>3.000000e+00</td>\n",
       "      <td>6.800000e-01</td>\n",
       "      <td>1.518710e+06</td>\n",
       "      <td>7.807000e+04</td>\n",
       "      <td>2.715133e+03</td>\n",
       "    </tr>\n",
       "    <tr>\n",
       "      <th>max</th>\n",
       "      <td>1.101420e+05</td>\n",
       "      <td>9.950000e+07</td>\n",
       "      <td>4.730000e+02</td>\n",
       "      <td>8.300000e+02</td>\n",
       "      <td>1.000000e+05</td>\n",
       "      <td>2.001357e+06</td>\n",
       "      <td>9.999900e+04</td>\n",
       "      <td>1.040400e+09</td>\n",
       "    </tr>\n",
       "  </tbody>\n",
       "</table>\n",
       "</div>"
      ],
      "text/plain": [
       "        brokered_by         price           bed          bath      acre_lot  \\\n",
       "count  2.220421e+06  2.220421e+06  2.220421e+06  2.220421e+06  2.220421e+06   \n",
       "mean   5.293869e+04  5.202052e+05  3.275801e+00  2.496206e+00  1.296737e+01   \n",
       "std    3.064363e+04  1.138120e+06  1.386129e+00  1.448251e+00  7.047305e+02   \n",
       "min    0.000000e+00  0.000000e+00  1.000000e+00  1.000000e+00  0.000000e+00   \n",
       "25%    2.385900e+04  1.650000e+05  3.000000e+00  2.000000e+00  1.700000e-01   \n",
       "50%    5.288400e+04  3.250000e+05  3.000000e+00  2.496373e+00  2.600000e-01   \n",
       "75%    7.918300e+04  5.500000e+05  4.000000e+00  3.000000e+00  6.800000e-01   \n",
       "max    1.101420e+05  9.950000e+07  4.730000e+02  8.300000e+02  1.000000e+05   \n",
       "\n",
       "             street      zip_code    house_size  \n",
       "count  2.220421e+06  2.220421e+06  2.220421e+06  \n",
       "mean   1.012378e+06  5.219362e+04  2.715136e+03  \n",
       "std    5.823312e+05  2.896017e+04  6.983294e+05  \n",
       "min    0.000000e+00  0.000000e+00  4.000000e+00  \n",
       "25%    5.088420e+05  2.961100e+04  1.456000e+03  \n",
       "50%    1.012986e+06  4.843300e+04  2.160000e+03  \n",
       "75%    1.518710e+06  7.807000e+04  2.715133e+03  \n",
       "max    2.001357e+06  9.999900e+04  1.040400e+09  "
      ]
     },
     "execution_count": 134,
     "metadata": {},
     "output_type": "execute_result"
    }
   ],
   "source": [
    "df.describe()"
   ]
  },
  {
   "cell_type": "markdown",
   "id": "34f75ab2",
   "metadata": {},
   "source": [
    "## 2. a) look at the 0 values \n",
    "columns of interest: 'price', 'brokered_by', 'acre_lot', 'zip_code'"
   ]
  },
  {
   "cell_type": "markdown",
   "id": "34126dc8",
   "metadata": {},
   "source": [
    "####           1) for 'price' (277 rows)"
   ]
  },
  {
   "cell_type": "code",
   "execution_count": 135,
   "id": "8693e150",
   "metadata": {},
   "outputs": [],
   "source": [
    "df_zeros_price=df[df['price']==0]"
   ]
  },
  {
   "cell_type": "code",
   "execution_count": 136,
   "id": "6cb9ad0d",
   "metadata": {},
   "outputs": [
    {
     "data": {
      "text/plain": [
       "(277, 13)"
      ]
     },
     "execution_count": 136,
     "metadata": {},
     "output_type": "execute_result"
    }
   ],
   "source": [
    "df_zeros_price.shape"
   ]
  },
  {
   "cell_type": "code",
   "execution_count": 137,
   "id": "0079d086",
   "metadata": {},
   "outputs": [
    {
     "data": {
      "text/html": [
       "<div>\n",
       "<style scoped>\n",
       "    .dataframe tbody tr th:only-of-type {\n",
       "        vertical-align: middle;\n",
       "    }\n",
       "\n",
       "    .dataframe tbody tr th {\n",
       "        vertical-align: top;\n",
       "    }\n",
       "\n",
       "    .dataframe thead th {\n",
       "        text-align: right;\n",
       "    }\n",
       "</style>\n",
       "<table border=\"1\" class=\"dataframe\">\n",
       "  <thead>\n",
       "    <tr style=\"text-align: right;\">\n",
       "      <th></th>\n",
       "      <th>brokered_by</th>\n",
       "      <th>status</th>\n",
       "      <th>price</th>\n",
       "      <th>bed</th>\n",
       "      <th>bath</th>\n",
       "      <th>acre_lot</th>\n",
       "      <th>street</th>\n",
       "      <th>city</th>\n",
       "      <th>state</th>\n",
       "      <th>zip_code</th>\n",
       "      <th>house_size</th>\n",
       "      <th>prev_sold_date</th>\n",
       "      <th>Price category</th>\n",
       "    </tr>\n",
       "  </thead>\n",
       "  <tbody>\n",
       "    <tr>\n",
       "      <th>46191</th>\n",
       "      <td>67948.0</td>\n",
       "      <td>for_sale</td>\n",
       "      <td>0.0</td>\n",
       "      <td>3.275919</td>\n",
       "      <td>2.496373</td>\n",
       "      <td>0.17</td>\n",
       "      <td>1378257.0</td>\n",
       "      <td>Paterson</td>\n",
       "      <td>New Jersey</td>\n",
       "      <td>7504.0</td>\n",
       "      <td>4500.000</td>\n",
       "      <td>0</td>\n",
       "      <td>Low price</td>\n",
       "    </tr>\n",
       "    <tr>\n",
       "      <th>46192</th>\n",
       "      <td>67948.0</td>\n",
       "      <td>for_sale</td>\n",
       "      <td>0.0</td>\n",
       "      <td>3.275919</td>\n",
       "      <td>2.496373</td>\n",
       "      <td>0.22</td>\n",
       "      <td>1385903.0</td>\n",
       "      <td>Paterson</td>\n",
       "      <td>New Jersey</td>\n",
       "      <td>7504.0</td>\n",
       "      <td>5000.000</td>\n",
       "      <td>0</td>\n",
       "      <td>Low price</td>\n",
       "    </tr>\n",
       "    <tr>\n",
       "      <th>49580</th>\n",
       "      <td>92894.0</td>\n",
       "      <td>for_sale</td>\n",
       "      <td>0.0</td>\n",
       "      <td>4.000000</td>\n",
       "      <td>4.000000</td>\n",
       "      <td>0.26</td>\n",
       "      <td>1012209.0</td>\n",
       "      <td>New York</td>\n",
       "      <td>New York</td>\n",
       "      <td>10016.0</td>\n",
       "      <td>2715.133</td>\n",
       "      <td>0</td>\n",
       "      <td>Low price</td>\n",
       "    </tr>\n",
       "    <tr>\n",
       "      <th>57766</th>\n",
       "      <td>67929.0</td>\n",
       "      <td>for_sale</td>\n",
       "      <td>0.0</td>\n",
       "      <td>3.275919</td>\n",
       "      <td>2.496373</td>\n",
       "      <td>0.26</td>\n",
       "      <td>360537.0</td>\n",
       "      <td>Jersey City</td>\n",
       "      <td>New Jersey</td>\n",
       "      <td>7302.0</td>\n",
       "      <td>2715.133</td>\n",
       "      <td>2020-03-04</td>\n",
       "      <td>Low price</td>\n",
       "    </tr>\n",
       "    <tr>\n",
       "      <th>116218</th>\n",
       "      <td>67937.0</td>\n",
       "      <td>for_sale</td>\n",
       "      <td>0.0</td>\n",
       "      <td>3.275919</td>\n",
       "      <td>1.000000</td>\n",
       "      <td>0.26</td>\n",
       "      <td>1089831.0</td>\n",
       "      <td>Queens</td>\n",
       "      <td>New York</td>\n",
       "      <td>11101.0</td>\n",
       "      <td>2715.133</td>\n",
       "      <td>2021-08-31</td>\n",
       "      <td>Low price</td>\n",
       "    </tr>\n",
       "    <tr>\n",
       "      <th>...</th>\n",
       "      <td>...</td>\n",
       "      <td>...</td>\n",
       "      <td>...</td>\n",
       "      <td>...</td>\n",
       "      <td>...</td>\n",
       "      <td>...</td>\n",
       "      <td>...</td>\n",
       "      <td>...</td>\n",
       "      <td>...</td>\n",
       "      <td>...</td>\n",
       "      <td>...</td>\n",
       "      <td>...</td>\n",
       "      <td>...</td>\n",
       "    </tr>\n",
       "    <tr>\n",
       "      <th>1329804</th>\n",
       "      <td>91026.0</td>\n",
       "      <td>ready_to_build</td>\n",
       "      <td>0.0</td>\n",
       "      <td>2.000000</td>\n",
       "      <td>2.496373</td>\n",
       "      <td>0.26</td>\n",
       "      <td>558779.0</td>\n",
       "      <td>Brentwood</td>\n",
       "      <td>California</td>\n",
       "      <td>94513.0</td>\n",
       "      <td>1622.000</td>\n",
       "      <td>0</td>\n",
       "      <td>Low price</td>\n",
       "    </tr>\n",
       "    <tr>\n",
       "      <th>1329805</th>\n",
       "      <td>91026.0</td>\n",
       "      <td>ready_to_build</td>\n",
       "      <td>0.0</td>\n",
       "      <td>2.000000</td>\n",
       "      <td>2.496373</td>\n",
       "      <td>0.26</td>\n",
       "      <td>558779.0</td>\n",
       "      <td>Brentwood</td>\n",
       "      <td>California</td>\n",
       "      <td>94513.0</td>\n",
       "      <td>1868.000</td>\n",
       "      <td>0</td>\n",
       "      <td>Low price</td>\n",
       "    </tr>\n",
       "    <tr>\n",
       "      <th>1329809</th>\n",
       "      <td>91026.0</td>\n",
       "      <td>ready_to_build</td>\n",
       "      <td>0.0</td>\n",
       "      <td>2.000000</td>\n",
       "      <td>2.496373</td>\n",
       "      <td>0.26</td>\n",
       "      <td>485787.0</td>\n",
       "      <td>Brentwood</td>\n",
       "      <td>California</td>\n",
       "      <td>94513.0</td>\n",
       "      <td>1962.000</td>\n",
       "      <td>0</td>\n",
       "      <td>Low price</td>\n",
       "    </tr>\n",
       "    <tr>\n",
       "      <th>1329812</th>\n",
       "      <td>91026.0</td>\n",
       "      <td>ready_to_build</td>\n",
       "      <td>0.0</td>\n",
       "      <td>2.000000</td>\n",
       "      <td>2.496373</td>\n",
       "      <td>0.26</td>\n",
       "      <td>485787.0</td>\n",
       "      <td>Brentwood</td>\n",
       "      <td>California</td>\n",
       "      <td>94513.0</td>\n",
       "      <td>1841.000</td>\n",
       "      <td>0</td>\n",
       "      <td>Low price</td>\n",
       "    </tr>\n",
       "    <tr>\n",
       "      <th>1329823</th>\n",
       "      <td>91026.0</td>\n",
       "      <td>ready_to_build</td>\n",
       "      <td>0.0</td>\n",
       "      <td>2.000000</td>\n",
       "      <td>2.496373</td>\n",
       "      <td>0.26</td>\n",
       "      <td>485787.0</td>\n",
       "      <td>Brentwood</td>\n",
       "      <td>California</td>\n",
       "      <td>94513.0</td>\n",
       "      <td>1520.000</td>\n",
       "      <td>0</td>\n",
       "      <td>Low price</td>\n",
       "    </tr>\n",
       "  </tbody>\n",
       "</table>\n",
       "<p>277 rows × 13 columns</p>\n",
       "</div>"
      ],
      "text/plain": [
       "         brokered_by          status  price       bed      bath  acre_lot  \\\n",
       "46191        67948.0        for_sale    0.0  3.275919  2.496373      0.17   \n",
       "46192        67948.0        for_sale    0.0  3.275919  2.496373      0.22   \n",
       "49580        92894.0        for_sale    0.0  4.000000  4.000000      0.26   \n",
       "57766        67929.0        for_sale    0.0  3.275919  2.496373      0.26   \n",
       "116218       67937.0        for_sale    0.0  3.275919  1.000000      0.26   \n",
       "...              ...             ...    ...       ...       ...       ...   \n",
       "1329804      91026.0  ready_to_build    0.0  2.000000  2.496373      0.26   \n",
       "1329805      91026.0  ready_to_build    0.0  2.000000  2.496373      0.26   \n",
       "1329809      91026.0  ready_to_build    0.0  2.000000  2.496373      0.26   \n",
       "1329812      91026.0  ready_to_build    0.0  2.000000  2.496373      0.26   \n",
       "1329823      91026.0  ready_to_build    0.0  2.000000  2.496373      0.26   \n",
       "\n",
       "            street         city       state  zip_code  house_size  \\\n",
       "46191    1378257.0     Paterson  New Jersey    7504.0    4500.000   \n",
       "46192    1385903.0     Paterson  New Jersey    7504.0    5000.000   \n",
       "49580    1012209.0     New York    New York   10016.0    2715.133   \n",
       "57766     360537.0  Jersey City  New Jersey    7302.0    2715.133   \n",
       "116218   1089831.0       Queens    New York   11101.0    2715.133   \n",
       "...            ...          ...         ...       ...         ...   \n",
       "1329804   558779.0    Brentwood  California   94513.0    1622.000   \n",
       "1329805   558779.0    Brentwood  California   94513.0    1868.000   \n",
       "1329809   485787.0    Brentwood  California   94513.0    1962.000   \n",
       "1329812   485787.0    Brentwood  California   94513.0    1841.000   \n",
       "1329823   485787.0    Brentwood  California   94513.0    1520.000   \n",
       "\n",
       "        prev_sold_date Price category  \n",
       "46191                0      Low price  \n",
       "46192                0      Low price  \n",
       "49580                0      Low price  \n",
       "57766       2020-03-04      Low price  \n",
       "116218      2021-08-31      Low price  \n",
       "...                ...            ...  \n",
       "1329804              0      Low price  \n",
       "1329805              0      Low price  \n",
       "1329809              0      Low price  \n",
       "1329812              0      Low price  \n",
       "1329823              0      Low price  \n",
       "\n",
       "[277 rows x 13 columns]"
      ]
     },
     "execution_count": 137,
     "metadata": {},
     "output_type": "execute_result"
    }
   ],
   "source": [
    "#investigate these 0s\n",
    "df_zeros_price"
   ]
  },
  {
   "cell_type": "code",
   "execution_count": 138,
   "id": "c8c53aa6",
   "metadata": {},
   "outputs": [
    {
     "data": {
      "text/plain": [
       "array(['for_sale', 'ready_to_build'], dtype=object)"
      ]
     },
     "execution_count": 138,
     "metadata": {},
     "output_type": "execute_result"
    }
   ],
   "source": [
    "#check if any of these status categories are left out\n",
    "df_zeros_price.status.unique()"
   ]
  },
  {
   "cell_type": "markdown",
   "id": "5db64c81",
   "metadata": {},
   "source": [
    "##### -there is no 'sold' status on them (this may imply that price has not yet been determined, which would explain why price = 0)\n",
    "##### - I will go ahead and use a new subset for purposes of cleaning the data for clear visualizations to analyze.  This is a lot of 0s to cloud the charts, but not enough to affect the dataset"
   ]
  },
  {
   "cell_type": "code",
   "execution_count": 139,
   "id": "57042598",
   "metadata": {},
   "outputs": [],
   "source": [
    "# make a subset not including these 0 priced homes\n",
    "df_real=df[df['price']>0]"
   ]
  },
  {
   "cell_type": "code",
   "execution_count": 140,
   "id": "9355e2fb",
   "metadata": {},
   "outputs": [
    {
     "data": {
      "text/plain": [
       "(2220144, 13)"
      ]
     },
     "execution_count": 140,
     "metadata": {},
     "output_type": "execute_result"
    }
   ],
   "source": [
    "# check shape to make sure that this new data set has 277 less rows (2220421-277 = 2220144) Perfect!\n",
    "df_real.shape"
   ]
  },
  {
   "cell_type": "markdown",
   "id": "c81fc218",
   "metadata": {},
   "source": [
    "##### EXPORT THIS DATA SET TO CONTINUE CODING AND MONITORING REMAINING 0s in other columns"
   ]
  },
  {
   "cell_type": "code",
   "execution_count": 145,
   "id": "124658ec",
   "metadata": {},
   "outputs": [],
   "source": [
    "#export this df_real dataset\n",
    "df_real.to_pickle(os.path.join(path, 'Prepared Data', 'df_clean5.pkl'))"
   ]
  },
  {
   "cell_type": "markdown",
   "id": "abbc605f",
   "metadata": {},
   "source": [
    "##### IMPORT THIS DATA SET as df \n",
    "### **********THEN IMPORT LIBRARIES AND PATH AND START FROM HERE"
   ]
  },
  {
   "cell_type": "code",
   "execution_count": 4,
   "id": "f5fdf297",
   "metadata": {},
   "outputs": [],
   "source": [
    "#import clean data\n",
    "df=pd.read_pickle(os.path.join(path, 'Prepared Data', 'df_clean5.pkl'))"
   ]
  },
  {
   "cell_type": "code",
   "execution_count": 5,
   "id": "abd2528e",
   "metadata": {},
   "outputs": [
    {
     "data": {
      "text/plain": [
       "(2220144, 13)"
      ]
     },
     "execution_count": 5,
     "metadata": {},
     "output_type": "execute_result"
    }
   ],
   "source": [
    "df.shape"
   ]
  },
  {
   "cell_type": "markdown",
   "id": "65814cf1",
   "metadata": {},
   "source": [
    "####         2) for 'brokered_by' (12 rows)"
   ]
  },
  {
   "cell_type": "code",
   "execution_count": 6,
   "id": "91531743",
   "metadata": {},
   "outputs": [],
   "source": [
    "df_zeros_brokered_by=df[df['brokered_by']==0]"
   ]
  },
  {
   "cell_type": "code",
   "execution_count": 7,
   "id": "b0b95896",
   "metadata": {},
   "outputs": [
    {
     "data": {
      "text/plain": [
       "(12, 13)"
      ]
     },
     "execution_count": 7,
     "metadata": {},
     "output_type": "execute_result"
    }
   ],
   "source": [
    "df_zeros_brokered_by.shape"
   ]
  },
  {
   "cell_type": "code",
   "execution_count": 8,
   "id": "c9ab6750",
   "metadata": {},
   "outputs": [
    {
     "data": {
      "text/html": [
       "<div>\n",
       "<style scoped>\n",
       "    .dataframe tbody tr th:only-of-type {\n",
       "        vertical-align: middle;\n",
       "    }\n",
       "\n",
       "    .dataframe tbody tr th {\n",
       "        vertical-align: top;\n",
       "    }\n",
       "\n",
       "    .dataframe thead th {\n",
       "        text-align: right;\n",
       "    }\n",
       "</style>\n",
       "<table border=\"1\" class=\"dataframe\">\n",
       "  <thead>\n",
       "    <tr style=\"text-align: right;\">\n",
       "      <th></th>\n",
       "      <th>brokered_by</th>\n",
       "      <th>status</th>\n",
       "      <th>price</th>\n",
       "      <th>bed</th>\n",
       "      <th>bath</th>\n",
       "      <th>acre_lot</th>\n",
       "      <th>street</th>\n",
       "      <th>city</th>\n",
       "      <th>state</th>\n",
       "      <th>zip_code</th>\n",
       "      <th>house_size</th>\n",
       "      <th>prev_sold_date</th>\n",
       "      <th>Price category</th>\n",
       "    </tr>\n",
       "  </thead>\n",
       "  <tbody>\n",
       "    <tr>\n",
       "      <th>410350</th>\n",
       "      <td>0.0</td>\n",
       "      <td>for_sale</td>\n",
       "      <td>190000.0</td>\n",
       "      <td>3.275919</td>\n",
       "      <td>2.496373</td>\n",
       "      <td>4.27</td>\n",
       "      <td>77775.0</td>\n",
       "      <td>Savannah</td>\n",
       "      <td>Georgia</td>\n",
       "      <td>31419.0</td>\n",
       "      <td>2715.133</td>\n",
       "      <td>0</td>\n",
       "      <td>Middle price</td>\n",
       "    </tr>\n",
       "    <tr>\n",
       "      <th>410980</th>\n",
       "      <td>0.0</td>\n",
       "      <td>for_sale</td>\n",
       "      <td>279900.0</td>\n",
       "      <td>3.000000</td>\n",
       "      <td>2.000000</td>\n",
       "      <td>0.20</td>\n",
       "      <td>1623254.0</td>\n",
       "      <td>Savannah</td>\n",
       "      <td>Georgia</td>\n",
       "      <td>31419.0</td>\n",
       "      <td>1728.000</td>\n",
       "      <td>2009-04-06</td>\n",
       "      <td>Middle price</td>\n",
       "    </tr>\n",
       "    <tr>\n",
       "      <th>411453</th>\n",
       "      <td>0.0</td>\n",
       "      <td>for_sale</td>\n",
       "      <td>265000.0</td>\n",
       "      <td>4.000000</td>\n",
       "      <td>3.000000</td>\n",
       "      <td>0.22</td>\n",
       "      <td>296128.0</td>\n",
       "      <td>Savannah</td>\n",
       "      <td>Georgia</td>\n",
       "      <td>31419.0</td>\n",
       "      <td>1487.000</td>\n",
       "      <td>2006-07-11</td>\n",
       "      <td>Middle price</td>\n",
       "    </tr>\n",
       "    <tr>\n",
       "      <th>1631224</th>\n",
       "      <td>0.0</td>\n",
       "      <td>sold</td>\n",
       "      <td>179900.0</td>\n",
       "      <td>3.000000</td>\n",
       "      <td>2.000000</td>\n",
       "      <td>0.20</td>\n",
       "      <td>93274.0</td>\n",
       "      <td>Rincon</td>\n",
       "      <td>Georgia</td>\n",
       "      <td>31326.0</td>\n",
       "      <td>1100.000</td>\n",
       "      <td>2021-12-03</td>\n",
       "      <td>Middle price</td>\n",
       "    </tr>\n",
       "    <tr>\n",
       "      <th>1631594</th>\n",
       "      <td>0.0</td>\n",
       "      <td>sold</td>\n",
       "      <td>212000.0</td>\n",
       "      <td>3.000000</td>\n",
       "      <td>2.000000</td>\n",
       "      <td>0.46</td>\n",
       "      <td>453346.0</td>\n",
       "      <td>Rincon</td>\n",
       "      <td>Georgia</td>\n",
       "      <td>31326.0</td>\n",
       "      <td>1527.000</td>\n",
       "      <td>2022-03-11</td>\n",
       "      <td>Middle price</td>\n",
       "    </tr>\n",
       "    <tr>\n",
       "      <th>1656719</th>\n",
       "      <td>0.0</td>\n",
       "      <td>sold</td>\n",
       "      <td>220000.0</td>\n",
       "      <td>3.000000</td>\n",
       "      <td>2.000000</td>\n",
       "      <td>0.22</td>\n",
       "      <td>166242.0</td>\n",
       "      <td>Savannah</td>\n",
       "      <td>Georgia</td>\n",
       "      <td>31419.0</td>\n",
       "      <td>1376.000</td>\n",
       "      <td>2021-12-06</td>\n",
       "      <td>Middle price</td>\n",
       "    </tr>\n",
       "    <tr>\n",
       "      <th>1656970</th>\n",
       "      <td>0.0</td>\n",
       "      <td>sold</td>\n",
       "      <td>355000.0</td>\n",
       "      <td>4.000000</td>\n",
       "      <td>3.000000</td>\n",
       "      <td>0.22</td>\n",
       "      <td>642647.0</td>\n",
       "      <td>Savannah</td>\n",
       "      <td>Georgia</td>\n",
       "      <td>31405.0</td>\n",
       "      <td>2026.000</td>\n",
       "      <td>2022-02-25</td>\n",
       "      <td>Middle price</td>\n",
       "    </tr>\n",
       "    <tr>\n",
       "      <th>1657301</th>\n",
       "      <td>0.0</td>\n",
       "      <td>sold</td>\n",
       "      <td>340000.0</td>\n",
       "      <td>4.000000</td>\n",
       "      <td>3.000000</td>\n",
       "      <td>0.26</td>\n",
       "      <td>1138378.0</td>\n",
       "      <td>Pooler</td>\n",
       "      <td>Georgia</td>\n",
       "      <td>31322.0</td>\n",
       "      <td>2593.000</td>\n",
       "      <td>2022-01-21</td>\n",
       "      <td>Middle price</td>\n",
       "    </tr>\n",
       "    <tr>\n",
       "      <th>1657411</th>\n",
       "      <td>0.0</td>\n",
       "      <td>sold</td>\n",
       "      <td>224900.0</td>\n",
       "      <td>3.000000</td>\n",
       "      <td>2.000000</td>\n",
       "      <td>0.21</td>\n",
       "      <td>1136718.0</td>\n",
       "      <td>Savannah</td>\n",
       "      <td>Georgia</td>\n",
       "      <td>31419.0</td>\n",
       "      <td>1315.000</td>\n",
       "      <td>2022-03-10</td>\n",
       "      <td>Middle price</td>\n",
       "    </tr>\n",
       "    <tr>\n",
       "      <th>1657894</th>\n",
       "      <td>0.0</td>\n",
       "      <td>sold</td>\n",
       "      <td>235000.0</td>\n",
       "      <td>3.000000</td>\n",
       "      <td>2.000000</td>\n",
       "      <td>0.19</td>\n",
       "      <td>427351.0</td>\n",
       "      <td>Savannah</td>\n",
       "      <td>Georgia</td>\n",
       "      <td>31419.0</td>\n",
       "      <td>1709.000</td>\n",
       "      <td>2022-01-07</td>\n",
       "      <td>Middle price</td>\n",
       "    </tr>\n",
       "    <tr>\n",
       "      <th>1657934</th>\n",
       "      <td>0.0</td>\n",
       "      <td>sold</td>\n",
       "      <td>249900.0</td>\n",
       "      <td>3.000000</td>\n",
       "      <td>2.000000</td>\n",
       "      <td>0.26</td>\n",
       "      <td>511777.0</td>\n",
       "      <td>Savannah</td>\n",
       "      <td>Georgia</td>\n",
       "      <td>31322.0</td>\n",
       "      <td>1519.000</td>\n",
       "      <td>2022-02-18</td>\n",
       "      <td>Middle price</td>\n",
       "    </tr>\n",
       "    <tr>\n",
       "      <th>1658297</th>\n",
       "      <td>0.0</td>\n",
       "      <td>sold</td>\n",
       "      <td>205000.0</td>\n",
       "      <td>2.000000</td>\n",
       "      <td>2.000000</td>\n",
       "      <td>0.03</td>\n",
       "      <td>458694.0</td>\n",
       "      <td>Savannah</td>\n",
       "      <td>Georgia</td>\n",
       "      <td>31419.0</td>\n",
       "      <td>1040.000</td>\n",
       "      <td>2022-02-09</td>\n",
       "      <td>Middle price</td>\n",
       "    </tr>\n",
       "  </tbody>\n",
       "</table>\n",
       "</div>"
      ],
      "text/plain": [
       "         brokered_by    status     price       bed      bath  acre_lot  \\\n",
       "410350           0.0  for_sale  190000.0  3.275919  2.496373      4.27   \n",
       "410980           0.0  for_sale  279900.0  3.000000  2.000000      0.20   \n",
       "411453           0.0  for_sale  265000.0  4.000000  3.000000      0.22   \n",
       "1631224          0.0      sold  179900.0  3.000000  2.000000      0.20   \n",
       "1631594          0.0      sold  212000.0  3.000000  2.000000      0.46   \n",
       "1656719          0.0      sold  220000.0  3.000000  2.000000      0.22   \n",
       "1656970          0.0      sold  355000.0  4.000000  3.000000      0.22   \n",
       "1657301          0.0      sold  340000.0  4.000000  3.000000      0.26   \n",
       "1657411          0.0      sold  224900.0  3.000000  2.000000      0.21   \n",
       "1657894          0.0      sold  235000.0  3.000000  2.000000      0.19   \n",
       "1657934          0.0      sold  249900.0  3.000000  2.000000      0.26   \n",
       "1658297          0.0      sold  205000.0  2.000000  2.000000      0.03   \n",
       "\n",
       "            street      city    state  zip_code  house_size prev_sold_date  \\\n",
       "410350     77775.0  Savannah  Georgia   31419.0    2715.133              0   \n",
       "410980   1623254.0  Savannah  Georgia   31419.0    1728.000     2009-04-06   \n",
       "411453    296128.0  Savannah  Georgia   31419.0    1487.000     2006-07-11   \n",
       "1631224    93274.0    Rincon  Georgia   31326.0    1100.000     2021-12-03   \n",
       "1631594   453346.0    Rincon  Georgia   31326.0    1527.000     2022-03-11   \n",
       "1656719   166242.0  Savannah  Georgia   31419.0    1376.000     2021-12-06   \n",
       "1656970   642647.0  Savannah  Georgia   31405.0    2026.000     2022-02-25   \n",
       "1657301  1138378.0    Pooler  Georgia   31322.0    2593.000     2022-01-21   \n",
       "1657411  1136718.0  Savannah  Georgia   31419.0    1315.000     2022-03-10   \n",
       "1657894   427351.0  Savannah  Georgia   31419.0    1709.000     2022-01-07   \n",
       "1657934   511777.0  Savannah  Georgia   31322.0    1519.000     2022-02-18   \n",
       "1658297   458694.0  Savannah  Georgia   31419.0    1040.000     2022-02-09   \n",
       "\n",
       "        Price category  \n",
       "410350    Middle price  \n",
       "410980    Middle price  \n",
       "411453    Middle price  \n",
       "1631224   Middle price  \n",
       "1631594   Middle price  \n",
       "1656719   Middle price  \n",
       "1656970   Middle price  \n",
       "1657301   Middle price  \n",
       "1657411   Middle price  \n",
       "1657894   Middle price  \n",
       "1657934   Middle price  \n",
       "1658297   Middle price  "
      ]
     },
     "execution_count": 8,
     "metadata": {},
     "output_type": "execute_result"
    }
   ],
   "source": [
    "# check these rows to see if there are other blanks or other significant info\n",
    "df_zeros_brokered_by"
   ]
  },
  {
   "cell_type": "code",
   "execution_count": 11,
   "id": "02156cc4",
   "metadata": {},
   "outputs": [],
   "source": [
    "#All of these are in Georgia and mostly in Savannah mostly\n",
    "# filter this dataset to find the median to use for imputing\n",
    "df_city_Georgia = df[(df['state']=='Georgia') & (df['city']=='Savannah')]"
   ]
  },
  {
   "cell_type": "code",
   "execution_count": 12,
   "id": "67d4775c",
   "metadata": {},
   "outputs": [
    {
     "data": {
      "text/html": [
       "<div>\n",
       "<style scoped>\n",
       "    .dataframe tbody tr th:only-of-type {\n",
       "        vertical-align: middle;\n",
       "    }\n",
       "\n",
       "    .dataframe tbody tr th {\n",
       "        vertical-align: top;\n",
       "    }\n",
       "\n",
       "    .dataframe thead th {\n",
       "        text-align: right;\n",
       "    }\n",
       "</style>\n",
       "<table border=\"1\" class=\"dataframe\">\n",
       "  <thead>\n",
       "    <tr style=\"text-align: right;\">\n",
       "      <th></th>\n",
       "      <th>brokered_by</th>\n",
       "      <th>status</th>\n",
       "      <th>price</th>\n",
       "      <th>bed</th>\n",
       "      <th>bath</th>\n",
       "      <th>acre_lot</th>\n",
       "      <th>street</th>\n",
       "      <th>city</th>\n",
       "      <th>state</th>\n",
       "      <th>zip_code</th>\n",
       "      <th>house_size</th>\n",
       "      <th>prev_sold_date</th>\n",
       "      <th>Price category</th>\n",
       "    </tr>\n",
       "  </thead>\n",
       "  <tbody>\n",
       "    <tr>\n",
       "      <th>365612</th>\n",
       "      <td>104308.0</td>\n",
       "      <td>for_sale</td>\n",
       "      <td>120000.0</td>\n",
       "      <td>3.0</td>\n",
       "      <td>1.0</td>\n",
       "      <td>0.19</td>\n",
       "      <td>721792.0</td>\n",
       "      <td>Savannah</td>\n",
       "      <td>Georgia</td>\n",
       "      <td>31404.0</td>\n",
       "      <td>1097.0</td>\n",
       "      <td>0</td>\n",
       "      <td>Middle price</td>\n",
       "    </tr>\n",
       "    <tr>\n",
       "      <th>365613</th>\n",
       "      <td>32296.0</td>\n",
       "      <td>for_sale</td>\n",
       "      <td>399000.0</td>\n",
       "      <td>3.0</td>\n",
       "      <td>2.0</td>\n",
       "      <td>0.17</td>\n",
       "      <td>1376034.0</td>\n",
       "      <td>Savannah</td>\n",
       "      <td>Georgia</td>\n",
       "      <td>31405.0</td>\n",
       "      <td>1645.0</td>\n",
       "      <td>2007-12-11</td>\n",
       "      <td>Middle price</td>\n",
       "    </tr>\n",
       "    <tr>\n",
       "      <th>365615</th>\n",
       "      <td>58423.0</td>\n",
       "      <td>for_sale</td>\n",
       "      <td>239000.0</td>\n",
       "      <td>3.0</td>\n",
       "      <td>1.0</td>\n",
       "      <td>0.15</td>\n",
       "      <td>746150.0</td>\n",
       "      <td>Savannah</td>\n",
       "      <td>Georgia</td>\n",
       "      <td>31404.0</td>\n",
       "      <td>1200.0</td>\n",
       "      <td>2021-10-20</td>\n",
       "      <td>Middle price</td>\n",
       "    </tr>\n",
       "    <tr>\n",
       "      <th>365619</th>\n",
       "      <td>33716.0</td>\n",
       "      <td>for_sale</td>\n",
       "      <td>320000.0</td>\n",
       "      <td>3.0</td>\n",
       "      <td>3.0</td>\n",
       "      <td>0.15</td>\n",
       "      <td>1598016.0</td>\n",
       "      <td>Savannah</td>\n",
       "      <td>Georgia</td>\n",
       "      <td>31407.0</td>\n",
       "      <td>2090.0</td>\n",
       "      <td>2021-08-12</td>\n",
       "      <td>Middle price</td>\n",
       "    </tr>\n",
       "    <tr>\n",
       "      <th>365620</th>\n",
       "      <td>78202.0</td>\n",
       "      <td>for_sale</td>\n",
       "      <td>275000.0</td>\n",
       "      <td>4.0</td>\n",
       "      <td>4.0</td>\n",
       "      <td>0.09</td>\n",
       "      <td>1773949.0</td>\n",
       "      <td>Savannah</td>\n",
       "      <td>Georgia</td>\n",
       "      <td>31407.0</td>\n",
       "      <td>1838.0</td>\n",
       "      <td>2017-05-24</td>\n",
       "      <td>Middle price</td>\n",
       "    </tr>\n",
       "    <tr>\n",
       "      <th>...</th>\n",
       "      <td>...</td>\n",
       "      <td>...</td>\n",
       "      <td>...</td>\n",
       "      <td>...</td>\n",
       "      <td>...</td>\n",
       "      <td>...</td>\n",
       "      <td>...</td>\n",
       "      <td>...</td>\n",
       "      <td>...</td>\n",
       "      <td>...</td>\n",
       "      <td>...</td>\n",
       "      <td>...</td>\n",
       "      <td>...</td>\n",
       "    </tr>\n",
       "    <tr>\n",
       "      <th>1658543</th>\n",
       "      <td>30272.0</td>\n",
       "      <td>sold</td>\n",
       "      <td>284900.0</td>\n",
       "      <td>5.0</td>\n",
       "      <td>3.0</td>\n",
       "      <td>0.21</td>\n",
       "      <td>1567832.0</td>\n",
       "      <td>Savannah</td>\n",
       "      <td>Georgia</td>\n",
       "      <td>31419.0</td>\n",
       "      <td>2460.0</td>\n",
       "      <td>2021-12-22</td>\n",
       "      <td>Middle price</td>\n",
       "    </tr>\n",
       "    <tr>\n",
       "      <th>1658544</th>\n",
       "      <td>26716.0</td>\n",
       "      <td>sold</td>\n",
       "      <td>140000.0</td>\n",
       "      <td>2.0</td>\n",
       "      <td>2.0</td>\n",
       "      <td>0.15</td>\n",
       "      <td>231280.0</td>\n",
       "      <td>Savannah</td>\n",
       "      <td>Georgia</td>\n",
       "      <td>31419.0</td>\n",
       "      <td>1261.0</td>\n",
       "      <td>2021-12-22</td>\n",
       "      <td>Middle price</td>\n",
       "    </tr>\n",
       "    <tr>\n",
       "      <th>1658545</th>\n",
       "      <td>52608.0</td>\n",
       "      <td>sold</td>\n",
       "      <td>189999.0</td>\n",
       "      <td>3.0</td>\n",
       "      <td>2.0</td>\n",
       "      <td>0.21</td>\n",
       "      <td>653462.0</td>\n",
       "      <td>Savannah</td>\n",
       "      <td>Georgia</td>\n",
       "      <td>31419.0</td>\n",
       "      <td>1154.0</td>\n",
       "      <td>2021-12-22</td>\n",
       "      <td>Middle price</td>\n",
       "    </tr>\n",
       "    <tr>\n",
       "      <th>1658546</th>\n",
       "      <td>83601.0</td>\n",
       "      <td>sold</td>\n",
       "      <td>220000.0</td>\n",
       "      <td>3.0</td>\n",
       "      <td>3.0</td>\n",
       "      <td>0.05</td>\n",
       "      <td>1418235.0</td>\n",
       "      <td>Savannah</td>\n",
       "      <td>Georgia</td>\n",
       "      <td>31419.0</td>\n",
       "      <td>1608.0</td>\n",
       "      <td>2021-12-22</td>\n",
       "      <td>Middle price</td>\n",
       "    </tr>\n",
       "    <tr>\n",
       "      <th>1658550</th>\n",
       "      <td>56634.0</td>\n",
       "      <td>sold</td>\n",
       "      <td>360929.0</td>\n",
       "      <td>4.0</td>\n",
       "      <td>3.0</td>\n",
       "      <td>0.16</td>\n",
       "      <td>867731.0</td>\n",
       "      <td>Savannah</td>\n",
       "      <td>Georgia</td>\n",
       "      <td>31419.0</td>\n",
       "      <td>2898.0</td>\n",
       "      <td>2022-01-26</td>\n",
       "      <td>Middle price</td>\n",
       "    </tr>\n",
       "  </tbody>\n",
       "</table>\n",
       "<p>2083 rows × 13 columns</p>\n",
       "</div>"
      ],
      "text/plain": [
       "         brokered_by    status     price  bed  bath  acre_lot     street  \\\n",
       "365612      104308.0  for_sale  120000.0  3.0   1.0      0.19   721792.0   \n",
       "365613       32296.0  for_sale  399000.0  3.0   2.0      0.17  1376034.0   \n",
       "365615       58423.0  for_sale  239000.0  3.0   1.0      0.15   746150.0   \n",
       "365619       33716.0  for_sale  320000.0  3.0   3.0      0.15  1598016.0   \n",
       "365620       78202.0  for_sale  275000.0  4.0   4.0      0.09  1773949.0   \n",
       "...              ...       ...       ...  ...   ...       ...        ...   \n",
       "1658543      30272.0      sold  284900.0  5.0   3.0      0.21  1567832.0   \n",
       "1658544      26716.0      sold  140000.0  2.0   2.0      0.15   231280.0   \n",
       "1658545      52608.0      sold  189999.0  3.0   2.0      0.21   653462.0   \n",
       "1658546      83601.0      sold  220000.0  3.0   3.0      0.05  1418235.0   \n",
       "1658550      56634.0      sold  360929.0  4.0   3.0      0.16   867731.0   \n",
       "\n",
       "             city    state  zip_code  house_size prev_sold_date Price category  \n",
       "365612   Savannah  Georgia   31404.0      1097.0              0   Middle price  \n",
       "365613   Savannah  Georgia   31405.0      1645.0     2007-12-11   Middle price  \n",
       "365615   Savannah  Georgia   31404.0      1200.0     2021-10-20   Middle price  \n",
       "365619   Savannah  Georgia   31407.0      2090.0     2021-08-12   Middle price  \n",
       "365620   Savannah  Georgia   31407.0      1838.0     2017-05-24   Middle price  \n",
       "...           ...      ...       ...         ...            ...            ...  \n",
       "1658543  Savannah  Georgia   31419.0      2460.0     2021-12-22   Middle price  \n",
       "1658544  Savannah  Georgia   31419.0      1261.0     2021-12-22   Middle price  \n",
       "1658545  Savannah  Georgia   31419.0      1154.0     2021-12-22   Middle price  \n",
       "1658546  Savannah  Georgia   31419.0      1608.0     2021-12-22   Middle price  \n",
       "1658550  Savannah  Georgia   31419.0      2898.0     2022-01-26   Middle price  \n",
       "\n",
       "[2083 rows x 13 columns]"
      ]
     },
     "execution_count": 12,
     "metadata": {},
     "output_type": "execute_result"
    }
   ],
   "source": [
    "df_city_Georgia"
   ]
  },
  {
   "cell_type": "code",
   "execution_count": 13,
   "id": "5a459c90",
   "metadata": {},
   "outputs": [
    {
     "data": {
      "text/plain": [
       "52608.0"
      ]
     },
     "execution_count": 13,
     "metadata": {},
     "output_type": "execute_result"
    }
   ],
   "source": [
    "#find the median for 'brokered_by' \n",
    "df_city_Georgia['brokered_by'].median()"
   ]
  },
  {
   "cell_type": "code",
   "execution_count": 14,
   "id": "eaac7743",
   "metadata": {},
   "outputs": [],
   "source": [
    "# REPLACE 0s with this mean for 'brokered_by' column\n",
    "df['brokered_by'] = df['brokered_by'].replace(0, 52608)    "
   ]
  },
  {
   "cell_type": "code",
   "execution_count": 15,
   "id": "5c37def1",
   "metadata": {},
   "outputs": [
    {
     "data": {
      "text/plain": [
       "(2220144, 13)"
      ]
     },
     "execution_count": 15,
     "metadata": {},
     "output_type": "execute_result"
    }
   ],
   "source": [
    "#double check shape of df\n",
    "df.shape"
   ]
  },
  {
   "cell_type": "code",
   "execution_count": 16,
   "id": "f5185148",
   "metadata": {},
   "outputs": [
    {
     "data": {
      "text/html": [
       "<div>\n",
       "<style scoped>\n",
       "    .dataframe tbody tr th:only-of-type {\n",
       "        vertical-align: middle;\n",
       "    }\n",
       "\n",
       "    .dataframe tbody tr th {\n",
       "        vertical-align: top;\n",
       "    }\n",
       "\n",
       "    .dataframe thead th {\n",
       "        text-align: right;\n",
       "    }\n",
       "</style>\n",
       "<table border=\"1\" class=\"dataframe\">\n",
       "  <thead>\n",
       "    <tr style=\"text-align: right;\">\n",
       "      <th></th>\n",
       "      <th>brokered_by</th>\n",
       "      <th>price</th>\n",
       "      <th>bed</th>\n",
       "      <th>bath</th>\n",
       "      <th>acre_lot</th>\n",
       "      <th>street</th>\n",
       "      <th>zip_code</th>\n",
       "      <th>house_size</th>\n",
       "    </tr>\n",
       "  </thead>\n",
       "  <tbody>\n",
       "    <tr>\n",
       "      <th>count</th>\n",
       "      <td>2.220144e+06</td>\n",
       "      <td>2.220144e+06</td>\n",
       "      <td>2.220144e+06</td>\n",
       "      <td>2.220144e+06</td>\n",
       "      <td>2.220144e+06</td>\n",
       "      <td>2.220144e+06</td>\n",
       "      <td>2.220144e+06</td>\n",
       "      <td>2.220144e+06</td>\n",
       "    </tr>\n",
       "    <tr>\n",
       "      <th>mean</th>\n",
       "      <td>5.293910e+04</td>\n",
       "      <td>5.202701e+05</td>\n",
       "      <td>3.275812e+00</td>\n",
       "      <td>2.496204e+00</td>\n",
       "      <td>1.296890e+01</td>\n",
       "      <td>1.012381e+06</td>\n",
       "      <td>5.219107e+04</td>\n",
       "      <td>2.715192e+03</td>\n",
       "    </tr>\n",
       "    <tr>\n",
       "      <th>std</th>\n",
       "      <td>3.064393e+04</td>\n",
       "      <td>1.138176e+06</td>\n",
       "      <td>1.386187e+00</td>\n",
       "      <td>1.448339e+00</td>\n",
       "      <td>7.047744e+02</td>\n",
       "      <td>5.823285e+05</td>\n",
       "      <td>2.896032e+04</td>\n",
       "      <td>6.983730e+05</td>\n",
       "    </tr>\n",
       "    <tr>\n",
       "      <th>min</th>\n",
       "      <td>1.000000e+00</td>\n",
       "      <td>1.000000e+00</td>\n",
       "      <td>1.000000e+00</td>\n",
       "      <td>1.000000e+00</td>\n",
       "      <td>0.000000e+00</td>\n",
       "      <td>0.000000e+00</td>\n",
       "      <td>0.000000e+00</td>\n",
       "      <td>4.000000e+00</td>\n",
       "    </tr>\n",
       "    <tr>\n",
       "      <th>25%</th>\n",
       "      <td>2.385900e+04</td>\n",
       "      <td>1.650000e+05</td>\n",
       "      <td>3.000000e+00</td>\n",
       "      <td>2.000000e+00</td>\n",
       "      <td>1.700000e-01</td>\n",
       "      <td>5.088508e+05</td>\n",
       "      <td>2.961100e+04</td>\n",
       "      <td>1.455000e+03</td>\n",
       "    </tr>\n",
       "    <tr>\n",
       "      <th>50%</th>\n",
       "      <td>5.288400e+04</td>\n",
       "      <td>3.250000e+05</td>\n",
       "      <td>3.000000e+00</td>\n",
       "      <td>2.496373e+00</td>\n",
       "      <td>2.600000e-01</td>\n",
       "      <td>1.012986e+06</td>\n",
       "      <td>4.843000e+04</td>\n",
       "      <td>2.160000e+03</td>\n",
       "    </tr>\n",
       "    <tr>\n",
       "      <th>75%</th>\n",
       "      <td>7.918300e+04</td>\n",
       "      <td>5.500000e+05</td>\n",
       "      <td>4.000000e+00</td>\n",
       "      <td>3.000000e+00</td>\n",
       "      <td>6.800000e-01</td>\n",
       "      <td>1.518715e+06</td>\n",
       "      <td>7.807000e+04</td>\n",
       "      <td>2.715133e+03</td>\n",
       "    </tr>\n",
       "    <tr>\n",
       "      <th>max</th>\n",
       "      <td>1.101420e+05</td>\n",
       "      <td>9.950000e+07</td>\n",
       "      <td>4.730000e+02</td>\n",
       "      <td>8.300000e+02</td>\n",
       "      <td>1.000000e+05</td>\n",
       "      <td>2.001357e+06</td>\n",
       "      <td>9.999900e+04</td>\n",
       "      <td>1.040400e+09</td>\n",
       "    </tr>\n",
       "  </tbody>\n",
       "</table>\n",
       "</div>"
      ],
      "text/plain": [
       "        brokered_by         price           bed          bath      acre_lot  \\\n",
       "count  2.220144e+06  2.220144e+06  2.220144e+06  2.220144e+06  2.220144e+06   \n",
       "mean   5.293910e+04  5.202701e+05  3.275812e+00  2.496204e+00  1.296890e+01   \n",
       "std    3.064393e+04  1.138176e+06  1.386187e+00  1.448339e+00  7.047744e+02   \n",
       "min    1.000000e+00  1.000000e+00  1.000000e+00  1.000000e+00  0.000000e+00   \n",
       "25%    2.385900e+04  1.650000e+05  3.000000e+00  2.000000e+00  1.700000e-01   \n",
       "50%    5.288400e+04  3.250000e+05  3.000000e+00  2.496373e+00  2.600000e-01   \n",
       "75%    7.918300e+04  5.500000e+05  4.000000e+00  3.000000e+00  6.800000e-01   \n",
       "max    1.101420e+05  9.950000e+07  4.730000e+02  8.300000e+02  1.000000e+05   \n",
       "\n",
       "             street      zip_code    house_size  \n",
       "count  2.220144e+06  2.220144e+06  2.220144e+06  \n",
       "mean   1.012381e+06  5.219107e+04  2.715192e+03  \n",
       "std    5.823285e+05  2.896032e+04  6.983730e+05  \n",
       "min    0.000000e+00  0.000000e+00  4.000000e+00  \n",
       "25%    5.088508e+05  2.961100e+04  1.455000e+03  \n",
       "50%    1.012986e+06  4.843000e+04  2.160000e+03  \n",
       "75%    1.518715e+06  7.807000e+04  2.715133e+03  \n",
       "max    2.001357e+06  9.999900e+04  1.040400e+09  "
      ]
     },
     "execution_count": 16,
     "metadata": {},
     "output_type": "execute_result"
    }
   ],
   "source": [
    "#check dataset to make sure 0s are gone (the min here is not 0 so it worked)\n",
    "df.describe()"
   ]
  },
  {
   "cell_type": "markdown",
   "id": "2af0fdd8",
   "metadata": {},
   "source": [
    "#### 3) for 'acre_lot' (2225 rows)"
   ]
  },
  {
   "cell_type": "code",
   "execution_count": 17,
   "id": "a4e7eaaa",
   "metadata": {},
   "outputs": [],
   "source": [
    "df_zeros_acre_lot=df[df['acre_lot']==0]"
   ]
  },
  {
   "cell_type": "code",
   "execution_count": 18,
   "id": "e0fa5714",
   "metadata": {},
   "outputs": [
    {
     "data": {
      "text/plain": [
       "(2225, 13)"
      ]
     },
     "execution_count": 18,
     "metadata": {},
     "output_type": "execute_result"
    }
   ],
   "source": [
    "df_zeros_acre_lot.shape"
   ]
  },
  {
   "cell_type": "code",
   "execution_count": 19,
   "id": "79a7c254",
   "metadata": {},
   "outputs": [
    {
     "data": {
      "text/html": [
       "<div>\n",
       "<style scoped>\n",
       "    .dataframe tbody tr th:only-of-type {\n",
       "        vertical-align: middle;\n",
       "    }\n",
       "\n",
       "    .dataframe tbody tr th {\n",
       "        vertical-align: top;\n",
       "    }\n",
       "\n",
       "    .dataframe thead th {\n",
       "        text-align: right;\n",
       "    }\n",
       "</style>\n",
       "<table border=\"1\" class=\"dataframe\">\n",
       "  <thead>\n",
       "    <tr style=\"text-align: right;\">\n",
       "      <th></th>\n",
       "      <th>brokered_by</th>\n",
       "      <th>status</th>\n",
       "      <th>price</th>\n",
       "      <th>bed</th>\n",
       "      <th>bath</th>\n",
       "      <th>acre_lot</th>\n",
       "      <th>street</th>\n",
       "      <th>city</th>\n",
       "      <th>state</th>\n",
       "      <th>zip_code</th>\n",
       "      <th>house_size</th>\n",
       "      <th>prev_sold_date</th>\n",
       "      <th>Price category</th>\n",
       "    </tr>\n",
       "  </thead>\n",
       "  <tbody>\n",
       "    <tr>\n",
       "      <th>1141</th>\n",
       "      <td>63454.0</td>\n",
       "      <td>for_sale</td>\n",
       "      <td>110000.0</td>\n",
       "      <td>3.000000</td>\n",
       "      <td>2.000000</td>\n",
       "      <td>0.0</td>\n",
       "      <td>1359861.0</td>\n",
       "      <td>Gurabo</td>\n",
       "      <td>Puerto Rico</td>\n",
       "      <td>778.0</td>\n",
       "      <td>1409.000</td>\n",
       "      <td>0</td>\n",
       "      <td>Middle price</td>\n",
       "    </tr>\n",
       "    <tr>\n",
       "      <th>12083</th>\n",
       "      <td>57226.0</td>\n",
       "      <td>for_sale</td>\n",
       "      <td>379900.0</td>\n",
       "      <td>2.000000</td>\n",
       "      <td>2.000000</td>\n",
       "      <td>0.0</td>\n",
       "      <td>1774133.0</td>\n",
       "      <td>Tewksbury</td>\n",
       "      <td>Massachusetts</td>\n",
       "      <td>1876.0</td>\n",
       "      <td>1026.000</td>\n",
       "      <td>2020-04-28</td>\n",
       "      <td>Middle price</td>\n",
       "    </tr>\n",
       "    <tr>\n",
       "      <th>12108</th>\n",
       "      <td>53016.0</td>\n",
       "      <td>for_sale</td>\n",
       "      <td>385000.0</td>\n",
       "      <td>2.000000</td>\n",
       "      <td>1.000000</td>\n",
       "      <td>0.0</td>\n",
       "      <td>114628.0</td>\n",
       "      <td>Tewksbury</td>\n",
       "      <td>Massachusetts</td>\n",
       "      <td>1876.0</td>\n",
       "      <td>996.000</td>\n",
       "      <td>0</td>\n",
       "      <td>Middle price</td>\n",
       "    </tr>\n",
       "    <tr>\n",
       "      <th>12154</th>\n",
       "      <td>53016.0</td>\n",
       "      <td>for_sale</td>\n",
       "      <td>419000.0</td>\n",
       "      <td>2.000000</td>\n",
       "      <td>2.000000</td>\n",
       "      <td>0.0</td>\n",
       "      <td>10087.0</td>\n",
       "      <td>Tewksbury</td>\n",
       "      <td>Massachusetts</td>\n",
       "      <td>1876.0</td>\n",
       "      <td>1240.000</td>\n",
       "      <td>2007-09-28</td>\n",
       "      <td>Middle price</td>\n",
       "    </tr>\n",
       "    <tr>\n",
       "      <th>13072</th>\n",
       "      <td>8883.0</td>\n",
       "      <td>for_sale</td>\n",
       "      <td>290000.0</td>\n",
       "      <td>5.000000</td>\n",
       "      <td>2.000000</td>\n",
       "      <td>0.0</td>\n",
       "      <td>601854.0</td>\n",
       "      <td>Providence</td>\n",
       "      <td>Rhode Island</td>\n",
       "      <td>2907.0</td>\n",
       "      <td>2680.000</td>\n",
       "      <td>2005-03-28</td>\n",
       "      <td>Middle price</td>\n",
       "    </tr>\n",
       "    <tr>\n",
       "      <th>14746</th>\n",
       "      <td>78838.0</td>\n",
       "      <td>for_sale</td>\n",
       "      <td>389900.0</td>\n",
       "      <td>3.000000</td>\n",
       "      <td>1.000000</td>\n",
       "      <td>0.0</td>\n",
       "      <td>890126.0</td>\n",
       "      <td>Warwick</td>\n",
       "      <td>Rhode Island</td>\n",
       "      <td>2888.0</td>\n",
       "      <td>1284.000</td>\n",
       "      <td>2016-01-25</td>\n",
       "      <td>Middle price</td>\n",
       "    </tr>\n",
       "    <tr>\n",
       "      <th>15613</th>\n",
       "      <td>23290.0</td>\n",
       "      <td>for_sale</td>\n",
       "      <td>369900.0</td>\n",
       "      <td>2.000000</td>\n",
       "      <td>2.000000</td>\n",
       "      <td>0.0</td>\n",
       "      <td>481648.0</td>\n",
       "      <td>Tewksbury</td>\n",
       "      <td>Massachusetts</td>\n",
       "      <td>1876.0</td>\n",
       "      <td>1023.000</td>\n",
       "      <td>2006-08-24</td>\n",
       "      <td>Middle price</td>\n",
       "    </tr>\n",
       "    <tr>\n",
       "      <th>15725</th>\n",
       "      <td>16829.0</td>\n",
       "      <td>for_sale</td>\n",
       "      <td>399000.0</td>\n",
       "      <td>3.275919</td>\n",
       "      <td>1.000000</td>\n",
       "      <td>0.0</td>\n",
       "      <td>1078547.0</td>\n",
       "      <td>Boston</td>\n",
       "      <td>Massachusetts</td>\n",
       "      <td>2115.0</td>\n",
       "      <td>216.000</td>\n",
       "      <td>0</td>\n",
       "      <td>Middle price</td>\n",
       "    </tr>\n",
       "    <tr>\n",
       "      <th>15900</th>\n",
       "      <td>21887.0</td>\n",
       "      <td>for_sale</td>\n",
       "      <td>419900.0</td>\n",
       "      <td>2.000000</td>\n",
       "      <td>2.000000</td>\n",
       "      <td>0.0</td>\n",
       "      <td>1310950.0</td>\n",
       "      <td>Tewksbury</td>\n",
       "      <td>Massachusetts</td>\n",
       "      <td>1876.0</td>\n",
       "      <td>1240.000</td>\n",
       "      <td>1998-05-28</td>\n",
       "      <td>Middle price</td>\n",
       "    </tr>\n",
       "    <tr>\n",
       "      <th>16187</th>\n",
       "      <td>55379.0</td>\n",
       "      <td>for_sale</td>\n",
       "      <td>379900.0</td>\n",
       "      <td>2.000000</td>\n",
       "      <td>2.000000</td>\n",
       "      <td>0.0</td>\n",
       "      <td>20716.0</td>\n",
       "      <td>Tewksbury</td>\n",
       "      <td>Massachusetts</td>\n",
       "      <td>1876.0</td>\n",
       "      <td>1469.000</td>\n",
       "      <td>2018-08-31</td>\n",
       "      <td>Middle price</td>\n",
       "    </tr>\n",
       "    <tr>\n",
       "      <th>16933</th>\n",
       "      <td>22621.0</td>\n",
       "      <td>for_sale</td>\n",
       "      <td>200000.0</td>\n",
       "      <td>3.275919</td>\n",
       "      <td>2.496373</td>\n",
       "      <td>0.0</td>\n",
       "      <td>1628523.0</td>\n",
       "      <td>Boston</td>\n",
       "      <td>Massachusetts</td>\n",
       "      <td>2116.0</td>\n",
       "      <td>134.000</td>\n",
       "      <td>0</td>\n",
       "      <td>Middle price</td>\n",
       "    </tr>\n",
       "    <tr>\n",
       "      <th>21760</th>\n",
       "      <td>65977.0</td>\n",
       "      <td>for_sale</td>\n",
       "      <td>499000.0</td>\n",
       "      <td>3.000000</td>\n",
       "      <td>2.000000</td>\n",
       "      <td>0.0</td>\n",
       "      <td>812993.0</td>\n",
       "      <td>Portsmouth</td>\n",
       "      <td>Rhode Island</td>\n",
       "      <td>2871.0</td>\n",
       "      <td>1312.000</td>\n",
       "      <td>2020-10-05</td>\n",
       "      <td>Middle price</td>\n",
       "    </tr>\n",
       "    <tr>\n",
       "      <th>22623</th>\n",
       "      <td>78801.0</td>\n",
       "      <td>for_sale</td>\n",
       "      <td>579900.0</td>\n",
       "      <td>2.000000</td>\n",
       "      <td>2.000000</td>\n",
       "      <td>0.0</td>\n",
       "      <td>1370142.0</td>\n",
       "      <td>Warwick</td>\n",
       "      <td>Rhode Island</td>\n",
       "      <td>2818.0</td>\n",
       "      <td>1700.000</td>\n",
       "      <td>0</td>\n",
       "      <td>High price</td>\n",
       "    </tr>\n",
       "    <tr>\n",
       "      <th>22627</th>\n",
       "      <td>78801.0</td>\n",
       "      <td>for_sale</td>\n",
       "      <td>559900.0</td>\n",
       "      <td>2.000000</td>\n",
       "      <td>2.000000</td>\n",
       "      <td>0.0</td>\n",
       "      <td>14153.0</td>\n",
       "      <td>Warwick</td>\n",
       "      <td>Rhode Island</td>\n",
       "      <td>2818.0</td>\n",
       "      <td>1700.000</td>\n",
       "      <td>0</td>\n",
       "      <td>High price</td>\n",
       "    </tr>\n",
       "    <tr>\n",
       "      <th>22701</th>\n",
       "      <td>78801.0</td>\n",
       "      <td>for_sale</td>\n",
       "      <td>559900.0</td>\n",
       "      <td>2.000000</td>\n",
       "      <td>2.000000</td>\n",
       "      <td>0.0</td>\n",
       "      <td>1418396.0</td>\n",
       "      <td>Warwick</td>\n",
       "      <td>Rhode Island</td>\n",
       "      <td>2818.0</td>\n",
       "      <td>1720.000</td>\n",
       "      <td>0</td>\n",
       "      <td>High price</td>\n",
       "    </tr>\n",
       "    <tr>\n",
       "      <th>23176</th>\n",
       "      <td>41196.0</td>\n",
       "      <td>for_sale</td>\n",
       "      <td>1499900.0</td>\n",
       "      <td>4.000000</td>\n",
       "      <td>4.000000</td>\n",
       "      <td>0.0</td>\n",
       "      <td>1609684.0</td>\n",
       "      <td>North Kingstown</td>\n",
       "      <td>Rhode Island</td>\n",
       "      <td>2874.0</td>\n",
       "      <td>3500.000</td>\n",
       "      <td>0</td>\n",
       "      <td>High price</td>\n",
       "    </tr>\n",
       "    <tr>\n",
       "      <th>23200</th>\n",
       "      <td>66166.0</td>\n",
       "      <td>for_sale</td>\n",
       "      <td>1297500.0</td>\n",
       "      <td>4.000000</td>\n",
       "      <td>3.000000</td>\n",
       "      <td>0.0</td>\n",
       "      <td>982095.0</td>\n",
       "      <td>North Kingstown</td>\n",
       "      <td>Rhode Island</td>\n",
       "      <td>2852.0</td>\n",
       "      <td>3200.000</td>\n",
       "      <td>2019-09-26</td>\n",
       "      <td>High price</td>\n",
       "    </tr>\n",
       "    <tr>\n",
       "      <th>47169</th>\n",
       "      <td>52665.0</td>\n",
       "      <td>for_sale</td>\n",
       "      <td>295000.0</td>\n",
       "      <td>1.000000</td>\n",
       "      <td>1.000000</td>\n",
       "      <td>0.0</td>\n",
       "      <td>1818297.0</td>\n",
       "      <td>Weehawken</td>\n",
       "      <td>New Jersey</td>\n",
       "      <td>7086.0</td>\n",
       "      <td>2715.133</td>\n",
       "      <td>0</td>\n",
       "      <td>Middle price</td>\n",
       "    </tr>\n",
       "    <tr>\n",
       "      <th>54043</th>\n",
       "      <td>52665.0</td>\n",
       "      <td>for_sale</td>\n",
       "      <td>359000.0</td>\n",
       "      <td>2.000000</td>\n",
       "      <td>2.000000</td>\n",
       "      <td>0.0</td>\n",
       "      <td>1482333.0</td>\n",
       "      <td>South Plainfield</td>\n",
       "      <td>New Jersey</td>\n",
       "      <td>7080.0</td>\n",
       "      <td>1146.000</td>\n",
       "      <td>2018-05-03</td>\n",
       "      <td>Middle price</td>\n",
       "    </tr>\n",
       "    <tr>\n",
       "      <th>54074</th>\n",
       "      <td>109507.0</td>\n",
       "      <td>for_sale</td>\n",
       "      <td>389999.0</td>\n",
       "      <td>2.000000</td>\n",
       "      <td>2.000000</td>\n",
       "      <td>0.0</td>\n",
       "      <td>1238265.0</td>\n",
       "      <td>South Plainfield</td>\n",
       "      <td>New Jersey</td>\n",
       "      <td>7080.0</td>\n",
       "      <td>2715.133</td>\n",
       "      <td>2016-02-03</td>\n",
       "      <td>Middle price</td>\n",
       "    </tr>\n",
       "    <tr>\n",
       "      <th>54075</th>\n",
       "      <td>83378.0</td>\n",
       "      <td>for_sale</td>\n",
       "      <td>359000.0</td>\n",
       "      <td>2.000000</td>\n",
       "      <td>2.000000</td>\n",
       "      <td>0.0</td>\n",
       "      <td>1349064.0</td>\n",
       "      <td>South Plainfield</td>\n",
       "      <td>New Jersey</td>\n",
       "      <td>7080.0</td>\n",
       "      <td>1148.000</td>\n",
       "      <td>2014-11-21</td>\n",
       "      <td>Middle price</td>\n",
       "    </tr>\n",
       "    <tr>\n",
       "      <th>56732</th>\n",
       "      <td>16837.0</td>\n",
       "      <td>for_sale</td>\n",
       "      <td>329000.0</td>\n",
       "      <td>3.000000</td>\n",
       "      <td>1.000000</td>\n",
       "      <td>0.0</td>\n",
       "      <td>423912.0</td>\n",
       "      <td>Roselle Park</td>\n",
       "      <td>New Jersey</td>\n",
       "      <td>7204.0</td>\n",
       "      <td>2715.133</td>\n",
       "      <td>2013-12-09</td>\n",
       "      <td>Middle price</td>\n",
       "    </tr>\n",
       "    <tr>\n",
       "      <th>59444</th>\n",
       "      <td>34038.0</td>\n",
       "      <td>for_sale</td>\n",
       "      <td>980000.0</td>\n",
       "      <td>6.000000</td>\n",
       "      <td>3.000000</td>\n",
       "      <td>0.0</td>\n",
       "      <td>139896.0</td>\n",
       "      <td>Jamaica</td>\n",
       "      <td>New York</td>\n",
       "      <td>11433.0</td>\n",
       "      <td>2550.000</td>\n",
       "      <td>1986-11-14</td>\n",
       "      <td>High price</td>\n",
       "    </tr>\n",
       "    <tr>\n",
       "      <th>60635</th>\n",
       "      <td>67920.0</td>\n",
       "      <td>for_sale</td>\n",
       "      <td>2300000.0</td>\n",
       "      <td>4.000000</td>\n",
       "      <td>4.000000</td>\n",
       "      <td>0.0</td>\n",
       "      <td>1040337.0</td>\n",
       "      <td>Brooklyn</td>\n",
       "      <td>New York</td>\n",
       "      <td>11233.0</td>\n",
       "      <td>2544.000</td>\n",
       "      <td>2016-05-31</td>\n",
       "      <td>High price</td>\n",
       "    </tr>\n",
       "    <tr>\n",
       "      <th>60694</th>\n",
       "      <td>103233.0</td>\n",
       "      <td>for_sale</td>\n",
       "      <td>375000.0</td>\n",
       "      <td>2.000000</td>\n",
       "      <td>3.000000</td>\n",
       "      <td>0.0</td>\n",
       "      <td>410740.0</td>\n",
       "      <td>Edison</td>\n",
       "      <td>New Jersey</td>\n",
       "      <td>8820.0</td>\n",
       "      <td>1431.000</td>\n",
       "      <td>2004-01-29</td>\n",
       "      <td>Middle price</td>\n",
       "    </tr>\n",
       "    <tr>\n",
       "      <th>61027</th>\n",
       "      <td>71346.0</td>\n",
       "      <td>for_sale</td>\n",
       "      <td>230000.0</td>\n",
       "      <td>3.000000</td>\n",
       "      <td>2.000000</td>\n",
       "      <td>0.0</td>\n",
       "      <td>166373.0</td>\n",
       "      <td>Edison</td>\n",
       "      <td>New Jersey</td>\n",
       "      <td>8817.0</td>\n",
       "      <td>1188.000</td>\n",
       "      <td>0</td>\n",
       "      <td>Middle price</td>\n",
       "    </tr>\n",
       "    <tr>\n",
       "      <th>61159</th>\n",
       "      <td>15800.0</td>\n",
       "      <td>for_sale</td>\n",
       "      <td>279900.0</td>\n",
       "      <td>2.000000</td>\n",
       "      <td>1.000000</td>\n",
       "      <td>0.0</td>\n",
       "      <td>1245119.0</td>\n",
       "      <td>Edison</td>\n",
       "      <td>New Jersey</td>\n",
       "      <td>8837.0</td>\n",
       "      <td>958.000</td>\n",
       "      <td>2008-04-02</td>\n",
       "      <td>Middle price</td>\n",
       "    </tr>\n",
       "    <tr>\n",
       "      <th>61764</th>\n",
       "      <td>82843.0</td>\n",
       "      <td>for_sale</td>\n",
       "      <td>200000.0</td>\n",
       "      <td>2.000000</td>\n",
       "      <td>1.000000</td>\n",
       "      <td>0.0</td>\n",
       "      <td>692437.0</td>\n",
       "      <td>Edison</td>\n",
       "      <td>New Jersey</td>\n",
       "      <td>8817.0</td>\n",
       "      <td>896.000</td>\n",
       "      <td>2020-12-07</td>\n",
       "      <td>Middle price</td>\n",
       "    </tr>\n",
       "    <tr>\n",
       "      <th>61790</th>\n",
       "      <td>52665.0</td>\n",
       "      <td>for_sale</td>\n",
       "      <td>339900.0</td>\n",
       "      <td>2.000000</td>\n",
       "      <td>2.000000</td>\n",
       "      <td>0.0</td>\n",
       "      <td>1447855.0</td>\n",
       "      <td>Edison</td>\n",
       "      <td>New Jersey</td>\n",
       "      <td>8820.0</td>\n",
       "      <td>1056.000</td>\n",
       "      <td>2016-04-05</td>\n",
       "      <td>Middle price</td>\n",
       "    </tr>\n",
       "    <tr>\n",
       "      <th>61998</th>\n",
       "      <td>81181.0</td>\n",
       "      <td>for_sale</td>\n",
       "      <td>389900.0</td>\n",
       "      <td>2.000000</td>\n",
       "      <td>4.000000</td>\n",
       "      <td>0.0</td>\n",
       "      <td>1192299.0</td>\n",
       "      <td>Old Bridge</td>\n",
       "      <td>New Jersey</td>\n",
       "      <td>8857.0</td>\n",
       "      <td>2307.000</td>\n",
       "      <td>0</td>\n",
       "      <td>Middle price</td>\n",
       "    </tr>\n",
       "    <tr>\n",
       "      <th>61999</th>\n",
       "      <td>83378.0</td>\n",
       "      <td>for_sale</td>\n",
       "      <td>175000.0</td>\n",
       "      <td>2.000000</td>\n",
       "      <td>1.000000</td>\n",
       "      <td>0.0</td>\n",
       "      <td>812288.0</td>\n",
       "      <td>Edison</td>\n",
       "      <td>New Jersey</td>\n",
       "      <td>8817.0</td>\n",
       "      <td>896.000</td>\n",
       "      <td>2007-03-06</td>\n",
       "      <td>Middle price</td>\n",
       "    </tr>\n",
       "    <tr>\n",
       "      <th>62001</th>\n",
       "      <td>22611.0</td>\n",
       "      <td>for_sale</td>\n",
       "      <td>165000.0</td>\n",
       "      <td>2.000000</td>\n",
       "      <td>1.000000</td>\n",
       "      <td>0.0</td>\n",
       "      <td>1212548.0</td>\n",
       "      <td>Edison</td>\n",
       "      <td>New Jersey</td>\n",
       "      <td>8837.0</td>\n",
       "      <td>812.000</td>\n",
       "      <td>1987-07-03</td>\n",
       "      <td>Middle price</td>\n",
       "    </tr>\n",
       "    <tr>\n",
       "      <th>62055</th>\n",
       "      <td>55846.0</td>\n",
       "      <td>for_sale</td>\n",
       "      <td>249000.0</td>\n",
       "      <td>2.000000</td>\n",
       "      <td>1.000000</td>\n",
       "      <td>0.0</td>\n",
       "      <td>204921.0</td>\n",
       "      <td>Edison</td>\n",
       "      <td>New Jersey</td>\n",
       "      <td>8820.0</td>\n",
       "      <td>2715.133</td>\n",
       "      <td>2020-03-19</td>\n",
       "      <td>Middle price</td>\n",
       "    </tr>\n",
       "    <tr>\n",
       "      <th>62153</th>\n",
       "      <td>109507.0</td>\n",
       "      <td>for_sale</td>\n",
       "      <td>439000.0</td>\n",
       "      <td>2.000000</td>\n",
       "      <td>3.000000</td>\n",
       "      <td>0.0</td>\n",
       "      <td>781274.0</td>\n",
       "      <td>Edison</td>\n",
       "      <td>New Jersey</td>\n",
       "      <td>8820.0</td>\n",
       "      <td>1604.000</td>\n",
       "      <td>2022-01-12</td>\n",
       "      <td>Middle price</td>\n",
       "    </tr>\n",
       "    <tr>\n",
       "      <th>62164</th>\n",
       "      <td>30765.0</td>\n",
       "      <td>for_sale</td>\n",
       "      <td>430000.0</td>\n",
       "      <td>2.000000</td>\n",
       "      <td>3.000000</td>\n",
       "      <td>0.0</td>\n",
       "      <td>1774064.0</td>\n",
       "      <td>Edison</td>\n",
       "      <td>New Jersey</td>\n",
       "      <td>8820.0</td>\n",
       "      <td>1604.000</td>\n",
       "      <td>2021-12-10</td>\n",
       "      <td>Middle price</td>\n",
       "    </tr>\n",
       "    <tr>\n",
       "      <th>62360</th>\n",
       "      <td>79257.0</td>\n",
       "      <td>for_sale</td>\n",
       "      <td>179000.0</td>\n",
       "      <td>1.000000</td>\n",
       "      <td>1.000000</td>\n",
       "      <td>0.0</td>\n",
       "      <td>871987.0</td>\n",
       "      <td>Edison</td>\n",
       "      <td>New Jersey</td>\n",
       "      <td>8817.0</td>\n",
       "      <td>756.000</td>\n",
       "      <td>2005-04-19</td>\n",
       "      <td>Middle price</td>\n",
       "    </tr>\n",
       "    <tr>\n",
       "      <th>62383</th>\n",
       "      <td>11266.0</td>\n",
       "      <td>for_sale</td>\n",
       "      <td>499000.0</td>\n",
       "      <td>3.000000</td>\n",
       "      <td>3.000000</td>\n",
       "      <td>0.0</td>\n",
       "      <td>1669554.0</td>\n",
       "      <td>Edison</td>\n",
       "      <td>New Jersey</td>\n",
       "      <td>8820.0</td>\n",
       "      <td>1587.000</td>\n",
       "      <td>2002-09-07</td>\n",
       "      <td>Middle price</td>\n",
       "    </tr>\n",
       "    <tr>\n",
       "      <th>63117</th>\n",
       "      <td>81158.0</td>\n",
       "      <td>for_sale</td>\n",
       "      <td>235000.0</td>\n",
       "      <td>1.000000</td>\n",
       "      <td>1.000000</td>\n",
       "      <td>0.0</td>\n",
       "      <td>1197607.0</td>\n",
       "      <td>Edison</td>\n",
       "      <td>New Jersey</td>\n",
       "      <td>8817.0</td>\n",
       "      <td>888.000</td>\n",
       "      <td>1986-04-18</td>\n",
       "      <td>Middle price</td>\n",
       "    </tr>\n",
       "    <tr>\n",
       "      <th>63122</th>\n",
       "      <td>30278.0</td>\n",
       "      <td>for_sale</td>\n",
       "      <td>425000.0</td>\n",
       "      <td>2.000000</td>\n",
       "      <td>3.000000</td>\n",
       "      <td>0.0</td>\n",
       "      <td>1356566.0</td>\n",
       "      <td>Edison</td>\n",
       "      <td>New Jersey</td>\n",
       "      <td>8820.0</td>\n",
       "      <td>1985.000</td>\n",
       "      <td>2005-01-05</td>\n",
       "      <td>Middle price</td>\n",
       "    </tr>\n",
       "    <tr>\n",
       "      <th>63184</th>\n",
       "      <td>78588.0</td>\n",
       "      <td>for_sale</td>\n",
       "      <td>499999.0</td>\n",
       "      <td>2.000000</td>\n",
       "      <td>2.000000</td>\n",
       "      <td>0.0</td>\n",
       "      <td>11072.0</td>\n",
       "      <td>New Brunswick</td>\n",
       "      <td>New Jersey</td>\n",
       "      <td>8901.0</td>\n",
       "      <td>1310.000</td>\n",
       "      <td>2013-01-18</td>\n",
       "      <td>Middle price</td>\n",
       "    </tr>\n",
       "    <tr>\n",
       "      <th>63340</th>\n",
       "      <td>83378.0</td>\n",
       "      <td>for_sale</td>\n",
       "      <td>185000.0</td>\n",
       "      <td>2.000000</td>\n",
       "      <td>1.000000</td>\n",
       "      <td>0.0</td>\n",
       "      <td>433179.0</td>\n",
       "      <td>Edison</td>\n",
       "      <td>New Jersey</td>\n",
       "      <td>8817.0</td>\n",
       "      <td>702.000</td>\n",
       "      <td>2007-08-20</td>\n",
       "      <td>Middle price</td>\n",
       "    </tr>\n",
       "    <tr>\n",
       "      <th>63420</th>\n",
       "      <td>53060.0</td>\n",
       "      <td>for_sale</td>\n",
       "      <td>1150000.0</td>\n",
       "      <td>4.000000</td>\n",
       "      <td>3.000000</td>\n",
       "      <td>0.0</td>\n",
       "      <td>1446774.0</td>\n",
       "      <td>Monroe Township</td>\n",
       "      <td>New Jersey</td>\n",
       "      <td>8831.0</td>\n",
       "      <td>3166.000</td>\n",
       "      <td>2014-02-20</td>\n",
       "      <td>High price</td>\n",
       "    </tr>\n",
       "    <tr>\n",
       "      <th>63630</th>\n",
       "      <td>16429.0</td>\n",
       "      <td>for_sale</td>\n",
       "      <td>699500.0</td>\n",
       "      <td>4.000000</td>\n",
       "      <td>3.000000</td>\n",
       "      <td>0.0</td>\n",
       "      <td>696652.0</td>\n",
       "      <td>Sayreville</td>\n",
       "      <td>New Jersey</td>\n",
       "      <td>8872.0</td>\n",
       "      <td>2715.133</td>\n",
       "      <td>2013-08-20</td>\n",
       "      <td>High price</td>\n",
       "    </tr>\n",
       "    <tr>\n",
       "      <th>63813</th>\n",
       "      <td>53614.0</td>\n",
       "      <td>for_sale</td>\n",
       "      <td>539999.0</td>\n",
       "      <td>2.000000</td>\n",
       "      <td>2.000000</td>\n",
       "      <td>0.0</td>\n",
       "      <td>11075.0</td>\n",
       "      <td>New Brunswick</td>\n",
       "      <td>New Jersey</td>\n",
       "      <td>8901.0</td>\n",
       "      <td>1219.000</td>\n",
       "      <td>2006-09-13</td>\n",
       "      <td>High price</td>\n",
       "    </tr>\n",
       "    <tr>\n",
       "      <th>64382</th>\n",
       "      <td>106722.0</td>\n",
       "      <td>for_sale</td>\n",
       "      <td>540000.0</td>\n",
       "      <td>2.000000</td>\n",
       "      <td>2.000000</td>\n",
       "      <td>0.0</td>\n",
       "      <td>11074.0</td>\n",
       "      <td>New Brunswick</td>\n",
       "      <td>New Jersey</td>\n",
       "      <td>8901.0</td>\n",
       "      <td>1295.000</td>\n",
       "      <td>2015-06-15</td>\n",
       "      <td>High price</td>\n",
       "    </tr>\n",
       "    <tr>\n",
       "      <th>65073</th>\n",
       "      <td>50570.0</td>\n",
       "      <td>for_sale</td>\n",
       "      <td>739000.0</td>\n",
       "      <td>3.000000</td>\n",
       "      <td>3.000000</td>\n",
       "      <td>0.0</td>\n",
       "      <td>246118.0</td>\n",
       "      <td>Brooklyn</td>\n",
       "      <td>New York</td>\n",
       "      <td>11236.0</td>\n",
       "      <td>1157.000</td>\n",
       "      <td>2015-07-08</td>\n",
       "      <td>High price</td>\n",
       "    </tr>\n",
       "    <tr>\n",
       "      <th>66514</th>\n",
       "      <td>106707.0</td>\n",
       "      <td>for_sale</td>\n",
       "      <td>165000.0</td>\n",
       "      <td>1.000000</td>\n",
       "      <td>1.000000</td>\n",
       "      <td>0.0</td>\n",
       "      <td>1565656.0</td>\n",
       "      <td>Allamuchy Township</td>\n",
       "      <td>New Jersey</td>\n",
       "      <td>7840.0</td>\n",
       "      <td>2715.133</td>\n",
       "      <td>0</td>\n",
       "      <td>Middle price</td>\n",
       "    </tr>\n",
       "    <tr>\n",
       "      <th>77336</th>\n",
       "      <td>62700.0</td>\n",
       "      <td>for_sale</td>\n",
       "      <td>225000.0</td>\n",
       "      <td>3.275919</td>\n",
       "      <td>2.496373</td>\n",
       "      <td>0.0</td>\n",
       "      <td>1032883.0</td>\n",
       "      <td>Califon</td>\n",
       "      <td>New Jersey</td>\n",
       "      <td>7830.0</td>\n",
       "      <td>2715.133</td>\n",
       "      <td>0</td>\n",
       "      <td>Middle price</td>\n",
       "    </tr>\n",
       "    <tr>\n",
       "      <th>79492</th>\n",
       "      <td>81158.0</td>\n",
       "      <td>for_sale</td>\n",
       "      <td>350000.0</td>\n",
       "      <td>2.000000</td>\n",
       "      <td>3.000000</td>\n",
       "      <td>0.0</td>\n",
       "      <td>142900.0</td>\n",
       "      <td>Edison</td>\n",
       "      <td>New Jersey</td>\n",
       "      <td>8820.0</td>\n",
       "      <td>1431.000</td>\n",
       "      <td>0</td>\n",
       "      <td>Middle price</td>\n",
       "    </tr>\n",
       "    <tr>\n",
       "      <th>79592</th>\n",
       "      <td>16052.0</td>\n",
       "      <td>for_sale</td>\n",
       "      <td>799999.0</td>\n",
       "      <td>4.000000</td>\n",
       "      <td>3.000000</td>\n",
       "      <td>0.0</td>\n",
       "      <td>551013.0</td>\n",
       "      <td>South Brunswick</td>\n",
       "      <td>New Jersey</td>\n",
       "      <td>8852.0</td>\n",
       "      <td>2715.133</td>\n",
       "      <td>2015-08-17</td>\n",
       "      <td>High price</td>\n",
       "    </tr>\n",
       "  </tbody>\n",
       "</table>\n",
       "</div>"
      ],
      "text/plain": [
       "       brokered_by    status      price       bed      bath  acre_lot  \\\n",
       "1141       63454.0  for_sale   110000.0  3.000000  2.000000       0.0   \n",
       "12083      57226.0  for_sale   379900.0  2.000000  2.000000       0.0   \n",
       "12108      53016.0  for_sale   385000.0  2.000000  1.000000       0.0   \n",
       "12154      53016.0  for_sale   419000.0  2.000000  2.000000       0.0   \n",
       "13072       8883.0  for_sale   290000.0  5.000000  2.000000       0.0   \n",
       "14746      78838.0  for_sale   389900.0  3.000000  1.000000       0.0   \n",
       "15613      23290.0  for_sale   369900.0  2.000000  2.000000       0.0   \n",
       "15725      16829.0  for_sale   399000.0  3.275919  1.000000       0.0   \n",
       "15900      21887.0  for_sale   419900.0  2.000000  2.000000       0.0   \n",
       "16187      55379.0  for_sale   379900.0  2.000000  2.000000       0.0   \n",
       "16933      22621.0  for_sale   200000.0  3.275919  2.496373       0.0   \n",
       "21760      65977.0  for_sale   499000.0  3.000000  2.000000       0.0   \n",
       "22623      78801.0  for_sale   579900.0  2.000000  2.000000       0.0   \n",
       "22627      78801.0  for_sale   559900.0  2.000000  2.000000       0.0   \n",
       "22701      78801.0  for_sale   559900.0  2.000000  2.000000       0.0   \n",
       "23176      41196.0  for_sale  1499900.0  4.000000  4.000000       0.0   \n",
       "23200      66166.0  for_sale  1297500.0  4.000000  3.000000       0.0   \n",
       "47169      52665.0  for_sale   295000.0  1.000000  1.000000       0.0   \n",
       "54043      52665.0  for_sale   359000.0  2.000000  2.000000       0.0   \n",
       "54074     109507.0  for_sale   389999.0  2.000000  2.000000       0.0   \n",
       "54075      83378.0  for_sale   359000.0  2.000000  2.000000       0.0   \n",
       "56732      16837.0  for_sale   329000.0  3.000000  1.000000       0.0   \n",
       "59444      34038.0  for_sale   980000.0  6.000000  3.000000       0.0   \n",
       "60635      67920.0  for_sale  2300000.0  4.000000  4.000000       0.0   \n",
       "60694     103233.0  for_sale   375000.0  2.000000  3.000000       0.0   \n",
       "61027      71346.0  for_sale   230000.0  3.000000  2.000000       0.0   \n",
       "61159      15800.0  for_sale   279900.0  2.000000  1.000000       0.0   \n",
       "61764      82843.0  for_sale   200000.0  2.000000  1.000000       0.0   \n",
       "61790      52665.0  for_sale   339900.0  2.000000  2.000000       0.0   \n",
       "61998      81181.0  for_sale   389900.0  2.000000  4.000000       0.0   \n",
       "61999      83378.0  for_sale   175000.0  2.000000  1.000000       0.0   \n",
       "62001      22611.0  for_sale   165000.0  2.000000  1.000000       0.0   \n",
       "62055      55846.0  for_sale   249000.0  2.000000  1.000000       0.0   \n",
       "62153     109507.0  for_sale   439000.0  2.000000  3.000000       0.0   \n",
       "62164      30765.0  for_sale   430000.0  2.000000  3.000000       0.0   \n",
       "62360      79257.0  for_sale   179000.0  1.000000  1.000000       0.0   \n",
       "62383      11266.0  for_sale   499000.0  3.000000  3.000000       0.0   \n",
       "63117      81158.0  for_sale   235000.0  1.000000  1.000000       0.0   \n",
       "63122      30278.0  for_sale   425000.0  2.000000  3.000000       0.0   \n",
       "63184      78588.0  for_sale   499999.0  2.000000  2.000000       0.0   \n",
       "63340      83378.0  for_sale   185000.0  2.000000  1.000000       0.0   \n",
       "63420      53060.0  for_sale  1150000.0  4.000000  3.000000       0.0   \n",
       "63630      16429.0  for_sale   699500.0  4.000000  3.000000       0.0   \n",
       "63813      53614.0  for_sale   539999.0  2.000000  2.000000       0.0   \n",
       "64382     106722.0  for_sale   540000.0  2.000000  2.000000       0.0   \n",
       "65073      50570.0  for_sale   739000.0  3.000000  3.000000       0.0   \n",
       "66514     106707.0  for_sale   165000.0  1.000000  1.000000       0.0   \n",
       "77336      62700.0  for_sale   225000.0  3.275919  2.496373       0.0   \n",
       "79492      81158.0  for_sale   350000.0  2.000000  3.000000       0.0   \n",
       "79592      16052.0  for_sale   799999.0  4.000000  3.000000       0.0   \n",
       "\n",
       "          street                city          state  zip_code  house_size  \\\n",
       "1141   1359861.0              Gurabo    Puerto Rico     778.0    1409.000   \n",
       "12083  1774133.0           Tewksbury  Massachusetts    1876.0    1026.000   \n",
       "12108   114628.0           Tewksbury  Massachusetts    1876.0     996.000   \n",
       "12154    10087.0           Tewksbury  Massachusetts    1876.0    1240.000   \n",
       "13072   601854.0          Providence   Rhode Island    2907.0    2680.000   \n",
       "14746   890126.0             Warwick   Rhode Island    2888.0    1284.000   \n",
       "15613   481648.0           Tewksbury  Massachusetts    1876.0    1023.000   \n",
       "15725  1078547.0              Boston  Massachusetts    2115.0     216.000   \n",
       "15900  1310950.0           Tewksbury  Massachusetts    1876.0    1240.000   \n",
       "16187    20716.0           Tewksbury  Massachusetts    1876.0    1469.000   \n",
       "16933  1628523.0              Boston  Massachusetts    2116.0     134.000   \n",
       "21760   812993.0          Portsmouth   Rhode Island    2871.0    1312.000   \n",
       "22623  1370142.0             Warwick   Rhode Island    2818.0    1700.000   \n",
       "22627    14153.0             Warwick   Rhode Island    2818.0    1700.000   \n",
       "22701  1418396.0             Warwick   Rhode Island    2818.0    1720.000   \n",
       "23176  1609684.0     North Kingstown   Rhode Island    2874.0    3500.000   \n",
       "23200   982095.0     North Kingstown   Rhode Island    2852.0    3200.000   \n",
       "47169  1818297.0           Weehawken     New Jersey    7086.0    2715.133   \n",
       "54043  1482333.0    South Plainfield     New Jersey    7080.0    1146.000   \n",
       "54074  1238265.0    South Plainfield     New Jersey    7080.0    2715.133   \n",
       "54075  1349064.0    South Plainfield     New Jersey    7080.0    1148.000   \n",
       "56732   423912.0        Roselle Park     New Jersey    7204.0    2715.133   \n",
       "59444   139896.0             Jamaica       New York   11433.0    2550.000   \n",
       "60635  1040337.0            Brooklyn       New York   11233.0    2544.000   \n",
       "60694   410740.0              Edison     New Jersey    8820.0    1431.000   \n",
       "61027   166373.0              Edison     New Jersey    8817.0    1188.000   \n",
       "61159  1245119.0              Edison     New Jersey    8837.0     958.000   \n",
       "61764   692437.0              Edison     New Jersey    8817.0     896.000   \n",
       "61790  1447855.0              Edison     New Jersey    8820.0    1056.000   \n",
       "61998  1192299.0          Old Bridge     New Jersey    8857.0    2307.000   \n",
       "61999   812288.0              Edison     New Jersey    8817.0     896.000   \n",
       "62001  1212548.0              Edison     New Jersey    8837.0     812.000   \n",
       "62055   204921.0              Edison     New Jersey    8820.0    2715.133   \n",
       "62153   781274.0              Edison     New Jersey    8820.0    1604.000   \n",
       "62164  1774064.0              Edison     New Jersey    8820.0    1604.000   \n",
       "62360   871987.0              Edison     New Jersey    8817.0     756.000   \n",
       "62383  1669554.0              Edison     New Jersey    8820.0    1587.000   \n",
       "63117  1197607.0              Edison     New Jersey    8817.0     888.000   \n",
       "63122  1356566.0              Edison     New Jersey    8820.0    1985.000   \n",
       "63184    11072.0       New Brunswick     New Jersey    8901.0    1310.000   \n",
       "63340   433179.0              Edison     New Jersey    8817.0     702.000   \n",
       "63420  1446774.0     Monroe Township     New Jersey    8831.0    3166.000   \n",
       "63630   696652.0          Sayreville     New Jersey    8872.0    2715.133   \n",
       "63813    11075.0       New Brunswick     New Jersey    8901.0    1219.000   \n",
       "64382    11074.0       New Brunswick     New Jersey    8901.0    1295.000   \n",
       "65073   246118.0            Brooklyn       New York   11236.0    1157.000   \n",
       "66514  1565656.0  Allamuchy Township     New Jersey    7840.0    2715.133   \n",
       "77336  1032883.0             Califon     New Jersey    7830.0    2715.133   \n",
       "79492   142900.0              Edison     New Jersey    8820.0    1431.000   \n",
       "79592   551013.0     South Brunswick     New Jersey    8852.0    2715.133   \n",
       "\n",
       "      prev_sold_date Price category  \n",
       "1141               0   Middle price  \n",
       "12083     2020-04-28   Middle price  \n",
       "12108              0   Middle price  \n",
       "12154     2007-09-28   Middle price  \n",
       "13072     2005-03-28   Middle price  \n",
       "14746     2016-01-25   Middle price  \n",
       "15613     2006-08-24   Middle price  \n",
       "15725              0   Middle price  \n",
       "15900     1998-05-28   Middle price  \n",
       "16187     2018-08-31   Middle price  \n",
       "16933              0   Middle price  \n",
       "21760     2020-10-05   Middle price  \n",
       "22623              0     High price  \n",
       "22627              0     High price  \n",
       "22701              0     High price  \n",
       "23176              0     High price  \n",
       "23200     2019-09-26     High price  \n",
       "47169              0   Middle price  \n",
       "54043     2018-05-03   Middle price  \n",
       "54074     2016-02-03   Middle price  \n",
       "54075     2014-11-21   Middle price  \n",
       "56732     2013-12-09   Middle price  \n",
       "59444     1986-11-14     High price  \n",
       "60635     2016-05-31     High price  \n",
       "60694     2004-01-29   Middle price  \n",
       "61027              0   Middle price  \n",
       "61159     2008-04-02   Middle price  \n",
       "61764     2020-12-07   Middle price  \n",
       "61790     2016-04-05   Middle price  \n",
       "61998              0   Middle price  \n",
       "61999     2007-03-06   Middle price  \n",
       "62001     1987-07-03   Middle price  \n",
       "62055     2020-03-19   Middle price  \n",
       "62153     2022-01-12   Middle price  \n",
       "62164     2021-12-10   Middle price  \n",
       "62360     2005-04-19   Middle price  \n",
       "62383     2002-09-07   Middle price  \n",
       "63117     1986-04-18   Middle price  \n",
       "63122     2005-01-05   Middle price  \n",
       "63184     2013-01-18   Middle price  \n",
       "63340     2007-08-20   Middle price  \n",
       "63420     2014-02-20     High price  \n",
       "63630     2013-08-20     High price  \n",
       "63813     2006-09-13     High price  \n",
       "64382     2015-06-15     High price  \n",
       "65073     2015-07-08     High price  \n",
       "66514              0   Middle price  \n",
       "77336              0   Middle price  \n",
       "79492              0   Middle price  \n",
       "79592     2015-08-17     High price  "
      ]
     },
     "execution_count": 19,
     "metadata": {},
     "output_type": "execute_result"
    }
   ],
   "source": [
    "# investigate dataframe to see what could be the reason for these 0 values\n",
    "df_zeros_acre_lot.head(50)"
   ]
  },
  {
   "cell_type": "code",
   "execution_count": 20,
   "id": "5ba1d433",
   "metadata": {},
   "outputs": [
    {
     "data": {
      "text/plain": [
       "array(['for_sale', 'sold'], dtype=object)"
      ]
     },
     "execution_count": 20,
     "metadata": {},
     "output_type": "execute_result"
    }
   ],
   "source": [
    "#looking at 'status' column, this dataframe\n",
    "df_zeros_acre_lot.status.unique()"
   ]
  },
  {
   "cell_type": "markdown",
   "id": "44cf62c5",
   "metadata": {},
   "source": [
    "#### there are no 'ready_to_build's listed under status for this 0 acre_lot subset - weird finding, cannot conclude anything"
   ]
  },
  {
   "cell_type": "code",
   "execution_count": 21,
   "id": "7aec56ad",
   "metadata": {},
   "outputs": [
    {
     "data": {
      "text/plain": [
       "array(['Puerto Rico', 'Massachusetts', 'Rhode Island', 'New Jersey',\n",
       "       'New York', 'Pennsylvania', 'West Virginia', 'Maryland',\n",
       "       'Virginia', 'Delaware', 'District of Columbia', 'North Carolina',\n",
       "       'South Carolina', 'Georgia', 'Florida', 'Alabama', 'Tennessee',\n",
       "       'Mississippi', 'Kentucky', 'Ohio', 'Indiana', 'Michigan', 'Iowa',\n",
       "       'South Dakota', 'Nebraska', 'Illinois', 'Minnesota', 'Missouri',\n",
       "       'Kansas', 'Louisiana', 'Oklahoma', 'Texas', 'Colorado', 'Idaho',\n",
       "       'Arizona', 'New Mexico', 'Nevada', 'California', 'Washington',\n",
       "       'Wisconsin', 'Montana', 'Arkansas'], dtype=object)"
      ]
     },
     "execution_count": 21,
     "metadata": {},
     "output_type": "execute_result"
    }
   ],
   "source": [
    "#looking at 'state' column to see if there is a trend (no trend noted)\n",
    "df_zeros_acre_lot.state.unique()"
   ]
  },
  {
   "cell_type": "markdown",
   "id": "41ffa97c",
   "metadata": {},
   "source": [
    "##### I will go ahead and remove these from the dataset"
   ]
  },
  {
   "cell_type": "code",
   "execution_count": 22,
   "id": "c0890f58",
   "metadata": {},
   "outputs": [],
   "source": [
    "#create new subset without these\n",
    "df_new=df[df['acre_lot']>0]"
   ]
  },
  {
   "cell_type": "code",
   "execution_count": 23,
   "id": "5f3bfd69",
   "metadata": {},
   "outputs": [
    {
     "data": {
      "text/plain": [
       "(2217919, 13)"
      ]
     },
     "execution_count": 23,
     "metadata": {},
     "output_type": "execute_result"
    }
   ],
   "source": [
    "#check that it has exactly 2225 less rows (2220144-2225 =2217919) -Perfect!\n",
    "df_new.shape"
   ]
  },
  {
   "cell_type": "markdown",
   "id": "7608fc27",
   "metadata": {},
   "source": [
    "#### 4) for 'zip_code' ( )"
   ]
  },
  {
   "cell_type": "code",
   "execution_count": 25,
   "id": "c48389a2",
   "metadata": {},
   "outputs": [],
   "source": [
    "df_zeros_zip=df_new[df_new['zip_code']==0]"
   ]
  },
  {
   "cell_type": "code",
   "execution_count": 26,
   "id": "a1f079e5",
   "metadata": {},
   "outputs": [
    {
     "data": {
      "text/plain": [
       "(1, 13)"
      ]
     },
     "execution_count": 26,
     "metadata": {},
     "output_type": "execute_result"
    }
   ],
   "source": [
    "df_zeros_zip.shape"
   ]
  },
  {
   "cell_type": "code",
   "execution_count": 27,
   "id": "5a265739",
   "metadata": {},
   "outputs": [
    {
     "data": {
      "text/html": [
       "<div>\n",
       "<style scoped>\n",
       "    .dataframe tbody tr th:only-of-type {\n",
       "        vertical-align: middle;\n",
       "    }\n",
       "\n",
       "    .dataframe tbody tr th {\n",
       "        vertical-align: top;\n",
       "    }\n",
       "\n",
       "    .dataframe thead th {\n",
       "        text-align: right;\n",
       "    }\n",
       "</style>\n",
       "<table border=\"1\" class=\"dataframe\">\n",
       "  <thead>\n",
       "    <tr style=\"text-align: right;\">\n",
       "      <th></th>\n",
       "      <th>brokered_by</th>\n",
       "      <th>status</th>\n",
       "      <th>price</th>\n",
       "      <th>bed</th>\n",
       "      <th>bath</th>\n",
       "      <th>acre_lot</th>\n",
       "      <th>street</th>\n",
       "      <th>city</th>\n",
       "      <th>state</th>\n",
       "      <th>zip_code</th>\n",
       "      <th>house_size</th>\n",
       "      <th>prev_sold_date</th>\n",
       "      <th>Price category</th>\n",
       "    </tr>\n",
       "  </thead>\n",
       "  <tbody>\n",
       "    <tr>\n",
       "      <th>160546</th>\n",
       "      <td>102093.0</td>\n",
       "      <td>for_sale</td>\n",
       "      <td>3000000.0</td>\n",
       "      <td>7.0</td>\n",
       "      <td>6.0</td>\n",
       "      <td>0.26</td>\n",
       "      <td>1760549.0</td>\n",
       "      <td>Balzola</td>\n",
       "      <td>California</td>\n",
       "      <td>0.0</td>\n",
       "      <td>6889.0</td>\n",
       "      <td>0</td>\n",
       "      <td>High price</td>\n",
       "    </tr>\n",
       "  </tbody>\n",
       "</table>\n",
       "</div>"
      ],
      "text/plain": [
       "        brokered_by    status      price  bed  bath  acre_lot     street  \\\n",
       "160546     102093.0  for_sale  3000000.0  7.0   6.0      0.26  1760549.0   \n",
       "\n",
       "           city       state  zip_code  house_size prev_sold_date  \\\n",
       "160546  Balzola  California       0.0      6889.0              0   \n",
       "\n",
       "       Price category  \n",
       "160546     High price  "
      ]
     },
     "execution_count": 27,
     "metadata": {},
     "output_type": "execute_result"
    }
   ],
   "source": [
    "#lets look at it (to see if we can derive a zip from the city)\n",
    "df_zeros_zip"
   ]
  },
  {
   "cell_type": "code",
   "execution_count": 28,
   "id": "3b319688",
   "metadata": {},
   "outputs": [
    {
     "data": {
      "text/plain": [
       "array(['Adjuntas', 'Adjuntas', 'Juana Diaz', ..., 'Richland', 'Richland',\n",
       "       'Richland'], dtype=object)"
      ]
     },
     "execution_count": 28,
     "metadata": {},
     "output_type": "execute_result"
    }
   ],
   "source": [
    "#check main data frame for CA to find other 'Balzola' zip codes\n",
    "df_new['city'].values"
   ]
  },
  {
   "cell_type": "code",
   "execution_count": 29,
   "id": "25bf151a",
   "metadata": {},
   "outputs": [
    {
     "data": {
      "text/plain": [
       "True"
      ]
     },
     "execution_count": 29,
     "metadata": {},
     "output_type": "execute_result"
    }
   ],
   "source": [
    "df_new['city'].isin(['Balzola']).any()"
   ]
  },
  {
   "cell_type": "code",
   "execution_count": 30,
   "id": "3867e828",
   "metadata": {},
   "outputs": [
    {
     "name": "stderr",
     "output_type": "stream",
     "text": [
      "/var/folders/fb/2jrdrrb52mv7jbhxt0nbx_740000gn/T/ipykernel_74815/297548457.py:2: UserWarning: Boolean Series key will be reindexed to match DataFrame index.\n",
      "  df_new[(df.city == 'Balzola')]\n"
     ]
    },
    {
     "data": {
      "text/html": [
       "<div>\n",
       "<style scoped>\n",
       "    .dataframe tbody tr th:only-of-type {\n",
       "        vertical-align: middle;\n",
       "    }\n",
       "\n",
       "    .dataframe tbody tr th {\n",
       "        vertical-align: top;\n",
       "    }\n",
       "\n",
       "    .dataframe thead th {\n",
       "        text-align: right;\n",
       "    }\n",
       "</style>\n",
       "<table border=\"1\" class=\"dataframe\">\n",
       "  <thead>\n",
       "    <tr style=\"text-align: right;\">\n",
       "      <th></th>\n",
       "      <th>brokered_by</th>\n",
       "      <th>status</th>\n",
       "      <th>price</th>\n",
       "      <th>bed</th>\n",
       "      <th>bath</th>\n",
       "      <th>acre_lot</th>\n",
       "      <th>street</th>\n",
       "      <th>city</th>\n",
       "      <th>state</th>\n",
       "      <th>zip_code</th>\n",
       "      <th>house_size</th>\n",
       "      <th>prev_sold_date</th>\n",
       "      <th>Price category</th>\n",
       "    </tr>\n",
       "  </thead>\n",
       "  <tbody>\n",
       "    <tr>\n",
       "      <th>160546</th>\n",
       "      <td>102093.0</td>\n",
       "      <td>for_sale</td>\n",
       "      <td>3000000.0</td>\n",
       "      <td>7.0</td>\n",
       "      <td>6.0</td>\n",
       "      <td>0.26</td>\n",
       "      <td>1760549.0</td>\n",
       "      <td>Balzola</td>\n",
       "      <td>California</td>\n",
       "      <td>0.0</td>\n",
       "      <td>6889.0</td>\n",
       "      <td>0</td>\n",
       "      <td>High price</td>\n",
       "    </tr>\n",
       "  </tbody>\n",
       "</table>\n",
       "</div>"
      ],
      "text/plain": [
       "        brokered_by    status      price  bed  bath  acre_lot     street  \\\n",
       "160546     102093.0  for_sale  3000000.0  7.0   6.0      0.26  1760549.0   \n",
       "\n",
       "           city       state  zip_code  house_size prev_sold_date  \\\n",
       "160546  Balzola  California       0.0      6889.0              0   \n",
       "\n",
       "       Price category  \n",
       "160546     High price  "
      ]
     },
     "execution_count": 30,
     "metadata": {},
     "output_type": "execute_result"
    }
   ],
   "source": [
    "#check any other city listed with 'Balzola' to see the zip.\n",
    "df_new[(df.city == 'Balzola')]"
   ]
  },
  {
   "cell_type": "markdown",
   "id": "fbfc1976",
   "metadata": {},
   "source": [
    "##### DROP THIS ROW from dataset as there is no 'Balzola' listed in California"
   ]
  },
  {
   "cell_type": "code",
   "execution_count": 31,
   "id": "0b1e3850",
   "metadata": {},
   "outputs": [],
   "source": [
    "#get the index of this row first prior to dropping it using this example\n",
    "#i = df[((df.Name == 'jhon') &( df.Age == 15) & (df.Grade == 'A'))].index\n",
    "i = df_new[((df_new.brokered_by == 102093.0\t) &( df_new.status == 'for_sale') & (df_new.price == 3000000.0) & (df_new.bed ==7.0) & (df_new.bath ==6.0) & (df_new.acre_lot == .26) & (df_new.street ==1760549.0) & (df_new.city=='Balzola') & (df_new.state =='California') & (df_new.zip_code==0.0) & (df_new.house_size ==6889.0) & (df_new.prev_sold_date==0) )].index                                                                   "
   ]
  },
  {
   "cell_type": "markdown",
   "id": "e5e9034e",
   "metadata": {},
   "source": [
    "##### AND THEN DROP IT"
   ]
  },
  {
   "cell_type": "code",
   "execution_count": 32,
   "id": "b29c6880",
   "metadata": {},
   "outputs": [
    {
     "name": "stderr",
     "output_type": "stream",
     "text": [
      "/var/folders/fb/2jrdrrb52mv7jbhxt0nbx_740000gn/T/ipykernel_74815/3626819667.py:2: SettingWithCopyWarning: \n",
      "A value is trying to be set on a copy of a slice from a DataFrame\n",
      "\n",
      "See the caveats in the documentation: https://pandas.pydata.org/pandas-docs/stable/user_guide/indexing.html#returning-a-view-versus-a-copy\n",
      "  df_new.drop(i, inplace=True)\n"
     ]
    }
   ],
   "source": [
    "#I added inplace-True to permanently delete from df as it was still there without it\n",
    "df_new.drop(i, inplace=True)"
   ]
  },
  {
   "cell_type": "code",
   "execution_count": 34,
   "id": "9a1e630b",
   "metadata": {},
   "outputs": [
    {
     "data": {
      "text/plain": [
       "(2217918, 13)"
      ]
     },
     "execution_count": 34,
     "metadata": {},
     "output_type": "execute_result"
    }
   ],
   "source": [
    "# check shape (has 1 less row, good) - previously 2217919\n",
    "df_new.shape"
   ]
  },
  {
   "cell_type": "code",
   "execution_count": 35,
   "id": "d21e8e43",
   "metadata": {},
   "outputs": [
    {
     "data": {
      "text/plain": [
       "False"
      ]
     },
     "execution_count": 35,
     "metadata": {},
     "output_type": "execute_result"
    }
   ],
   "source": [
    "# double check if this exists in dataframe - good that we have 'False' response, meaning it is not there\n",
    "df_new['city'].isin(['Balzola']).any()"
   ]
  },
  {
   "cell_type": "markdown",
   "id": "ffbb342b",
   "metadata": {},
   "source": [
    "#### EXPORT FINAL DATAFRAME WITH 0s removed"
   ]
  },
  {
   "cell_type": "code",
   "execution_count": 36,
   "id": "d5e759ee",
   "metadata": {},
   "outputs": [],
   "source": [
    "# export dataframe \n",
    "df_new.to_pickle(os.path.join(path, 'Prepared Data', 'df_clean6.pkl'))"
   ]
  },
  {
   "cell_type": "markdown",
   "id": "a29c6728",
   "metadata": {},
   "source": [
    "#### IMPORT  VISUALIZATION-READY DATAFRAME"
   ]
  },
  {
   "cell_type": "code",
   "execution_count": 5,
   "id": "4c593432",
   "metadata": {},
   "outputs": [],
   "source": [
    "# import new dataframe\n",
    "df=pd.read_pickle(os.path.join(path, 'Prepared Data', 'df_clean6.pkl'))"
   ]
  },
  {
   "cell_type": "code",
   "execution_count": 6,
   "id": "03acd01b",
   "metadata": {},
   "outputs": [
    {
     "data": {
      "text/html": [
       "<div>\n",
       "<style scoped>\n",
       "    .dataframe tbody tr th:only-of-type {\n",
       "        vertical-align: middle;\n",
       "    }\n",
       "\n",
       "    .dataframe tbody tr th {\n",
       "        vertical-align: top;\n",
       "    }\n",
       "\n",
       "    .dataframe thead th {\n",
       "        text-align: right;\n",
       "    }\n",
       "</style>\n",
       "<table border=\"1\" class=\"dataframe\">\n",
       "  <thead>\n",
       "    <tr style=\"text-align: right;\">\n",
       "      <th></th>\n",
       "      <th>brokered_by</th>\n",
       "      <th>status</th>\n",
       "      <th>price</th>\n",
       "      <th>bed</th>\n",
       "      <th>bath</th>\n",
       "      <th>acre_lot</th>\n",
       "      <th>street</th>\n",
       "      <th>city</th>\n",
       "      <th>state</th>\n",
       "      <th>zip_code</th>\n",
       "      <th>house_size</th>\n",
       "      <th>prev_sold_date</th>\n",
       "      <th>Price category</th>\n",
       "    </tr>\n",
       "  </thead>\n",
       "  <tbody>\n",
       "    <tr>\n",
       "      <th>0</th>\n",
       "      <td>103378.0</td>\n",
       "      <td>for_sale</td>\n",
       "      <td>105000.0</td>\n",
       "      <td>3.0</td>\n",
       "      <td>2.0</td>\n",
       "      <td>0.12</td>\n",
       "      <td>1962661.0</td>\n",
       "      <td>Adjuntas</td>\n",
       "      <td>Puerto Rico</td>\n",
       "      <td>601.0</td>\n",
       "      <td>920.000</td>\n",
       "      <td>0</td>\n",
       "      <td>Middle price</td>\n",
       "    </tr>\n",
       "    <tr>\n",
       "      <th>1</th>\n",
       "      <td>52707.0</td>\n",
       "      <td>for_sale</td>\n",
       "      <td>80000.0</td>\n",
       "      <td>4.0</td>\n",
       "      <td>2.0</td>\n",
       "      <td>0.08</td>\n",
       "      <td>1902874.0</td>\n",
       "      <td>Adjuntas</td>\n",
       "      <td>Puerto Rico</td>\n",
       "      <td>601.0</td>\n",
       "      <td>1527.000</td>\n",
       "      <td>0</td>\n",
       "      <td>Low price</td>\n",
       "    </tr>\n",
       "    <tr>\n",
       "      <th>2</th>\n",
       "      <td>103379.0</td>\n",
       "      <td>for_sale</td>\n",
       "      <td>67000.0</td>\n",
       "      <td>2.0</td>\n",
       "      <td>1.0</td>\n",
       "      <td>0.15</td>\n",
       "      <td>1404990.0</td>\n",
       "      <td>Juana Diaz</td>\n",
       "      <td>Puerto Rico</td>\n",
       "      <td>795.0</td>\n",
       "      <td>748.000</td>\n",
       "      <td>0</td>\n",
       "      <td>Low price</td>\n",
       "    </tr>\n",
       "    <tr>\n",
       "      <th>3</th>\n",
       "      <td>31239.0</td>\n",
       "      <td>for_sale</td>\n",
       "      <td>145000.0</td>\n",
       "      <td>4.0</td>\n",
       "      <td>2.0</td>\n",
       "      <td>0.10</td>\n",
       "      <td>1947675.0</td>\n",
       "      <td>Ponce</td>\n",
       "      <td>Puerto Rico</td>\n",
       "      <td>731.0</td>\n",
       "      <td>1800.000</td>\n",
       "      <td>0</td>\n",
       "      <td>Middle price</td>\n",
       "    </tr>\n",
       "    <tr>\n",
       "      <th>4</th>\n",
       "      <td>34632.0</td>\n",
       "      <td>for_sale</td>\n",
       "      <td>65000.0</td>\n",
       "      <td>6.0</td>\n",
       "      <td>2.0</td>\n",
       "      <td>0.05</td>\n",
       "      <td>331151.0</td>\n",
       "      <td>Mayaguez</td>\n",
       "      <td>Puerto Rico</td>\n",
       "      <td>680.0</td>\n",
       "      <td>2715.133</td>\n",
       "      <td>0</td>\n",
       "      <td>Low price</td>\n",
       "    </tr>\n",
       "  </tbody>\n",
       "</table>\n",
       "</div>"
      ],
      "text/plain": [
       "   brokered_by    status     price  bed  bath  acre_lot     street  \\\n",
       "0     103378.0  for_sale  105000.0  3.0   2.0      0.12  1962661.0   \n",
       "1      52707.0  for_sale   80000.0  4.0   2.0      0.08  1902874.0   \n",
       "2     103379.0  for_sale   67000.0  2.0   1.0      0.15  1404990.0   \n",
       "3      31239.0  for_sale  145000.0  4.0   2.0      0.10  1947675.0   \n",
       "4      34632.0  for_sale   65000.0  6.0   2.0      0.05   331151.0   \n",
       "\n",
       "         city        state  zip_code  house_size prev_sold_date Price category  \n",
       "0    Adjuntas  Puerto Rico     601.0     920.000              0   Middle price  \n",
       "1    Adjuntas  Puerto Rico     601.0    1527.000              0      Low price  \n",
       "2  Juana Diaz  Puerto Rico     795.0     748.000              0      Low price  \n",
       "3       Ponce  Puerto Rico     731.0    1800.000              0   Middle price  \n",
       "4    Mayaguez  Puerto Rico     680.0    2715.133              0      Low price  "
      ]
     },
     "execution_count": 6,
     "metadata": {},
     "output_type": "execute_result"
    }
   ],
   "source": [
    "df.head()"
   ]
  },
  {
   "cell_type": "markdown",
   "id": "4eed8e8c",
   "metadata": {},
   "source": [
    "### Missing Value check"
   ]
  },
  {
   "cell_type": "code",
   "execution_count": 7,
   "id": "f3908c91",
   "metadata": {},
   "outputs": [
    {
     "data": {
      "text/plain": [
       "brokered_by       0\n",
       "status            0\n",
       "price             0\n",
       "bed               0\n",
       "bath              0\n",
       "acre_lot          0\n",
       "street            0\n",
       "city              0\n",
       "state             0\n",
       "zip_code          0\n",
       "house_size        0\n",
       "prev_sold_date    0\n",
       "Price category    0\n",
       "dtype: int64"
      ]
     },
     "execution_count": 7,
     "metadata": {},
     "output_type": "execute_result"
    }
   ],
   "source": [
    "# Check for missing values\n",
    "\n",
    "df.isnull().sum() # No missing values!\n"
   ]
  },
  {
   "cell_type": "markdown",
   "id": "4dbb4223",
   "metadata": {},
   "source": [
    "### Dulicates check"
   ]
  },
  {
   "cell_type": "code",
   "execution_count": 8,
   "id": "73a9ba62",
   "metadata": {},
   "outputs": [],
   "source": [
    "# Find duplicates\n",
    "\n",
    "df_dups = df[df.duplicated()]"
   ]
  },
  {
   "cell_type": "code",
   "execution_count": 11,
   "id": "edb4cf21",
   "metadata": {},
   "outputs": [
    {
     "data": {
      "text/plain": [
       "(0, 13)"
      ]
     },
     "execution_count": 11,
     "metadata": {},
     "output_type": "execute_result"
    }
   ],
   "source": [
    "#no duplicates found\n",
    "df_dups.shape"
   ]
  },
  {
   "cell_type": "markdown",
   "id": "a4baac5b",
   "metadata": {},
   "source": [
    "### Mixed Data Type Check"
   ]
  },
  {
   "cell_type": "code",
   "execution_count": 12,
   "id": "0ed00ccd",
   "metadata": {},
   "outputs": [
    {
     "name": "stderr",
     "output_type": "stream",
     "text": [
      "/var/folders/fb/2jrdrrb52mv7jbhxt0nbx_740000gn/T/ipykernel_77109/2644494205.py:2: FutureWarning: DataFrame.applymap has been deprecated. Use DataFrame.map instead.\n",
      "  weird = (df[[col]].applymap(type) != df[[col]].iloc[0].apply(type)).any(axis = 1)\n",
      "/var/folders/fb/2jrdrrb52mv7jbhxt0nbx_740000gn/T/ipykernel_77109/2644494205.py:2: FutureWarning: DataFrame.applymap has been deprecated. Use DataFrame.map instead.\n",
      "  weird = (df[[col]].applymap(type) != df[[col]].iloc[0].apply(type)).any(axis = 1)\n",
      "/var/folders/fb/2jrdrrb52mv7jbhxt0nbx_740000gn/T/ipykernel_77109/2644494205.py:2: FutureWarning: DataFrame.applymap has been deprecated. Use DataFrame.map instead.\n",
      "  weird = (df[[col]].applymap(type) != df[[col]].iloc[0].apply(type)).any(axis = 1)\n",
      "/var/folders/fb/2jrdrrb52mv7jbhxt0nbx_740000gn/T/ipykernel_77109/2644494205.py:2: FutureWarning: DataFrame.applymap has been deprecated. Use DataFrame.map instead.\n",
      "  weird = (df[[col]].applymap(type) != df[[col]].iloc[0].apply(type)).any(axis = 1)\n",
      "/var/folders/fb/2jrdrrb52mv7jbhxt0nbx_740000gn/T/ipykernel_77109/2644494205.py:2: FutureWarning: DataFrame.applymap has been deprecated. Use DataFrame.map instead.\n",
      "  weird = (df[[col]].applymap(type) != df[[col]].iloc[0].apply(type)).any(axis = 1)\n",
      "/var/folders/fb/2jrdrrb52mv7jbhxt0nbx_740000gn/T/ipykernel_77109/2644494205.py:2: FutureWarning: DataFrame.applymap has been deprecated. Use DataFrame.map instead.\n",
      "  weird = (df[[col]].applymap(type) != df[[col]].iloc[0].apply(type)).any(axis = 1)\n",
      "/var/folders/fb/2jrdrrb52mv7jbhxt0nbx_740000gn/T/ipykernel_77109/2644494205.py:2: FutureWarning: DataFrame.applymap has been deprecated. Use DataFrame.map instead.\n",
      "  weird = (df[[col]].applymap(type) != df[[col]].iloc[0].apply(type)).any(axis = 1)\n",
      "/var/folders/fb/2jrdrrb52mv7jbhxt0nbx_740000gn/T/ipykernel_77109/2644494205.py:2: FutureWarning: DataFrame.applymap has been deprecated. Use DataFrame.map instead.\n",
      "  weird = (df[[col]].applymap(type) != df[[col]].iloc[0].apply(type)).any(axis = 1)\n",
      "/var/folders/fb/2jrdrrb52mv7jbhxt0nbx_740000gn/T/ipykernel_77109/2644494205.py:2: FutureWarning: DataFrame.applymap has been deprecated. Use DataFrame.map instead.\n",
      "  weird = (df[[col]].applymap(type) != df[[col]].iloc[0].apply(type)).any(axis = 1)\n",
      "/var/folders/fb/2jrdrrb52mv7jbhxt0nbx_740000gn/T/ipykernel_77109/2644494205.py:2: FutureWarning: DataFrame.applymap has been deprecated. Use DataFrame.map instead.\n",
      "  weird = (df[[col]].applymap(type) != df[[col]].iloc[0].apply(type)).any(axis = 1)\n",
      "/var/folders/fb/2jrdrrb52mv7jbhxt0nbx_740000gn/T/ipykernel_77109/2644494205.py:2: FutureWarning: DataFrame.applymap has been deprecated. Use DataFrame.map instead.\n",
      "  weird = (df[[col]].applymap(type) != df[[col]].iloc[0].apply(type)).any(axis = 1)\n",
      "/var/folders/fb/2jrdrrb52mv7jbhxt0nbx_740000gn/T/ipykernel_77109/2644494205.py:2: FutureWarning: DataFrame.applymap has been deprecated. Use DataFrame.map instead.\n",
      "  weird = (df[[col]].applymap(type) != df[[col]].iloc[0].apply(type)).any(axis = 1)\n"
     ]
    },
    {
     "name": "stdout",
     "output_type": "stream",
     "text": [
      "prev_sold_date\n"
     ]
    },
    {
     "name": "stderr",
     "output_type": "stream",
     "text": [
      "/var/folders/fb/2jrdrrb52mv7jbhxt0nbx_740000gn/T/ipykernel_77109/2644494205.py:2: FutureWarning: DataFrame.applymap has been deprecated. Use DataFrame.map instead.\n",
      "  weird = (df[[col]].applymap(type) != df[[col]].iloc[0].apply(type)).any(axis = 1)\n"
     ]
    }
   ],
   "source": [
    "for col in df.columns.tolist():\n",
    "      weird = (df[[col]].applymap(type) != df[[col]].iloc[0].apply(type)).any(axis = 1)\n",
    "      if len (df[weird]) > 0:\n",
    "        print (col)\n",
    "        \n",
    "# ok, since we changed the NaNs to 0 in the last dataset, it is showing up as mixed data.  df"
   ]
  },
  {
   "cell_type": "code",
   "execution_count": 13,
   "id": "3462ef81",
   "metadata": {},
   "outputs": [],
   "source": [
    "#change 'prev_sold_date' to string\n",
    "df['prev_sold_date'] = df ['prev_sold_date'].astype('str')"
   ]
  },
  {
   "cell_type": "code",
   "execution_count": 14,
   "id": "f5d433b7",
   "metadata": {},
   "outputs": [
    {
     "name": "stderr",
     "output_type": "stream",
     "text": [
      "/var/folders/fb/2jrdrrb52mv7jbhxt0nbx_740000gn/T/ipykernel_77109/2041796189.py:4: FutureWarning: DataFrame.applymap has been deprecated. Use DataFrame.map instead.\n",
      "  weird = (df[[col]].applymap(type) != df[[col]].iloc[0].apply(type)).any(axis = 1)\n",
      "/var/folders/fb/2jrdrrb52mv7jbhxt0nbx_740000gn/T/ipykernel_77109/2041796189.py:4: FutureWarning: DataFrame.applymap has been deprecated. Use DataFrame.map instead.\n",
      "  weird = (df[[col]].applymap(type) != df[[col]].iloc[0].apply(type)).any(axis = 1)\n",
      "/var/folders/fb/2jrdrrb52mv7jbhxt0nbx_740000gn/T/ipykernel_77109/2041796189.py:4: FutureWarning: DataFrame.applymap has been deprecated. Use DataFrame.map instead.\n",
      "  weird = (df[[col]].applymap(type) != df[[col]].iloc[0].apply(type)).any(axis = 1)\n",
      "/var/folders/fb/2jrdrrb52mv7jbhxt0nbx_740000gn/T/ipykernel_77109/2041796189.py:4: FutureWarning: DataFrame.applymap has been deprecated. Use DataFrame.map instead.\n",
      "  weird = (df[[col]].applymap(type) != df[[col]].iloc[0].apply(type)).any(axis = 1)\n",
      "/var/folders/fb/2jrdrrb52mv7jbhxt0nbx_740000gn/T/ipykernel_77109/2041796189.py:4: FutureWarning: DataFrame.applymap has been deprecated. Use DataFrame.map instead.\n",
      "  weird = (df[[col]].applymap(type) != df[[col]].iloc[0].apply(type)).any(axis = 1)\n",
      "/var/folders/fb/2jrdrrb52mv7jbhxt0nbx_740000gn/T/ipykernel_77109/2041796189.py:4: FutureWarning: DataFrame.applymap has been deprecated. Use DataFrame.map instead.\n",
      "  weird = (df[[col]].applymap(type) != df[[col]].iloc[0].apply(type)).any(axis = 1)\n",
      "/var/folders/fb/2jrdrrb52mv7jbhxt0nbx_740000gn/T/ipykernel_77109/2041796189.py:4: FutureWarning: DataFrame.applymap has been deprecated. Use DataFrame.map instead.\n",
      "  weird = (df[[col]].applymap(type) != df[[col]].iloc[0].apply(type)).any(axis = 1)\n",
      "/var/folders/fb/2jrdrrb52mv7jbhxt0nbx_740000gn/T/ipykernel_77109/2041796189.py:4: FutureWarning: DataFrame.applymap has been deprecated. Use DataFrame.map instead.\n",
      "  weird = (df[[col]].applymap(type) != df[[col]].iloc[0].apply(type)).any(axis = 1)\n",
      "/var/folders/fb/2jrdrrb52mv7jbhxt0nbx_740000gn/T/ipykernel_77109/2041796189.py:4: FutureWarning: DataFrame.applymap has been deprecated. Use DataFrame.map instead.\n",
      "  weird = (df[[col]].applymap(type) != df[[col]].iloc[0].apply(type)).any(axis = 1)\n",
      "/var/folders/fb/2jrdrrb52mv7jbhxt0nbx_740000gn/T/ipykernel_77109/2041796189.py:4: FutureWarning: DataFrame.applymap has been deprecated. Use DataFrame.map instead.\n",
      "  weird = (df[[col]].applymap(type) != df[[col]].iloc[0].apply(type)).any(axis = 1)\n",
      "/var/folders/fb/2jrdrrb52mv7jbhxt0nbx_740000gn/T/ipykernel_77109/2041796189.py:4: FutureWarning: DataFrame.applymap has been deprecated. Use DataFrame.map instead.\n",
      "  weird = (df[[col]].applymap(type) != df[[col]].iloc[0].apply(type)).any(axis = 1)\n",
      "/var/folders/fb/2jrdrrb52mv7jbhxt0nbx_740000gn/T/ipykernel_77109/2041796189.py:4: FutureWarning: DataFrame.applymap has been deprecated. Use DataFrame.map instead.\n",
      "  weird = (df[[col]].applymap(type) != df[[col]].iloc[0].apply(type)).any(axis = 1)\n",
      "/var/folders/fb/2jrdrrb52mv7jbhxt0nbx_740000gn/T/ipykernel_77109/2041796189.py:4: FutureWarning: DataFrame.applymap has been deprecated. Use DataFrame.map instead.\n",
      "  weird = (df[[col]].applymap(type) != df[[col]].iloc[0].apply(type)).any(axis = 1)\n"
     ]
    }
   ],
   "source": [
    "#re-check that changes have been made to datatype\n",
    "\n",
    "for col in df.columns.tolist():\n",
    "      weird = (df[[col]].applymap(type) != df[[col]].iloc[0].apply(type)).any(axis = 1)\n",
    "      if len (df[weird]) > 0:\n",
    "        print (col)\n",
    "        \n",
    "# all looks good now"
   ]
  },
  {
   "cell_type": "markdown",
   "id": "5e18026b",
   "metadata": {},
   "source": [
    "## 3. Exploring Relationships\n",
    "   Clarifying Quesions: \n",
    "\n",
    "   What geographic areas have most/least sold houses? (cities/states/zip codes)\n",
    "   What areas have houses with highest?lowest costs?\n",
    "   When have most houses been sold/bought?  Is there a seasonal trend?  Does this vary across regions?\n",
    "   Have the market trends changed over time?\n",
    "\n",
    "   Does size affect the market? Does bigger acre_lot or house_size impact selling?\n",
    "   Do multi-family homes/larger complexes make up more of the market in cities vs rural areas?  \n",
    "   Do single family homes sell more in rural areas?\n",
    "\n",
    "   Do certain Brokers sell more houses?\n",
    "   Do new builds sell more than previous sold houses?\n",
    "   Do number of baths (i.e: 2+ baths) sell more than homes with only 1 bath?\n",
    "   Do number of bedrooms influence houses sold?"
   ]
  },
  {
   "cell_type": "code",
   "execution_count": 15,
   "id": "3b5e9c0b",
   "metadata": {},
   "outputs": [
    {
     "ename": "ValueError",
     "evalue": "could not convert string to float: 'for_sale'",
     "output_type": "error",
     "traceback": [
      "\u001b[0;31m---------------------------------------------------------------------------\u001b[0m",
      "\u001b[0;31mValueError\u001b[0m                                Traceback (most recent call last)",
      "Cell \u001b[0;32mIn[15], line 3\u001b[0m\n\u001b[1;32m      1\u001b[0m \u001b[38;5;66;03m# Create a correlation matrix using pandas\u001b[39;00m\n\u001b[0;32m----> 3\u001b[0m df\u001b[38;5;241m.\u001b[39mcorr()\n",
      "File \u001b[0;32m/opt/anaconda3/lib/python3.11/site-packages/pandas/core/frame.py:10704\u001b[0m, in \u001b[0;36mDataFrame.corr\u001b[0;34m(self, method, min_periods, numeric_only)\u001b[0m\n\u001b[1;32m  10702\u001b[0m cols \u001b[38;5;241m=\u001b[39m data\u001b[38;5;241m.\u001b[39mcolumns\n\u001b[1;32m  10703\u001b[0m idx \u001b[38;5;241m=\u001b[39m cols\u001b[38;5;241m.\u001b[39mcopy()\n\u001b[0;32m> 10704\u001b[0m mat \u001b[38;5;241m=\u001b[39m data\u001b[38;5;241m.\u001b[39mto_numpy(dtype\u001b[38;5;241m=\u001b[39m\u001b[38;5;28mfloat\u001b[39m, na_value\u001b[38;5;241m=\u001b[39mnp\u001b[38;5;241m.\u001b[39mnan, copy\u001b[38;5;241m=\u001b[39m\u001b[38;5;28;01mFalse\u001b[39;00m)\n\u001b[1;32m  10706\u001b[0m \u001b[38;5;28;01mif\u001b[39;00m method \u001b[38;5;241m==\u001b[39m \u001b[38;5;124m\"\u001b[39m\u001b[38;5;124mpearson\u001b[39m\u001b[38;5;124m\"\u001b[39m:\n\u001b[1;32m  10707\u001b[0m     correl \u001b[38;5;241m=\u001b[39m libalgos\u001b[38;5;241m.\u001b[39mnancorr(mat, minp\u001b[38;5;241m=\u001b[39mmin_periods)\n",
      "File \u001b[0;32m/opt/anaconda3/lib/python3.11/site-packages/pandas/core/frame.py:1889\u001b[0m, in \u001b[0;36mDataFrame.to_numpy\u001b[0;34m(self, dtype, copy, na_value)\u001b[0m\n\u001b[1;32m   1887\u001b[0m \u001b[38;5;28;01mif\u001b[39;00m dtype \u001b[38;5;129;01mis\u001b[39;00m \u001b[38;5;129;01mnot\u001b[39;00m \u001b[38;5;28;01mNone\u001b[39;00m:\n\u001b[1;32m   1888\u001b[0m     dtype \u001b[38;5;241m=\u001b[39m np\u001b[38;5;241m.\u001b[39mdtype(dtype)\n\u001b[0;32m-> 1889\u001b[0m result \u001b[38;5;241m=\u001b[39m \u001b[38;5;28mself\u001b[39m\u001b[38;5;241m.\u001b[39m_mgr\u001b[38;5;241m.\u001b[39mas_array(dtype\u001b[38;5;241m=\u001b[39mdtype, copy\u001b[38;5;241m=\u001b[39mcopy, na_value\u001b[38;5;241m=\u001b[39mna_value)\n\u001b[1;32m   1890\u001b[0m \u001b[38;5;28;01mif\u001b[39;00m result\u001b[38;5;241m.\u001b[39mdtype \u001b[38;5;129;01mis\u001b[39;00m \u001b[38;5;129;01mnot\u001b[39;00m dtype:\n\u001b[1;32m   1891\u001b[0m     result \u001b[38;5;241m=\u001b[39m np\u001b[38;5;241m.\u001b[39marray(result, dtype\u001b[38;5;241m=\u001b[39mdtype, copy\u001b[38;5;241m=\u001b[39m\u001b[38;5;28;01mFalse\u001b[39;00m)\n",
      "File \u001b[0;32m/opt/anaconda3/lib/python3.11/site-packages/pandas/core/internals/managers.py:1656\u001b[0m, in \u001b[0;36mBlockManager.as_array\u001b[0;34m(self, dtype, copy, na_value)\u001b[0m\n\u001b[1;32m   1654\u001b[0m         arr\u001b[38;5;241m.\u001b[39mflags\u001b[38;5;241m.\u001b[39mwriteable \u001b[38;5;241m=\u001b[39m \u001b[38;5;28;01mFalse\u001b[39;00m\n\u001b[1;32m   1655\u001b[0m \u001b[38;5;28;01melse\u001b[39;00m:\n\u001b[0;32m-> 1656\u001b[0m     arr \u001b[38;5;241m=\u001b[39m \u001b[38;5;28mself\u001b[39m\u001b[38;5;241m.\u001b[39m_interleave(dtype\u001b[38;5;241m=\u001b[39mdtype, na_value\u001b[38;5;241m=\u001b[39mna_value)\n\u001b[1;32m   1657\u001b[0m     \u001b[38;5;66;03m# The underlying data was copied within _interleave, so no need\u001b[39;00m\n\u001b[1;32m   1658\u001b[0m     \u001b[38;5;66;03m# to further copy if copy=True or setting na_value\u001b[39;00m\n\u001b[1;32m   1660\u001b[0m \u001b[38;5;28;01mif\u001b[39;00m na_value \u001b[38;5;129;01mis\u001b[39;00m lib\u001b[38;5;241m.\u001b[39mno_default:\n",
      "File \u001b[0;32m/opt/anaconda3/lib/python3.11/site-packages/pandas/core/internals/managers.py:1715\u001b[0m, in \u001b[0;36mBlockManager._interleave\u001b[0;34m(self, dtype, na_value)\u001b[0m\n\u001b[1;32m   1713\u001b[0m     \u001b[38;5;28;01melse\u001b[39;00m:\n\u001b[1;32m   1714\u001b[0m         arr \u001b[38;5;241m=\u001b[39m blk\u001b[38;5;241m.\u001b[39mget_values(dtype)\n\u001b[0;32m-> 1715\u001b[0m     result[rl\u001b[38;5;241m.\u001b[39mindexer] \u001b[38;5;241m=\u001b[39m arr\n\u001b[1;32m   1716\u001b[0m     itemmask[rl\u001b[38;5;241m.\u001b[39mindexer] \u001b[38;5;241m=\u001b[39m \u001b[38;5;241m1\u001b[39m\n\u001b[1;32m   1718\u001b[0m \u001b[38;5;28;01mif\u001b[39;00m \u001b[38;5;129;01mnot\u001b[39;00m itemmask\u001b[38;5;241m.\u001b[39mall():\n",
      "\u001b[0;31mValueError\u001b[0m: could not convert string to float: 'for_sale'"
     ]
    }
   ],
   "source": [
    "# Create a correlation matrix using pandas\n",
    "\n",
    "df.corr()"
   ]
  },
  {
   "cell_type": "markdown",
   "id": "105b8690",
   "metadata": {},
   "source": [
    "#### ASK MENTOR\n",
    "note: should I create a derived column for 'status' to represent 1='for_sale', 2='ready_to_build', &3='sold in order to interpret this info in a visualization/chart?"
   ]
  },
  {
   "cell_type": "code",
   "execution_count": 16,
   "id": "53e269f5",
   "metadata": {},
   "outputs": [
    {
     "data": {
      "text/plain": [
       "Index(['brokered_by', 'status', 'price', 'bed', 'bath', 'acre_lot', 'street',\n",
       "       'city', 'state', 'zip_code', 'house_size', 'prev_sold_date',\n",
       "       'Price category'],\n",
       "      dtype='object')"
      ]
     },
     "execution_count": 16,
     "metadata": {},
     "output_type": "execute_result"
    }
   ],
   "source": [
    "# pick out variables to explore narrow down columns (note: remove ID, dates, & index variables)\n",
    "# look at columns again\n",
    "df.columns"
   ]
  },
  {
   "cell_type": "code",
   "execution_count": 17,
   "id": "9ee59571",
   "metadata": {},
   "outputs": [],
   "source": [
    "# create subset for vis excluding columns: \n",
    "# remove (temporal: 'date') and (spatial: 'street','zip_code', city', 'state', 'zip_code'), and ('status')\n",
    "# will investigate these features later\n",
    "\n",
    "sub = df[['brokered_by', 'price', 'bed', 'bath','acre_lot', 'house_size']]"
   ]
  },
  {
   "cell_type": "code",
   "execution_count": 18,
   "id": "e28a0744",
   "metadata": {},
   "outputs": [
    {
     "data": {
      "text/plain": [
       "Index(['brokered_by', 'price', 'bed', 'bath', 'acre_lot', 'house_size'], dtype='object')"
      ]
     },
     "execution_count": 18,
     "metadata": {},
     "output_type": "execute_result"
    }
   ],
   "source": [
    "sub.columns"
   ]
  },
  {
   "cell_type": "code",
   "execution_count": 26,
   "id": "b921c31d",
   "metadata": {},
   "outputs": [
    {
     "data": {
      "text/html": [
       "<div>\n",
       "<style scoped>\n",
       "    .dataframe tbody tr th:only-of-type {\n",
       "        vertical-align: middle;\n",
       "    }\n",
       "\n",
       "    .dataframe tbody tr th {\n",
       "        vertical-align: top;\n",
       "    }\n",
       "\n",
       "    .dataframe thead th {\n",
       "        text-align: right;\n",
       "    }\n",
       "</style>\n",
       "<table border=\"1\" class=\"dataframe\">\n",
       "  <thead>\n",
       "    <tr style=\"text-align: right;\">\n",
       "      <th></th>\n",
       "      <th>brokered_by</th>\n",
       "      <th>price</th>\n",
       "      <th>bed</th>\n",
       "      <th>bath</th>\n",
       "      <th>acre_lot</th>\n",
       "      <th>street</th>\n",
       "      <th>zip_code</th>\n",
       "      <th>house_size</th>\n",
       "    </tr>\n",
       "  </thead>\n",
       "  <tbody>\n",
       "    <tr>\n",
       "      <th>count</th>\n",
       "      <td>2.217918e+06</td>\n",
       "      <td>2.217918e+06</td>\n",
       "      <td>2.217918e+06</td>\n",
       "      <td>2.217918e+06</td>\n",
       "      <td>2.217918e+06</td>\n",
       "      <td>2.217918e+06</td>\n",
       "      <td>2.217918e+06</td>\n",
       "      <td>2.217918e+06</td>\n",
       "    </tr>\n",
       "    <tr>\n",
       "      <th>mean</th>\n",
       "      <td>5.293758e+04</td>\n",
       "      <td>5.203934e+05</td>\n",
       "      <td>3.276331e+00</td>\n",
       "      <td>2.496360e+00</td>\n",
       "      <td>1.298192e+01</td>\n",
       "      <td>1.012469e+06</td>\n",
       "      <td>5.219697e+04</td>\n",
       "      <td>2.716077e+03</td>\n",
       "    </tr>\n",
       "    <tr>\n",
       "      <th>std</th>\n",
       "      <td>3.064470e+04</td>\n",
       "      <td>1.138340e+06</td>\n",
       "      <td>1.386438e+00</td>\n",
       "      <td>1.448736e+00</td>\n",
       "      <td>7.051279e+02</td>\n",
       "      <td>5.823452e+05</td>\n",
       "      <td>2.895982e+04</td>\n",
       "      <td>6.987233e+05</td>\n",
       "    </tr>\n",
       "    <tr>\n",
       "      <th>min</th>\n",
       "      <td>1.000000e+00</td>\n",
       "      <td>1.000000e+00</td>\n",
       "      <td>1.000000e+00</td>\n",
       "      <td>1.000000e+00</td>\n",
       "      <td>1.000000e-02</td>\n",
       "      <td>0.000000e+00</td>\n",
       "      <td>6.010000e+02</td>\n",
       "      <td>4.000000e+00</td>\n",
       "    </tr>\n",
       "    <tr>\n",
       "      <th>25%</th>\n",
       "      <td>2.385900e+04</td>\n",
       "      <td>1.650000e+05</td>\n",
       "      <td>3.000000e+00</td>\n",
       "      <td>2.000000e+00</td>\n",
       "      <td>1.700000e-01</td>\n",
       "      <td>5.089412e+05</td>\n",
       "      <td>2.961500e+04</td>\n",
       "      <td>1.456000e+03</td>\n",
       "    </tr>\n",
       "    <tr>\n",
       "      <th>50%</th>\n",
       "      <td>5.288350e+04</td>\n",
       "      <td>3.250000e+05</td>\n",
       "      <td>3.000000e+00</td>\n",
       "      <td>2.496373e+00</td>\n",
       "      <td>2.600000e-01</td>\n",
       "      <td>1.012986e+06</td>\n",
       "      <td>4.843300e+04</td>\n",
       "      <td>2.160000e+03</td>\n",
       "    </tr>\n",
       "    <tr>\n",
       "      <th>75%</th>\n",
       "      <td>7.918300e+04</td>\n",
       "      <td>5.500000e+05</td>\n",
       "      <td>4.000000e+00</td>\n",
       "      <td>3.000000e+00</td>\n",
       "      <td>6.800000e-01</td>\n",
       "      <td>1.518812e+06</td>\n",
       "      <td>7.807000e+04</td>\n",
       "      <td>2.715133e+03</td>\n",
       "    </tr>\n",
       "    <tr>\n",
       "      <th>max</th>\n",
       "      <td>1.101420e+05</td>\n",
       "      <td>9.950000e+07</td>\n",
       "      <td>4.730000e+02</td>\n",
       "      <td>8.300000e+02</td>\n",
       "      <td>1.000000e+05</td>\n",
       "      <td>2.001357e+06</td>\n",
       "      <td>9.999900e+04</td>\n",
       "      <td>1.040400e+09</td>\n",
       "    </tr>\n",
       "  </tbody>\n",
       "</table>\n",
       "</div>"
      ],
      "text/plain": [
       "        brokered_by         price           bed          bath      acre_lot  \\\n",
       "count  2.217918e+06  2.217918e+06  2.217918e+06  2.217918e+06  2.217918e+06   \n",
       "mean   5.293758e+04  5.203934e+05  3.276331e+00  2.496360e+00  1.298192e+01   \n",
       "std    3.064470e+04  1.138340e+06  1.386438e+00  1.448736e+00  7.051279e+02   \n",
       "min    1.000000e+00  1.000000e+00  1.000000e+00  1.000000e+00  1.000000e-02   \n",
       "25%    2.385900e+04  1.650000e+05  3.000000e+00  2.000000e+00  1.700000e-01   \n",
       "50%    5.288350e+04  3.250000e+05  3.000000e+00  2.496373e+00  2.600000e-01   \n",
       "75%    7.918300e+04  5.500000e+05  4.000000e+00  3.000000e+00  6.800000e-01   \n",
       "max    1.101420e+05  9.950000e+07  4.730000e+02  8.300000e+02  1.000000e+05   \n",
       "\n",
       "             street      zip_code    house_size  \n",
       "count  2.217918e+06  2.217918e+06  2.217918e+06  \n",
       "mean   1.012469e+06  5.219697e+04  2.716077e+03  \n",
       "std    5.823452e+05  2.895982e+04  6.987233e+05  \n",
       "min    0.000000e+00  6.010000e+02  4.000000e+00  \n",
       "25%    5.089412e+05  2.961500e+04  1.456000e+03  \n",
       "50%    1.012986e+06  4.843300e+04  2.160000e+03  \n",
       "75%    1.518812e+06  7.807000e+04  2.715133e+03  \n",
       "max    2.001357e+06  9.999900e+04  1.040400e+09  "
      ]
     },
     "execution_count": 26,
     "metadata": {},
     "output_type": "execute_result"
    }
   ],
   "source": [
    "# a look at the stats now that all of the 0s are removed from the columns we need\n",
    "df.describe()"
   ]
  },
  {
   "cell_type": "markdown",
   "id": "12ee1c33",
   "metadata": {},
   "source": [
    "## Correlations:"
   ]
  },
  {
   "cell_type": "code",
   "execution_count": 19,
   "id": "5eeb96eb",
   "metadata": {},
   "outputs": [
    {
     "data": {
      "text/html": [
       "<div>\n",
       "<style scoped>\n",
       "    .dataframe tbody tr th:only-of-type {\n",
       "        vertical-align: middle;\n",
       "    }\n",
       "\n",
       "    .dataframe tbody tr th {\n",
       "        vertical-align: top;\n",
       "    }\n",
       "\n",
       "    .dataframe thead th {\n",
       "        text-align: right;\n",
       "    }\n",
       "</style>\n",
       "<table border=\"1\" class=\"dataframe\">\n",
       "  <thead>\n",
       "    <tr style=\"text-align: right;\">\n",
       "      <th></th>\n",
       "      <th>brokered_by</th>\n",
       "      <th>price</th>\n",
       "      <th>bed</th>\n",
       "      <th>bath</th>\n",
       "      <th>acre_lot</th>\n",
       "      <th>house_size</th>\n",
       "    </tr>\n",
       "  </thead>\n",
       "  <tbody>\n",
       "    <tr>\n",
       "      <th>brokered_by</th>\n",
       "      <td>1.000000</td>\n",
       "      <td>-0.012052</td>\n",
       "      <td>0.003259</td>\n",
       "      <td>-0.003541</td>\n",
       "      <td>0.000380</td>\n",
       "      <td>-0.000447</td>\n",
       "    </tr>\n",
       "    <tr>\n",
       "      <th>price</th>\n",
       "      <td>-0.012052</td>\n",
       "      <td>1.000000</td>\n",
       "      <td>0.185810</td>\n",
       "      <td>0.288913</td>\n",
       "      <td>0.024785</td>\n",
       "      <td>0.000407</td>\n",
       "    </tr>\n",
       "    <tr>\n",
       "      <th>bed</th>\n",
       "      <td>0.003259</td>\n",
       "      <td>0.185810</td>\n",
       "      <td>1.000000</td>\n",
       "      <td>0.579157</td>\n",
       "      <td>0.001092</td>\n",
       "      <td>0.000835</td>\n",
       "    </tr>\n",
       "    <tr>\n",
       "      <th>bath</th>\n",
       "      <td>-0.003541</td>\n",
       "      <td>0.288913</td>\n",
       "      <td>0.579157</td>\n",
       "      <td>1.000000</td>\n",
       "      <td>-0.000415</td>\n",
       "      <td>0.000888</td>\n",
       "    </tr>\n",
       "    <tr>\n",
       "      <th>acre_lot</th>\n",
       "      <td>0.000380</td>\n",
       "      <td>0.024785</td>\n",
       "      <td>0.001092</td>\n",
       "      <td>-0.000415</td>\n",
       "      <td>1.000000</td>\n",
       "      <td>0.000008</td>\n",
       "    </tr>\n",
       "    <tr>\n",
       "      <th>house_size</th>\n",
       "      <td>-0.000447</td>\n",
       "      <td>0.000407</td>\n",
       "      <td>0.000835</td>\n",
       "      <td>0.000888</td>\n",
       "      <td>0.000008</td>\n",
       "      <td>1.000000</td>\n",
       "    </tr>\n",
       "  </tbody>\n",
       "</table>\n",
       "</div>"
      ],
      "text/plain": [
       "             brokered_by     price       bed      bath  acre_lot  house_size\n",
       "brokered_by     1.000000 -0.012052  0.003259 -0.003541  0.000380   -0.000447\n",
       "price          -0.012052  1.000000  0.185810  0.288913  0.024785    0.000407\n",
       "bed             0.003259  0.185810  1.000000  0.579157  0.001092    0.000835\n",
       "bath           -0.003541  0.288913  0.579157  1.000000 -0.000415    0.000888\n",
       "acre_lot        0.000380  0.024785  0.001092 -0.000415  1.000000    0.000008\n",
       "house_size     -0.000447  0.000407  0.000835  0.000888  0.000008    1.000000"
      ]
     },
     "execution_count": 19,
     "metadata": {},
     "output_type": "execute_result"
    }
   ],
   "source": [
    "# Create a correlation matrix using pandas\n",
    "\n",
    "sub.corr()"
   ]
  },
  {
   "cell_type": "code",
   "execution_count": 20,
   "id": "8d51fe50",
   "metadata": {},
   "outputs": [
    {
     "data": {
      "image/png": "[encoded data removed]",
      "text/plain": [
       "<Figure size 480x480 with 1 Axes>"
      ]
     },
     "metadata": {},
     "output_type": "display_data"
    }
   ],
   "source": [
    "# Create a correlation heatmap using matplotlib\n",
    "\n",
    "plt.matshow(sub.corr())\n",
    "plt.show()\n"
   ]
  },
  {
   "cell_type": "code",
   "execution_count": 21,
   "id": "c3e93b54",
   "metadata": {},
   "outputs": [
    {
     "data": {
      "image/png": "[encoded data removed]",
      "text/plain": [
       "<Figure size 480x480 with 1 Axes>"
      ]
     },
     "metadata": {},
     "output_type": "display_data"
    }
   ],
   "source": [
    "# Save figure\n",
    "plt.matshow(sub.corr())\n",
    "plt.savefig(\"out.png\") \n",
    "\n",
    "# This will save the image in the working directory. \n",
    "# the next line shows the directory"
   ]
  },
  {
   "cell_type": "code",
   "execution_count": 22,
   "id": "1ff9c2cb",
   "metadata": {},
   "outputs": [
    {
     "data": {
      "text/plain": [
       "'/Users/nancykray/Desktop/Real Estate Project/Scripts'"
      ]
     },
     "execution_count": 22,
     "metadata": {},
     "output_type": "execute_result"
    }
   ],
   "source": [
    "#current directory to see where the saved image goes\n",
    "cwd = os.getcwd()\n",
    "cwd"
   ]
  },
  {
   "cell_type": "code",
   "execution_count": 23,
   "id": "d7eb80d8",
   "metadata": {},
   "outputs": [
    {
     "data": {
      "text/plain": [
       "Text(0.5, 1.0, 'Correlation Matrix')"
      ]
     },
     "execution_count": 23,
     "metadata": {},
     "output_type": "execute_result"
    },
    {
     "data": {
      "image/png": "[encoded data removed]",
      "text/plain": [
       "<Figure size 800x800 with 2 Axes>"
      ]
     },
     "metadata": {},
     "output_type": "display_data"
    }
   ],
   "source": [
    "# Add labels, a legend, and change the size of the heatmap (remember that 'df' is now 'sub')\n",
    "\n",
    "f = plt.figure(figsize=(8, 8)) # figure size \n",
    "plt.matshow(sub.corr(), fignum=f.number) # type of plot\n",
    "plt.xticks(range(sub.shape[1]), sub.columns, fontsize=14, rotation=45) # x axis labels\n",
    "plt.yticks(range(sub.shape[1]), sub.columns, fontsize=14) # y axis labels\n",
    "cb = plt.colorbar() # add a colour legend (called colorbar)\n",
    "cb.ax.tick_params(labelsize=14) # add font size\n",
    "plt.title('Correlation Matrix', fontsize=14) # add title"
   ]
  },
  {
   "cell_type": "markdown",
   "id": "ba24266d",
   "metadata": {},
   "source": [
    "this forces you to constantly cross reference the colors in the chart with the legend, leaving the exact correlation coefficients effectively obscure. In order to best interpret the data, let's use a heatmap below:\n",
    "\n",
    "### Create a correlation heatmap using seaborn:"
   ]
  },
  {
   "cell_type": "code",
   "execution_count": 24,
   "id": "df001bd8",
   "metadata": {},
   "outputs": [
    {
     "data": {
      "image/png": "[encoded data removed]",
      "text/plain": [
       "<Figure size 1000x1000 with 2 Axes>"
      ]
     },
     "metadata": {},
     "output_type": "display_data"
    }
   ],
   "source": [
    "# Create a subplot with matplotlib\n",
    "f,ax = plt.subplots(figsize=(10,10))\n",
    "\n",
    "# Create the correlation heatmap in seaborn by applying a heatmap onto the correlation matrix and the subplots defined above.\n",
    "corr = sns.heatmap(sub.corr(), annot = True, ax = ax) # The `annot` argument allows the plot to \n",
    "#place the correlation coefficients onto the heatmap."
   ]
  },
  {
   "cell_type": "markdown",
   "id": "e886a147",
   "metadata": {},
   "source": [
    "This correlation heatmap shows that strongest relationships are highlighted in red (as this is the lightest color shown besides white and white does not count as these are perfect 1s due to variables crossing paths with themselves)\n",
    "\n",
    "These stronger relationships are between number of baths with number of beds. This makes sense as houses with more bedrooms will likely have more bathrooms.\n",
    "\n",
    "A weaker correlation (shown in purple) is shown between 'price' and 'number of bathrooms' And weaker yet (darker purple) is the relationship between 'price' and 'number of bedrooms'"
   ]
  },
  {
   "cell_type": "code",
   "execution_count": 54,
   "id": "baa54209",
   "metadata": {},
   "outputs": [
    {
     "data": {
      "text/plain": [
       "(<Figure size 1000x1000 with 2 Axes>, None)"
      ]
     },
     "execution_count": 54,
     "metadata": {},
     "output_type": "execute_result"
    }
   ],
   "source": [
    "f,ax.figure.savefig('hmx2.png', transparent=True, bbox_inches='tight')"
   ]
  },
  {
   "cell_type": "markdown",
   "id": "6becf7fe",
   "metadata": {},
   "source": [
    "### Scatterplots:"
   ]
  },
  {
   "cell_type": "code",
   "execution_count": 25,
   "id": "e5e508c5",
   "metadata": {},
   "outputs": [
    {
     "data": {
      "text/plain": [
       "<seaborn.axisgrid.FacetGrid at 0x194563990>"
      ]
     },
     "execution_count": 25,
     "metadata": {},
     "output_type": "execute_result"
    },
    {
     "data": {
      "image/png": "[encoded data removed]",
      "text/plain": [
       "<Figure size 500x500 with 1 Axes>"
      ]
     },
     "metadata": {},
     "output_type": "display_data"
    }
   ],
   "source": [
    "# Create a scatterplot for the \"bed\" and \"bath\" columns in seaborn (since these have strongest correlation)\n",
    "\n",
    "sns.lmplot(x = 'bed', y = 'bath', data = df)"
   ]
  },
  {
   "cell_type": "markdown",
   "id": "e6e17e80",
   "metadata": {},
   "source": [
    "This scatterplot shows the linear trend of a positive correlation between number of bedrooms and number of bathrooms. There are a few outliers in this dataset shown here as well."
   ]
  },
  {
   "cell_type": "code",
   "execution_count": 27,
   "id": "293f7f13",
   "metadata": {},
   "outputs": [
    {
     "data": {
      "text/plain": [
       "<seaborn.axisgrid.FacetGrid at 0x194657790>"
      ]
     },
     "execution_count": 27,
     "metadata": {},
     "output_type": "execute_result"
    },
    {
     "data": {
      "image/png": "[encoded data removed]",
      "text/plain": [
       "<Figure size 500x500 with 1 Axes>"
      ]
     },
     "metadata": {},
     "output_type": "display_data"
    }
   ],
   "source": [
    "# Create a scatterplot for the \"acre_lot\" and \"price\" columns in seaborn (since I want to see what's going on)\n",
    "\n",
    "sns.lmplot(x = 'acre_lot', y = 'price', data = df)"
   ]
  },
  {
   "cell_type": "markdown",
   "id": "276e3006",
   "metadata": {},
   "source": [
    "This scatterplot shows a high concentration of high prices for low acre_lot (for some unknown reason), but then there is a slight positive correlation showing as expected that the bigger the acre lot, the higher the price.  "
   ]
  },
  {
   "cell_type": "code",
   "execution_count": 31,
   "id": "47afb83c",
   "metadata": {},
   "outputs": [
    {
     "data": {
      "text/plain": [
       "4.0"
      ]
     },
     "execution_count": 31,
     "metadata": {},
     "output_type": "execute_result"
    }
   ],
   "source": [
    "#check to make sure house_size is not 0\n",
    "df.house_size.min()"
   ]
  },
  {
   "cell_type": "code",
   "execution_count": 32,
   "id": "3868e8fa",
   "metadata": {},
   "outputs": [
    {
     "data": {
      "text/plain": [
       "<seaborn.axisgrid.FacetGrid at 0x19489dbd0>"
      ]
     },
     "execution_count": 32,
     "metadata": {},
     "output_type": "execute_result"
    },
    {
     "data": {
      "image/png": "[encoded data removed]",
      "text/plain": [
       "<Figure size 500x500 with 1 Axes>"
      ]
     },
     "metadata": {},
     "output_type": "display_data"
    }
   ],
   "source": [
    "# Create a scatterplot for the \"house_size\" and \"price\" columns in seaborn (since I want to see what's going on)\n",
    "\n",
    "sns.lmplot(x = 'house_size', y = 'price', data = df)"
   ]
  },
  {
   "cell_type": "markdown",
   "id": "3d974d3c",
   "metadata": {},
   "source": [
    "This shadow trend shows the higher house_size, the higher the price, as expected, however, the line stays at 0.  I am not sure I understand why this shadow produces that trajectory without data points along its path.  Will need to further investigate what is going on."
   ]
  },
  {
   "cell_type": "markdown",
   "id": "e72aa173",
   "metadata": {},
   "source": [
    "### Pair plots:"
   ]
  },
  {
   "cell_type": "code",
   "execution_count": 33,
   "id": "1f96f970",
   "metadata": {},
   "outputs": [
    {
     "data": {
      "text/plain": [
       "Index(['brokered_by', 'price', 'bed', 'bath', 'acre_lot', 'house_size'], dtype='object')"
      ]
     },
     "execution_count": 33,
     "metadata": {},
     "output_type": "execute_result"
    }
   ],
   "source": [
    "# review the columns from 'sub' subset of dataframe to narrow down what I want to keep for the pair plots\n",
    "sub.columns"
   ]
  },
  {
   "cell_type": "code",
   "execution_count": 34,
   "id": "529107b8",
   "metadata": {},
   "outputs": [],
   "source": [
    "# Keep only the variables you want to use in the pair plot (create another subset dataframe)\n",
    "\n",
    "sub_2 = sub[['price', 'bed', 'bath', 'acre_lot', 'house_size']]"
   ]
  },
  {
   "cell_type": "code",
   "execution_count": 35,
   "id": "b399225b",
   "metadata": {},
   "outputs": [
    {
     "name": "stderr",
     "output_type": "stream",
     "text": [
      "/opt/anaconda3/lib/python3.11/site-packages/seaborn/_oldcore.py:1119: FutureWarning: use_inf_as_na option is deprecated and will be removed in a future version. Convert inf values to NaN before operating instead.\n",
      "  with pd.option_context('mode.use_inf_as_na', True):\n",
      "/opt/anaconda3/lib/python3.11/site-packages/seaborn/_oldcore.py:1119: FutureWarning: use_inf_as_na option is deprecated and will be removed in a future version. Convert inf values to NaN before operating instead.\n",
      "  with pd.option_context('mode.use_inf_as_na', True):\n",
      "/opt/anaconda3/lib/python3.11/site-packages/seaborn/_oldcore.py:1119: FutureWarning: use_inf_as_na option is deprecated and will be removed in a future version. Convert inf values to NaN before operating instead.\n",
      "  with pd.option_context('mode.use_inf_as_na', True):\n",
      "/opt/anaconda3/lib/python3.11/site-packages/seaborn/_oldcore.py:1119: FutureWarning: use_inf_as_na option is deprecated and will be removed in a future version. Convert inf values to NaN before operating instead.\n",
      "  with pd.option_context('mode.use_inf_as_na', True):\n",
      "/opt/anaconda3/lib/python3.11/site-packages/seaborn/_oldcore.py:1119: FutureWarning: use_inf_as_na option is deprecated and will be removed in a future version. Convert inf values to NaN before operating instead.\n",
      "  with pd.option_context('mode.use_inf_as_na', True):\n"
     ]
    },
    {
     "data": {
      "text/plain": [
       "<seaborn.axisgrid.PairGrid at 0x194902f90>"
      ]
     },
     "execution_count": 35,
     "metadata": {},
     "output_type": "execute_result"
    },
    {
     "data": {
      "image/png": "[encoded data removed]",
      "text/plain": [
       "<Figure size 1250x1250 with 30 Axes>"
      ]
     },
     "metadata": {},
     "output_type": "display_data"
    }
   ],
   "source": [
    "# Create a pair plot (modify bin# - otherwise not executing)\n",
    "sns.pairplot(sub_2, diag_kws = {'bins': 10})"
   ]
  },
  {
   "cell_type": "markdown",
   "id": "b909bba1",
   "metadata": {},
   "source": [
    "##### I would like to further explore realtionshps between: price & acre_size, price & house_size since these charts must be still skewed by data numbers as they do not show the expected trajecory of (bigger size, the higher the price).  There is only one outlier up high and then the remaining are staying very low.  This data needs to be better understood prior to analyzing.\n",
    "\n",
    "#### Most of these relationships are showing negative correlations for some reason:\n",
    "###### -the higher the price, the less bedrooms it has\n",
    "###### -the higher the price, the less bathrooms it has\n",
    "###### -the lower the acre lot size, the higher the lower the price"
   ]
  },
  {
   "cell_type": "markdown",
   "id": "9e99619e",
   "metadata": {},
   "source": [
    "### Categorical Plots:\n",
    "Creating a categorical variable that splits the \"price\" column into categories"
   ]
  },
  {
   "cell_type": "code",
   "execution_count": 37,
   "id": "67a6f6ef",
   "metadata": {},
   "outputs": [
    {
     "name": "stderr",
     "output_type": "stream",
     "text": [
      "/opt/anaconda3/lib/python3.11/site-packages/seaborn/_oldcore.py:1119: FutureWarning: use_inf_as_na option is deprecated and will be removed in a future version. Convert inf values to NaN before operating instead.\n",
      "  with pd.option_context('mode.use_inf_as_na', True):\n"
     ]
    },
    {
     "data": {
      "text/plain": [
       "<Axes: xlabel='price', ylabel='Count'>"
      ]
     },
     "execution_count": 37,
     "metadata": {},
     "output_type": "execute_result"
    },
    {
     "data": {
      "image/png": "[encoded data removed]",
      "text/plain": [
       "<Figure size 640x480 with 1 Axes>"
      ]
     },
     "metadata": {},
     "output_type": "display_data"
    }
   ],
   "source": [
    "# Use a histogram to visualize the distribution of the variables. \n",
    "# This way, you can determine sensible categories for the price ranges. \n",
    "# You don't want to end up with too few observations in any one of the categories.\n",
    "# The argument \"kde\" add a line that encompasses the distribution\n",
    "\n",
    "sns.histplot(df['price'], bins = 20, kde = True)\n"
   ]
  },
  {
   "cell_type": "code",
   "execution_count": 38,
   "id": "b1ff1bad",
   "metadata": {},
   "outputs": [
    {
     "data": {
      "text/html": [
       "<div>\n",
       "<style scoped>\n",
       "    .dataframe tbody tr th:only-of-type {\n",
       "        vertical-align: middle;\n",
       "    }\n",
       "\n",
       "    .dataframe tbody tr th {\n",
       "        vertical-align: top;\n",
       "    }\n",
       "\n",
       "    .dataframe thead th {\n",
       "        text-align: right;\n",
       "    }\n",
       "</style>\n",
       "<table border=\"1\" class=\"dataframe\">\n",
       "  <thead>\n",
       "    <tr style=\"text-align: right;\">\n",
       "      <th></th>\n",
       "      <th>brokered_by</th>\n",
       "      <th>price</th>\n",
       "      <th>bed</th>\n",
       "      <th>bath</th>\n",
       "      <th>acre_lot</th>\n",
       "      <th>house_size</th>\n",
       "    </tr>\n",
       "  </thead>\n",
       "  <tbody>\n",
       "    <tr>\n",
       "      <th>count</th>\n",
       "      <td>2.217918e+06</td>\n",
       "      <td>2.217918e+06</td>\n",
       "      <td>2.217918e+06</td>\n",
       "      <td>2.217918e+06</td>\n",
       "      <td>2.217918e+06</td>\n",
       "      <td>2.217918e+06</td>\n",
       "    </tr>\n",
       "    <tr>\n",
       "      <th>mean</th>\n",
       "      <td>5.293758e+04</td>\n",
       "      <td>5.203934e+05</td>\n",
       "      <td>3.276331e+00</td>\n",
       "      <td>2.496360e+00</td>\n",
       "      <td>1.298192e+01</td>\n",
       "      <td>2.716077e+03</td>\n",
       "    </tr>\n",
       "    <tr>\n",
       "      <th>std</th>\n",
       "      <td>3.064470e+04</td>\n",
       "      <td>1.138340e+06</td>\n",
       "      <td>1.386438e+00</td>\n",
       "      <td>1.448736e+00</td>\n",
       "      <td>7.051279e+02</td>\n",
       "      <td>6.987233e+05</td>\n",
       "    </tr>\n",
       "    <tr>\n",
       "      <th>min</th>\n",
       "      <td>1.000000e+00</td>\n",
       "      <td>1.000000e+00</td>\n",
       "      <td>1.000000e+00</td>\n",
       "      <td>1.000000e+00</td>\n",
       "      <td>1.000000e-02</td>\n",
       "      <td>4.000000e+00</td>\n",
       "    </tr>\n",
       "    <tr>\n",
       "      <th>25%</th>\n",
       "      <td>2.385900e+04</td>\n",
       "      <td>1.650000e+05</td>\n",
       "      <td>3.000000e+00</td>\n",
       "      <td>2.000000e+00</td>\n",
       "      <td>1.700000e-01</td>\n",
       "      <td>1.456000e+03</td>\n",
       "    </tr>\n",
       "    <tr>\n",
       "      <th>50%</th>\n",
       "      <td>5.288350e+04</td>\n",
       "      <td>3.250000e+05</td>\n",
       "      <td>3.000000e+00</td>\n",
       "      <td>2.496373e+00</td>\n",
       "      <td>2.600000e-01</td>\n",
       "      <td>2.160000e+03</td>\n",
       "    </tr>\n",
       "    <tr>\n",
       "      <th>75%</th>\n",
       "      <td>7.918300e+04</td>\n",
       "      <td>5.500000e+05</td>\n",
       "      <td>4.000000e+00</td>\n",
       "      <td>3.000000e+00</td>\n",
       "      <td>6.800000e-01</td>\n",
       "      <td>2.715133e+03</td>\n",
       "    </tr>\n",
       "    <tr>\n",
       "      <th>max</th>\n",
       "      <td>1.101420e+05</td>\n",
       "      <td>9.950000e+07</td>\n",
       "      <td>4.730000e+02</td>\n",
       "      <td>8.300000e+02</td>\n",
       "      <td>1.000000e+05</td>\n",
       "      <td>1.040400e+09</td>\n",
       "    </tr>\n",
       "  </tbody>\n",
       "</table>\n",
       "</div>"
      ],
      "text/plain": [
       "        brokered_by         price           bed          bath      acre_lot  \\\n",
       "count  2.217918e+06  2.217918e+06  2.217918e+06  2.217918e+06  2.217918e+06   \n",
       "mean   5.293758e+04  5.203934e+05  3.276331e+00  2.496360e+00  1.298192e+01   \n",
       "std    3.064470e+04  1.138340e+06  1.386438e+00  1.448736e+00  7.051279e+02   \n",
       "min    1.000000e+00  1.000000e+00  1.000000e+00  1.000000e+00  1.000000e-02   \n",
       "25%    2.385900e+04  1.650000e+05  3.000000e+00  2.000000e+00  1.700000e-01   \n",
       "50%    5.288350e+04  3.250000e+05  3.000000e+00  2.496373e+00  2.600000e-01   \n",
       "75%    7.918300e+04  5.500000e+05  4.000000e+00  3.000000e+00  6.800000e-01   \n",
       "max    1.101420e+05  9.950000e+07  4.730000e+02  8.300000e+02  1.000000e+05   \n",
       "\n",
       "         house_size  \n",
       "count  2.217918e+06  \n",
       "mean   2.716077e+03  \n",
       "std    6.987233e+05  \n",
       "min    4.000000e+00  \n",
       "25%    1.456000e+03  \n",
       "50%    2.160000e+03  \n",
       "75%    2.715133e+03  \n",
       "max    1.040400e+09  "
      ]
     },
     "execution_count": 38,
     "metadata": {},
     "output_type": "execute_result"
    }
   ],
   "source": [
    "#look at numbers to see the range\n",
    "sub.describe()"
   ]
  },
  {
   "cell_type": "code",
   "execution_count": 39,
   "id": "9a1b11dd",
   "metadata": {},
   "outputs": [
    {
     "data": {
      "text/plain": [
       "325000.0"
      ]
     },
     "execution_count": 39,
     "metadata": {},
     "output_type": "execute_result"
    }
   ],
   "source": [
    "#check the median since there is such a concentration in the lower range\n",
    "sub['price'].median()"
   ]
  },
  {
   "cell_type": "code",
   "execution_count": 41,
   "id": "4af8fcba",
   "metadata": {},
   "outputs": [],
   "source": [
    "df.loc[df['price'] < 100000, 'Price category'] = 'Low Price'"
   ]
  },
  {
   "cell_type": "code",
   "execution_count": 42,
   "id": "6ca74099",
   "metadata": {},
   "outputs": [],
   "source": [
    "df.loc[(df['price'] >= 100000.0) & (df['price'] <= 600000.0), 'Price category'] = 'Middle Price'"
   ]
  },
  {
   "cell_type": "code",
   "execution_count": 43,
   "id": "44eb032f",
   "metadata": {},
   "outputs": [],
   "source": [
    "df.loc[df['price'] >500000.0, 'Price category'] = 'High Price'"
   ]
  },
  {
   "cell_type": "code",
   "execution_count": 44,
   "id": "40fba7c0",
   "metadata": {},
   "outputs": [
    {
     "data": {
      "text/plain": [
       "Price category\n",
       "Middle price    1238596\n",
       "High Price       625731\n",
       "Low price        353591\n",
       "Name: count, dtype: int64"
      ]
     },
     "execution_count": 44,
     "metadata": {},
     "output_type": "execute_result"
    }
   ],
   "source": [
    "df['Price category'].value_counts(dropna = False)"
   ]
  },
  {
   "cell_type": "code",
   "execution_count": 51,
   "id": "7b7344d7",
   "metadata": {},
   "outputs": [
    {
     "name": "stderr",
     "output_type": "stream",
     "text": [
      "/opt/anaconda3/lib/python3.11/site-packages/seaborn/_oldcore.py:1119: FutureWarning: use_inf_as_na option is deprecated and will be removed in a future version. Convert inf values to NaN before operating instead.\n",
      "  with pd.option_context('mode.use_inf_as_na', True):\n",
      "/opt/anaconda3/lib/python3.11/site-packages/seaborn/_oldcore.py:1119: FutureWarning: use_inf_as_na option is deprecated and will be removed in a future version. Convert inf values to NaN before operating instead.\n",
      "  with pd.option_context('mode.use_inf_as_na', True):\n"
     ]
    },
    {
     "data": {
      "text/plain": [
       "Text(0.5, 1.0, 'Categorical Plot')"
      ]
     },
     "execution_count": 51,
     "metadata": {},
     "output_type": "execute_result"
    },
    {
     "data": {
      "image/png": "[encoded data removed]",
      "text/plain": [
       "<Figure size 637.375x500 with 1 Axes>"
      ]
     },
     "metadata": {},
     "output_type": "display_data"
    }
   ],
   "source": [
    "# Create a categorical plot in seaborn using the price categories (compare price and bed)\n",
    "\n",
    "sns.set(style='ticks')\n",
    "g = sns.catplot(x='bed', y='price', hue='Price category', data=df)\n",
    "\n",
    "plt.title('Categorical Plot', fontsize=14) # add title"
   ]
  },
  {
   "cell_type": "code",
   "execution_count": 52,
   "id": "1d788e9c",
   "metadata": {},
   "outputs": [],
   "source": [
    "# fig = g.get_figure()\n",
    "g.savefig('cat_plot_bed_price2.png') "
   ]
  },
  {
   "cell_type": "markdown",
   "id": "45ddb1a6",
   "metadata": {},
   "source": [
    "This categorical plot shows that most of the houses in this dataset are listed as high priced, even if there are multiple bedrooms or only 1.  The x-axis ticks are hard to read since it is crowded, however there are a few scattered orange points signifying low priced homes, and they are not at the lower end of the scale (they likely have multiple bedrooms)"
   ]
  },
  {
   "cell_type": "code",
   "execution_count": 55,
   "id": "9afe8ab2",
   "metadata": {},
   "outputs": [
    {
     "name": "stderr",
     "output_type": "stream",
     "text": [
      "/opt/anaconda3/lib/python3.11/site-packages/seaborn/_oldcore.py:1119: FutureWarning: use_inf_as_na option is deprecated and will be removed in a future version. Convert inf values to NaN before operating instead.\n",
      "  with pd.option_context('mode.use_inf_as_na', True):\n",
      "/opt/anaconda3/lib/python3.11/site-packages/seaborn/_oldcore.py:1119: FutureWarning: use_inf_as_na option is deprecated and will be removed in a future version. Convert inf values to NaN before operating instead.\n",
      "  with pd.option_context('mode.use_inf_as_na', True):\n",
      "/opt/anaconda3/lib/python3.11/site-packages/seaborn/axisgrid.py:118: UserWarning: Creating legend with loc=\"best\" can be slow with large amounts of data.\n",
      "  self._figure.tight_layout(*args, **kwargs)\n"
     ]
    },
    {
     "data": {
      "text/plain": [
       "Text(0.5, 1.0, 'Categorical Plot')"
      ]
     },
     "execution_count": 55,
     "metadata": {},
     "output_type": "execute_result"
    },
    {
     "data": {
      "image/png": "[encoded data removed]",
      "text/plain": [
       "<Figure size 637.375x500 with 1 Axes>"
      ]
     },
     "metadata": {},
     "output_type": "display_data"
    }
   ],
   "source": [
    "# Create a categorical plot in seaborn using the price categories (compare price and house_size)\n",
    "\n",
    "sns.set(style='ticks')\n",
    "g = sns.catplot(x='house_size', y='price', hue='Price category', data=df)\n",
    "\n",
    "plt.title('Categorical Plot', fontsize=14) # add title"
   ]
  },
  {
   "cell_type": "code",
   "execution_count": 56,
   "id": "3eb28d3f",
   "metadata": {},
   "outputs": [],
   "source": [
    "# fig = g.get_figure()\n",
    "g.savefig('cat_plot_house_size_price2.png') "
   ]
  },
  {
   "cell_type": "markdown",
   "id": "e0adf6c5",
   "metadata": {},
   "source": [
    "This distribution shows a slight increase in concentrated data points in a positive correlation (as expected) where the higher the house_size the higher the price.  This is also affected by several outliers scattered throughout, specifically in one concentrated spot toward the lower end of house size.  This could represent a city area, with several smaller units sold for higher prices.\n",
    "\n",
    "It is likely that the size of the acre lot or the house itself are not impacting the price as much as expected due to other factors, such as geography.  Perhaps, the prices are more influenced by cities and cost of living in certain area.  Example: my home on the outskirts of Chicago is worth much less than some condos that are in the heart of downtown, Chicago, even though it is much smaller in size."
   ]
  },
  {
   "cell_type": "markdown",
   "id": "1755886a",
   "metadata": {},
   "source": [
    "##### Clarifying Quesions: \n",
    "\n",
    "##### To be explored:\n",
    "   What geographic areas have most/least sold houses? (cities/states/zip codes)\n",
    "   What areas have houses with highest?lowest costs?\n",
    "   When have most houses been sold/bought?  Is there a seasonal trend?  Does this vary across regions?\n",
    "   Have the market trends changed over time?\n",
    "\n",
    "   Does size affect the market? Does bigger acre_lot or house_size impact selling?\n",
    "   Do multi-family homes/larger complexes make up more of the market in cities vs rural areas?  \n",
    "   Do single family homes sell more in rural areas?\n",
    "\n",
    "   Do certain Brokers sell more houses?\n",
    "   Do new builds sell more than previous sold houses?\n",
    "   \n",
    "   Do number of baths (i.e: 2+ baths) sell more than homes with only 1 bath?\n",
    "   Do number of bedrooms influence houses sold? \n",
    "   \n",
    "The only true relationship I was able to show clearly in this data was that when a house has more bedrooms, it also tends to have more bathrooms."
   ]
  }
 ],
 "metadata": {
  "kernelspec": {
   "display_name": "Python 3 (ipykernel)",
   "language": "python",
   "name": "python3"
  },
  "language_info": {
   "codemirror_mode": {
    "name": "ipython",
    "version": 3
   },
   "file_extension": ".py",
   "mimetype": "text/x-python",
   "name": "python",
   "nbconvert_exporter": "python",
   "pygments_lexer": "ipython3",
   "version": "3.11.7"
  }
 },
 "nbformat": 4,
 "nbformat_minor": 5
}
